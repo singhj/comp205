{
 "cells": [
  {
   "cell_type": "markdown",
   "metadata": {},
   "source": [
    "## Case Study: Recommendations\n",
    "\n",
    "<img align=\"center\" style=\"padding-left:10px; height: 80%; width: 35%\" src=http://labs.criteo.com/wp-content/uploads/2017/08/CustomersWhoBought3.jpg>\n",
    "\n"
   ]
  },
  {
   "cell_type": "markdown",
   "metadata": {},
   "source": [
    "<a href=\"https://en.wikipedia.org/wiki/Collaborative_filtering\"><img align=\"right\" style=\"padding-left:10px; height: 40%; width: 40%\" src=\"https://upload.wikimedia.org/wikipedia/commons/5/52/Collaborative_filtering.gif\" ></a>\n",
    "\n",
    "## General Approach\n",
    "\n",
    "A generalized version of Collaborative filtering, implied by the adjoining image, is a three-step process:\n",
    "\n",
    "1. A user expresses their preferences by rating items (e.g. books, movies or CDs) of the system. These ratings can be viewed as an approximate representation of the user's interest in the corresponding domain. _The ratings have been collected by IMDB and imported into the `ratings` DataFrame._\n",
    "2. The system matches this user's ratings against other users' and finds the people with most \"similar\" tastes. For the purpose of this Case, we shall determine the recommendations for the user with **userId = 93**.\n",
    "3. With similar users, the system recommends items that the similar users have rated highly but not yet being rated by this user (presumably the absence of rating is often considered as the unfamiliarity of an item)."
   ]
  },
  {
   "cell_type": "markdown",
   "metadata": {},
   "source": [
    "### Introduction to the MovieLens datasets.\n",
    "\n",
    "The accompanying **data** directory contains:\n",
    "\n",
    "* **`movies_all.csv`**, a list of 9724 movie titles. It's generally referred to as the **the Small Dataset** and comprises of 100,000 ratings and 1,300 tag applications applied to 9,742 movies by 700 users. Its online home is [here](https://grouplens.org/datasets/movielens/latest/).\n",
    "* **`movies_few.csv`**, a list of 59 movie titles, a subset of `movies_all.csv`,\n",
    "* **`movies_six.csv`**, a list of 6 movie titles, a subset of `movies_few.csv`,\n",
    "\n",
    "* **`ratings.csv`**, ratings of all movies in `movies_all.csv`. Corresponding subsets of this file for 'few' or 'six' movies may be obtained by doing a merge, as with\n",
    "\n",
    "`    .merge(few_movies, how='inner', on='movieId').drop(columns = ['title', 'genres'])` or <br>\n",
    "`    .merge(six_movies, how='inner', on='movieId').drop(columns = ['title', 'genres'])`\n",
    "\n",
    "**The Full Dataset:** The Full MovieLens Dataset consisting of 26 million ratings and 750,000 tag applications from 270,000 users on all the 45,000 movies in this dataset can be accessed [here](https://grouplens.org/datasets/movielens/latest/). We will not be using the full dataset in this exercise."
   ]
  },
  {
   "cell_type": "code",
   "execution_count": 1,
   "metadata": {},
   "outputs": [
    {
     "data": {
      "text/html": [
       "<div>\n",
       "<style scoped>\n",
       "    .dataframe tbody tr th:only-of-type {\n",
       "        vertical-align: middle;\n",
       "    }\n",
       "\n",
       "    .dataframe tbody tr th {\n",
       "        vertical-align: top;\n",
       "    }\n",
       "\n",
       "    .dataframe thead th {\n",
       "        text-align: right;\n",
       "    }\n",
       "</style>\n",
       "<table border=\"1\" class=\"dataframe\">\n",
       "  <thead>\n",
       "    <tr style=\"text-align: right;\">\n",
       "      <th></th>\n",
       "      <th>movieId</th>\n",
       "      <th>title</th>\n",
       "      <th>genres</th>\n",
       "    </tr>\n",
       "  </thead>\n",
       "  <tbody>\n",
       "    <tr>\n",
       "      <th>0</th>\n",
       "      <td>1</td>\n",
       "      <td>Toy Story (1995)</td>\n",
       "      <td>Adventure|Animation|Children|Comedy|Fantasy</td>\n",
       "    </tr>\n",
       "    <tr>\n",
       "      <th>1</th>\n",
       "      <td>2</td>\n",
       "      <td>Jumanji (1995)</td>\n",
       "      <td>Adventure|Children|Fantasy</td>\n",
       "    </tr>\n",
       "    <tr>\n",
       "      <th>2</th>\n",
       "      <td>3</td>\n",
       "      <td>Grumpier Old Men (1995)</td>\n",
       "      <td>Comedy|Romance</td>\n",
       "    </tr>\n",
       "    <tr>\n",
       "      <th>3</th>\n",
       "      <td>4</td>\n",
       "      <td>Waiting to Exhale (1995)</td>\n",
       "      <td>Comedy|Drama|Romance</td>\n",
       "    </tr>\n",
       "    <tr>\n",
       "      <th>4</th>\n",
       "      <td>5</td>\n",
       "      <td>Father of the Bride Part II (1995)</td>\n",
       "      <td>Comedy</td>\n",
       "    </tr>\n",
       "  </tbody>\n",
       "</table>\n",
       "</div>"
      ],
      "text/plain": [
       "   movieId                               title  \\\n",
       "0        1                    Toy Story (1995)   \n",
       "1        2                      Jumanji (1995)   \n",
       "2        3             Grumpier Old Men (1995)   \n",
       "3        4            Waiting to Exhale (1995)   \n",
       "4        5  Father of the Bride Part II (1995)   \n",
       "\n",
       "                                        genres  \n",
       "0  Adventure|Animation|Children|Comedy|Fantasy  \n",
       "1                   Adventure|Children|Fantasy  \n",
       "2                               Comedy|Romance  \n",
       "3                         Comedy|Drama|Romance  \n",
       "4                                       Comedy  "
      ]
     },
     "execution_count": 1,
     "metadata": {},
     "output_type": "execute_result"
    }
   ],
   "source": [
    "import pandas as pd\n",
    "import numpy as np\n",
    "from pandas import DataFrame\n",
    "import random\n",
    "ratings = pd.read_csv('data/ratings.csv') \n",
    "movie_ids = ratings[['movieId']]\n",
    "movies = pd.read_csv('data/movies-all.csv') \n",
    "movies.head()"
   ]
  },
  {
   "cell_type": "markdown",
   "metadata": {},
   "source": [
    "<span style=\"color:blue\">\n",
    "\n",
    "### 1. Raters per Movie\n",
    "</span>\n",
    "\n",
    "How many user ratings per movie are in the **`all`** dataset on average? "
   ]
  },
  {
   "cell_type": "code",
   "execution_count": 2,
   "metadata": {},
   "outputs": [
    {
     "data": {
      "text/plain": [
       "165.30491803278687"
      ]
     },
     "execution_count": 2,
     "metadata": {},
     "output_type": "execute_result"
    }
   ],
   "source": [
    "len(ratings) / len(set(ratings['userId'].tolist()))"
   ]
  },
  {
   "cell_type": "markdown",
   "metadata": {},
   "source": [
    "<span style=\"color:blue\">\n",
    "\n",
    "## Solution Development\n",
    "</span>\n",
    "\n",
    "We proceed with the calculations as outlined above but first use the **six dataset** such that we can develop the solution and _verify the calculations manually._ \n",
    "\n",
    "Step 2 of the algorithms is for the system to match this user's ratings against other users' and finds the people with most \"similar\" tastes. We shall use **userId = 93** for this tiny dataset.\n",
    "\n",
    "To formulate the math behind the distance calculation, consider two users $U_{i}$ and $U_{j}$. The “distance” between them, $\\Delta_{ij}$, is expressed as\n",
    "\n",
    "$\\Delta_{ij}$ = $\\sqrt{ \\Sigma {(r_{ik} - r_{jk} )^2 } }$ for all movies <em>k</em> that have been rated by both $U_{i}$ _and_ $U_{j}$, where $ r_{ik} $ and $ r_{jk} $ are ratings of movie _k_ by $U_{i}$ and $U_{j}$"
   ]
  },
  {
   "cell_type": "code",
   "execution_count": 3,
   "metadata": {},
   "outputs": [
    {
     "data": {
      "text/html": [
       "<div>\n",
       "<style scoped>\n",
       "    .dataframe tbody tr th:only-of-type {\n",
       "        vertical-align: middle;\n",
       "    }\n",
       "\n",
       "    .dataframe tbody tr th {\n",
       "        vertical-align: top;\n",
       "    }\n",
       "\n",
       "    .dataframe thead th {\n",
       "        text-align: right;\n",
       "    }\n",
       "</style>\n",
       "<table border=\"1\" class=\"dataframe\">\n",
       "  <thead>\n",
       "    <tr style=\"text-align: right;\">\n",
       "      <th></th>\n",
       "      <th>movieId</th>\n",
       "      <th>title</th>\n",
       "      <th>genres</th>\n",
       "    </tr>\n",
       "  </thead>\n",
       "  <tbody>\n",
       "    <tr>\n",
       "      <th>0</th>\n",
       "      <td>1</td>\n",
       "      <td>Toy Story (1995)</td>\n",
       "      <td>Adventure|Animation|Children|Comedy|Fantasy</td>\n",
       "    </tr>\n",
       "    <tr>\n",
       "      <th>1</th>\n",
       "      <td>2</td>\n",
       "      <td>Jumanji (1995)</td>\n",
       "      <td>Adventure|Children|Fantasy</td>\n",
       "    </tr>\n",
       "    <tr>\n",
       "      <th>2</th>\n",
       "      <td>3</td>\n",
       "      <td>Grumpier Old Men (1995)</td>\n",
       "      <td>Comedy|Romance</td>\n",
       "    </tr>\n",
       "    <tr>\n",
       "      <th>3</th>\n",
       "      <td>4</td>\n",
       "      <td>Waiting to Exhale (1995)</td>\n",
       "      <td>Comedy|Drama|Romance</td>\n",
       "    </tr>\n",
       "    <tr>\n",
       "      <th>4</th>\n",
       "      <td>5</td>\n",
       "      <td>Avatar (2009)</td>\n",
       "      <td>Fantasy|Science_Fiction</td>\n",
       "    </tr>\n",
       "    <tr>\n",
       "      <th>5</th>\n",
       "      <td>6</td>\n",
       "      <td>Titanic (1997)</td>\n",
       "      <td>Drama|Disaster_Film</td>\n",
       "    </tr>\n",
       "  </tbody>\n",
       "</table>\n",
       "</div>"
      ],
      "text/plain": [
       "   movieId                     title  \\\n",
       "0        1          Toy Story (1995)   \n",
       "1        2            Jumanji (1995)   \n",
       "2        3   Grumpier Old Men (1995)   \n",
       "3        4  Waiting to Exhale (1995)   \n",
       "4        5             Avatar (2009)   \n",
       "5        6            Titanic (1997)   \n",
       "\n",
       "                                        genres  \n",
       "0  Adventure|Animation|Children|Comedy|Fantasy  \n",
       "1                   Adventure|Children|Fantasy  \n",
       "2                               Comedy|Romance  \n",
       "3                         Comedy|Drama|Romance  \n",
       "4                      Fantasy|Science_Fiction  \n",
       "5                          Drama|Disaster_Film  "
      ]
     },
     "execution_count": 3,
     "metadata": {},
     "output_type": "execute_result"
    }
   ],
   "source": [
    "# This cell intentionally left filled\n",
    "\n",
    "# Initial Parameters\n",
    "given_userId = 93\n",
    "movies_six = pd.read_csv('data/movies-six.csv',header = 0) \n",
    "movies_six"
   ]
  },
  {
   "cell_type": "code",
   "execution_count": 4,
   "metadata": {},
   "outputs": [],
   "source": [
    "# Make sure the given userId has rated at least two movies, otherwise we wouldn't be able to recommend anything!\n",
    "\n",
    "ratings_six = ratings.merge(movies_six, how='inner', on='movieId').drop(columns = ['title', 'genres'])\n",
    "userIds = [el[0] for el in list(np.array(ratings_six[['userId']]))]\n",
    "seen = {}\n",
    "dupes = []\n",
    "\n",
    "for x in userIds:\n",
    "    if x not in seen:\n",
    "        seen[x] = 1\n",
    "    else:\n",
    "        if seen[x] == 1:\n",
    "            dupes.append(x)\n",
    "        seen[x] += 1\n",
    "try:\n",
    "    assert(given_userId in dupes)\n",
    "except AssertionError:\n",
    "    print ('Should have chosen a userId from amongst these\\n', sorted(dupes))\n",
    "    raise"
   ]
  },
  {
   "cell_type": "markdown",
   "metadata": {},
   "source": [
    "### Variable Naming Conventions\n",
    "\n",
    "We will be using numpy and scipy for most of the calculations, mostly use `pandas` for pretty printing. \n",
    "\n",
    "Variable names will be chosen such that:\n",
    "\n",
    "1. Variables ending in `_np` will be used for numpy arrays.\n",
    "1. Variables ending in `_2d` will be used for 2-D numpy arrays.\n",
    "1. Variables ending in `_1d` will be used for 2-D numpy arrays.\n",
    "1. Variables ending in `_df` will be used for pandas DataFrames."
   ]
  },
  {
   "cell_type": "code",
   "execution_count": 5,
   "metadata": {},
   "outputs": [
    {
     "name": "stdout",
     "output_type": "stream",
     "text": [
      "[[1. 3.]\n",
      " [2. 5.]]\n"
     ]
    },
    {
     "data": {
      "text/plain": [
       "array([[3.],\n",
       "       [5.]], dtype=float32)"
      ]
     },
     "execution_count": 5,
     "metadata": {},
     "output_type": "execute_result"
    }
   ],
   "source": [
    "# This cell intentionally left filled\n",
    "\n",
    "# Find all the ratings given by our user\n",
    "ratings_six_np = ratings_six.to_numpy(dtype=np.float32)\n",
    "x = ratings_six_np\n",
    "\n",
    "# (Movie, Rating) tuples for the given user\n",
    "the_r_2d = x[np.where(x[:,0] == given_userId)][:, [1,2]]\n",
    "print (the_r_2d)\n",
    "the_r_1d = x[np.where(x[:,0] == given_userId)][:, [2]]\n",
    "the_r_1d"
   ]
  },
  {
   "cell_type": "markdown",
   "metadata": {},
   "source": [
    "<span style=\"color:blue\">\n",
    "\n",
    "### 2. Calculation of Distances\n",
    "</span>\n",
    "\n",
    "The Distance matrix looks like\n",
    "$$\n",
    "\\begin{equation*}\n",
    "\\mathbf{\\Delta} =  \\begin{vmatrix}\n",
    "\\mathbf{\\delta_{11}} & {\\delta_{12}} & ..  & {\\delta_{1n}} \\\\\n",
    "\\mathbf{\\delta_{21}} & {\\delta_{22}} & ..  & {\\delta_{2n}} \\\\\n",
    "\\mathbf{:}           & {:} & ..  & {:} \\\\\n",
    "\\mathbf{\\delta_{n1}} & {\\delta_{n2}} & ..  & {\\delta_{mn}}\n",
    "\\end{vmatrix}\n",
    "\\end{equation*}\n",
    "$$\n",
    "\n",
    "where $ \\delta_{ij} $ is the euclidian distance between the $ i^{th} $ and the $ j^{th} $ elements. $ \\delta_{ij} $ values are calculated using $ scipy.spatial.distance.euclidean() $ but we needn't calculate them individually. $scipy.spatial.distance.cdist()$ calculates the entire matrix for us with one call!"
   ]
  },
  {
   "cell_type": "code",
   "execution_count": null,
   "metadata": {},
   "outputs": [],
   "source": [
    "# This cell intentionally left filled\n",
    "\n",
    "# Find the ratings by all users\n",
    "\n",
    "# The 'u' column -- user\n",
    "all_u_1d = ratings_six_np[:, [0]]\n",
    "all_u = all_u_1d.reshape(all_u_1d.shape[0])\n",
    "\n",
    "# The 'm' column -- movies\n",
    "all_m_1d = ratings_six_np[:, [1]]\n",
    "all_m = all_m_1d.reshape(all_m_1d.shape[0])\n",
    "\n",
    "# The 'r' column -- rating\n",
    "all_r_1d = ratings_six_np[:, [2]]\n",
    "all_r = all_r_1d.reshape(all_r_1d.shape[0])\n",
    "\n",
    "(all_u.shape, all_m.shape, all_r.shape)"
   ]
  },
  {
   "cell_type": "code",
   "execution_count": 7,
   "metadata": {},
   "outputs": [
    {
     "data": {
      "text/plain": [
       "(535, 535)"
      ]
     },
     "execution_count": 7,
     "metadata": {},
     "output_type": "execute_result"
    }
   ],
   "source": [
    "from scipy.spatial import distance_matrix\n",
    "dm = distance_matrix(all_r_1d, all_r_1d)\n",
    "dm.shape"
   ]
  },
  {
   "cell_type": "markdown",
   "metadata": {},
   "source": [
    "<span style=\"color:blue\">\n",
    "\n",
    "### 3. Verification of Calculations\n",
    "</span>\n",
    "\n",
    "For an intermediate step, we would like to validate the distance calculation. It's not because we don't trust Numpy, Scipy, etc. it's because we want to know that we are using them correctly."
   ]
  },
  {
   "cell_type": "code",
   "execution_count": 8,
   "metadata": {},
   "outputs": [],
   "source": [
    "# This cell intentionally left filled\n",
    "\n",
    "# For the manual verification, we randomly pick one of the rows of the_r_1d\n",
    "from scipy.spatial.distance import cdist\n",
    "\n",
    "random_index = random.randint(0,len(the_r_1d)-1)\n",
    "one_r_1d = the_r_1d[random_index].reshape(1,1)\n",
    "\n",
    "dists = cdist(one_r_1d, all_r_1d)"
   ]
  },
  {
   "cell_type": "code",
   "execution_count": 9,
   "metadata": {},
   "outputs": [],
   "source": [
    "# This cell is supposed to throw an exception if the results of euclidean calculation don't match\n",
    "from scipy.spatial.distance import euclidean\n",
    "from math import sqrt\n",
    "distances = list(dists.reshape(dists.shape[1]))\n",
    "one_r = one_r_1d.reshape(the_r_1d.shape[1])\n",
    "assert(np.isclose(euclidean(one_r, all_r), # Fill in\n",
    "                  sqrt(sum([_*_ for _ in distances]))))"
   ]
  },
  {
   "cell_type": "markdown",
   "metadata": {},
   "source": [
    "<span style=\"color:blue\">\n",
    "\n",
    "### 4. Generate Recommendations\n",
    "</span>\n",
    "\n",
    "Recommend items that have been rated similarly (and highly) by similar users but if a specific item has not yet been rated by this user, it is a candidate for being recommended to them. Order the recommendations in _increasing order of distance_.\n",
    "\n",
    "Your answer should be in the form of a DataFrame `recommend_df` which has rows of ('movieId', 'title', 'genres') ordered with ascending 'r' values, and not including the movies the user 'u' has already watched."
   ]
  },
  {
   "cell_type": "code",
   "execution_count": 10,
   "metadata": {},
   "outputs": [
    {
     "data": {
      "text/html": [
       "<div>\n",
       "<style scoped>\n",
       "    .dataframe tbody tr th:only-of-type {\n",
       "        vertical-align: middle;\n",
       "    }\n",
       "\n",
       "    .dataframe tbody tr th {\n",
       "        vertical-align: top;\n",
       "    }\n",
       "\n",
       "    .dataframe thead th {\n",
       "        text-align: right;\n",
       "    }\n",
       "</style>\n",
       "<table border=\"1\" class=\"dataframe\">\n",
       "  <thead>\n",
       "    <tr style=\"text-align: right;\">\n",
       "      <th></th>\n",
       "      <th>movieId</th>\n",
       "      <th>title</th>\n",
       "      <th>genres</th>\n",
       "    </tr>\n",
       "  </thead>\n",
       "  <tbody>\n",
       "    <tr>\n",
       "      <th>0</th>\n",
       "      <td>1</td>\n",
       "      <td>Toy Story (1995)</td>\n",
       "      <td>Adventure|Animation|Children|Comedy|Fantasy</td>\n",
       "    </tr>\n",
       "    <tr>\n",
       "      <th>1</th>\n",
       "      <td>2</td>\n",
       "      <td>Jumanji (1995)</td>\n",
       "      <td>Adventure|Children|Fantasy</td>\n",
       "    </tr>\n",
       "  </tbody>\n",
       "</table>\n",
       "</div>"
      ],
      "text/plain": [
       "   movieId             title                                       genres\n",
       "0        1  Toy Story (1995)  Adventure|Animation|Children|Comedy|Fantasy\n",
       "1        2    Jumanji (1995)                   Adventure|Children|Fantasy"
      ]
     },
     "execution_count": 10,
     "metadata": {},
     "output_type": "execute_result"
    }
   ],
   "source": [
    "dists = np.stack([all_u,\n",
    "                  all_m,\n",
    "                  all_r])\n",
    "dists_df = DataFrame(dists.transpose(), columns=['u', 'm', 'r']) \\\n",
    "           .astype({'u': 'int32', 'm': 'int32', 'r': 'float32'})\n",
    "\n",
    "# What movies has the user picked already? Don't recommend those!\n",
    "candidates_df = dists_df[dists_df['u'] == given_userId].sort_values(by=['r'])\n",
    "recommend_df = candidates_df.merge(movies_six, left_on='m', right_on='movieId').drop(columns=['u', 'm', 'r'])\n",
    "recommend_df"
   ]
  },
  {
   "cell_type": "markdown",
   "metadata": {},
   "source": [
    "<span style=\"color:blue\">\n",
    "\n",
    "### 5. More To Do\n",
    "</span>\n",
    "\n",
    "1. Create a function `recommend_movies(uid)` that takes `userId`, uses one of the `movies_*` as parameters and produces recommendations for the user. \n",
    "\n",
    "    * Any userId in \\[ 1, 6, 18, 19, 21, 27, 31, 32, 43, 44, 45, 51, 57, 58, 62, 64, 66, 68, 82, 84, 91, 93, 102, 103, 107, 112, 117, 121, 135, 140, 144, 150, 151, 153, 160, 166, 169, 177, 179, 181, 182, 186, 191, 200, 202, 217, 219, 220, 226, 229, 232, 239, 240, 249, 266, 269, 270, 274, 276, 282, 288, 294, 298, 304, 305, 307, 308, 314, 318, 321, 322, 323, 330, 336, 337, 339, 347, 353, 357, 359, 368, 372, 373, 380, 381, 385, 389, 391, 411, 414, 425, 432, 434, 436, 437, 438, 448, 451, 456, 458, 469, 470, 474, 476, 477, 480, 483, 484, 489, 490, 492, 501, 509, 517, 521, 524, 525, 534, 544, 555, 559, 561, 570, 573, 580, 588, 590, 592, 594, 597, 599, 600, 602, 603, 604, 605, 608, 610 \\] should work as a test case.\n",
    "\n",
    "\n",
    "2. Test the function `recommend_movies()` with userId = 117 & 517 against `movies_six`, `movies_few` and against `movies_all`. Document your observations.\n",
    "\n"
   ]
  },
  {
   "cell_type": "markdown",
   "metadata": {},
   "source": [
    "# When you're done, submit the notebook\n",
    "\n",
    "1. **Run all the cells in order.**\n",
    "\n",
    "2. Submit the notebook by saving it as PDF. \n",
    "    * In the cluster environment, it's File | Print (Save as PDF) and submit to [Gradescope](https://www.gradescope.com/courses/182658)<sup>&dagger;</sup>, \n",
    "    * On other versions, it may be File | Download As (PDF) and then submit to [Gradescope](https://www.gradescope.com/courses/182658)<sup>&dagger;</sup>.\n",
    "\n",
    "<sup>&dagger;</sup>To submit to Gradescope, log into the website, add course 9W7PW3 (if not already added) and submit. The assignment name should match the name of this notebook."
   ]
  },
  {
   "cell_type": "markdown",
   "metadata": {},
   "source": [
    "![The end](https://live.staticflickr.com/32/89187454_3ae6aded89_b.jpg)"
   ]
  }
 ],
 "metadata": {
  "kernelspec": {
   "display_name": "Python 3",
   "language": "python",
   "name": "python3"
  },
  "language_info": {
   "codemirror_mode": {
    "name": "ipython",
    "version": 3
   },
   "file_extension": ".py",
   "mimetype": "text/x-python",
   "name": "python",
   "nbconvert_exporter": "python",
   "pygments_lexer": "ipython3",
   "version": "3.8.3"
  }
 },
 "nbformat": 4,
 "nbformat_minor": 4
}

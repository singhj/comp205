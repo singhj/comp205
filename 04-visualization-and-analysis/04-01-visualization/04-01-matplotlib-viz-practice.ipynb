{
 "cells": [
  {
   "cell_type": "markdown",
   "metadata": {},
   "source": [
    "# 04-01-matplotlib-vis practice\n"
   ]
  },
  {
   "cell_type": "markdown",
   "metadata": {},
   "source": [
    "## The file `NYC_weather.csv` &hellip;\n",
    "\n",
    "&hellip; contains weather data for NYC for a 2+ year period starting January 1, 2016.\n",
    "\n",
    "### 1. Draw a bar chart showing snow and rain falls &hellip;\n",
    "&hellip; between January 15, 2016 and February 14, 2016. It should be a single figure, showing rain and snow with different color bars.\n",
    "\n",
    "### 2. But snow and rain are not the same! \n",
    "According to NOAA, though it depends on the type of snow, on average, thirteen inches of snow equals one inch of rain in the US. To show equivalent amounts of precipitation, define a parameter `equiv-snow` which shows total equivalent snow fall (the rainfall converted to its equivalent amount of snow, plus the amount of snow).\n",
    "\n",
    "### 3. SNWD = Snow Depth\n",
    "The same file also offers a column for snow depth, which increases when it snows and then recedes over the next few days. Show two line graphs in the same figure correlating snow falls and snow depth.\n"
   ]
  },
  {
   "cell_type": "markdown",
   "metadata": {},
   "source": [
    "### 4. Spirals\n",
    "\n",
    "The following code draws spirals. Your task is to explain what it does. Specifically, explain the lines marked 4.1 through 4.4\n",
    "\n",
    "**Your answer**\n",
    "\n",
    "---\n",
    "\n",
    "---\n",
    "\n",
    "---"
   ]
  },
  {
   "cell_type": "code",
   "execution_count": null,
   "metadata": {},
   "outputs": [],
   "source": [
    "import matplotlib.pyplot as plt\n",
    "import numpy as np\n",
    "\n",
    "theta = np.arange(0, 8*np.pi, 0.1)\n",
    "a = 1\n",
    "b = .2\n",
    "c = 2.0\n",
    "d = 2.0\n",
    "\n",
    "for dt in np.arange(0, c*np.pi, np.pi/d):      # 4.1: Explain this line\n",
    "\n",
    "    x = a*np.cos(theta + dt)*np.exp(b*theta)   # 4.2: Explain these two lines\n",
    "    y = a*np.sin(theta + dt)*np.exp(b*theta)\n",
    "\n",
    "    x2 = a*np.cos(theta + dt)*np.exp(b*theta)  # 4.3: Explain these two lines\n",
    "    y2 = a*np.sin(theta + dt)*np.exp(b*theta)\n",
    "\n",
    "    xf = np.concatenate((x, x2[::-1]))         # 4.4: Explain these two lines\n",
    "    yf = np.concatenate((y, y2[::-1]))\n",
    "\n",
    "    p1 = plt.plot(x2, y2)\n"
   ]
  },
  {
   "cell_type": "markdown",
   "metadata": {},
   "source": [
    "### 5. A not-so-serious example\n",
    "\n",
    "The following code, written by the creator of xkcd, exemplifies an out-of-the-box usage of matplotlib. \n",
    "Your task is to save his life by putting him on an American Heart Association diet and bend the curve\n",
    "up after day 85, letting it go back to its original level on day 100.\n",
    "\n",
    "The graph should show the point of intervention and be annotated as \"Saved by &lt;your name&gt;.\"\n",
    "\n",
    "```\n",
    "from matplotlib import pyplot as plt\n",
    "import numpy as np\n",
    "\n",
    "fig = plt.figure()\n",
    "ax = fig.add_subplot(1, 1, 1)\n",
    "ax.spines['right'].set_color('none')\n",
    "ax.spines['top'].set_color('none')\n",
    "plt.xticks([])\n",
    "plt.yticks([])\n",
    "ax.set_ylim([-30, 10])\n",
    "\n",
    "data = np.ones(100)\n",
    "data[70:] -= np.arange(30)\n",
    "\n",
    "plt.annotate(\n",
    "    'THE DAY I REALIZED\\nI COULD COOK BACON\\nWHENEVER I WANTED',\n",
    "    xy=(70, 1), arrowprops=dict(arrowstyle='->'), xytext=(15, -10))\n",
    "\n",
    "plt.plot(data)\n",
    "\n",
    "plt.xlabel('time')\n",
    "noprint = plt.ylabel('my overall health')\n",
    "\n",
    "```\n"
   ]
  },
  {
   "cell_type": "markdown",
   "metadata": {},
   "source": [
    "# When you're done, submit the notebook\n",
    "\n",
    "1. **Run all the cells in order.**\n",
    "\n",
    "2. Submit the notebook by saving it as PDF. \n",
    "    * In the cluster environment, it's File | Print (Save as PDF) and submit to [Gradescope](https://www.gradescope.com/courses/182658)<sup>&dagger;</sup>, \n",
    "    * On other versions, it may be File | Download As (PDF) and then submit to [Gradescope](https://www.gradescope.com/courses/182658)<sup>&dagger;</sup>.\n",
    "\n",
    "<sup>&dagger;</sup>To submit to Gradescope, log into the website, add course 9W7PW3 (if not already added) and submit. The assignment name should match the name of this notebook."
   ]
  },
  {
   "cell_type": "markdown",
   "metadata": {},
   "source": [
    "![The end](https://live.staticflickr.com/32/89187454_3ae6aded89_b.jpg)"
   ]
  }
 ],
 "metadata": {
  "kernelspec": {
   "display_name": "Python 3",
   "language": "python",
   "name": "python3"
  },
  "language_info": {
   "codemirror_mode": {
    "name": "ipython",
    "version": 3
   },
   "file_extension": ".py",
   "mimetype": "text/x-python",
   "name": "python",
   "nbconvert_exporter": "python",
   "pygments_lexer": "ipython3",
   "version": "3.8.3"
  }
 },
 "nbformat": 4,
 "nbformat_minor": 4
}

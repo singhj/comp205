{
 "cells": [
  {
   "cell_type": "markdown",
   "metadata": {},
   "source": [
    "# KMeans:\n",
    "Kmeans is the name for clustering data points into groups, known as \"k centroids.\" A common example of this is the infamous iris data set. In this specific case, looking at sepal length, sepal width, petal length, and petal width for iris flowers can graph to determine which classification iris flowers belong iris."
   ]
  },
  {
   "cell_type": "markdown",
   "metadata": {},
   "source": [
    "In the first case, we will look at a constructed set of data points. To do clustering and graphing, we will need to import a few packages:"
   ]
  },
  {
   "cell_type": "code",
   "execution_count": null,
   "metadata": {},
   "outputs": [],
   "source": [
    "# Don't change this cell; just run it. \n",
    "from client.api.notebook import Notebook\n",
    "ok = Notebook('Kmeans.ok')\n",
    "ok.auth(inline=True)"
   ]
  },
  {
   "cell_type": "code",
   "execution_count": 1,
   "metadata": {},
   "outputs": [],
   "source": [
    "from sklearn.cluster import KMeans\n",
    "import numpy \n",
    "import matplotlib.pyplot as plt "
   ]
  },
  {
   "cell_type": "markdown",
   "metadata": {},
   "source": [
    "We will now make an array of data points, and then use a pyplot method to unzip the data array into ordered pairs"
   ]
  },
  {
   "cell_type": "code",
   "execution_count": 2,
   "metadata": {},
   "outputs": [
    {
     "data": {
      "text/plain": [
       "<matplotlib.collections.PathCollection at 0x1423c5c3be0>"
      ]
     },
     "execution_count": 2,
     "metadata": {},
     "output_type": "execute_result"
    },
    {
     "data": {
      "image/png": "[encoded data removed]",
      "text/plain": [
       "<Figure size 432x288 with 1 Axes>"
      ]
     },
     "metadata": {
      "needs_background": "light"
     },
     "output_type": "display_data"
    }
   ],
   "source": [
    "X = numpy.array([[2, 2], [1, 1], [4, 4], [-1, -1], [-2, -2], [2.5, 2.5],[2,-2],[-3,3],[-1.5,1.5]])\n",
    "plt.scatter(*zip(*X))"
   ]
  },
  {
   "cell_type": "markdown",
   "metadata": {},
   "source": [
    "The KMeans method can be used based on a number of clusters, which we will call 2 in this case, and we can label the graph and see what this looks like."
   ]
  },
  {
   "cell_type": "code",
   "execution_count": 3,
   "metadata": {},
   "outputs": [
    {
     "data": {
      "text/plain": [
       "array([0, 0, 0, 1, 1, 0, 0, 1, 1])"
      ]
     },
     "execution_count": 3,
     "metadata": {},
     "output_type": "execute_result"
    }
   ],
   "source": [
    "kmeans = KMeans(n_clusters=2, random_state=0).fit(X)\n",
    "kmeans.labels_"
   ]
  },
  {
   "cell_type": "markdown",
   "metadata": {},
   "source": [
    "Now, we can use the Kmeans clusters, to predict labels for new points. This would be useful to test how accurate the data set is, if you know what the correct result is. Or, you could use this to actuall predict new points."
   ]
  },
  {
   "cell_type": "code",
   "execution_count": 4,
   "metadata": {},
   "outputs": [
    {
     "data": {
      "text/plain": [
       "array([1, 0])"
      ]
     },
     "execution_count": 4,
     "metadata": {},
     "output_type": "execute_result"
    }
   ],
   "source": [
    "predicted_val = kmeans.predict([[0, 0], [12, 3]])\n",
    "predicted_val"
   ]
  },
  {
   "cell_type": "markdown",
   "metadata": {},
   "source": [
    "##### Location Centers:\n",
    "You can also display the cluster location centers."
   ]
  },
  {
   "cell_type": "code",
   "execution_count": 27,
   "metadata": {},
   "outputs": [
    {
     "data": {
      "text/plain": [
       "array([[ 2.3  ,  1.5  ],\n",
       "       [-1.875,  0.375]])"
      ]
     },
     "execution_count": 27,
     "metadata": {},
     "output_type": "execute_result"
    }
   ],
   "source": [
    "center_loc = kmeans.cluster_centers_\n",
    "center_loc"
   ]
  },
  {
   "cell_type": "markdown",
   "metadata": {},
   "source": [
    "##### More options:\n",
    "Let's graph these all on the same plot.\n",
    "We can represent the original points in blue, the cluster locations in orange, the line connecting them in pink, and the predicted cluster point in green."
   ]
  },
  {
   "cell_type": "code",
   "execution_count": 6,
   "metadata": {},
   "outputs": [
    {
     "data": {
      "text/plain": [
       "[<matplotlib.lines.Line2D at 0x1423da687f0>]"
      ]
     },
     "execution_count": 6,
     "metadata": {},
     "output_type": "execute_result"
    },
    {
     "data": {
      "image/png": "[encoded data removed]",
      "text/plain": [
       "<Figure size 432x288 with 1 Axes>"
      ]
     },
     "metadata": {
      "needs_background": "light"
     },
     "output_type": "display_data"
    }
   ],
   "source": [
    "f, ax = plt.subplots(1)\n",
    "ax.scatter(*zip(*X))\n",
    "ax.scatter(predicted_val[0],predicted_val[1],color=\"green\")\n",
    "ax.scatter(center_loc[:,0],center_loc[:,1],color=\"orange\")\n",
    "ax.plot(center_loc[:,0],center_loc[:,1],color = \"magenta\")"
   ]
  },
  {
   "cell_type": "markdown",
   "metadata": {},
   "source": [
    "## Let's try this!\n",
    "You will now use kmeans based off of some information about real and fake durations on websites versus purchases, so guess if purchases are real or fake."
   ]
  },
  {
   "cell_type": "code",
   "execution_count": 24,
   "metadata": {},
   "outputs": [],
   "source": [
    "real = numpy.array([[20, 2], [12, 8], [4, -6], [-10, -1],[10,20],[1,100],[200,1],[40,21],[99,21],[-7,13],[87,56],[150,30],[40,82],[-10,55],[120,42],[75,30],[50,4],[100,2],[60,20],[27,44],[-1,-1], [-28, -2],[-50,1],[-30,-30], [2.5, 2.5],[2,-2],[-11.5,1.5]])"
   ]
  },
  {
   "cell_type": "markdown",
   "metadata": {},
   "source": [
    "Plot all of these points:\n",
    "Save the scatter plot as \"word\""
   ]
  },
  {
   "cell_type": "code",
   "execution_count": 56,
   "metadata": {},
   "outputs": [
    {
     "data": {
      "image/png": "[encoded data removed]",
      "text/plain": [
       "<Figure size 432x288 with 1 Axes>"
      ]
     },
     "metadata": {
      "needs_background": "light"
     },
     "output_type": "display_data"
    }
   ],
   "source": [
    "word = plt.scatter(*zip(*real))"
   ]
  },
  {
   "cell_type": "code",
   "execution_count": null,
   "metadata": {},
   "outputs": [],
   "source": [
    "_ = ok.grade('q01')"
   ]
  },
  {
   "cell_type": "markdown",
   "metadata": {},
   "source": [
    "Make these data points into two groups, based on large or small sales.\n",
    "Then predict if the following point is a large or small sale.\n",
    "\n",
    "Save the Kmeans fit as \"pred_money\"\n",
    "\n",
    "Save the predicted clusters as \"money_loc\"\n",
    "\n",
    "Save the predicted points as \"predicted_money\""
   ]
  },
  {
   "cell_type": "code",
   "execution_count": 49,
   "metadata": {},
   "outputs": [
    {
     "data": {
      "text/plain": [
       "<matplotlib.collections.PathCollection at 0x1423e3615f8>"
      ]
     },
     "execution_count": 49,
     "metadata": {},
     "output_type": "execute_result"
    },
    {
     "data": {
      "image/png": "[encoded data removed]",
      "text/plain": [
       "<Figure size 432x288 with 1 Axes>"
      ]
     },
     "metadata": {
      "needs_background": "light"
     },
     "output_type": "display_data"
    }
   ],
   "source": [
    "pred_money = KMeans(n_clusters=2, random_state=0).fit(real)\n",
    "pred_money.labels_\n",
    "f, bx = plt.subplots(1)\n",
    "bx.scatter(*zip(*real))\n",
    "money_loc = pred_money.cluster_centers_\n",
    "bx.scatter(money_loc[:,0],money_loc[:,1],color=\"red\")"
   ]
  },
  {
   "cell_type": "code",
   "execution_count": null,
   "metadata": {},
   "outputs": [],
   "source": [
    "_ = ok.grade('q02')"
   ]
  },
  {
   "cell_type": "markdown",
   "metadata": {},
   "source": [
    "Predict if the following two points are large or small sales: (20,4) and (120,30)"
   ]
  },
  {
   "cell_type": "code",
   "execution_count": 47,
   "metadata": {},
   "outputs": [
    {
     "data": {
      "text/plain": [
       "array([1, 0])"
      ]
     },
     "execution_count": 47,
     "metadata": {},
     "output_type": "execute_result"
    }
   ],
   "source": [
    "predicted_money = pred_money.predict([[20,4],[120,30]])\n",
    "predicted_money"
   ]
  },
  {
   "cell_type": "code",
   "execution_count": null,
   "metadata": {},
   "outputs": [],
   "source": [
    "_ = ok.grade('q03')"
   ]
  },
  {
   "cell_type": "markdown",
   "metadata": {},
   "source": [
    "What do you think about these data points? If the X axis is money from the sale and the Y axis is time, are all of these data points legitimate?"
   ]
  },
  {
   "cell_type": "code",
   "execution_count": null,
   "metadata": {},
   "outputs": [],
   "source": [
    "# These data points are not realistic. Some of the values for sales and times are negative, \n",
    "# so this data set is not completely realistic. Taking out these data poins would make these reccomendations\n",
    "# much more realistic."
   ]
  }
 ],
 "metadata": {
  "kernelspec": {
   "display_name": "Python 3",
   "language": "python",
   "name": "python3"
  },
  "language_info": {
   "codemirror_mode": {
    "name": "ipython",
    "version": 3
   },
   "file_extension": ".py",
   "mimetype": "text/x-python",
   "name": "python",
   "nbconvert_exporter": "python",
   "pygments_lexer": "ipython3",
   "version": "3.7.1"
  }
 },
 "nbformat": 4,
 "nbformat_minor": 2
}

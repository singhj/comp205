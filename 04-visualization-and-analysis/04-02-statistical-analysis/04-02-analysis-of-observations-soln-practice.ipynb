{
 "cells": [
  {
   "cell_type": "markdown",
   "metadata": {},
   "source": [
    "# 04-02-analysis-of-observations-practice"
   ]
  },
  {
   "cell_type": "markdown",
   "metadata": {},
   "source": [
    "## The general analysis pattern\n",
    "\n",
    "A typical pattern for **`scikit-learn`** supervised learning classes proceeds as follows:\n",
    "* Begin with invoking an estimator class, as shown with GaussianNB in the next cell.\n",
    "* Call the `fit` method with the using the training data (typically called `X`) and the classifications (typically called `y`). This yields a predictor.\n",
    "* Call the `predict` method on the predictor with test data to obtain its predictions."
   ]
  },
  {
   "cell_type": "code",
   "execution_count": null,
   "metadata": {},
   "outputs": [],
   "source": [
    "# Example of using a Gaussian Naive Bayes predictions\n",
    "\n",
    "from sklearn.datasets import load_iris\n",
    "from sklearn.model_selection import train_test_split\n",
    "from sklearn.naive_bayes import GaussianNB\n",
    "\n",
    "X, y = load_iris(return_X_y=True)\n",
    "X_train, X_test, y_train, y_test = train_test_split(X, y, test_size=0.5, random_state=0)\n",
    "gnb = GaussianNB()\n",
    "y_pred = gnb.fit(X_train, y_train).predict(X_test)\n",
    "print(\"Number of mislabeled points out of a total %d points : %d\"\n",
    "      % (X_test.shape[0], (y_test != y_pred).sum()))"
   ]
  },
  {
   "cell_type": "markdown",
   "metadata": {},
   "source": [
    "## 1. Regression Diagnostics Problem\n",
    "\n",
    "The table below shows data from a study of 20 patients with chronic congestive heart failure. Two\n",
    "measurements are shown — ejection fraction x (in percent), which is a measure of left ventricular\n",
    "dysfunction, and pulmonary arterial wedge pressure y (in mm Hg).\n",
    "\n",
    "![](patient_data.JPG)\n",
    "\n",
    "One value has been mistranscribed from the original paper. Determine which patient’s data is most likely to be wrong.\n",
    "\n",
    "Hint: The `linear_model` function in the import below helps you perform a linear regression on the data points.\n",
    "The `mean_squared_error` function helps you determine the overall error.\n",
    "Dropping the \"wrong\" patient's data from the set one by one should reduce the mean square error the most!\n",
    "\n",
    "This is a Regression Diagnostics problem. Whereas a detailed discussion of regression diagnostics is outside our scope, \n",
    "the following definitions may be helpful ([source](https://sphweb.bumc.bu.edu/otlt/MPH-Modules/BS/R/R5_Correlation-Regression/R5_Correlation-Regression7.html)):\n",
    "* **Outliers:** an outlier is defined as an observation that has a large residual. In other words, the observed value for the point is very different from that predicted by the regression model.\n",
    "* **Leverage points:** A leverage point is defined as an observation that has a value of x that is far away from the mean of x. \n",
    "* **Influential observations:** An influential observation is defined as an observation that changes the slope of the line. Thus, influential points have a large influence on the fit of the model. One method to find influential points is to compare the fit of the model with and without each observation."
   ]
  },
  {
   "cell_type": "code",
   "execution_count": 20,
   "metadata": {},
   "outputs": [],
   "source": [
    "%matplotlib inline\n",
    "import numpy as np\n",
    "import matplotlib.pyplot as plt\n",
    "import seaborn as sns; sns.set()\n",
    "import pandas as pd\n",
    "\n",
    "from sklearn.linear_model import LinearRegression\n",
    "from sklearn.metrics import mean_squared_error"
   ]
  },
  {
   "cell_type": "code",
   "execution_count": 80,
   "metadata": {},
   "outputs": [
    {
     "data": {
      "image/png": "[encoded data removed]",
      "text/plain": [
       "<Figure size 432x288 with 1 Axes>"
      ]
     },
     "metadata": {
      "needs_background": "light"
     },
     "output_type": "display_data"
    }
   ],
   "source": [
    "# For your convenience, the two rows of the table are available as Python variables here\n",
    "x = [int(n) for n in '28 26 42 29 16 21 25 35 30 36 37 41 20 26 38 26 10 18 10 31'.split()]\n",
    "y = [int(n) for n in '15 14 15 12 37 30 7 14 28 13 5 13 24 8 13 17 27 29 8 5'.split()]\n",
    "\n",
    "# For your convenience, a look at the data:\n",
    "noprint = plt.scatter(x, y)"
   ]
  },
  {
   "cell_type": "code",
   "execution_count": 46,
   "metadata": {},
   "outputs": [
    {
     "data": {
      "image/png": "[encoded data removed]",
      "text/plain": [
       "<Figure size 432x288 with 1 Axes>"
      ]
     },
     "metadata": {
      "needs_background": "light"
     },
     "output_type": "display_data"
    }
   ],
   "source": [
    "xx = np.array(x)\n",
    "yy = np.array(y)\n",
    "X = xx[:, np.newaxis]\n",
    "model = LinearRegression().fit(X, yy)\n",
    "yfit = model.predict(X)\n",
    "plt.scatter(x, y)\n",
    "plt.plot(x, yfit);"
   ]
  },
  {
   "cell_type": "code",
   "execution_count": 50,
   "metadata": {},
   "outputs": [
    {
     "name": "stdout",
     "output_type": "stream",
     "text": [
      " 0 Mean squared error: 297.58\n",
      " 1 Mean squared error: 299.39\n",
      " 2 Mean squared error: 269.66\n",
      " 3 Mean squared error: 292.01\n",
      " 4 Mean squared error: 296.94\n",
      " 5 Mean squared error: 308.29\n",
      " 6 Mean squared error: 295.73\n",
      " 7 Mean squared error: 283.21\n",
      " 8 Mean squared error: 314.95\n",
      " 9 Mean squared error: 278.54\n",
      "10 Mean squared error: 255.55\n",
      "11 Mean squared error: 265.54\n",
      "12 Mean squared error: 306.44\n",
      "13 Mean squared error: 294.09\n",
      "14 Mean squared error: 273.57\n",
      "15 Mean squared error: 302.12\n",
      "16 Mean squared error: 291.55\n",
      "17 Mean squared error: 303.80\n",
      "18 Mean squared error: 324.97\n",
      "19 Mean squared error: 276.36\n"
     ]
    }
   ],
   "source": [
    "def remove_ith(x, index):\n",
    "    return x[:index] + x[index+1:]\n",
    "\n",
    "for i in range(len(x)):\n",
    "    x_remove_ith = remove_ith(x, i)\n",
    "    y_remove_ith = remove_ith(y, i)\n",
    "    xx = np.array(x_remove_ith)\n",
    "    yy = np.array(y_remove_ith)\n",
    "    XX = xx[:, np.newaxis]\n",
    "    model = LinearRegression().fit(XX, yy)\n",
    "    yfit = model.predict(XX)\n",
    "    print ('%2d Mean squared error: %.2f' % (i, mean_squared_error(x_remove_ith, yfit)))"
   ]
  },
  {
   "cell_type": "markdown",
   "metadata": {},
   "source": [
    "## 2. Bayesian Estimation Problem\n",
    "\n",
    "The following table indicates data of 10 taxpayers and whether they were audited. Jill's data is shown in row 11. What does a Naive Gaussian Estimate predict about whether Jill will be audited?\n",
    "\n",
    "| Txid | Refund | Marital Status | Taxable Income | Audit |\n",
    "|:---:|:------:|:--------------:|:--------------:|:-----:|\n",
    "| 1   | Yes    | Single         | 125K           | No    |\n",
    "|2 | No | Married | 100K | No\n",
    "|3 | No | Single | 70K | No\n",
    "|4 | Yes | Married | 120K | No\n",
    "|5 | No | Divorced | 95K | Yes\n",
    "|6 | No | Married | 60K | No\n",
    "|7 | Yes | Divorced | 220K | No\n",
    "|8 | No | Single | 85K  |Yes\n",
    "|9 | No | Married | 75K | No\n",
    "|10 | No | Single | 90K | Yes\n",
    "|11 | Yes | Divorced | 80K | ??"
   ]
  },
  {
   "cell_type": "code",
   "execution_count": 76,
   "metadata": {},
   "outputs": [
    {
     "data": {
      "text/plain": [
       "array([[     1,      1,      0,      0, 125000],\n",
       "       [     0,      0,      1,      0, 100000],\n",
       "       [     0,      1,      0,      0,  70000],\n",
       "       [     1,      0,      1,      0, 120000],\n",
       "       [     0,      0,      0,      1,  95000],\n",
       "       [     0,      0,      1,      0,  60000],\n",
       "       [     1,      0,      0,      1, 220000],\n",
       "       [     0,      1,      0,      0,  85000],\n",
       "       [     0,      0,      1,      0,  75000],\n",
       "       [     0,      1,      0,      0,  90000]])"
      ]
     },
     "execution_count": 76,
     "metadata": {},
     "output_type": "execute_result"
    }
   ],
   "source": [
    "tbl = '''\n",
    "1\tYes\tSingle\t125K\tNo\n",
    "2\tNo\tMarried\t100K\tNo\n",
    "3\tNo\tSingle\t70K\tNo\n",
    "4\tYes\tMarried\t120K\tNo\n",
    "5\tNo\tDivorced\t95K\tYes\n",
    "6\tNo\tMarried\t60K\tNo\n",
    "7\tYes\tDivorced\t220K\tNo\n",
    "8\tNo\tSingle\t85K\tYes\n",
    "9\tNo\tMarried\t75K\tNo\n",
    "10\tNo\tSingle\t90K\tYes\n",
    "'''\n",
    "rows = tbl.split('\\n')\n",
    "rows\n",
    "lofl = []\n",
    "audit = []\n",
    "for row in rows:\n",
    "    l2 = row.split()\n",
    "    if (len(l2)):\n",
    "        l1 = [1 if l2[1]=='Yes' else 0, \n",
    "              1 if l2[2] == 'Single' else 0,\n",
    "              1 if l2[2] == 'Married' else 0,\n",
    "              1 if l2[2] == 'Divorced' else 0, \n",
    "              int(l2[3][:-1])*1000]\n",
    "        lofl.append(l1)\n",
    "        audit.append(1 if l2[4]=='Yes' else 0)\n",
    "np.array(lofl)"
   ]
  },
  {
   "cell_type": "code",
   "execution_count": 78,
   "metadata": {},
   "outputs": [
    {
     "data": {
      "text/plain": [
       "array([0])"
      ]
     },
     "execution_count": 78,
     "metadata": {},
     "output_type": "execute_result"
    }
   ],
   "source": [
    "XX_train = np.array(lofl)\n",
    "gnb = GaussianNB()\n",
    "audit_pred = gnb.fit(XX_train, audit).predict(np.array([1, 0, 0, 1, 80000]).reshape(1, -1))\n",
    "audit_pred"
   ]
  },
  {
   "cell_type": "code",
   "execution_count": null,
   "metadata": {},
   "outputs": [],
   "source": []
  }
 ],
 "metadata": {
  "kernelspec": {
   "display_name": "Python 3",
   "language": "python",
   "name": "python3"
  },
  "language_info": {
   "codemirror_mode": {
    "name": "ipython",
    "version": 3
   },
   "file_extension": ".py",
   "mimetype": "text/x-python",
   "name": "python",
   "nbconvert_exporter": "python",
   "pygments_lexer": "ipython3",
   "version": "3.8.3"
  }
 },
 "nbformat": 4,
 "nbformat_minor": 4
}

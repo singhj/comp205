{
 "cells": [
  {
   "cell_type": "markdown",
   "metadata": {},
   "source": [
    "# 04-02-analysis-of-observations-practice"
   ]
  },
  {
   "cell_type": "markdown",
   "metadata": {},
   "source": [
    "## The general analysis pattern\n",
    "\n",
    "A typical pattern for **`scikit-learn`** supervised learning classes proceeds as follows:\n",
    "* Begin with invoking an estimator class, as shown with GaussianNB in the next cell.\n",
    "* Call the `fit` method with the using the training data (typically called `X`) and the classifications (typically called `y`). This yields a predictor.\n",
    "* Call the `predict` method on the predictor with test data to obtain its predictions."
   ]
  },
  {
   "cell_type": "code",
   "execution_count": null,
   "metadata": {},
   "outputs": [],
   "source": [
    "# Example of using a Gaussian Naive Bayes predictions\n",
    "# Nothing to do here, this cell is provided as a code sample\n",
    "\n",
    "from sklearn.datasets import load_iris\n",
    "from sklearn.model_selection import train_test_split\n",
    "from sklearn.naive_bayes import GaussianNB\n",
    "\n",
    "X, y = load_iris(return_X_y=True)\n",
    "X_train, X_test, y_train, y_test = train_test_split(X, y, test_size=0.5, random_state=0)\n",
    "gnb = GaussianNB()\n",
    "y_pred = gnb.fit(X_train, y_train).predict(X_test)\n",
    "print(\"Number of mislabeled points out of a total %d points : %d\"\n",
    "      % (X_test.shape[0], (y_test != y_pred).sum()))"
   ]
  },
  {
   "cell_type": "markdown",
   "metadata": {},
   "source": [
    "## 1. Regression Diagnostics Problem\n",
    "\n",
    "Whereas a detailed discussion of regression diagnostics is outside our scope, \n",
    "the following definitions may be helpful ([source](https://sphweb.bumc.bu.edu/otlt/MPH-Modules/BS/R/R5_Correlation-Regression/R5_Correlation-Regression7.html)):\n",
    "* **Outliers:** an outlier is defined as an observation that has a large residual. In other words, the observed value for the point is very different from that predicted by the regression model.\n",
    "* **Leverage points:** A leverage point is defined as an observation that has a value of x that is far away from the mean of x. \n",
    "* **Influential observations:** An influential observation is defined as an observation that changes the slope of the line. Thus, influential points have a large influence on the fit of the model. One method to find influential points is to compare the fit of the model with and without each observation.\n",
    "\n",
    "The table below shows data from a study of 20 patients with chronic congestive heart failure. Two\n",
    "measurements are shown — ejection fraction x (in percent), which is a measure of left ventricular\n",
    "dysfunction, and pulmonary arterial wedge pressure y (in mm Hg).\n",
    "\n",
    "![](patient_data.JPG)\n",
    "\n",
    "One value has been mistranscribed from the original paper. Determine which patient’s data is most likely to be wrong.\n",
    "\n",
    "Hint: The next cell has two imports to get you started: `linear_model` function helps you perform a linear regression on the data points.\n",
    "The `mean_squared_error` function helps you determine the overall error. Drop the patients one by one and observe the mean squared error.\n",
    "\n",
    "**Question:** If you drop the correct patient from the sample, what do you expect the mean-squared error for the remaining set to do?\n",
    "\n",
    "**Your answer**\n",
    "\n",
    "---\n",
    "\n",
    "---"
   ]
  },
  {
   "cell_type": "code",
   "execution_count": null,
   "metadata": {},
   "outputs": [],
   "source": [
    "# Nothing to code in this cell, just run it!\n",
    "\n",
    "%matplotlib inline\n",
    "import numpy as np\n",
    "import matplotlib.pyplot as plt\n",
    "import seaborn as sns; sns.set()\n",
    "import pandas as pd\n",
    "\n",
    "from sklearn.linear_model import LinearRegression\n",
    "from sklearn.metrics import mean_squared_error"
   ]
  },
  {
   "cell_type": "code",
   "execution_count": null,
   "metadata": {},
   "outputs": [],
   "source": [
    "# For your convenience, the two rows of the table are available as Python variables here\n",
    "x = [int(n) for n in '28 26 42 29 16 21 25 35 30 36 37 41 20 26 38 26 10 18 10 31'.split()]\n",
    "y = [int(n) for n in '15 14 15 12 37 30 7 14 28 13 5 13 24 8 13 17 27 29 8 5'.split()]\n",
    "\n",
    "# For your convenience, a look at the data:\n",
    "noprint = plt.scatter(x, y)"
   ]
  },
  {
   "cell_type": "code",
   "execution_count": null,
   "metadata": {},
   "outputs": [],
   "source": [
    "# Your solution"
   ]
  },
  {
   "cell_type": "markdown",
   "metadata": {},
   "source": [
    "## 2. Bayesian Estimation Problem\n",
    "\n",
    "The following table indicates data of 10 taxpayers and whether they were audited. Jill's data is shown in row 11. What does a Naive Gaussian Estimate predict about whether Jill will be audited?\n",
    "\n",
    "| Txid | Refund | Marital Status | Taxable Income | Audit |\n",
    "|:---:|:------:|:--------------:|:--------------:|:-----:|\n",
    "| 1   | Yes    | Single         | 125K           | No    |\n",
    "|2 | No | Married | 100K | No\n",
    "|3 | No | Single | 70K | No\n",
    "|4 | Yes | Married | 120K | No\n",
    "|5 | No | Divorced | 95K | Yes\n",
    "|6 | No | Married | 60K | No\n",
    "|7 | Yes | Divorced | 220K | No\n",
    "|8 | No | Single | 85K  |Yes\n",
    "|9 | No | Married | 75K | No\n",
    "|10 | No | Single | 90K | Yes\n",
    "|11 | Yes | Divorced | 80K | ??"
   ]
  },
  {
   "cell_type": "code",
   "execution_count": null,
   "metadata": {},
   "outputs": [],
   "source": [
    "# A Python-accessible version of the above table is givem below for your convenience.\n",
    "tbl = '''\n",
    "1\tYes\tSingle\t125K\tNo\n",
    "2\tNo\tMarried\t100K\tNo\n",
    "3\tNo\tSingle\t70K\tNo\n",
    "4\tYes\tMarried\t120K\tNo\n",
    "5\tNo\tDivorced\t95K\tYes\n",
    "6\tNo\tMarried\t60K\tNo\n",
    "7\tYes\tDivorced\t220K\tNo\n",
    "8\tNo\tSingle\t85K\tYes\n",
    "9\tNo\tMarried\t75K\tNo\n",
    "10\tNo\tSingle\t90K\tYes\n",
    "'''"
   ]
  },
  {
   "cell_type": "code",
   "execution_count": null,
   "metadata": {},
   "outputs": [],
   "source": [
    "# Your solution"
   ]
  },
  {
   "cell_type": "markdown",
   "metadata": {},
   "source": [
    "![The end](https://live.staticflickr.com/32/89187454_3ae6aded89_b.jpg)"
   ]
  }
 ],
 "metadata": {
  "kernelspec": {
   "display_name": "Python 3",
   "language": "python",
   "name": "python3"
  },
  "language_info": {
   "codemirror_mode": {
    "name": "ipython",
    "version": 3
   },
   "file_extension": ".py",
   "mimetype": "text/x-python",
   "name": "python",
   "nbconvert_exporter": "python",
   "pygments_lexer": "ipython3",
   "version": "3.7.4"
  }
 },
 "nbformat": 4,
 "nbformat_minor": 4
}

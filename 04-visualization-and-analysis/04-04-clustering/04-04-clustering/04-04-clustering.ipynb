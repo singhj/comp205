{
 "cells": [
  {
   "cell_type": "markdown",
   "metadata": {},
   "source": [
    "# Clustering\n",
    "\n",
    "* *Clustering* is the process of *discovering* categories of data in a multi-dimensional dataset. \n",
    "* There are several kinds of clustering available. \n",
    "* *Agglomerative clustering* builds categories of data points based upon their distance from each other according to some metric.  It groups the two closest points, and continues doing this until the result is one big blob. One can then divide the data into any number of categories by dividing up the agglomeration. \n",
    "* Clustering is an example of *unsupervised learning*. There is not a pre-conceived notion of the categories that should arise. \n",
    "\n",
    "This code is adapted from: https://stackabuse.com/hierarchical-clustering-with-python-and-scikit-learn/"
   ]
  },
  {
   "cell_type": "markdown",
   "metadata": {},
   "source": [
    "# First, let's input some 2-d data. "
   ]
  },
  {
   "cell_type": "code",
   "execution_count": 1,
   "metadata": {},
   "outputs": [
    {
     "data": {
      "text/plain": [
       "array([[ 5,  3],\n",
       "       [10, 15],\n",
       "       [70, 55],\n",
       "       [15, 12],\n",
       "       [71, 80],\n",
       "       [24, 10],\n",
       "       [30, 30],\n",
       "       [85, 70],\n",
       "       [60, 78],\n",
       "       [80, 91]])"
      ]
     },
     "execution_count": 1,
     "metadata": {},
     "output_type": "execute_result"
    }
   ],
   "source": [
    "import numpy as np\n",
    "\n",
    "data = np.array([[5, 3],\n",
    "                 [10, 15],\n",
    "                 [70, 55],\n",
    "                 [15, 12],\n",
    "                 [71, 80],\n",
    "                 [24, 10],\n",
    "                 [30, 30],\n",
    "                 [85, 70],\n",
    "                 [60, 78],\n",
    "                 [80, 91], ])\n",
    "data"
   ]
  },
  {
   "cell_type": "markdown",
   "metadata": {},
   "source": [
    "# Then let's label rows for a demo\n",
    "\n",
    "* This is a trick to label points with characters\n",
    "* `ord(character)` is the integer offset of `character` in ASCII. \n",
    "* `chr(integer)` is the character corresponding to the offset `integer`. \n",
    "* `chr(ord('a')+i)` is the `i`th character in the alphabet, starting at `i=0`. "
   ]
  },
  {
   "cell_type": "code",
   "execution_count": 2,
   "metadata": {},
   "outputs": [
    {
     "data": {
      "text/plain": [
       "['a', 'b', 'c', 'd', 'e', 'f', 'g', 'h', 'i', 'j']"
      ]
     },
     "execution_count": 2,
     "metadata": {},
     "output_type": "execute_result"
    }
   ],
   "source": [
    "row_labels = [chr(c+ord('a')) for c in range(len(data))]\n",
    "row_labels"
   ]
  },
  {
   "cell_type": "markdown",
   "metadata": {},
   "source": [
    "# Let's put this into a DataFrame "
   ]
  },
  {
   "cell_type": "code",
   "execution_count": 3,
   "metadata": {},
   "outputs": [
    {
     "data": {
      "text/html": [
       "<div>\n",
       "<style scoped>\n",
       "    .dataframe tbody tr th:only-of-type {\n",
       "        vertical-align: middle;\n",
       "    }\n",
       "\n",
       "    .dataframe tbody tr th {\n",
       "        vertical-align: top;\n",
       "    }\n",
       "\n",
       "    .dataframe thead th {\n",
       "        text-align: right;\n",
       "    }\n",
       "</style>\n",
       "<table border=\"1\" class=\"dataframe\">\n",
       "  <thead>\n",
       "    <tr style=\"text-align: right;\">\n",
       "      <th></th>\n",
       "      <th>x</th>\n",
       "      <th>y</th>\n",
       "    </tr>\n",
       "  </thead>\n",
       "  <tbody>\n",
       "    <tr>\n",
       "      <th>a</th>\n",
       "      <td>5</td>\n",
       "      <td>3</td>\n",
       "    </tr>\n",
       "    <tr>\n",
       "      <th>b</th>\n",
       "      <td>10</td>\n",
       "      <td>15</td>\n",
       "    </tr>\n",
       "    <tr>\n",
       "      <th>c</th>\n",
       "      <td>70</td>\n",
       "      <td>55</td>\n",
       "    </tr>\n",
       "    <tr>\n",
       "      <th>d</th>\n",
       "      <td>15</td>\n",
       "      <td>12</td>\n",
       "    </tr>\n",
       "    <tr>\n",
       "      <th>e</th>\n",
       "      <td>71</td>\n",
       "      <td>80</td>\n",
       "    </tr>\n",
       "    <tr>\n",
       "      <th>f</th>\n",
       "      <td>24</td>\n",
       "      <td>10</td>\n",
       "    </tr>\n",
       "    <tr>\n",
       "      <th>g</th>\n",
       "      <td>30</td>\n",
       "      <td>30</td>\n",
       "    </tr>\n",
       "    <tr>\n",
       "      <th>h</th>\n",
       "      <td>85</td>\n",
       "      <td>70</td>\n",
       "    </tr>\n",
       "    <tr>\n",
       "      <th>i</th>\n",
       "      <td>60</td>\n",
       "      <td>78</td>\n",
       "    </tr>\n",
       "    <tr>\n",
       "      <th>j</th>\n",
       "      <td>80</td>\n",
       "      <td>91</td>\n",
       "    </tr>\n",
       "  </tbody>\n",
       "</table>\n",
       "</div>"
      ],
      "text/plain": [
       "    x   y\n",
       "a   5   3\n",
       "b  10  15\n",
       "c  70  55\n",
       "d  15  12\n",
       "e  71  80\n",
       "f  24  10\n",
       "g  30  30\n",
       "h  85  70\n",
       "i  60  78\n",
       "j  80  91"
      ]
     },
     "execution_count": 3,
     "metadata": {},
     "output_type": "execute_result"
    }
   ],
   "source": [
    "import pandas as pd\n",
    "df = pd.DataFrame(data, index=row_labels, columns=('x', 'y'))\n",
    "df"
   ]
  },
  {
   "cell_type": "markdown",
   "metadata": {},
   "source": [
    "# Caveat about pandas and numpy\n",
    "* It is good to remember that `numpy` predates `pandas`. \n",
    "* Some libraries take only `numpy` input. \n",
    "* Others tolerate either `pandas` or `numpy` input. \n",
    "* In this case, we have libraries that tolerate both formats. \n",
    "\n",
    "# Let's visualize the data "
   ]
  },
  {
   "cell_type": "code",
   "execution_count": 4,
   "metadata": {},
   "outputs": [
    {
     "data": {
      "image/png": "[encoded data removed]",
      "text/plain": [
       "<Figure size 720x576 with 1 Axes>"
      ]
     },
     "metadata": {
      "needs_background": "light"
     },
     "output_type": "display_data"
    }
   ],
   "source": [
    "import matplotlib.pyplot as plt\n",
    "\n",
    "plt.figure(figsize=(10, 8))  # set size of overall figure\n",
    "plt.subplots_adjust(bottom=0.1)  \n",
    "\n",
    "# make a scatterplot of all data,\n",
    "plt.scatter(df.loc[:,'x'],df.loc[:,'y'], label='True Position')\n",
    "\n",
    "# label points with their letters for clarity. \n",
    "# use parallel iteration over three parallel lists \n",
    "for label, x, y in zip(df.index, df.loc[:, 'x'], df.loc[:, 'y']):  \n",
    "    plt.annotate(\n",
    "        label, # label of text\n",
    "        xy=(x, y),  # where point is in coordinate space \n",
    "        xytext=(-3, 3),  # offset of label in pixels\n",
    "        textcoords='offset points', # how to interpret coordinates \n",
    "        ha='right',  # text horizontal alignment\n",
    "        va='bottom')  # text vertical alignment"
   ]
  },
  {
   "cell_type": "markdown",
   "metadata": {},
   "source": [
    "# Some basic observations\n",
    "* It's pretty obvious that this data is segregated into two categories. \n",
    "* It's not so obvious as to how to do this by machine. \n",
    "* The following is a visualization of one way to do it. "
   ]
  },
  {
   "cell_type": "code",
   "execution_count": 5,
   "metadata": {},
   "outputs": [
    {
     "data": {
      "image/png": "[encoded data removed]",
      "text/plain": [
       "<Figure size 720x432 with 1 Axes>"
      ]
     },
     "metadata": {
      "needs_background": "light"
     },
     "output_type": "display_data"
    }
   ],
   "source": [
    "from scipy.cluster.hierarchy import dendrogram, linkage  \n",
    "from matplotlib import pyplot as plt\n",
    "\n",
    "# make a hierarchical structure from the data. \n",
    "linked = linkage(data, 'single')\n",
    "\n",
    "# plot the hierarchy as a 'dendrogram' \n",
    "plt.figure(figsize=(10, 6))  \n",
    "_ = dendrogram(linked,  \n",
    "               orientation='top',\n",
    "               labels=row_labels,\n",
    "               distance_sort='descending',\n",
    "               show_leaf_counts=True)"
   ]
  },
  {
   "cell_type": "markdown",
   "metadata": {},
   "source": [
    "# Agglomerative clustering\n",
    "The above diagram is made as follows: \n",
    "1. Start with nothing linked. Every point is in its own cluster. \n",
    "2. Link the two closest clusters to one another. The distance between clusters is the minimum distance between points in the cluster. \n",
    "3. Continue until you have one large cluster.  \n",
    "\n",
    "We usually skip showing the previous diagram, and proceed as follows: "
   ]
  },
  {
   "cell_type": "code",
   "execution_count": 6,
   "metadata": {},
   "outputs": [
    {
     "data": {
      "image/png": "[encoded data removed]",
      "text/plain": [
       "<Figure size 720x576 with 1 Axes>"
      ]
     },
     "metadata": {
      "needs_background": "light"
     },
     "output_type": "display_data"
    }
   ],
   "source": [
    "from sklearn.cluster import AgglomerativeClustering\n",
    "\n",
    "# Compute clusters\n",
    "cluster = AgglomerativeClustering(n_clusters=2, affinity='euclidean')\n",
    "cluster.fit_predict(df)\n",
    "\n",
    "# color each cluster with a different color of the rainbow\n",
    "plt.figure(figsize=(10, 8))\n",
    "plt.scatter(df.loc[:, 'x'],  # x coordinate\n",
    "            df.loc[:, 'y'],  # y coordinate\n",
    "            c=cluster.labels_,  # how to determine colors of points.\n",
    "            cmap='rainbow')  # what color code to use\n",
    "\n",
    "# Label data points with their letters\n",
    "for label, x, y in zip(df.index, df.loc[:, 'x'], df.loc[:, 'y']):\n",
    "    plt.annotate(\n",
    "        label,  # what label to place\n",
    "        xy=(x, y),  # where the point is (actual coordinates)\n",
    "        xytext=(-3, 3),  # where the characters should start (pixels)\n",
    "        textcoords='offset points',  # use the xytext offsets to place text\n",
    "        ha='right',  # horizontal alignment of text\n",
    "        va='bottom')  # vertical alignment of text"
   ]
  },
  {
   "cell_type": "markdown",
   "metadata": {},
   "source": [
    "# How this was done\n",
    "* in `plt.scatter`, change the color for each cluster: `c=cluster.labels_`\n",
    "* Map each cluster to a color of the rainbow: `cmap='rainbow'`\n",
    "        \n",
    "Here's the same chart for three clusters."
   ]
  },
  {
   "cell_type": "code",
   "execution_count": 7,
   "metadata": {},
   "outputs": [
    {
     "data": {
      "text/plain": [
       "array([0, 0, 2, 0, 1, 0, 0, 2, 1, 1])"
      ]
     },
     "execution_count": 7,
     "metadata": {},
     "output_type": "execute_result"
    }
   ],
   "source": [
    "cluster = AgglomerativeClustering(n_clusters=3, affinity='euclidean')  \n",
    "cluster.fit_predict(df)  "
   ]
  },
  {
   "cell_type": "code",
   "execution_count": 8,
   "metadata": {},
   "outputs": [
    {
     "data": {
      "image/png": "[encoded data removed]",
      "text/plain": [
       "<Figure size 720x576 with 1 Axes>"
      ]
     },
     "metadata": {
      "needs_background": "light"
     },
     "output_type": "display_data"
    }
   ],
   "source": [
    "plt.figure(figsize=(10,8))\n",
    "plt.scatter(df.loc[:,'x'],df.loc[:,'y'], c=cluster.labels_, cmap='rainbow')  \n",
    "for label, x, y in zip(df.index, df.loc[:, 'x'], df.loc[:, 'y']):  \n",
    "    plt.annotate(\n",
    "        label,\n",
    "        xy=(x, y), \n",
    "        xytext=(-3, 3),\n",
    "        textcoords='offset points', \n",
    "        ha='right', \n",
    "        va='bottom')"
   ]
  },
  {
   "cell_type": "markdown",
   "metadata": {},
   "source": [
    "# Data is often not so well behaved\n",
    "* There can be nore than two axes. \n",
    "* Clusters may not be separable. \n",
    "* Human-specified and data-driven categories need not match. \n",
    "* The reason is the scourge of the data scientist: *hidden variables*.\n",
    "\n",
    "# Hidden variables\n",
    "* Often, the human categorization of something differs from the machine categorization due to specialized knowledge. \n",
    "* No dataset is complete. \n",
    "* There are aspects that are not recorded. \n",
    "* These can determine categories that the data doesn't depict. \n",
    "\n",
    "# Let's try this out\n",
    "* Here is a practical case study of hidden variables. \n",
    "* The Iris dataset doesn't in any sense contain everything about irises. \n",
    "* We can try clustering it, and compare that with the human categorization. \n",
    "* We'll get somewhat different results. "
   ]
  },
  {
   "cell_type": "code",
   "execution_count": 9,
   "metadata": {},
   "outputs": [
    {
     "name": "stdout",
     "output_type": "stream",
     "text": [
      "=====================================================================\n",
      "Assignment: Clustering\n",
      "OK, version v1.18.1\n",
      "=====================================================================\n",
      "\n",
      "Successfully logged in as j.singh@datathinks.org\n"
     ]
    }
   ],
   "source": [
    "# Don't change this cell; just run it. \n",
    "from client.api.notebook import Notebook\n",
    "ok = Notebook('04-04-clustering.ok')\n",
    "ok.auth(inline=True)"
   ]
  },
  {
   "cell_type": "code",
   "execution_count": 10,
   "metadata": {},
   "outputs": [
    {
     "name": "stdout",
     "output_type": "stream",
     "text": [
      ".. _iris_dataset:\n",
      "\n",
      "Iris plants dataset\n",
      "--------------------\n",
      "\n",
      "**Data Set Characteristics:**\n",
      "\n",
      "    :Number of Instances: 150 (50 in each of three classes)\n",
      "    :Number of Attributes: 4 numeric, predictive attributes and the class\n",
      "    :Attribute Information:\n",
      "        - sepal length in cm\n",
      "        - sepal width in cm\n",
      "        - petal length in cm\n",
      "        - petal width in cm\n",
      "        - class:\n",
      "                - Iris-Setosa\n",
      "                - Iris-Versicolour\n",
      "                - Iris-Virginica\n",
      "                \n",
      "    :Summary Statistics:\n",
      "\n",
      "    ============== ==== ==== ======= ===== ====================\n",
      "                    Min  Max   Mean    SD   Class Correlation\n",
      "    ============== ==== ==== ======= ===== ====================\n",
      "    sepal length:   4.3  7.9   5.84   0.83    0.7826\n",
      "    sepal width:    2.0  4.4   3.05   0.43   -0.4194\n",
      "    petal length:   1.0  6.9   3.76   1.76    0.9490  (high!)\n",
      "    petal width:    0.1  2.5   1.20   0.76    0.9565  (high!)\n",
      "    ============== ==== ==== ======= ===== ====================\n",
      "\n",
      "    :Missing Attribute Values: None\n",
      "    :Class Distribution: 33.3% for each of 3 classes.\n",
      "    :Creator: R.A. Fisher\n",
      "    :Donor: Michael Marshall (MARSHALL%PLU@io.arc.nasa.gov)\n",
      "    :Date: July, 1988\n",
      "\n",
      "The famous Iris database, first used by Sir R.A. Fisher. The dataset is taken\n",
      "from Fisher's paper. Note that it's the same as in R, but not as in the UCI\n",
      "Machine Learning Repository, which has two wrong data points.\n",
      "\n",
      "This is perhaps the best known database to be found in the\n",
      "pattern recognition literature.  Fisher's paper is a classic in the field and\n",
      "is referenced frequently to this day.  (See Duda & Hart, for example.)  The\n",
      "data set contains 3 classes of 50 instances each, where each class refers to a\n",
      "type of iris plant.  One class is linearly separable from the other 2; the\n",
      "latter are NOT linearly separable from each other.\n",
      "\n",
      ".. topic:: References\n",
      "\n",
      "   - Fisher, R.A. \"The use of multiple measurements in taxonomic problems\"\n",
      "     Annual Eugenics, 7, Part II, 179-188 (1936); also in \"Contributions to\n",
      "     Mathematical Statistics\" (John Wiley, NY, 1950).\n",
      "   - Duda, R.O., & Hart, P.E. (1973) Pattern Classification and Scene Analysis.\n",
      "     (Q327.D83) John Wiley & Sons.  ISBN 0-471-22361-1.  See page 218.\n",
      "   - Dasarathy, B.V. (1980) \"Nosing Around the Neighborhood: A New System\n",
      "     Structure and Classification Rule for Recognition in Partially Exposed\n",
      "     Environments\".  IEEE Transactions on Pattern Analysis and Machine\n",
      "     Intelligence, Vol. PAMI-2, No. 1, 67-71.\n",
      "   - Gates, G.W. (1972) \"The Reduced Nearest Neighbor Rule\".  IEEE Transactions\n",
      "     on Information Theory, May 1972, 431-433.\n",
      "   - See also: 1988 MLC Proceedings, 54-64.  Cheeseman et al\"s AUTOCLASS II\n",
      "     conceptual clustering system finds 3 classes in the data.\n",
      "   - Many, many more ...\n"
     ]
    }
   ],
   "source": [
    "from sklearn import datasets\n",
    "iris = datasets.load_iris()\n",
    "print(iris.DESCR)"
   ]
  },
  {
   "cell_type": "markdown",
   "metadata": {},
   "source": [
    "1. Call Agglomerative Clustering on the iris data, as above, with three categories. Put the result into the variable `cluster`. "
   ]
  },
  {
   "cell_type": "code",
   "execution_count": 11,
   "metadata": {},
   "outputs": [
    {
     "data": {
      "text/plain": [
       "array([1, 1, 1, 1, 1, 1, 1, 1, 1, 1, 1, 1, 1, 1, 1, 1, 1, 1, 1, 1, 1, 1,\n",
       "       1, 1, 1, 1, 1, 1, 1, 1, 1, 1, 1, 1, 1, 1, 1, 1, 1, 1, 1, 1, 1, 1,\n",
       "       1, 1, 1, 1, 1, 1, 0, 0, 0, 0, 0, 0, 0, 0, 0, 0, 0, 0, 0, 0, 0, 0,\n",
       "       0, 0, 0, 0, 0, 0, 0, 0, 0, 0, 0, 2, 0, 0, 0, 0, 0, 0, 0, 0, 0, 0,\n",
       "       0, 0, 0, 0, 0, 0, 0, 0, 0, 0, 0, 0, 2, 0, 2, 2, 2, 2, 0, 2, 2, 2,\n",
       "       2, 2, 2, 0, 0, 2, 2, 2, 2, 0, 2, 0, 2, 0, 2, 2, 0, 0, 2, 2, 2, 2,\n",
       "       2, 0, 0, 2, 2, 2, 0, 2, 2, 2, 0, 2, 2, 2, 0, 2, 2, 0])"
      ]
     },
     "execution_count": 11,
     "metadata": {},
     "output_type": "execute_result"
    }
   ],
   "source": [
    "# Your answer: \n",
    "cluster = AgglomerativeClustering(n_clusters=3, affinity='euclidean')  \n",
    "cluster.fit_predict(iris.data)\n",
    "cluster.labels_"
   ]
  },
  {
   "cell_type": "code",
   "execution_count": 12,
   "metadata": {},
   "outputs": [
    {
     "name": "stdout",
     "output_type": "stream",
     "text": [
      "~~~~~~~~~~~~~~~~~~~~~~~~~~~~~~~~~~~~~~~~~~~~~~~~~~~~~~~~~~~~~~~~~~~~~\n",
      "Running tests\n",
      "\n",
      "---------------------------------------------------------------------\n",
      "Test summary\n",
      "    Passed: 2\n",
      "    Failed: 0\n",
      "[ooooooooook] 100.0% passed\n",
      "\n"
     ]
    }
   ],
   "source": [
    "_ = ok.grade('q01')"
   ]
  },
  {
   "cell_type": "markdown",
   "metadata": {},
   "source": [
    "Let's compare this with the expert decisions in `iris.target` \n",
    "Category numbers are arbitrary. You'll need to map between numbering systems to compare these. \n",
    "\n",
    "2. Compare the above output with `iris.target` to determine the closest match between category numbers. \n",
    "What category numbers in your map correspond to the ones in `iris.target`? "
   ]
  },
  {
   "cell_type": "markdown",
   "metadata": {},
   "source": [
    "___Your answer:___\n",
    "* `iris.target` category 0 corresponds to `cluster.labels_` category ______1__________.\n",
    "* `iris.target` category 1 corresponds to `cluster.labels_` category ______0___________.\n",
    "* `iris.target` category 2 corresponds to `cluster.labels_` category ______2___________."
   ]
  },
  {
   "cell_type": "markdown",
   "metadata": {},
   "source": [
    "This situation is very common. The two categorizations are slightly different. We want to know how close they can be matched to one another. This is a measure of how much information is hidden that we are not recording or using in clustering. \n",
    "\n",
    "3. Create an `array` `comparable` that maps categories you have listed above to their closest equivalents in `iris.target`. You can do this with a `for` loop or become more clever. "
   ]
  },
  {
   "cell_type": "code",
   "execution_count": 13,
   "metadata": {},
   "outputs": [
    {
     "data": {
      "text/plain": [
       "array([0, 0, 0, 0, 0, 0, 0, 0, 0, 0, 0, 0, 0, 0, 0, 0, 0, 0, 0, 0, 0, 0,\n",
       "       0, 0, 0, 0, 0, 0, 0, 0, 0, 0, 0, 0, 0, 0, 0, 0, 0, 0, 0, 0, 0, 0,\n",
       "       0, 0, 0, 0, 0, 0, 1, 1, 1, 1, 1, 1, 1, 1, 1, 1, 1, 1, 1, 1, 1, 1,\n",
       "       1, 1, 1, 1, 1, 1, 1, 1, 1, 1, 1, 2, 1, 1, 1, 1, 1, 1, 1, 1, 1, 1,\n",
       "       1, 1, 1, 1, 1, 1, 1, 1, 1, 1, 1, 1, 2, 1, 2, 2, 2, 2, 1, 2, 2, 2,\n",
       "       2, 2, 2, 1, 1, 2, 2, 2, 2, 1, 2, 1, 2, 1, 2, 2, 1, 1, 2, 2, 2, 2,\n",
       "       2, 1, 1, 2, 2, 2, 1, 2, 2, 2, 1, 2, 2, 2, 1, 2, 2, 1])"
      ]
     },
     "execution_count": 13,
     "metadata": {},
     "output_type": "execute_result"
    }
   ],
   "source": [
    "# Your answer: \n",
    "import numpy as np\n",
    "out = list()\n",
    "for i in cluster.labels_: \n",
    "    if i == 1: \n",
    "        out.append(0)\n",
    "    elif i==0: \n",
    "        out.append(1)\n",
    "    else: \n",
    "        out.append(2)\n",
    "comparable = np.array(out)\n",
    "comparable"
   ]
  },
  {
   "cell_type": "code",
   "execution_count": 14,
   "metadata": {},
   "outputs": [
    {
     "name": "stdout",
     "output_type": "stream",
     "text": [
      "~~~~~~~~~~~~~~~~~~~~~~~~~~~~~~~~~~~~~~~~~~~~~~~~~~~~~~~~~~~~~~~~~~~~~\n",
      "Running tests\n",
      "\n",
      "---------------------------------------------------------------------\n",
      "Test summary\n",
      "    Passed: 2\n",
      "    Failed: 0\n",
      "[ooooooooook] 100.0% passed\n",
      "\n"
     ]
    }
   ],
   "source": [
    "_ = ok.grade('q03')"
   ]
  },
  {
   "cell_type": "markdown",
   "metadata": {},
   "source": [
    "4. Compute the number of identical characterizations. Hint: use array comparison, and note that the sum of a Boolean vector is the number of True values. Put the result in `same`"
   ]
  },
  {
   "cell_type": "code",
   "execution_count": 15,
   "metadata": {},
   "outputs": [
    {
     "data": {
      "text/plain": [
       "134"
      ]
     },
     "execution_count": 15,
     "metadata": {},
     "output_type": "execute_result"
    }
   ],
   "source": [
    "# Your answer: \n",
    "same = (comparable == iris.target).sum()\n",
    "same"
   ]
  },
  {
   "cell_type": "markdown",
   "metadata": {},
   "source": [
    "It's important to understand that this isn't an error of clustering. Clustering acts on the data it gets. The problem is that something is missing. What is missing distinguishes two categories of `iris.target` more clearly. \n",
    "\n",
    "4. Which categories in `iris.target` are not clearly distinguished? "
   ]
  },
  {
   "cell_type": "markdown",
   "metadata": {},
   "source": [
    "___Your answer:___"
   ]
  },
  {
   "cell_type": "markdown",
   "metadata": {},
   "source": [
    "Well, we know something that's missing: the human categorization! Will adding that to the data fix the clustering? Let's try it as an educational exercise. \n",
    "\n",
    "5. Run the same experiment on the array created by combining `iris.data` and `iris.target` so that we have five columns of input data. Print the number of differences "
   ]
  },
  {
   "cell_type": "code",
   "execution_count": 16,
   "metadata": {},
   "outputs": [
    {
     "data": {
      "text/plain": [
       "150"
      ]
     },
     "execution_count": 16,
     "metadata": {},
     "output_type": "execute_result"
    }
   ],
   "source": [
    "# Your answer: \n",
    "newdata = np.insert(iris.data,4,iris.target, axis=1)\n",
    "cluster = AgglomerativeClustering(n_clusters=3, affinity='euclidean')  \n",
    "cluster.fit_predict(newdata)\n",
    "out = list()\n",
    "for i in cluster.labels_: \n",
    "    if i == 1: \n",
    "        out.append(0)\n",
    "    elif i==2: \n",
    "        out.append(1)\n",
    "    else: \n",
    "        out.append(2)\n",
    "cats = np.array(out)\n",
    "same = (cats == iris.target).sum()\n",
    "same"
   ]
  },
  {
   "cell_type": "markdown",
   "metadata": {},
   "source": [
    "The moral of this story is that no clustering mechanism is perfect, and no clustering mechanism truly substitutes for human categorization. Clustering mechanisms can get close, but are never completely accurate. The last experiment begs the question. "
   ]
  },
  {
   "cell_type": "markdown",
   "metadata": {},
   "source": [
    "<img align=\"right\" style=\"padding-left:10px; height: 50%; width: 50%\" src=\"../figures/image001.png\" >\n",
    "\n",
    "## Judgment Factors\n",
    "\n",
    "### Treatment of Outliers\n",
    "\n",
    "Outliers can influence the clustering result. Removing outliers is an essential part of prepping the data for cluster analysis.\n",
    "\n",
    "Outliers represent experimental error or other spurious results (referred to as _artifacts_ in microbiology literature). In other applications, they are _most valuable_ such as when looking for criminal activity patterns in e-commerce data See [Novelty and Outlier Detection](https://scikit-learn.org/stable/modules/outlier_detection.html) library in Scikit-Learn.\n",
    "\n",
    "_In other words, removing outliers isn't always desirable!_\n"
   ]
  },
  {
   "cell_type": "markdown",
   "metadata": {},
   "source": [
    "<img align=\"right\" style=\"padding-left:10px; height: 50%; width: 50%\" src=\"../figures/image003.png\" >\n",
    "\n",
    "### Randomness of seed selection\n",
    "\n",
    "As the accompanying diagrams show, the k-means algorithm is subject to the randomness of seed selection, which can play a significant role in the results of clustering. "
   ]
  },
  {
   "cell_type": "markdown",
   "metadata": {},
   "source": [
    "<img align=\"right\" style=\"padding-left:10px; height: 50%; width: 50%\" src=\"../figures/image005.png\" >\n",
    "\n",
    "To counter the effects of this randomness, modifications to the algorithm have been proposed, the most well-known of them being [kmeans++](https://en.wikipedia.org/wiki/K-means%2B%2B). K-means++ implementations are available in most libraries (including Scikit-Learn).\n",
    "\n",
    "_Most of the time you want to use K-means++._"
   ]
  },
  {
   "cell_type": "markdown",
   "metadata": {},
   "source": [
    "### Data suitable for K-means \n",
    "\n",
    "The K-means algorithm works well for data that are \"ellipsoidal\" in shape.\n",
    "\n",
    "<img align=\"right\" style=\"padding-left:10px; height: 50%; width: 50%\" src=\"../figures/image007.png\" >\n",
    "\n",
    "The data shown here don't lend themselves to be clustered into ellipsoids. Figure B represents the best that can be achieved with this algorithm."
   ]
  },
  {
   "cell_type": "markdown",
   "metadata": {},
   "source": [
    "### Parity of Cluster Sizes\n",
    "\n",
    "<img align=\"right\" style=\"padding-left:10px; height: 70%; width: 70%\" src=\"../figures/500px-mouse.png\" >\n",
    "\n",
    "There is no assumption in standard K-means algorithms that assumes an equal number of points in each cluster. However, certain standard algorithms do have a tendency towards _equalizing the spatial variance of clusters,_ which can result in a (rough) tendency towards equality of cluster sizes in cases where there is overlap between the clusters &mdash; [source](https://stats.stackexchange.com/a/326715).\n",
    "\n",
    "Notice how the clusters chosen by K-means bleed into each other more than in the original data. Other methods, such as the [Expectation–maximization algorithm](https://en.wikipedia.org/wiki/Expectation%E2%80%93maximization_algorithm) labeled EM Clustering in the figure, fare better in this case."
   ]
  },
  {
   "cell_type": "markdown",
   "metadata": {},
   "source": [
    "# When you're done, submit the notebook\n",
    "\n",
    "1. **Run all the cells in order.**\n",
    "\n",
    "2. Submit the notebook by saving it as PDF. \n",
    "    * In the cluster environment, it's File | Print (Save as PDF) and submit to [Gradescope](https://www.gradescope.com/courses/182658)<sup>&dagger;</sup>, \n",
    "    * On other versions, it may be File | Download As (PDF) and then submit to [Gradescope](https://www.gradescope.com/courses/182658)<sup>&dagger;</sup>.\n",
    "\n",
    "<sup>&dagger;</sup>To submit to Gradescope, log into the website, add course 9W7PW3 (if not already added) and submit. The assignment name should match the name of this notebook."
   ]
  },
  {
   "cell_type": "markdown",
   "metadata": {},
   "source": [
    "![The end](https://live.staticflickr.com/32/89187454_3ae6aded89_b.jpg)"
   ]
  }
 ],
 "metadata": {
  "kernelspec": {
   "display_name": "Python 3",
   "language": "python",
   "name": "python3"
  },
  "language_info": {
   "codemirror_mode": {
    "name": "ipython",
    "version": 3
   },
   "file_extension": ".py",
   "mimetype": "text/x-python",
   "name": "python",
   "nbconvert_exporter": "python",
   "pygments_lexer": "ipython3",
   "version": "3.8.3"
  }
 },
 "nbformat": 4,
 "nbformat_minor": 4
}

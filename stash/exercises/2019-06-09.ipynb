{
 "cells": [
  {
   "cell_type": "code",
   "execution_count": 6,
   "metadata": {},
   "outputs": [
    {
     "name": "stdout",
     "output_type": "stream",
     "text": [
      "Mark 18\n",
      "Ben 18\n",
      "Mark is 18 years old\n",
      "Ben is 18 years old\n",
      "Mark 20\n"
     ]
    }
   ],
   "source": [
    "# the point of \"self\" is to allow one to work on an instance of a class \n",
    "# when you're in a class function, the class member needs some name. \n",
    "\n",
    "class Foo(): \n",
    "    age = 0\n",
    "    name = \"\"\n",
    "    def set(bozo, name, age): \n",
    "        bozo.name = name\n",
    "        bozo.age = age\n",
    "    def __str__(self):\n",
    "        return \"{} is {} years old\".format(self.name, self.age)\n",
    "        \n",
    "# When I make an instance; \n",
    "a = Foo() # a and b are instances. \n",
    "b = Foo() # Foo is the class. \n",
    "\n",
    "# a class is a set of conditions that needs to be satisfied. \n",
    "# an instance is something that satisfies them! \n",
    "\n",
    "# inside a method, self is an alias for a or b. It's the thing that has\n",
    "# the properties of the class. \n",
    "\n",
    "a.set(\"Mark\", 18)\n",
    "b.set(\"Ben\", 18)\n",
    "print(a.name, a.age)\n",
    "print(b.name, b.age)\n",
    "print(a)\n",
    "print(b)\n",
    "Foo.set(a, \"Mark\", 20)\n",
    "print(a.name, a.age)"
   ]
  },
  {
   "cell_type": "code",
   "execution_count": 8,
   "metadata": {},
   "outputs": [
    {
     "name": "stdout",
     "output_type": "stream",
     "text": [
      "1\n",
      "(2, 4, 6)\n",
      "(3, 6, 9)\n",
      "[('name', 'age'), ('alva', 64), ('ben', 18)]\n"
     ]
    }
   ],
   "source": [
    "# there's a specific use of self for classes. \n",
    "# and my mind says \"I'm dealing with a class\" when I use it. \n",
    "\n",
    "# the scope of a name is the context in which it's meaningful. \n",
    "\n",
    "# When you call a function, you are invoking a new scope. \n",
    "# The arguments are copied, and the original variables \n",
    "# are not available.\n",
    "\n",
    "# here the scope is bar. \n",
    "# it's a copy of house, but you can't see house. \n",
    "def foo(bar):\n",
    "    laugh = bar  # a local variable\n",
    "    print(bar)\n",
    "\n",
    "# the scope of house is here\n",
    "house = 1   \n",
    "foo(house)\n",
    "\n",
    "# variables have two attributes: \n",
    "# 1. scope is where in the code that they're meaningful. \n",
    "# 2. lifetime is how long they hold their values. \n",
    "\n",
    "# The lifetime of a function's local variables is the function invocation. \n",
    "# When the function returns, they're gone. \n",
    "\n",
    "# The lifetime of a cell variable is until restart. \n",
    "\n",
    "# imperative language, with dynamic typing, subroutine scope that ends, \n",
    "# unlimited lifetime of top-level variables. \n",
    "a = 1\n",
    "a = \"ho\"\n",
    "a = Foo()\n",
    "\n",
    "# scope of the exam is closely related to the problems in workbook. \n",
    "# the exam is open internet. problems are similar, 10 problems, 10 points each\n",
    "# (no testers provided; you can write your own)\n",
    "\n",
    "# the basic of a class that contains a list of things and can do things\n",
    "# with them is an important metaphor. \n",
    "\n",
    "# documenting process is not important unless I ask a text question. \n",
    "# I'd love to see how you're thinking, and I won't downgrade for that, \n",
    "# but it's not necessary. \n",
    "\n",
    "#IGNORE\n",
    "#IGNORE This is code I don't need. \n",
    "#IGNORE \n",
    "\n",
    "# if you want to build a tuple, you can't do item assignment. \n",
    "# you can build a new tuple with the assignment. \n",
    "\n",
    "t = (1,2,3)\n",
    "t2 = (t[0]+1, t[1]+2, t[2]+3)\n",
    "t = t2\n",
    "print(t)\n",
    "temp = list(t)\n",
    "temp[0] += 1\n",
    "temp[1] += 2\n",
    "temp[2] += 3\n",
    "t = tuple(temp)\n",
    "print(t)\n",
    "\n",
    "# Principle of representation: \n",
    "# use a list when it's reasonable to add an element. \n",
    "# use a tuple if not. \n",
    "\n",
    "# I view this as safety. A tuple represents a row of a database. \n",
    "# The row is only meaningful if all the item values are kept. \n",
    "# Changing one item renders it different. We protect against that. \n",
    "\n",
    "d = [('name', 'age'), ('alva', 63), ('ben', 18)]\n",
    "d[1] = (d[1][0], d[1][1]+1)\n",
    "print(d)\n"
   ]
  },
  {
   "cell_type": "code",
   "execution_count": null,
   "metadata": {},
   "outputs": [],
   "source": [
    "# write a function that changes the second part of its argument, a tuple, to a new value\n",
    "def foo(t, value): \n",
    "    # t[1] = value # never allowed!\n",
    "    return (t[0], value)  # always allowed! "
   ]
  },
  {
   "cell_type": "code",
   "execution_count": 11,
   "metadata": {},
   "outputs": [
    {
     "name": "stdout",
     "output_type": "stream",
     "text": [
      "{'alva': 63, 'ben': 18, 'mark': 18, 'myra': 18}\n",
      "{'alva': 63, 'ben': 18, 'mark': 18, 'liz': 18}\n",
      "('alva', 'ben', 'mark', 'liz')\n"
     ]
    }
   ],
   "source": [
    "# at an advanced level, there is the issue of performance. \n",
    "# at an introductory level, construction always works. \n",
    "# (build a new thing with the properties you want)\n",
    "# at an advanced level, performance suggests \"surgery\". \n",
    "# Need to account for: \n",
    "# * mutability/immutability. \n",
    "# * routines you might need, and/or approaches you might need. \n",
    "\n",
    "t = [('alva', 63), ('ben', 18), ('mark', 18), ('liz', 18)]\n",
    "u = []\n",
    "for x in t: \n",
    "    if x[0] == 'liz': \n",
    "        u.append(('myra', 18))\n",
    "    else: \n",
    "        u.append(x)\n",
    "# t[3][0]='myra'\n",
    "t[3]= ('myra', 18)  # \"surgical\"\n",
    "d = dict(t)\n",
    "print(d)\n",
    "del d['myra']\n",
    "d['liz'] = 18\n",
    "print(d)\n",
    "t = tuple(d)\n",
    "print(t)"
   ]
  },
  {
   "cell_type": "code",
   "execution_count": null,
   "metadata": {},
   "outputs": [],
   "source": []
  }
 ],
 "metadata": {
  "kernelspec": {
   "display_name": "Python 3",
   "language": "python",
   "name": "python3"
  },
  "language_info": {
   "codemirror_mode": {
    "name": "ipython",
    "version": 3
   },
   "file_extension": ".py",
   "mimetype": "text/x-python",
   "name": "python",
   "nbconvert_exporter": "python",
   "pygments_lexer": "ipython3",
   "version": "3.7.0"
  }
 },
 "nbformat": 4,
 "nbformat_minor": 2
}

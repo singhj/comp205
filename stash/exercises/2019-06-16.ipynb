{
 "cells": [
  {
   "cell_type": "markdown",
   "metadata": {},
   "source": [
    "Question:  In *Merges and matches*, how does one write a query with two row conditions? "
   ]
  },
  {
   "cell_type": "markdown",
   "metadata": {},
   "source": [
    "`x < y & z < w` \n",
    "is parsed \n",
    "`x < (y & z) < w`,\n",
    "but you want\n",
    "`(x < y) & (z < w)`. \n",
    "This is a bad effect of overloading `&`. \n"
   ]
  },
  {
   "cell_type": "markdown",
   "metadata": {},
   "source": [
    "`x < y+z and z < w` is parsed `(x < (y+z)) and (z < w)` which is correct. "
   ]
  },
  {
   "cell_type": "markdown",
   "metadata": {},
   "source": [
    "`data['town']` === `data.town` (Series)\n",
    "\n",
    "`data['town in ma']` === `data.town\\ in\\ ma`"
   ]
  },
  {
   "cell_type": "markdown",
   "metadata": {},
   "source": [
    "Question: What do `__getitem__` and `__setitem__` actually do? \n",
    "\n",
    "Answer: they implement a fake array syntax for the class. Here's a dumb example that implements what `f[thing]` and `f[thing]=value` mean for a class foo. This particular class creates a dict in which searching for a missing key is not an error. "
   ]
  },
  {
   "cell_type": "code",
   "execution_count": 21,
   "metadata": {},
   "outputs": [
    {
     "name": "stdout",
     "output_type": "stream",
     "text": [
      "get <class '__main__.foo'> item 0\n",
      "set <class '__main__.foo'> item 0 to 4\n",
      "set <class '__main__.foo'> item yo to 9\n"
     ]
    },
    {
     "data": {
      "text/plain": [
       "{0: 4, 'yo': 9}"
      ]
     },
     "execution_count": 21,
     "metadata": {},
     "output_type": "execute_result"
    }
   ],
   "source": [
    "class foo(): \n",
    "    mydict = {}\n",
    "    def __getitem__(self, index): \n",
    "        print(\"get {} item {}\".format(type(self),index))\n",
    "        if index in self.mydict: \n",
    "            return self.mydict[index]\n",
    "        else: \n",
    "            return None\n",
    "    def __setitem__(self, index, value): \n",
    "        print(\"set {} item {} to {}\".format(type(self),index,value))\n",
    "        self.mydict[index] = value\n",
    "   \n",
    "f = foo()\n",
    "g = f[0] # calls foo.__getitem__(f, 0)\n",
    "f[0] = 4  # calls foo.__setitem__(f, 0, 4)\n",
    "f['yo'] = 9\n",
    "f.mydict"
   ]
  },
  {
   "cell_type": "markdown",
   "metadata": {},
   "source": [
    "In general, there are more strange class operators, including overrides for all common operators. Let's re-implement < for points in the plane. "
   ]
  },
  {
   "cell_type": "code",
   "execution_count": 16,
   "metadata": {},
   "outputs": [],
   "source": [
    "class Point:\n",
    "    def __init__(self, x = 0, y = 0):\n",
    "        self.x = x\n",
    "        self.y = y\n",
    "    \n",
    "    def __str__(self):\n",
    "        return \"({0},{1})\".format(self.x,self.y)\n",
    "    \n",
    "    def __lt__(self,other):\n",
    "        self_mag = (self.x ** 2) + (self.y ** 2)\n",
    "        other_mag = (other.x ** 2) + (other.y ** 2)\n",
    "        return self_mag < other_mag"
   ]
  },
  {
   "cell_type": "code",
   "execution_count": 17,
   "metadata": {},
   "outputs": [
    {
     "data": {
      "text/plain": [
       "True"
      ]
     },
     "execution_count": 17,
     "metadata": {},
     "output_type": "execute_result"
    }
   ],
   "source": [
    "p = Point(2,2)\n",
    "q = Point(3,3)\n",
    "p < q"
   ]
  },
  {
   "cell_type": "markdown",
   "metadata": {},
   "source": [
    "Question: how do I tell between views and copies? \n",
    "\n",
    "Answer: \n",
    "\n",
    "In most cases, `x.loc[row_pattern, col_pattern] = value` is a view\n",
    "\n",
    "`x[col][row]` is not guaranteed to be a view. \n",
    "\n",
    "Thus `x[col][row] = y` doesn't necessarily change x. "
   ]
  },
  {
   "cell_type": "code",
   "execution_count": null,
   "metadata": {},
   "outputs": [],
   "source": []
  }
 ],
 "metadata": {
  "kernelspec": {
   "display_name": "Python 3",
   "language": "python",
   "name": "python3"
  },
  "language_info": {
   "codemirror_mode": {
    "name": "ipython",
    "version": 3
   },
   "file_extension": ".py",
   "mimetype": "text/x-python",
   "name": "python",
   "nbconvert_exporter": "python",
   "pygments_lexer": "ipython3",
   "version": "3.7.0"
  }
 },
 "nbformat": 4,
 "nbformat_minor": 2
}

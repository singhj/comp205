{
 "cells": [
  {
   "cell_type": "markdown",
   "metadata": {},
   "source": [
    "# 10,000 foot view\n",
    "\n",
    "* A class is a set of conditions on an object. \n",
    "* An instance of a class is an object satisfying the conditions. \n",
    "\n",
    "What these things mean: \n",
    "* Methods are requirements. To be a class, you need these methods. \n",
    "* Data are requirements. \n",
    "\n",
    "Class hierarchy: \n",
    "* A subclass of a class is another class with more conditions. \n",
    "* A superclass has less conditions.\n",
    "\n"
   ]
  },
  {
   "cell_type": "code",
   "execution_count": 12,
   "metadata": {},
   "outputs": [
    {
     "name": "stdout",
     "output_type": "stream",
     "text": [
      "Alva Couch, 161 College Avenue\n",
      "Homer Simpson, Springfield, MA (7815551212)\n"
     ]
    }
   ],
   "source": [
    "class Addr():\n",
    "    name = None\n",
    "    addr = None\n",
    "\n",
    "    def __init__(self, n, a):\n",
    "        self.name = n\n",
    "        self.addr = a\n",
    "\n",
    "    def __str__(self):\n",
    "        return \"{}, {}\".format(self.name, self.addr)\n",
    "\n",
    "\n",
    "class BookEntry(Addr):\n",
    "    phone = None\n",
    "    def __init__(self, n, a, p):\n",
    "        super(BookEntry, self).__init__(n,a)\n",
    "        # Addr.__init__(super(BookEntry, self), n, a)\n",
    "        self.phone = p\n",
    "\n",
    "    def __str__(self):\n",
    "        return\"{}, {} ({})\".format(self.name, self.addr, self.phone)\n",
    "\n",
    "    def __getitem__(self, index): \n",
    "        if index == 'addr':\n",
    "            return self.addr\n",
    "        if index == 'name': \n",
    "            return self.name\n",
    "        if index == 'phone':\n",
    "            return self.phone\n",
    "a = Addr(\"Alva Couch\", \"161 College Avenue\")\n",
    "print(a)\n",
    "b = BookEntry(\"Homer Simpson\", \"Springfield, MA\", \"7815551212\")\n",
    "print(b)"
   ]
  },
  {
   "cell_type": "code",
   "execution_count": 4,
   "metadata": {},
   "outputs": [
    {
     "data": {
      "text/plain": [
       "True"
      ]
     },
     "execution_count": 4,
     "metadata": {},
     "output_type": "execute_result"
    }
   ],
   "source": [
    "isinstance(a, Addr)"
   ]
  },
  {
   "cell_type": "code",
   "execution_count": 5,
   "metadata": {},
   "outputs": [
    {
     "data": {
      "text/plain": [
       "True"
      ]
     },
     "execution_count": 5,
     "metadata": {},
     "output_type": "execute_result"
    }
   ],
   "source": [
    "isinstance(b, BookEntry)"
   ]
  },
  {
   "cell_type": "code",
   "execution_count": 7,
   "metadata": {},
   "outputs": [
    {
     "data": {
      "text/plain": [
       "True"
      ]
     },
     "execution_count": 7,
     "metadata": {},
     "output_type": "execute_result"
    }
   ],
   "source": [
    "isinstance(b, Addr)"
   ]
  },
  {
   "cell_type": "code",
   "execution_count": 10,
   "metadata": {},
   "outputs": [
    {
     "data": {
      "text/plain": [
       "'Homer Simpson, Springfield, MA'"
      ]
     },
     "execution_count": 10,
     "metadata": {},
     "output_type": "execute_result"
    }
   ],
   "source": [
    "super(BookEntry, b).__str__()"
   ]
  },
  {
   "cell_type": "markdown",
   "metadata": {},
   "source": [
    "# Super is not an instance of the superclass. \n",
    "\n",
    "It's a dirty hack. It copies methods that we need from the superclass into a new temporary space and then allows them to be called. \n"
   ]
  }
 ],
 "metadata": {
  "kernelspec": {
   "display_name": "Python 3",
   "language": "python",
   "name": "python3"
  },
  "language_info": {
   "codemirror_mode": {
    "name": "ipython",
    "version": 3
   },
   "file_extension": ".py",
   "mimetype": "text/x-python",
   "name": "python",
   "nbconvert_exporter": "python",
   "pygments_lexer": "ipython3",
   "version": "3.7.0"
  }
 },
 "nbformat": 4,
 "nbformat_minor": 2
}

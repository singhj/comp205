{
 "cells": [
  {
   "cell_type": "markdown",
   "metadata": {},
   "source": [
    "Q: how do references to frames work? "
   ]
  },
  {
   "cell_type": "code",
   "execution_count": 1,
   "metadata": {},
   "outputs": [
    {
     "data": {
      "text/plain": [
       "{'pet': ['cat', 'dog'], 'number': [10, 20]}"
      ]
     },
     "execution_count": 1,
     "metadata": {},
     "output_type": "execute_result"
    }
   ],
   "source": [
    "frame = { 'pet' : ['cat', 'dog'], 'number': [10,20] }\n",
    "frame"
   ]
  },
  {
   "cell_type": "code",
   "execution_count": 2,
   "metadata": {},
   "outputs": [
    {
     "name": "stdout",
     "output_type": "stream",
     "text": [
      "pet\n",
      "number\n"
     ]
    }
   ],
   "source": [
    "for i in frame: \n",
    "    print(i)"
   ]
  },
  {
   "cell_type": "code",
   "execution_count": 7,
   "metadata": {},
   "outputs": [
    {
     "name": "stdout",
     "output_type": "stream",
     "text": [
      "pet: ['cat', 'dog']\n",
      "number: [10, 20]\n"
     ]
    }
   ],
   "source": [
    "for i in frame: \n",
    "    print(\"{}: {}\".format(i, frame[i]))"
   ]
  },
  {
   "cell_type": "code",
   "execution_count": 8,
   "metadata": {},
   "outputs": [
    {
     "name": "stdout",
     "output_type": "stream",
     "text": [
      "['cat', 'dog']\n",
      "[10, 20]\n"
     ]
    }
   ],
   "source": [
    "for i in frame: \n",
    "    print(frame[i])"
   ]
  },
  {
   "cell_type": "code",
   "execution_count": 9,
   "metadata": {},
   "outputs": [
    {
     "name": "stdout",
     "output_type": "stream",
     "text": [
      "['cat', 'dog']\n",
      "[10, 20]\n"
     ]
    }
   ],
   "source": [
    "for i in frame: \n",
    "    column = frame[i]\n",
    "    print(column)"
   ]
  },
  {
   "cell_type": "code",
   "execution_count": 11,
   "metadata": {},
   "outputs": [
    {
     "name": "stdout",
     "output_type": "stream",
     "text": [
      "cat\n",
      "10\n"
     ]
    }
   ],
   "source": [
    "for i in frame: \n",
    "    column = frame[i]\n",
    "    print(column[0])"
   ]
  },
  {
   "cell_type": "code",
   "execution_count": 13,
   "metadata": {},
   "outputs": [
    {
     "name": "stdout",
     "output_type": "stream",
     "text": [
      "['cat', 'dog']\n",
      "cat\n",
      "dog\n",
      "[10, 20]\n",
      "10\n",
      "20\n"
     ]
    }
   ],
   "source": [
    "for i in frame: \n",
    "    column = frame[i]\n",
    "    print(column)\n",
    "    for c in column: \n",
    "        print(c)"
   ]
  },
  {
   "cell_type": "code",
   "execution_count": 15,
   "metadata": {},
   "outputs": [
    {
     "name": "stdout",
     "output_type": "stream",
     "text": [
      "pet\n",
      "['cat', 'dog']\n",
      "length=2\n",
      "cat\n",
      "dog\n",
      "number\n",
      "[10, 20]\n",
      "length=2\n",
      "10\n",
      "20\n"
     ]
    }
   ],
   "source": [
    "for i in frame: \n",
    "    print(i)\n",
    "    column = frame[i]\n",
    "    print(column)\n",
    "    length = len(column)\n",
    "    print(\"length={}\".format(length))\n",
    "    for i in range(length):\n",
    "        print(column[i])"
   ]
  },
  {
   "cell_type": "code",
   "execution_count": 20,
   "metadata": {},
   "outputs": [
    {
     "name": "stdout",
     "output_type": "stream",
     "text": [
      "length=2\n",
      "cat\n",
      "10\n",
      "dog\n",
      "20\n"
     ]
    }
   ],
   "source": [
    "# you may assume that columns have the same length. \n",
    "column = frame['pet']\n",
    "length = len(column)\n",
    "print(\"length={}\".format(length))  \n",
    "for row in range(length):\n",
    "    for index in frame: \n",
    "        column = frame[index]\n",
    "        print(column[row])       "
   ]
  },
  {
   "cell_type": "code",
   "execution_count": 24,
   "metadata": {},
   "outputs": [
    {
     "name": "stdout",
     "output_type": "stream",
     "text": [
      "hello Frank\n"
     ]
    }
   ],
   "source": [
    "class Act(): \n",
    "    name = 'Alva'\n",
    "    @property\n",
    "    def hello(radish): \n",
    "        print(\"hello {}\".format(radish.name))\n",
    "a = Act()\n",
    "a.name = 'Frank'\n",
    "a.hello\n"
   ]
  },
  {
   "cell_type": "markdown",
   "metadata": {},
   "source": [
    "# some comments about names\n",
    "\n",
    "In a function, \n",
    "\n",
    "1. names that aren't mentioned before are local. \n",
    "2. local variables get deleted after function ends. \n",
    "3. The only way to influence a class variable is to use the first parameter. "
   ]
  },
  {
   "cell_type": "code",
   "execution_count": 26,
   "metadata": {},
   "outputs": [
    {
     "name": "stdout",
     "output_type": "stream",
     "text": [
      "hello Frank\n",
      "hello Frank\n"
     ]
    }
   ],
   "source": [
    "class Act(): \n",
    "    name = 'Alva'\n",
    "\n",
    "    def hello(radish): \n",
    "        print(\"hello {}\".format(radish.name))\n",
    "        \n",
    "    def set(foo, bar): \n",
    "        name = bar  # a local variable\n",
    "    \n",
    "a = Act()\n",
    "a.name = 'Frank'\n",
    "a.hello()\n",
    "a.set(\"Rupert\")  # doesn't change anything. \n",
    "a.hello()"
   ]
  },
  {
   "cell_type": "markdown",
   "metadata": {},
   "source": [
    "# a summary of the concepts unique to python\n",
    "\n",
    "* mutability\n",
    "* interables"
   ]
  },
  {
   "cell_type": "code",
   "execution_count": 30,
   "metadata": {},
   "outputs": [
    {
     "name": "stdout",
     "output_type": "stream",
     "text": [
      "foo={'goldie', 'lassie', 'snoopy', 'morris'}\n",
      "bar={'goldie', 'lassie', 'snoopy', 'morris'}\n"
     ]
    }
   ],
   "source": [
    "# Let's create something that is mutable. \n",
    "foo =  { 'morris', 'snoopy', 'goldie', 'lassie' }\n",
    "bar = foo\n",
    "print(\"foo={}\".format(foo))\n",
    "print(\"bar={}\".format(bar))\n"
   ]
  },
  {
   "cell_type": "code",
   "execution_count": 31,
   "metadata": {},
   "outputs": [
    {
     "name": "stdout",
     "output_type": "stream",
     "text": [
      "foo={'morris', 'goldie', 'snoopy', 'pinky', 'lassie'}\n",
      "bar={'morris', 'goldie', 'snoopy', 'pinky', 'lassie'}\n"
     ]
    }
   ],
   "source": [
    "bar.add('pinky')\n",
    "print(\"foo={}\".format(foo))\n",
    "print(\"bar={}\".format(bar))"
   ]
  },
  {
   "cell_type": "code",
   "execution_count": 33,
   "metadata": {},
   "outputs": [
    {
     "name": "stdout",
     "output_type": "stream",
     "text": [
      "foo={'morris', 'goldie', 'snoopy', 'pinky', 'lassie'}\n",
      "bar={'goldie', 'bruff', 'snoopy', 'pinky', 'lassie', 'morris'}\n"
     ]
    }
   ],
   "source": [
    "bar = set(foo)  # shallow copy\n",
    "bar.add('bruff')\n",
    "print(\"foo={}\".format(foo))\n",
    "print(\"bar={}\".format(bar))"
   ]
  },
  {
   "cell_type": "code",
   "execution_count": 35,
   "metadata": {},
   "outputs": [
    {
     "name": "stdout",
     "output_type": "stream",
     "text": [
      "cat=['cats', ['are', 'a'], 'blast']\n",
      "dog=['cats', ['are', 'a'], 'blast']\n",
      "cat=['cats', ['are', 'a', 'real'], 'blast']\n",
      "dog=['cats', ['are', 'a', 'real'], 'blast']\n"
     ]
    }
   ],
   "source": [
    "# what is shallow? \n",
    "cat = ['cats', ['are', 'a'], 'blast']\n",
    "dog = list(cat)  # shallow copy. \n",
    "print(\"cat={}\".format(cat))\n",
    "print(\"dog={}\".format(dog))\n",
    "cat[1].append('real')\n",
    "print(\"cat={}\".format(cat))\n",
    "print(\"dog={}\".format(dog))"
   ]
  },
  {
   "cell_type": "code",
   "execution_count": 42,
   "metadata": {},
   "outputs": [
    {
     "name": "stdout",
     "output_type": "stream",
     "text": [
      "j\n",
      "t\n",
      "h\n",
      "i\n",
      "s\n",
      " \n",
      "i\n",
      "s\n",
      " \n",
      "a\n",
      " \n",
      "j\n",
      "e\n",
      "s\n",
      "t\n",
      "jest=this is a jest\n",
      "pest=this is a pest\n"
     ]
    }
   ],
   "source": [
    "jest = \"this is a jest\"\n",
    "print(jest[10])\n",
    "for c in jest: \n",
    "    print(c)\n",
    "# jest[10] = 'p'  # will cause crash\n",
    "pest = jest.replace('j', 'p')\n",
    "print(\"jest={}\".format(jest))  # this doesn't change\n",
    "print(\"pest={}\".format(pest))  # this changes"
   ]
  },
  {
   "cell_type": "markdown",
   "metadata": {},
   "source": [
    "# memory management\n",
    "There is a fundamental difference between memory management in C/C++ and in languages such as Java, Python, Lisp, ML, Erlang, .... \n",
    "\n",
    "| C/C++ | Python | \n",
    "|-------|--------|\n",
    "| malloc | no malloc, things created when needed. |\n",
    "| new | no new; class construction is just class_name(args) |\n",
    "| free | no free; the memory is recovered by garbage collection |\n",
    "\n",
    "Garbage collection requires variable descriptors: \n",
    "* for every value, there is a bit that describes whether it's used. \n",
    "* If that bit is True, then it's preserved. \n",
    "* If that bit becomes False, it's freed. \n",
    "* A bit becomes false when the last reference to the thing is destroyed/freed. \n",
    "* This is usually done via reference counts. \n",
    "\n",
    "Reference counts: \n",
    "* keep a count, for every value, of how many times it's referenced. \n",
    "* when there's a new reference, add 1\n",
    "* when a reference is destroyed, subtract 1. \n",
    "* when the count is zero, mark for recovery"
   ]
  },
  {
   "cell_type": "code",
   "execution_count": 43,
   "metadata": {},
   "outputs": [],
   "source": [
    "foo = [1, 2, 3]  # reference count is 1\n",
    "bar = foo        # reference count is 2\n",
    "bar = None       # reference count is 1\n",
    "foo = 42         # reference count to [1,2,3] is 0 -> recovered. \n",
    "\n",
    "foo = [1, 2, 3]  # reference count 1\n",
    "bar = [1, 2, 3]  # different object, reference count 1"
   ]
  },
  {
   "cell_type": "markdown",
   "metadata": {},
   "source": [
    "# why classes are important\n",
    "\n",
    "1. you can file data along with the functions that are needed to work with it. \n",
    "2. you don't have to explicitly list class attributes as arguments. \n",
    "3. you can define very powerful operations on class data with rather simple calling syntax. \n",
    "\n",
    "Ex.: `DataFrame` is a class that allows one to very simply compute a new column as a function of several existing columns of a table. You don't need iteration, for loops, intermediate variables, etc. \n",
    "\n",
    "Most data scientists deal with classes, at a higher level of abstraction than the primitive types list, set, dict, etc. Classes can emit these types, upon request, but they keep their implementations secret. This is a form of \"information hiding\". It's not to make your life difficult, but instead, to determine what you need to remember. \n",
    "\n"
   ]
  },
  {
   "cell_type": "markdown",
   "metadata": {},
   "source": [
    "# Mission of the course\n",
    "(Or, why I have the audacity to think this fits into 6 weeks) \n",
    "\n",
    "Primary mission: \n",
    "* give you enough exposure that you can succeed in subsequent data science courses. \n",
    "* in particular, give you facility with a specific set of extremely common data analysis workflow tasks. \n",
    "* and the ability to add and remove steps without error. \n",
    "* In this, the **big problem** is data cleaning and formatting. \"Data wrangling\". This can take significant programming, before data can even enter the standard machine learning workflows. \n",
    "* By contrast, the output stages of a data science workflow are much better determined. \n",
    "* So, I will be spending more time on data preparation than on output generation, though it is much, much easier to invoke visualizations than to prepare data! "
   ]
  },
  {
   "cell_type": "markdown",
   "metadata": {},
   "source": [
    "# Details on the whole data science program. \n",
    "For the undergraduate program, see\n",
    "https://docs.google.com/document/d/1q8GjBb2uQkZGkrMFp_C39coy6pJbSrvBfzy0diiRtdw/edit\n",
    "and I will write an MS program guide later this summer; it starts Sept 1. \n",
    "\n",
    "This course is a prerequisite for \n",
    "* COMP 135 Machine Learning\n",
    "* COMP 136 Statistical Machine Learning\n",
    "* COMP 137 Deep Learning\n",
    "* COMP 138 Reinforcement Learning"
   ]
  }
 ],
 "metadata": {
  "kernelspec": {
   "display_name": "Python 3",
   "language": "python",
   "name": "python3"
  },
  "language_info": {
   "codemirror_mode": {
    "name": "ipython",
    "version": 3
   },
   "file_extension": ".py",
   "mimetype": "text/x-python",
   "name": "python",
   "nbconvert_exporter": "python",
   "pygments_lexer": "ipython3",
   "version": "3.7.0"
  }
 },
 "nbformat": 4,
 "nbformat_minor": 2
}

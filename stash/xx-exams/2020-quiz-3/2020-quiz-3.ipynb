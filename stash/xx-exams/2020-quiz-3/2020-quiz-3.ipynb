{
 "cells": [
  {
   "cell_type": "markdown",
   "metadata": {},
   "source": [
    "# COMP 205: Quiz 3\n",
    "## Fall 2020\n",
    "\n",
    "This quiz is take-home, the perfect type for the age of Covid! Please enter your answers into this workbook in the places provided. This is an open-Internet examination. You may use any books and materials, and the entire internet -- as well as all of the class workbooks and examples -- in answering these questions. You may not communicate with _other people_ in completing this workbook. \n",
    "\n",
    "Please enter your answers into this notebook in the places provided. You will need to create extra cells in the workbook to explain your reasoning in support of your answers. Please make sure that your \"final answer\" for each question is in the place marked for that purpose. \n",
    "\n",
    "There are 6 questions totalling 100 points. Please note\n",
    "\n",
    "1. These questions vary greatly in difficulty. Point value does not indicate difficulty. \n",
    "1. In general, your answers will be tested against different data than you see in the workbook.\n",
    "1. The \"correctness\" of your answer includes criteria such as readability, comments, PEP-8 compliance.\n",
    "Please note that in general, your code should work for all data having the same overall form as in the examples. \n",
    "\n",
    "<span style=\"color:red\">Please do not share this workbook with others until after the exam window is closed on 12/3/20 at midnight. Also, please sign the last cell of this notebook before submitting.</span>\n",
    "\n",
    "The next cell has some boilerplate imports. You may need additional imports for solving the problems in this quiz."
   ]
  },
  {
   "cell_type": "code",
   "execution_count": null,
   "metadata": {},
   "outputs": [],
   "source": [
    "import matplotlib.pyplot as plt\n",
    "plt.style.use('classic')\n",
    "%matplotlib inline\n",
    "import numpy as np\n",
    "import pandas as pd\n",
    "import datetime\n",
    "import seaborn as sns\n",
    "sns.set()"
   ]
  },
  {
   "cell_type": "markdown",
   "metadata": {},
   "source": [
    "### 1. Divorce Case Study\n",
    "\n",
    "A group of researchers asked 54 questions each from research subjects about their relationships. Each question was scored on a 5-point scale (recorded as digits 0 &ndash; 4). A final attribute 'Class' was used to record whether the relationship later ended in a divorce. The dataset [is available](https://archive.ics.uci.edu/ml/datasets/Divorce+Predictors+data+set#) in divorce.csv and is included here for your convenience."
   ]
  },
  {
   "cell_type": "markdown",
   "metadata": {},
   "source": [
    "Based on the data you are to create a K-neighbors classifier with 7 neighbors.\n",
    "\n",
    "Six additional subjects answered the same questions and their answers are recorded in the following variables:\n",
    "<span style=\"font-size:75%;\">\n",
    "\n",
    "s<sub>1</sub> = [4, 0, 1, 2, 4, 0, 4, 3, 2, 2, 0, 1, 4, 0, 0, 1, 1, 2, 2, 1, 2, 4, 1, 3, 0, 1, 1, 4, 1, 0, 0, 1, 2, 2, 0, 1, 1, 4, 0, 0, 2, 4, 1, 1, 0, 3, 0, 0, 1, 0, 4, 3, 0, 2]\n",
    "<br/>\n",
    "s<sub>2</sub> = [3, 0, 2, 2, 3, 1, 3, 4, 0, 4, 0, 1, 1, 2, 1, 3, 0, 4, 3, 4, 2, 1, 0, 1, 0, 4, 0, 2, 3, 2, 4, 3, 4, 1, 1, 2, 4, 1, 4, 4, 0, 3, 1, 1, 2, 4, 2, 3, 3, 4, 4, 1, 2, 4]\n",
    "<br/>\n",
    "s<sub>3</sub> = [1, 2, 2, 4, 4, 3, 2, 2, 2, 1, 3, 1, 1, 0, 3, 2, 4, 0, 4, 3, 0, 4, 1, 3, 0, 2, 2, 4, 1, 0, 1, 0, 3, 3, 1, 2, 1, 3, 1, 1, 3, 1, 2, 4, 4, 0, 2, 3, 3, 3, 3, 1, 2, 1]\n",
    "<br/>\n",
    "s<sub>4</sub> = [0, 2, 3, 0, 4, 0, 1, 1, 1, 4, 1, 3, 0, 3, 3, 3, 0, 1, 0, 3, 2, 0, 1, 0, 4, 2, 0, 2, 0, 0, 2, 4, 2, 3, 4, 0, 1, 1, 0, 0, 0, 1, 1, 2, 4, 3, 4, 1, 2, 4, 3, 1, 0, 2]\n",
    "<br/>\n",
    "s<sub>5</sub> = [4, 0, 4, 2, 2, 1, 2, 0, 1, 4, 0, 0, 0, 4, 0, 0, 0, 4, 0, 0, 2, 1, 4, 0, 3, 1, 0, 0, 2, 0, 4, 0, 2, 2, 4, 1, 2, 3, 2, 2, 0, 2, 0, 4, 1, 1, 4, 1, 1, 3, 2, 3, 3, 1]\n",
    "<br/>\n",
    "s<sub>6</sub> = [3, 0, 3, 3, 0, 1, 0, 0, 2, 1, 3, 3, 1, 0, 2, 2, 1, 1, 0, 0, 2, 3, 4, 0, 3, 2, 3, 4, 2, 0, 3, 2, 1, 2, 3, 3, 2, 0, 0, 3, 1, 2, 4, 2, 0, 1, 3, 3, 1, 0, 2, 3, 2, 1]\n",
    "</span>\n",
    "\n",
    "Using the classifier, predict how the subjects' relationship is likely to fare.\n",
    "\n",
    "We aren't told whether class=0 or class=1 predicts divorce but a comment in the paper tells that _Of the participants, 84 (49%) were divorced and 86 (51%) were married couples._ Based on this information, which of the subjects s<sub>1</sub> &hellip; s<sub>6</sub> are likely to end up divorced?"
   ]
  },
  {
   "cell_type": "markdown",
   "metadata": {},
   "source": [
    "### 2. NYC Weather chart\n",
    "The file `NYC_weather.csv` contains weather data for NYC for a 2+ year period starting January 1, 2016.\n",
    "Snow fall is indicated by the column SNOW and snow depth is SNWD.\n",
    "\n",
    "Draw the line plots of snow fall and snow depth for the _first 90 days of each year_. In other words, for example, the snow falls on 2/14/16, 2/14/17 and 2/14/18 will overlap on the x axis. It doesn't snow so much in NYC, the chances that there would be overlapping peaks around the same period are pretty slim.\n",
    "\n",
    "Your figure should be 15&times;8 in size."
   ]
  },
  {
   "cell_type": "code",
   "execution_count": null,
   "metadata": {},
   "outputs": [],
   "source": [
    "nyc_weather = pd.read_csv('NYC_weather.csv')"
   ]
  },
  {
   "cell_type": "markdown",
   "metadata": {},
   "source": [
    "### The shapes of the plots\n",
    "\n",
    "The snow fall lines have sharp rises and falls. However, the snow depth lines go up shortly after snow falls but come down more gradually. What was the longest time period when there was snow on the ground? Visual inspection of the line chart is enough, you don't need to run analyze the data to discover it precisely."
   ]
  },
  {
   "cell_type": "markdown",
   "metadata": {},
   "source": [
    "### 3. The Iris data can be obtained as shown below"
   ]
  },
  {
   "cell_type": "code",
   "execution_count": null,
   "metadata": {},
   "outputs": [],
   "source": [
    "iris = sns.load_dataset(\"iris\")"
   ]
  },
  {
   "cell_type": "markdown",
   "metadata": {},
   "source": [
    "### Pair plots\n",
    "\n",
    "When you generalize joint plots to datasets of larger dimensions, you end up with *pair plots*. \n",
    "This is very useful for exploring correlations between multidimensional data, \n",
    "when you'd like to plot all pairs of values against each other."
   ]
  },
  {
   "cell_type": "markdown",
   "metadata": {},
   "source": [
    "### 4. Separation\n",
    "\n",
    "Which of the following is true:\n",
    "1. A single attribute (`petal_length`) can be used to tell setosa from the other two species.\n",
    "1. Either `petal_length` or `petal_width` can be used to tell setosa from the other two species. \n",
    "Hint: the pair plot is too small to discern visually, use `pandas.groupby()` to examine the `min` and `max` values of each attribute.\n",
    "1. The pair plots bleed into each other for versicolor and virginica, we can not get a clean visual separation and have to rely on a classification algorithm to tell them apart.\n",
    "1. Classifiers can be employed in manufacturing to separate defective parts from the good ones."
   ]
  },
  {
   "cell_type": "markdown",
   "metadata": {},
   "source": [
    "### 5. Ethics\n",
    "\n",
    "Data Science isn't just a technical discipline. It has implications for society, of which we are a part. Read the Wikipedia entry on [ethics of machine learning](https://en.wikipedia.org/wiki/Machine_learning#Ethics) and write two paragraphs (200-300 words total) about how it might apply to your work as a Data Scientist.\n",
    "\n",
    "_This is a pass-fail question. No answer will be considered wrong. However, spelling, grammar and a cogent argument are still important!_"
   ]
  },
  {
   "cell_type": "markdown",
   "metadata": {},
   "source": [
    "### 6. Quasar Intensity\n",
    "\n",
    "The US Naval Patrol's radio signals locked into a distant object and recorded the readings captured in quasar.csv.\n",
    "It turned out not to be from a celestial object at all!\n",
    "\n",
    "Fit a 7th-degree polynomial model to the data. Can you identify the curve?"
   ]
  },
  {
   "cell_type": "markdown",
   "metadata": {},
   "source": [
    "# when you have completed this quiz\n",
    "\n",
    "1. Rerun all cells from top to bottom and check that they work. Please sign the next line.\n",
    "\n",
    "2. <span style=\"color:blue\">I, **(your name)**, certify that the work in this notebook is my own. </span>\n",
    "    \n",
    "3. <span style=\"color:blue\">Further, I promise not to share or discuss the solutions until after the submission period has passed (on midnight of 10/18/20). </span>\n",
    "\n",
    "You can submit a notebook by saving it as PDF. In the cluster environment, it's File | Print (Save as PDF) and submit to Gradescope. https://www.gradescope.com/courses/182658,On other versions, it may be File | Download As (PDF) and then submit to Gradescope.\n",
    "\n",
    "To submit to Gradescope, log into the [website](https://www.gradescope.com/courses/182658), add course **9W7PW3** (if not already added) and submit. The assignment name should match the name of this notebook."
   ]
  }
 ],
 "metadata": {
  "kernelspec": {
   "display_name": "Python 3",
   "language": "python",
   "name": "python3"
  },
  "language_info": {
   "codemirror_mode": {
    "name": "ipython",
    "version": 3
   },
   "file_extension": ".py",
   "mimetype": "text/x-python",
   "name": "python",
   "nbconvert_exporter": "python",
   "pygments_lexer": "ipython3",
   "version": "3.7.4"
  }
 },
 "nbformat": 4,
 "nbformat_minor": 2
}

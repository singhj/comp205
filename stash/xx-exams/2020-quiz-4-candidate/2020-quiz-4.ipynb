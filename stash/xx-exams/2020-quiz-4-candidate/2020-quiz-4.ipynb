{
 "cells": [
  {
   "cell_type": "code",
   "execution_count": 1,
   "metadata": {},
   "outputs": [],
   "source": [
    "import pandas as pd\n",
    "%matplotlib inline\n",
    "import seaborn as sns\n",
    "sns.set()"
   ]
  },
  {
   "cell_type": "code",
   "execution_count": 2,
   "metadata": {},
   "outputs": [
    {
     "data": {
      "text/html": [
       "<div>\n",
       "<style scoped>\n",
       "    .dataframe tbody tr th:only-of-type {\n",
       "        vertical-align: middle;\n",
       "    }\n",
       "\n",
       "    .dataframe tbody tr th {\n",
       "        vertical-align: top;\n",
       "    }\n",
       "\n",
       "    .dataframe thead th {\n",
       "        text-align: right;\n",
       "    }\n",
       "</style>\n",
       "<table border=\"1\" class=\"dataframe\">\n",
       "  <thead>\n",
       "    <tr style=\"text-align: right;\">\n",
       "      <th></th>\n",
       "      <th>city_name</th>\n",
       "      <th>date_time</th>\n",
       "      <th>percent_congestion</th>\n",
       "    </tr>\n",
       "  </thead>\n",
       "  <tbody>\n",
       "    <tr>\n",
       "      <th>0</th>\n",
       "      <td>Atlanta</td>\n",
       "      <td>2020-02-01 00:00:00</td>\n",
       "      <td>30.460718</td>\n",
       "    </tr>\n",
       "    <tr>\n",
       "      <th>1</th>\n",
       "      <td>Chicago</td>\n",
       "      <td>2020-02-01 00:00:00</td>\n",
       "      <td>36.178131</td>\n",
       "    </tr>\n",
       "    <tr>\n",
       "      <th>2</th>\n",
       "      <td>Seattle</td>\n",
       "      <td>2020-02-01 00:00:00</td>\n",
       "      <td>38.936387</td>\n",
       "    </tr>\n",
       "    <tr>\n",
       "      <th>3</th>\n",
       "      <td>New York</td>\n",
       "      <td>2020-02-01 00:00:00</td>\n",
       "      <td>27.678312</td>\n",
       "    </tr>\n",
       "    <tr>\n",
       "      <th>4</th>\n",
       "      <td>Washington</td>\n",
       "      <td>2020-02-01 00:00:00</td>\n",
       "      <td>42.123832</td>\n",
       "    </tr>\n",
       "    <tr>\n",
       "      <th>...</th>\n",
       "      <td>...</td>\n",
       "      <td>...</td>\n",
       "      <td>...</td>\n",
       "    </tr>\n",
       "    <tr>\n",
       "      <th>55056</th>\n",
       "      <td>New York</td>\n",
       "      <td>2020-10-31 23:00:00</td>\n",
       "      <td>26.503009</td>\n",
       "    </tr>\n",
       "    <tr>\n",
       "      <th>55057</th>\n",
       "      <td>Washington</td>\n",
       "      <td>2020-10-31 23:00:00</td>\n",
       "      <td>31.188206</td>\n",
       "    </tr>\n",
       "    <tr>\n",
       "      <th>55058</th>\n",
       "      <td>Los Angeles</td>\n",
       "      <td>2020-10-31 23:00:00</td>\n",
       "      <td>17.981481</td>\n",
       "    </tr>\n",
       "    <tr>\n",
       "      <th>55059</th>\n",
       "      <td>San Francisco</td>\n",
       "      <td>2020-10-31 23:00:00</td>\n",
       "      <td>21.267049</td>\n",
       "    </tr>\n",
       "    <tr>\n",
       "      <th>55060</th>\n",
       "      <td>Ciudad de México</td>\n",
       "      <td>2020-10-31 23:00:00</td>\n",
       "      <td>31.044864</td>\n",
       "    </tr>\n",
       "  </tbody>\n",
       "</table>\n",
       "<p>55061 rows × 3 columns</p>\n",
       "</div>"
      ],
      "text/plain": [
       "              city_name            date_time  percent_congestion\n",
       "0               Atlanta  2020-02-01 00:00:00           30.460718\n",
       "1               Chicago  2020-02-01 00:00:00           36.178131\n",
       "2               Seattle  2020-02-01 00:00:00           38.936387\n",
       "3              New York  2020-02-01 00:00:00           27.678312\n",
       "4            Washington  2020-02-01 00:00:00           42.123832\n",
       "...                 ...                  ...                 ...\n",
       "55056          New York  2020-10-31 23:00:00           26.503009\n",
       "55057        Washington  2020-10-31 23:00:00           31.188206\n",
       "55058       Los Angeles  2020-10-31 23:00:00           17.981481\n",
       "55059     San Francisco  2020-10-31 23:00:00           21.267049\n",
       "55060  Ciudad de México  2020-10-31 23:00:00           31.044864\n",
       "\n",
       "[55061 rows x 3 columns]"
      ]
     },
     "execution_count": 2,
     "metadata": {},
     "output_type": "execute_result"
    }
   ],
   "source": [
    "city_cngst = pd.read_csv('city-congestion.csv')\n",
    "city_cngst"
   ]
  },
  {
   "cell_type": "markdown",
   "metadata": {},
   "source": [
    "## 0. Traffic Congestion as a function of time\n",
    "\n",
    "The code below draws a line plot of congestion in Atlanta as a function of date. There are several problems with the graph, which you are expected to fix:\n",
    "1. The graph takes about an hour to draw! For that hour, one can be in doubt about whether it is working or just hung. This is clearly unacceptable, we want it to paint in less than a minute. Carefully select samples in the data to speed up the drawing. However, we want to preserve these characteristics of the data:\n",
    "    1. The samples in the data set are uniformly distributed between 00:00 and 23:00, so should the selected samples.\n",
    "    2. \n",
    "2. "
   ]
  },
  {
   "cell_type": "code",
   "execution_count": 3,
   "metadata": {},
   "outputs": [
    {
     "data": {
      "text/plain": [
       "<matplotlib.axes._subplots.AxesSubplot at 0x7f3c2d3486d0>"
      ]
     },
     "execution_count": 3,
     "metadata": {},
     "output_type": "execute_result"
    },
    {
     "data": {
      "image/png": "[encoded data removed]",
      "text/plain": [
       "<Figure size 432x288 with 1 Axes>"
      ]
     },
     "metadata": {},
     "output_type": "display_data"
    }
   ],
   "source": [
    "atlanta = city_cngst[city_cngst['city_name'] =='Atlanta']\n",
    "noprint = sns.lineplot(x = 'date_time', y = 'percent_congestion', data = atlanta)"
   ]
  }
 ],
 "metadata": {
  "kernelspec": {
   "display_name": "Python 3",
   "language": "python",
   "name": "python3"
  },
  "language_info": {
   "codemirror_mode": {
    "name": "ipython",
    "version": 3
   },
   "file_extension": ".py",
   "mimetype": "text/x-python",
   "name": "python",
   "nbconvert_exporter": "python",
   "pygments_lexer": "ipython3",
   "version": "3.8.3"
  }
 },
 "nbformat": 4,
 "nbformat_minor": 4
}

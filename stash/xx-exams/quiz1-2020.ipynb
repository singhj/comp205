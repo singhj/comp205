{
 "cells": [
  {
   "cell_type": "markdown",
   "metadata": {},
   "source": [
    "# COMP 205: Quiz 1\n",
    "## Fall 2020\n",
    "\n",
    "This midterm exam is take-home, the perfect type for the age of Covid! Please enter your answers into this workbook in the places provided. This is an open-Internet examination. You may use any books and materials, and the entire internet -- as well as all of the class workbooks and examples -- in answering these questions. You may not communicate with _other people_ in completing this workbook. \n",
    "\n",
    "<span style=\"color:red\">Please do not share this workbook with others until after the exam window is closed on Sunday night. Also, please sign the last cell of this notebook before submitting.</span>\n",
    "\n",
    "There are 10 questions. Each is worth 10 points. Please note\n",
    "1. In general, your answers will be tested against different data than you see in the workbook.\n",
    "1. The \"correctness\" of your answer includes criteria such as readability, comments, PEP-8 compliance."
   ]
  },
  {
   "cell_type": "markdown",
   "metadata": {},
   "source": [
    "### 1. Consider the structure: "
   ]
  },
  {
   "cell_type": "code",
   "execution_count": null,
   "metadata": {},
   "outputs": [],
   "source": [
    "foo = { 'a': ['you', 'are', 'here'], 'b': ('we', 'are', 'there')}"
   ]
  },
  {
   "cell_type": "markdown",
   "metadata": {},
   "source": [
    "Write expressions of `foo` that equal the string`'we'`, only using `foo` and use of `[...]` to locate values.  "
   ]
  },
  {
   "cell_type": "code",
   "execution_count": null,
   "metadata": {},
   "outputs": [],
   "source": [
    "# your answer: \n",
    "foo..."
   ]
  },
  {
   "cell_type": "markdown",
   "metadata": {},
   "source": [
    "### 2. Consider the file hamlet.txt...\n",
    "First print it."
   ]
  },
  {
   "cell_type": "code",
   "execution_count": null,
   "metadata": {},
   "outputs": [],
   "source": [
    "%pycat hamlet.txt"
   ]
  },
  {
   "cell_type": "markdown",
   "metadata": {},
   "source": [
    "Then write a function `file_to_lofl(filename)` to read an input file and create a _list of lists of data_ structure, also known as `lofl`.\n",
    "\n",
    "Calling `file_to_lofl('hamlet.txt')` should return `[['to', 'be', 'or'], ['not', 'to', 'be']]`"
   ]
  },
  {
   "cell_type": "code",
   "execution_count": null,
   "metadata": {},
   "outputs": [],
   "source": [
    "def file_to_lofl(filename):\n",
    "    # ... fill in details\n",
    "    f = open(filename, 'r')\n",
    "    ..."
   ]
  },
  {
   "cell_type": "code",
   "execution_count": null,
   "metadata": {},
   "outputs": [],
   "source": [
    "word_lofl = file_to_lofl('hamlet.txt')\n",
    "word_lofl  "
   ]
  },
  {
   "cell_type": "markdown",
   "metadata": {},
   "source": [
    "### 3. Write a function locate_word...\n",
    "to find, respectively, the row and column pairs of all occurrences of a given word in lofl. If the word does not exist in the lofl, it should return an empty list."
   ]
  },
  {
   "cell_type": "code",
   "execution_count": null,
   "metadata": {},
   "outputs": [],
   "source": [
    "def locate_word(lofl, word_to_find):\n",
    "    ...\n",
    "\n",
    "for word in ('be', 'not', 'foo'):\n",
    "    print(locate_word(word_lofl, word))"
   ]
  },
  {
   "cell_type": "markdown",
   "metadata": {},
   "source": [
    "### 4. Write a class `School`... \n",
    "that represents information about a school and contains attributes 'name', 'addr', 'phone' and 'students'. Printing an instance should print name, address, phone, students. `School(name, address, phone, students)` should create a School. This should work on the example below. "
   ]
  },
  {
   "cell_type": "code",
   "execution_count": null,
   "metadata": {},
   "outputs": [],
   "source": [
    "class School(): \n",
    "    # fill in details ... \n",
    "    def __init__(self, name, addr, phone, students):\n",
    "        ...\n",
    "        \n",
    "    def __str__(self):\n",
    "        return '\\n'.join([self.name, self.addr, self.phone, 'Students: ' + str(self.students)])"
   ]
  },
  {
   "cell_type": "code",
   "execution_count": null,
   "metadata": {},
   "outputs": [],
   "source": [
    "tufts = School(\"Tufts University\", \"Medford, MA 02155\", \"617-628-5000\", \"11,586\") \n",
    "print(tufts)\n",
    "\n",
    "# This example should print (without the leading '# ' on each line): \n",
    "# Tufts University\n",
    "# Medford, MA 02155\n",
    "# 617-628-5000\n",
    "# Students: 11,586"
   ]
  },
  {
   "cell_type": "markdown",
   "metadata": {},
   "source": [
    "### 5. Create records for some local universities, ...\n",
    "add them to a list and...\n",
    "```\n",
    "harvard = School(\"Harvard University\", \"Massachusetts Hall\\nCambridge, MA 02138\", \"617-495-1000\", '36,012') \n",
    "mit = School(\"MIT\", \"77 Massachusetts Avenue\\nCambridge, MA 02139\", \"617-253-1000\", '11254')\n",
    "bu = School(\"Boston University\", \"One Silber Way\\nBoston, MA 02215\", \"617-353-2000\", \"34,589\")\n",
    "bc = School(\"Boston College\", \"140 Commonwealth Avenue\\nChestnut Hill, MA 02467\", \"617-552-8000\", '14,600')\n",
    "\n",
    "boston_schools = [tufts, bu, bc, harvard, mit]\n",
    "```"
   ]
  },
  {
   "cell_type": "markdown",
   "metadata": {},
   "source": [
    "###  ... find the number of students in the Boston area.\n",
    "\n",
    "Write a function `sum_students` that prints the sum of all student counts. It should convert strings to numbers where appropriate, and also deal with commas (as in 14,600). It should return the answer as a string with thousands separators, i.e., 108,041. _Hint: format(1000000, \",\") returns '1,000,000'_"
   ]
  },
  {
   "cell_type": "code",
   "execution_count": null,
   "metadata": {},
   "outputs": [],
   "source": [
    "# fill in details ... \n",
    "def sum_students(schools):\n",
    "    ..."
   ]
  },
  {
   "cell_type": "code",
   "execution_count": null,
   "metadata": {},
   "outputs": [],
   "source": [
    "sum_students(boston_schools)  # should return '108,041'"
   ]
  },
  {
   "cell_type": "markdown",
   "metadata": {},
   "source": [
    "### 6. Write a function `modify_tuple` that...\n",
    "changes element n of a tuple t to a new value x and returns the new tuple. Hint: *tuples aren't mutable.* You need to construct a new one! "
   ]
  },
  {
   "cell_type": "code",
   "execution_count": null,
   "metadata": {},
   "outputs": [],
   "source": [
    "# fill in details ... \n",
    "def modify_tuple(t, i, x):\n",
    "#    return ..."
   ]
  },
  {
   "cell_type": "code",
   "execution_count": null,
   "metadata": {},
   "outputs": [],
   "source": [
    "modify_tuple((1,2,3), 1, 'yo!')  # should return (1, 'yo!', 3)"
   ]
  },
  {
   "cell_type": "markdown",
   "metadata": {},
   "source": [
    "### 7. An *index* for a list is a...\n",
    "`dict` that allows each item position in the list to be looked up based upon its value. The index maps strings to list element numbers. Write a function `generate_index` that generates an index from a list of strings. Hint: use `range(len(ind))`."
   ]
  },
  {
   "cell_type": "code",
   "execution_count": null,
   "metadata": {},
   "outputs": [],
   "source": [
    "# fill in details ...\n",
    "def generate_index(ind): \n",
    "    ..."
   ]
  },
  {
   "cell_type": "code",
   "execution_count": null,
   "metadata": {},
   "outputs": [],
   "source": [
    "# test on this example\n",
    "generate_index(['alva', 'frank', 'george'])  # This should return {'alva': 0, 'frank': 1, 'george': 2}"
   ]
  },
  {
   "cell_type": "markdown",
   "metadata": {},
   "source": [
    "### 8. Back to lofls...\n",
    "A \"list of lists of data\" is a common data type in data science. Given a list containing lists of equal length, write a function `get_row` that takes this \"list of lists\" and a number, and generates the tuple of items at position n in each list. The example below should work: "
   ]
  },
  {
   "cell_type": "code",
   "execution_count": null,
   "metadata": {},
   "outputs": [],
   "source": [
    "# fill in details ...\n",
    "def get_row(lofl, n):\n",
    "    return ..."
   ]
  },
  {
   "cell_type": "code",
   "execution_count": null,
   "metadata": {},
   "outputs": [],
   "source": [
    "# Test on this example\n",
    "get_row([[1,2,3], ['washington', 'adams', 'jefferson'], [29,40,1]],1)  # should print (2, 'adams', 40)"
   ]
  },
  {
   "cell_type": "markdown",
   "metadata": {},
   "source": [
    "### 9. Say `z = (3, 7, 4, 2)`. \n",
    "What will `print(z[-4:-1])` print? Explain how you arrived at your answer, *without* executing the cell.\n",
    "\n",
    "___Your answer:___\n",
    "\n"
   ]
  },
  {
   "cell_type": "markdown",
   "metadata": {},
   "source": [
    "### 10. In a short paragraph, explain when to use a tuple versus a list. "
   ]
  },
  {
   "cell_type": "markdown",
   "metadata": {},
   "source": [
    "___Your answer:___\n",
    "\n"
   ]
  },
  {
   "cell_type": "markdown",
   "metadata": {},
   "source": [
    "# when you have completed this exercise\n",
    "\n",
    "1. Rerun all cells from top to bottom and check that they work. Please sign the next line.\n",
    "\n",
    "2. <span style=\"color:blue\">I, **(your name)**, certify that the work in this notebook is my own. </span>\n",
    "    \n",
    "3. <span style=\"color:blue\">Further, I promise not to share or discuss the solutions until after the submission period has passed (on midnight of 10/18/20). </span>\n",
    "\n",
    "You can submit a notebook by saving it as PDF. In the cluster environment, it's File | Print (Save as PDF) and submit to Gradescope. https://www.gradescope.com/courses/182658,On other versions, it may be File | Download As (PDF) and then submit to Gradescope.\n",
    "\n",
    "To submit to Gradescope, log into the [website](https://www.gradescope.com/courses/182658), add course **9W7PW3** (if not already added) and submit. The assignment name should match the name of this notebook."
   ]
  }
 ],
 "metadata": {
  "kernelspec": {
   "display_name": "Python 3",
   "language": "python",
   "name": "python3"
  },
  "language_info": {
   "codemirror_mode": {
    "name": "ipython",
    "version": 3
   },
   "file_extension": ".py",
   "mimetype": "text/x-python",
   "name": "python",
   "nbconvert_exporter": "python",
   "pygments_lexer": "ipython3",
   "version": "3.7.4"
  }
 },
 "nbformat": 4,
 "nbformat_minor": 4
}

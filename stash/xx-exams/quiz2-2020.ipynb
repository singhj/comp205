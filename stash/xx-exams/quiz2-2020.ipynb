{
 "cells": [
  {
   "cell_type": "markdown",
   "metadata": {},
   "source": [
    "# COMP 205: Quiz 2\n",
    "## Fall 2020\n",
    "\n",
    "This quiz is take-home, the perfect type for the age of Covid! Please enter your answers into this workbook in the places provided. This is an open-Internet examination. You may use any books and materials, and the entire internet -- as well as all of the class workbooks and examples -- in answering these questions. You may not communicate with _other people_ in completing this workbook. \n",
    "\n",
    "Please enter your answers into this workbook in the places provided. You will need to create extra cells in the workbook to explain your reasoning in support of your answers. Please make sure that your \"final answer\" for each question is in the place marked for that purpose. \n",
    "\n",
    "There are 10 questions. Each is worth 10 points. Please note\n",
    "\n",
    "1. These questions vary greatly in difficulty. Point value does not indicate difficulty. \n",
    "1. In general, your answers will be tested against different data than you see in the workbook.\n",
    "1. The \"correctness\" of your answer includes criteria such as readability, comments, PEP-8 compliance.\n",
    "Please note that in general, your code should work for all data having the same overall form as in the examples. \n",
    "\n",
    "<span style=\"color:red\">Please do not share this workbook with others until after the exam window is closed on Sunday night. Also, please sign the last cell of this notebook before submitting.</span>\n",
    "\n"
   ]
  },
  {
   "cell_type": "markdown",
   "metadata": {},
   "source": [
    "___Your answer:___\n",
    "\n",
    "--- \n",
    "\n",
    "---\n",
    "\n",
    "---"
   ]
  },
  {
   "cell_type": "markdown",
   "metadata": {},
   "source": [
    "### Problem 1\n",
    "\n",
    "The next cell downloads the iris dataset into your notebook, just run it."
   ]
  },
  {
   "cell_type": "code",
   "execution_count": null,
   "metadata": {},
   "outputs": [],
   "source": [
    "import numpy as np\n",
    "from sklearn import datasets\n",
    "iris = datasets.load_iris()\n",
    "iris_2d = iris['data']"
   ]
  },
  {
   "cell_type": "markdown",
   "metadata": {},
   "source": [
    "Write an expression for `condition` so as to filter the rows of iris_2d that has petallength (3rd column) >= 1.5 and sepallength (1st column) < 5.0"
   ]
  },
  {
   "cell_type": "code",
   "execution_count": null,
   "metadata": {},
   "outputs": [],
   "source": [
    "condition = ...\n",
    "iris_2d[condition]"
   ]
  },
  {
   "cell_type": "markdown",
   "metadata": {},
   "source": [
    "### Problem 2\n",
    "\n",
    "Load the data in `divorce.csv` into a dataframe. Technically, it does not contain \"comma-separated values.\" (the separator is semi-colon) but we call it a `csv` file anyway.\n",
    "\n",
    "The file has a number of attributes as columns, presumably answers to survey questions, followed by a `Class` which indicates whether or not the participants eventually divorced.\n",
    "\n",
    "Your task is to normalize and scale the data using Scikit's `StandardScaler`"
   ]
  },
  {
   "cell_type": "code",
   "execution_count": null,
   "metadata": {},
   "outputs": [],
   "source": [
    "from sklearn.preprocessing import StandardScaler\n",
    "import pandas as pd\n",
    "\n",
    "divorce = # Fill In\n",
    "scaler = StandardScaler()\n",
    "pd.DataFrame(scaler.fit_transform(divorce.to_numpy()), dtype='float32', columns=list(divorce))"
   ]
  },
  {
   "cell_type": "markdown",
   "metadata": {},
   "source": [
    "Find the correlation between `Class` and each of the attributes. Which attribute *by itself* is a predictor of divorce?\n",
    "\n",
    "**Hint:** The function `np.corrcoef` can be used to find the correlation between two columns. For example, \n",
    "\n",
    "```\n",
    "np.corrcoef(data[:, 0], data[:, 2])[0, 1] \n",
    "```\n",
    "\n",
    "returns the correlation between the 1st column and the 3rd column. The results should be of the form shown below, though the correlation values shown are not real, _they are for illustration only._\n",
    "\n",
    "```\n",
    "1 -0.01387966267785501\n",
    "2 0.032361001774926956\n",
    "3 0.3820632143188447\n",
    ". . .\n",
    "9 0.5346040379913426\n",
    "10 0.7990333389497359\n",
    "\n",
    "```"
   ]
  },
  {
   "cell_type": "markdown",
   "metadata": {},
   "source": [
    "### Problem 3\n",
    "Consider the `DataFrame` `df` defined as in the next cell. Define a `DataFrame` `two_or_more_dogs` consisting of the rows of `df` in which two or more dogs are listed."
   ]
  },
  {
   "cell_type": "code",
   "execution_count": null,
   "metadata": {},
   "outputs": [],
   "source": [
    "import pandas as pd\n",
    "import numpy as np\n",
    "df = pd.DataFrame({\n",
    "    'name': ['alan', 'barb', 'cam', 'deb', 'eliot'],\n",
    "    'cats': [1, 0, 3, 0, 0],\n",
    "    'dogs': [0, 1, 2, 3, 1]\n",
    "})\n",
    "df"
   ]
  },
  {
   "cell_type": "markdown",
   "metadata": {},
   "source": [
    "### Problem 4\n",
    "Is your expression a `view`? Why or why not? \n",
    "\n",
    "**Your answer:**\n",
    "\n",
    "---\n",
    "\n",
    "---"
   ]
  },
  {
   "cell_type": "markdown",
   "metadata": {},
   "source": [
    "### Problem 5 \n",
    "Define an `array` `numeric` consisting of the numeric data from `df`, that works no matter how many rows `df` has. This should return `array([1,0], [0,1], [3,2], [0,1])` for the above example.\n",
    "Hint: This is the transpose of what you would get via converting the `DataFrame` straightforwardly. "
   ]
  },
  {
   "cell_type": "code",
   "execution_count": null,
   "metadata": {},
   "outputs": [],
   "source": [
    "# Your answer: \n",
    "numeric = ...\n",
    "numeric"
   ]
  },
  {
   "cell_type": "markdown",
   "metadata": {},
   "source": [
    "Consider the data: "
   ]
  },
  {
   "cell_type": "code",
   "execution_count": null,
   "metadata": {},
   "outputs": [],
   "source": [
    "df2 = pd.DataFrame({\n",
    "    'name': ['alan', 'cate'],\n",
    "    'ferrets': [2, 3],\n",
    "})\n",
    "#df2"
   ]
  },
  {
   "cell_type": "markdown",
   "metadata": {},
   "source": [
    "### Problem 6\n",
    "Merge `df` and `df2` to get a total description of the pets of all mentioned people. People should be present from both tables. A person not listed in a table is assumed to have 0 pets of those kinds. This should work regardless of the number of rows in the two `DataFrames`. *Hint: watch out for special values in the result and replace them with 0's when they appear. This is a multi-step process.*"
   ]
  },
  {
   "cell_type": "code",
   "execution_count": null,
   "metadata": {},
   "outputs": [],
   "source": [
    "# Your answer \n",
    "pets = ...\n",
    "pets"
   ]
  },
  {
   "cell_type": "markdown",
   "metadata": {},
   "source": [
    "### Problem 7\n",
    "Consider the `array`:"
   ]
  },
  {
   "cell_type": "code",
   "execution_count": null,
   "metadata": {},
   "outputs": [],
   "source": [
    "data = np.random.rand(4,3)\n",
    "data"
   ]
  },
  {
   "cell_type": "markdown",
   "metadata": {},
   "source": [
    "Define `norm1` as an expression of `data`, but with the mean of each column subtracted from the column so that the resulting mean is zero.  Hint: use broadcasting. "
   ]
  },
  {
   "cell_type": "code",
   "execution_count": null,
   "metadata": {},
   "outputs": [],
   "source": [
    "# Your answer:\n",
    "norm1 = ...\n",
    "norm1"
   ]
  },
  {
   "cell_type": "markdown",
   "metadata": {},
   "source": [
    "### Problem 8\n",
    "Define `norm2` from `data` by only normalizing the third column and leaving the others alone. Hint: subtracting zero does nothing. "
   ]
  },
  {
   "cell_type": "code",
   "execution_count": null,
   "metadata": {},
   "outputs": [],
   "source": [
    "# Your answer: \n",
    "norm2 = ...\n",
    "norm2"
   ]
  },
  {
   "cell_type": "markdown",
   "metadata": {},
   "source": [
    "### Problem 7\n",
    "Consider the file bears.csv.\n",
    "\n",
    "Read this into a DataFrame bears, preserving row and column labels from the file. Hint: declare an index. Again, this should work regardless of the rows in bears.csv."
   ]
  },
  {
   "cell_type": "code",
   "execution_count": null,
   "metadata": {},
   "outputs": [],
   "source": [
    "%more bears.csv"
   ]
  },
  {
   "cell_type": "code",
   "execution_count": null,
   "metadata": {},
   "outputs": [],
   "source": [
    "# Your answer: \n",
    "bears = ...\n",
    "bears"
   ]
  },
  {
   "cell_type": "markdown",
   "metadata": {},
   "source": [
    "### Problem 8\n",
    "\n",
    "Given a pandas DataFrame df"
   ]
  },
  {
   "cell_type": "code",
   "execution_count": null,
   "metadata": {},
   "outputs": [],
   "source": [
    "df = pd.DataFrame(np.arange(20).reshape(4, 5), columns=list('abcde'))\n",
    "df"
   ]
  },
  {
   "cell_type": "markdown",
   "metadata": {},
   "source": [
    "1. Interchange columns `'b'` and `'d'` to obtain `df2`\n",
    "2. Interchange rows 1 and 2 in `df2` to obtain `df3` ([Hint](https://stackoverflow.com/questions/46890972/swapping-rows-within-the-same-pandas-dataframe)).\n",
    "3. After `df3` was obtained, did `df2`'s value change? What does your answer indicate about `df2` and `df3`?\n",
    "\n",
    "**Your answer:**\n",
    "\n",
    "---\n",
    "\n",
    "---\n",
    "\n",
    "---"
   ]
  },
  {
   "cell_type": "markdown",
   "metadata": {},
   "source": [
    "### Problems 9 & 10\n",
    "\n",
    "Run the following 4 cells, then answer the questions after"
   ]
  },
  {
   "cell_type": "code",
   "execution_count": null,
   "metadata": {},
   "outputs": [],
   "source": [
    "df4 = pd.DataFrame(np.arange(9).reshape(3, 3), columns=list('abc')) # Line 1\n",
    "df4['rows'] = list('ijk')                                           # Line 2\n",
    "df5 = df4.set_index('rows')                                         # Line 3\n",
    "df6 = df5                                                           # Line 4\n",
    "df7 = df6[['a', 'b', 'c']]                                          # Line 5\n",
    "df5.loc['j':'j', 'b':'b'] = 42                                      # Line 6"
   ]
  },
  {
   "cell_type": "code",
   "execution_count": null,
   "metadata": {},
   "outputs": [],
   "source": [
    "df5"
   ]
  },
  {
   "cell_type": "code",
   "execution_count": null,
   "metadata": {},
   "outputs": [],
   "source": [
    "df6"
   ]
  },
  {
   "cell_type": "code",
   "execution_count": null,
   "metadata": {},
   "outputs": [],
   "source": [
    "df7"
   ]
  },
  {
   "cell_type": "markdown",
   "metadata": {},
   "source": [
    "### Problem 9 question\n",
    "\n",
    "Even though `df6` is created in line 4, _before_ any elements of `df5` are set to 42, why do we see a 42 in `df6`?\n",
    "\n",
    "**Your answer:**\n",
    "\n",
    "---\n",
    "\n",
    "---"
   ]
  },
  {
   "cell_type": "markdown",
   "metadata": {},
   "source": [
    "### Problem 10 question\n",
    "\n",
    "How do you explain the difference between `df6` and `df7`?\n",
    "\n",
    "**Your answer:**\n",
    "\n",
    "---\n",
    "\n",
    "---"
   ]
  },
  {
   "cell_type": "markdown",
   "metadata": {},
   "source": [
    "# when you have completed this exercise\n",
    "\n",
    "1. Rerun all cells from top to bottom and check that they work. Please sign the next line.\n",
    "\n",
    "2. <span style=\"color:blue\">I, **(your name)**, certify that the work in this notebook is my own. </span>\n",
    "    \n",
    "3. <span style=\"color:blue\">Further, I promise not to share or discuss the solutions until after the submission period has passed (on midnight of 10/18/20). </span>\n",
    "\n",
    "You can submit a notebook by saving it as PDF. In the cluster environment, it's File | Print (Save as PDF) and submit to Gradescope. https://www.gradescope.com/courses/182658,On other versions, it may be File | Download As (PDF) and then submit to Gradescope.\n",
    "\n",
    "To submit to Gradescope, log into the [website](https://www.gradescope.com/courses/182658), add course **9W7PW3** (if not already added) and submit. The assignment name should match the name of this notebook."
   ]
  },
  {
   "cell_type": "markdown",
   "metadata": {},
   "source": [
    "# Good luck!"
   ]
  }
 ],
 "metadata": {
  "kernelspec": {
   "display_name": "Python 3",
   "language": "python",
   "name": "python3"
  },
  "language_info": {
   "codemirror_mode": {
    "name": "ipython",
    "version": 3
   },
   "file_extension": ".py",
   "mimetype": "text/x-python",
   "name": "python",
   "nbconvert_exporter": "python",
   "pygments_lexer": "ipython3",
   "version": "3.8.3"
  }
 },
 "nbformat": 4,
 "nbformat_minor": 4
}

{
 "cells": [
  {
   "cell_type": "markdown",
   "metadata": {},
   "source": [
    "# News Stream Analysis\n",
    "\n",
    "This case study seeks to read a news RSS feed and process the headlines are they arrive!\n",
    "\n",
    "To begin, uncomment the next cell and run it to install `feedparser` using pip. You need only do it once (but doing it more than once won't hurt anything). Run the next cell."
   ]
  },
  {
   "cell_type": "code",
   "execution_count": 15,
   "metadata": {},
   "outputs": [],
   "source": [
    "# !pip install feedparser"
   ]
  },
  {
   "cell_type": "code",
   "execution_count": 13,
   "metadata": {},
   "outputs": [],
   "source": [
    "# This code is given to you. Nothing to do\n",
    "import sys\n",
    "import feedparser, time, datetime\n",
    "import pandas as pd\n",
    "\n",
    "class Feed:\n",
    "    name = ''\n",
    "    url = None\n",
    "    max_delay = None\n",
    "    def __init__(self, name, url, max_delay):\n",
    "        self.name = name\n",
    "        self.url  = url\n",
    "        self.max_delay = max_delay\n",
    "\n",
    "    def __str__(self):\n",
    "        return '%s: %s' % (self.name, self.url)\n",
    "\n",
    "    def getHeadline(self):\n",
    "        d = feedparser.parse (self.url)\n",
    "        for post in d.entries:\n",
    "            time.sleep(0.25)\n",
    "            ret = (datetime.datetime.now().time(), self.name, post.title, post.link)\n",
    "            yield ret\n",
    "\n",
    "# This code is given to you. Nothing to do\n",
    "feeds = (\n",
    "    Feed('nyt-home', 'https://rss.nytimes.com/services/xml/rss/nyt/HomePage.xml', 1),\n",
    "    Feed('nyt-sun', 'https://rss.nytimes.com/services/xml/rss/nyt/sunday-review.xml', 1),\n",
    "    Feed('nyt-hlth', 'https://rss.nytimes.com/services/xml/rss/nyt/Health.xml', 1),\n",
    "    Feed('nyt-wrld', 'https://www.nytimes.com/section/world/rss.xml', 1),\n",
    "    Feed('nyt-bsns', 'http://feeds.nytimes.com/nyt/rss/Business', 1),\n",
    "    Feed('nyt-tech', 'http://feeds.nytimes.com/nyt/rss/Technology', 1),\n",
    "    Feed('nyt-sprt', 'https://rss.nytimes.com/services/xml/rss/nyt/Sports.xml', 1),\n",
    "    Feed('nyt-scnc', 'http://www.nytimes.com/services/xml/rss/nyt/Science.xml', 1),\n",
    "    Feed('nyt-arts', 'https://rss.nytimes.com/services/xml/rss/nyt/Arts.xml', 1),\n",
    "    Feed('nyt-trvl', 'https://rss.nytimes.com/services/xml/rss/nyt/Travel.xml', 1),\n",
    "    Feed('nyt-usa',  'http://www.nytimes.com/services/xml/rss/nyt/US.xml', 1),\n",
    "    Feed('bbc-hlth', 'http://feeds.bbci.co.uk/news/health/rss.xml', 1),\n",
    "    Feed('bbc-brkn', 'https://bbcbreakingnews.com/feed', 1),\n",
    "    Feed('bbc-bsns', 'http://feeds.bbci.co.uk/news/business/rss.xml', 1),\n",
    "    Feed('bbc-pltc', 'http://feeds.bbci.co.uk/news/politics/rss.xml', 1),\n",
    "    Feed('bbc-educ', 'http://feeds.bbci.co.uk/news/education/rss.xml', 1),\n",
    "    Feed('bbc-scnc', 'http://feeds.bbci.co.uk/news/science_and_environment/rss.xml', 1),\n",
    "    Feed('bbc-tech', 'http://feeds.bbci.co.uk/news/technology/rss.xml', 1),\n",
    "    Feed('bbc-arts', 'http://feeds.bbci.co.uk/news/entertainment_and_arts/rss.xml', 1),\n",
    ")"
   ]
  },
  {
   "cell_type": "code",
   "execution_count": 14,
   "metadata": {},
   "outputs": [
    {
     "name": "stdout",
     "output_type": "stream",
     "text": [
      "Supreme Court Rejects Texas Lawsuit Challenging Biden's Victory\n",
      "Democrats and Some Republicans Applaud Supreme Court Ruling on Election Suit\n",
      "Brian Kemp Cast His Lot With Trump, and Has Now Paid the Price\n",
      "F.D.A. Clears Pfizer Vaccine, and Millions of Doses Will Be Shipped Right Away\n",
      "Covid Vaccines Are Coming. A Divided and Distrustful America Awaits.\n",
      "Giuliani Material Spurs Separate Justice Dept. of Pursuit of Hunter Biden\n",
      "Progressive Groups Urge Biden to Move Quickly on Diverse Slate of Judges\n",
      "Cuomo Suspends Indoor Dining in N.Y.C. Again\n",
      "With the Virus Surging, Arizona Teachers Protest by Calling In Sick\n",
      "After Armenia-Azerbaijan War, Trauma, Tragedy and Devastation\n",
      "FKA twigs Sues Shia LaBeouf, Citing Abusive Relationship\n",
      "Pfizer Vaccine, N.Y.C. Dining, Dionne Warwick: Your Friday Evening Briefing\n",
      "A Guide to Georgia’s Senate Runoffs\n",
      "Got a confidential news tip?\n",
      "‘The 46th’: Who Will Replace Trump in the G.O.P.’s Heart?\n",
      "Republicans Faced Trump's Loss by Embracing Nihilism\n",
      "This Blockbuster Is Coming to a Living Room Near You\n",
      "It’s Time to Scare People About Covid\n"
     ]
    },
    {
     "ename": "KeyboardInterrupt",
     "evalue": "",
     "output_type": "error",
     "traceback": [
      "\u001b[0;31m---------------------------------------------------------------------------\u001b[0m",
      "\u001b[0;31mKeyboardInterrupt\u001b[0m                         Traceback (most recent call last)",
      "\u001b[0;32m<ipython-input-14-f1cb760529e1>\u001b[0m in \u001b[0;36m<module>\u001b[0;34m\u001b[0m\n\u001b[1;32m     23\u001b[0m \u001b[0mtitles\u001b[0m \u001b[0;34m=\u001b[0m \u001b[0;34m[\u001b[0m\u001b[0;34m]\u001b[0m\u001b[0;34m\u001b[0m\u001b[0;34m\u001b[0m\u001b[0m\n\u001b[1;32m     24\u001b[0m \u001b[0;32mfor\u001b[0m \u001b[0mfeed\u001b[0m \u001b[0;32min\u001b[0m \u001b[0mfeeds\u001b[0m\u001b[0;34m:\u001b[0m\u001b[0;34m\u001b[0m\u001b[0;34m\u001b[0m\u001b[0m\n\u001b[0;32m---> 25\u001b[0;31m     \u001b[0;32mfor\u001b[0m \u001b[0;34m(\u001b[0m\u001b[0mtt\u001b[0m\u001b[0;34m,\u001b[0m \u001b[0mname\u001b[0m\u001b[0;34m,\u001b[0m \u001b[0mtitle\u001b[0m\u001b[0;34m,\u001b[0m \u001b[0mlink\u001b[0m\u001b[0;34m)\u001b[0m \u001b[0;32min\u001b[0m \u001b[0mfeed\u001b[0m\u001b[0;34m.\u001b[0m\u001b[0mgetHeadline\u001b[0m\u001b[0;34m(\u001b[0m\u001b[0;34m)\u001b[0m\u001b[0;34m:\u001b[0m\u001b[0;34m\u001b[0m\u001b[0;34m\u001b[0m\u001b[0m\n\u001b[0m\u001b[1;32m     26\u001b[0m         \u001b[0mprint\u001b[0m \u001b[0;34m(\u001b[0m\u001b[0mtitle\u001b[0m\u001b[0;34m)\u001b[0m\u001b[0;34m\u001b[0m\u001b[0;34m\u001b[0m\u001b[0m\n\u001b[1;32m     27\u001b[0m         \u001b[0msys\u001b[0m\u001b[0;34m.\u001b[0m\u001b[0mstdout\u001b[0m\u001b[0;34m.\u001b[0m\u001b[0mflush\u001b[0m\u001b[0;34m(\u001b[0m\u001b[0;34m)\u001b[0m\u001b[0;34m\u001b[0m\u001b[0;34m\u001b[0m\u001b[0m\n",
      "\u001b[0;32m<ipython-input-13-11cf67360034>\u001b[0m in \u001b[0;36mgetHeadline\u001b[0;34m(self)\u001b[0m\n\u001b[1;32m     18\u001b[0m         \u001b[0md\u001b[0m \u001b[0;34m=\u001b[0m \u001b[0mfeedparser\u001b[0m\u001b[0;34m.\u001b[0m\u001b[0mparse\u001b[0m \u001b[0;34m(\u001b[0m\u001b[0mself\u001b[0m\u001b[0;34m.\u001b[0m\u001b[0murl\u001b[0m\u001b[0;34m)\u001b[0m\u001b[0;34m\u001b[0m\u001b[0;34m\u001b[0m\u001b[0m\n\u001b[1;32m     19\u001b[0m         \u001b[0;32mfor\u001b[0m \u001b[0mpost\u001b[0m \u001b[0;32min\u001b[0m \u001b[0md\u001b[0m\u001b[0;34m.\u001b[0m\u001b[0mentries\u001b[0m\u001b[0;34m:\u001b[0m\u001b[0;34m\u001b[0m\u001b[0;34m\u001b[0m\u001b[0m\n\u001b[0;32m---> 20\u001b[0;31m             \u001b[0mtime\u001b[0m\u001b[0;34m.\u001b[0m\u001b[0msleep\u001b[0m\u001b[0;34m(\u001b[0m\u001b[0;36m0.25\u001b[0m\u001b[0;34m)\u001b[0m\u001b[0;34m\u001b[0m\u001b[0;34m\u001b[0m\u001b[0m\n\u001b[0m\u001b[1;32m     21\u001b[0m             \u001b[0mret\u001b[0m \u001b[0;34m=\u001b[0m \u001b[0;34m(\u001b[0m\u001b[0mdatetime\u001b[0m\u001b[0;34m.\u001b[0m\u001b[0mdatetime\u001b[0m\u001b[0;34m.\u001b[0m\u001b[0mnow\u001b[0m\u001b[0;34m(\u001b[0m\u001b[0;34m)\u001b[0m\u001b[0;34m.\u001b[0m\u001b[0mtime\u001b[0m\u001b[0;34m(\u001b[0m\u001b[0;34m)\u001b[0m\u001b[0;34m,\u001b[0m \u001b[0mself\u001b[0m\u001b[0;34m.\u001b[0m\u001b[0mname\u001b[0m\u001b[0;34m,\u001b[0m \u001b[0mpost\u001b[0m\u001b[0;34m.\u001b[0m\u001b[0mtitle\u001b[0m\u001b[0;34m,\u001b[0m \u001b[0mpost\u001b[0m\u001b[0;34m.\u001b[0m\u001b[0mlink\u001b[0m\u001b[0;34m)\u001b[0m\u001b[0;34m\u001b[0m\u001b[0;34m\u001b[0m\u001b[0m\n\u001b[1;32m     22\u001b[0m             \u001b[0;32myield\u001b[0m \u001b[0mret\u001b[0m\u001b[0;34m\u001b[0m\u001b[0;34m\u001b[0m\u001b[0m\n",
      "\u001b[0;31mKeyboardInterrupt\u001b[0m: "
     ]
    }
   ],
   "source": [
    "for feed in feeds:\n",
    "    for (tt, name, title, link) in feed.getHeadline():\n",
    "        print (title)\n",
    "        sys.stdout.flush()\n"
   ]
  },
  {
   "cell_type": "code",
   "execution_count": 8,
   "metadata": {
    "scrolled": true
   },
   "outputs": [
    {
     "name": "stdout",
     "output_type": "stream",
     "text": [
      "Fitting LDA models with tf features, n_samples=2000 and n_features=1000...\n",
      "done in 50.502s.\n",
      "\n",
      "Topics in LDA model:\n",
      "Topic #0: health care year insurance country pay just plan jobs small want say coverage better government security congress let believe business\n",
      "Topic #1: president senator dole ve think going lehrer let better tax mr clinton cut want don years got just said lot\n",
      "Topic #2: applause country service want seniors education national just child ve president going government today school college good health young need\n",
      "Topic #3: years let country year government children want welfare cut congress tonight working families need say tax president jobs right citizens\n",
      "Topic #4: action affirmative border women want country think opportunity today say working president going job discrimination issue ve need economic just\n",
      "Topic #5: president peace just going like don ll war ve say best economic said yes europe think financial did future office\n",
      "Topic #6: children years year ask congress tonight century support let care challenge 000 need child community want tax 21st budget nation\n",
      "Topic #7: iraq iraqi war security nations regime weapons troops terrorists forces states military peace saddam government country hussein al iraqis region\n",
      "Topic #8: freedom nation country applause security congress years iraq terrorists government great citizens terror economy year free tonight liberty women good\n",
      "Topic #9: today children say years good great day want community let country life president live job black century family just year\n",
      "\n"
     ]
    }
   ],
   "source": [
    "print(\"Fitting LDA models with tf features, \"\n",
    "      \"n_samples=%d and n_features=%d...\"\n",
    "      % (n_samples, n_features))\n",
    "lda = LatentDirichletAllocation(n_components=n_components, max_iter=5,\n",
    "                                learning_method='online',\n",
    "                                learning_offset=50.,\n",
    "                                random_state=0)\n",
    "t0 = time()\n",
    "lda.fit(tf)\n",
    "print(\"done in %0.3fs.\" % (time() - t0))\n",
    "\n",
    "print(\"\\nTopics in LDA model:\")\n",
    "tf_feature_names = tf_vectorizer.get_feature_names()\n",
    "print_top_words(lda, tf_feature_names, n_top_words)"
   ]
  },
  {
   "cell_type": "code",
   "execution_count": null,
   "metadata": {},
   "outputs": [],
   "source": []
  },
  {
   "cell_type": "code",
   "execution_count": null,
   "metadata": {},
   "outputs": [],
   "source": []
  },
  {
   "cell_type": "code",
   "execution_count": null,
   "metadata": {},
   "outputs": [],
   "source": []
  },
  {
   "cell_type": "code",
   "execution_count": null,
   "metadata": {},
   "outputs": [],
   "source": []
  },
  {
   "cell_type": "code",
   "execution_count": null,
   "metadata": {},
   "outputs": [],
   "source": []
  },
  {
   "cell_type": "code",
   "execution_count": null,
   "metadata": {},
   "outputs": [],
   "source": []
  },
  {
   "cell_type": "code",
   "execution_count": null,
   "metadata": {},
   "outputs": [],
   "source": []
  },
  {
   "cell_type": "code",
   "execution_count": null,
   "metadata": {},
   "outputs": [],
   "source": []
  },
  {
   "cell_type": "code",
   "execution_count": null,
   "metadata": {},
   "outputs": [],
   "source": []
  }
 ],
 "metadata": {
  "kernelspec": {
   "display_name": "Python 3",
   "language": "python",
   "name": "python3"
  },
  "language_info": {
   "codemirror_mode": {
    "name": "ipython",
    "version": 3
   },
   "file_extension": ".py",
   "mimetype": "text/x-python",
   "name": "python",
   "nbconvert_exporter": "python",
   "pygments_lexer": "ipython3",
   "version": "3.7.4"
  }
 },
 "nbformat": 4,
 "nbformat_minor": 2
}

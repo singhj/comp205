{
 "cells": [
  {
   "cell_type": "markdown",
   "metadata": {},
   "source": [
    "# COMP 205: Mock Midterm Examination\n",
    "## Fall 2019\n",
    "\n",
    "This exam is administered electronically. Please enter your answers into this workbook in the places provided. This is an open-Internet examination. You may use any books and materials, and the entire internet -- as well as all of the class workbooks and examples -- in answering these questions. You may not use direct communication with other *people* in completing this workbook. \n",
    "\n",
    "Please do not share this workbook with others until after the exam window is closed. \n",
    "\n",
    "There are 10 questions. Each is worth 10 points. Please note that in general, I will be testing your code against different data of the same form as in the examples. "
   ]
  },
  {
   "cell_type": "markdown",
   "metadata": {},
   "source": [
    "1. Consider the structure: "
   ]
  },
  {
   "cell_type": "code",
   "execution_count": 3,
   "metadata": {},
   "outputs": [],
   "source": [
    "bike = (('frame', (( 'color', 'lime'), ('quantity', 1))), \\\n",
    "        ('wheels', (('quantity', 2)),), \\\n",
    "        ('handlebar', (( 'color', 'metal'), ('quantity', 1))) \\\n",
    "        , )"
   ]
  },
  {
   "cell_type": "markdown",
   "metadata": {},
   "source": [
    "Write an expression for `bike` that equals the string`'metal'`, only using `bike` and use of `[...]` to locate values.  "
   ]
  },
  {
   "cell_type": "code",
   "execution_count": 7,
   "metadata": {},
   "outputs": [
    {
     "data": {
      "text/plain": [
       "'metal'"
      ]
     },
     "execution_count": 7,
     "metadata": {},
     "output_type": "execute_result"
    }
   ],
   "source": [
    "# your answer: \n",
    "bike[2][1][0][1]"
   ]
  },
  {
   "cell_type": "markdown",
   "metadata": {},
   "source": [
    "2. Consider the structure: "
   ]
  },
  {
   "cell_type": "code",
   "execution_count": null,
   "metadata": {},
   "outputs": [],
   "source": [
    "world = { 'molecules': {'protein', 'rna', 'dna'}, 'games': ('rockPaperScissors', 'hearts', 'football')}"
   ]
  },
  {
   "cell_type": "markdown",
   "metadata": {},
   "source": [
    "What type is `world['games'][2]`? "
   ]
  },
  {
   "cell_type": "markdown",
   "metadata": {},
   "source": [
    "___Your answer___:"
   ]
  },
  {
   "cell_type": "markdown",
   "metadata": {},
   "source": [
    "3. Write a function `invert` that takes one argument that is a dictionary and converts it to an inverse dictionary. It should work on the example problem below.  "
   ]
  },
  {
   "cell_type": "code",
   "execution_count": 9,
   "metadata": {},
   "outputs": [],
   "source": [
    "# fill in details ...\n",
    "def invert(dictionary): \n",
    "    mydict={}\n",
    "    keys=dictionary.keys()\n",
    "    for k in keys:\n",
    "        val=dictionary[k]\n",
    "        mydict[val]=k\n",
    "    return mydict"
   ]
  },
  {
   "cell_type": "code",
   "execution_count": 15,
   "metadata": {},
   "outputs": [],
   "source": [
    "# fill in details ...\n",
    "def invert(dictionary): \n",
    "    mydict={value:key for key,value in dictionary.items()}\n",
    "    return mydict"
   ]
  },
  {
   "cell_type": "code",
   "execution_count": 23,
   "metadata": {},
   "outputs": [],
   "source": [
    "def invert(dictionary): \n",
    "    return {value:key for key,value in dictionary.items()}"
   ]
  },
  {
   "cell_type": "code",
   "execution_count": 20,
   "metadata": {},
   "outputs": [
    {
     "data": {
      "text/plain": [
       "{1: 'a', 2: 'b', 3: 'c'}"
      ]
     },
     "execution_count": 20,
     "metadata": {},
     "output_type": "execute_result"
    }
   ],
   "source": [
    "def invert(dictionary): \n",
    "    old_key = dictionary.keys()\n",
    "    old_value = dictionary.values()\n",
    "    out = dict(zip(old_value,old_key ))    \n",
    "    return out\n",
    "out = invert({'a': 1, 'b': 2, 'c': 3})\n",
    "out"
   ]
  },
  {
   "cell_type": "code",
   "execution_count": 16,
   "metadata": {},
   "outputs": [
    {
     "data": {
      "text/plain": [
       "{'a': 1, 'b': 2, 'c': 3}"
      ]
     },
     "execution_count": 16,
     "metadata": {},
     "output_type": "execute_result"
    }
   ],
   "source": [
    "x = {'a': 1, 'b': 2, 'c': 3}\n",
    "x"
   ]
  },
  {
   "cell_type": "code",
   "execution_count": 22,
   "metadata": {},
   "outputs": [
    {
     "data": {
      "text/plain": [
       "{1: 'a', 2: 'd', 3: 'c'}"
      ]
     },
     "execution_count": 22,
     "metadata": {},
     "output_type": "execute_result"
    }
   ],
   "source": [
    "def invert(dictionary):\n",
    "    values = dictionary.keys()\n",
    "    keys = dictionary.values()\n",
    "    new_dict = {k:v for k,v in zip(keys, values)}\n",
    "    return new_dict\n",
    "out = invert({'a': 1, 'b': 2, 'c': 3})\n",
    "out\n",
    "out = invert({'a': 1, 'b': 2, 'c': 3, 'd': 2})\n",
    "out"
   ]
  },
  {
   "cell_type": "code",
   "execution_count": 17,
   "metadata": {},
   "outputs": [
    {
     "data": {
      "text/plain": [
       "{1: 'a', 2: 'b', 3: 'c'}"
      ]
     },
     "execution_count": 17,
     "metadata": {},
     "output_type": "execute_result"
    }
   ],
   "source": [
    "invert({'a': 1, 'b': 2, 'c': 3}) # should return {1: 'a', 2: 'b', 3: 'c'}"
   ]
  },
  {
   "cell_type": "markdown",
   "metadata": {},
   "source": [
    "4. Write a class `Film` that represents a movie and contains attributes 'name', 'actor', 'location'. Printing an instance should print name, address, phone. `Film(name, actor, location)` should create an Entry. This should work on the example below. "
   ]
  },
  {
   "cell_type": "code",
   "execution_count": 29,
   "metadata": {},
   "outputs": [
    {
     "name": "stdout",
     "output_type": "stream",
     "text": [
      "\"A Fish called Wanda\" starring John Cleese is set in London.\n"
     ]
    }
   ],
   "source": [
    "# fill in details ... \n",
    "class Film(): \n",
    "    name = None\n",
    "    actor = None\n",
    "    location = None\n",
    "    def __init__(self, actor, name, location, year_made):\n",
    "        self.actor = actor\n",
    "        self.name = name\n",
    "        self.location = location\n",
    "    def __str__(self):\n",
    "        return '\"{}\" starring {} is set in {}.'.format(self.name, self.actor, self.location)\n",
    "wanda = Film(name = \"A Fish called Wanda\", location = \"London\", actor = \"John Cleese\", )\n",
    "print(wanda)"
   ]
  },
  {
   "cell_type": "code",
   "execution_count": null,
   "metadata": {},
   "outputs": [],
   "source": [
    "# This example should print \n",
    "# 'A Fish called Wanda' starring John Cleese is set in London.\n",
    "wanda = Film(\"John Cleese\", \"A Fish called Wanda\", \"London\")\n",
    "print(wanda)"
   ]
  },
  {
   "cell_type": "markdown",
   "metadata": {},
   "source": [
    "5. Write a function `add_numbers` that prints the sum of numbers in a list of numbers and other items. It should convert strings to numbers where appropriate and work on the example below. Hint: use the `try: ... except: ...` pattern. "
   ]
  },
  {
   "cell_type": "code",
   "execution_count": null,
   "metadata": {},
   "outputs": [],
   "source": [
    "# The function `add_numbers` add all the things together.\n",
    "# Anything that can not be converted to a number should be considered to be zero\n",
    "# Currency values such as $44 should be converted to numbers\n",
    "def add_numbers(things):\n",
    "    answer = 0\n",
    "    for val in things:\n",
    "        answer += \n",
    "    return ..."
   ]
  },
  {
   "cell_type": "code",
   "execution_count": 32,
   "metadata": {},
   "outputs": [
    {
     "data": {
      "text/plain": [
       "\"'s are the meaning of Life\""
      ]
     },
     "execution_count": 32,
     "metadata": {},
     "output_type": "execute_result"
    }
   ],
   "source": [
    "# strip dollar signs\n",
    "def strip_dollars(str_):\n",
    "    for char in '$':\n",
    "        if char in str_:\n",
    "            str_ = str_.replace(char,'')\n",
    "    return str_\n",
    "strip_dollars('$\\'s are the meaning of $$Life')"
   ]
  },
  {
   "cell_type": "code",
   "execution_count": null,
   "metadata": {},
   "outputs": [],
   "source": [
    "[1, 'foo', '$16', 'bar', 0.5, '00.500', [0,2]]\n",
    "answer = 0\n",
    "for thing in things:\n",
    "    try:\n",
    "        answer += float(thing)\n",
    "    except:\n",
    "        if thing is str:\n",
    "            ...\n",
    "        else:\n",
    "            pass\n",
    "    return answer\n",
    "    \n",
    "    "
   ]
  },
  {
   "cell_type": "code",
   "execution_count": null,
   "metadata": {},
   "outputs": [],
   "source": [
    "# this should print 18\n",
    "add_numbers([1, 'foo', '$16', 'bar', 0.5, '00.500', [0,2]])"
   ]
  },
  {
   "cell_type": "markdown",
   "metadata": {},
   "source": [
    "6. An *index* for a list is a dict that allows each item position in the list to be looked up based upon its value. The index maps strings to list element numbers. Write a function `generate_index` that generates an index from a list of strings. Hint: use `range(len(ind))`."
   ]
  },
  {
   "cell_type": "code",
   "execution_count": null,
   "metadata": {},
   "outputs": [],
   "source": [
    "# fill in details ...\n",
    "def generate_index(ind): \n",
    "    return ..."
   ]
  },
  {
   "cell_type": "code",
   "execution_count": null,
   "metadata": {},
   "outputs": [],
   "source": [
    "# test on this example\n",
    "generate_index(['Rock', 'Paper', 'Scissors'])  # This should return {'Rock': 0, 'Paper': 1, 'Scissors': 2}"
   ]
  },
  {
   "cell_type": "markdown",
   "metadata": {},
   "source": [
    "7. A \"list of lists of data\" is a common data type in data science. Given a list containing lists of equal length, write a function `get_row` that takes this \"list of lists\" and a number, and generates the tuple of items at position n in each list. The example below should work: "
   ]
  },
  {
   "cell_type": "code",
   "execution_count": null,
   "metadata": {},
   "outputs": [],
   "source": [
    "# fill in details ...\n",
    "def get_row(lofl, n):\n",
    "    return ..."
   ]
  },
  {
   "cell_type": "code",
   "execution_count": null,
   "metadata": {},
   "outputs": [],
   "source": [
    "# Test on this example\n",
    "get_row([[1,2,3], ['Rock', 'Paper', 'Scissors'], [9,17,3]],1)  # should print (2, 'Paper', 17)"
   ]
  },
  {
   "cell_type": "markdown",
   "metadata": {},
   "source": [
    "8. write a function `double_string` that takes a string `'foobar'` and returns a new string `'foobarfoobar'`. Hint: *recall that strings aren't mutable.* You need to construct a new one! "
   ]
  },
  {
   "cell_type": "code",
   "execution_count": null,
   "metadata": {},
   "outputs": [],
   "source": [
    "# fill in details ... \n",
    "def double_string(str_):\n",
    "    return ..."
   ]
  },
  {
   "cell_type": "code",
   "execution_count": null,
   "metadata": {},
   "outputs": [],
   "source": [
    "double_string(double_string('hi '))  # should return `'hi hi hi hi '`"
   ]
  },
  {
   "cell_type": "markdown",
   "metadata": {},
   "source": [
    "9. Consider the class Emails_Sent that we have used before: "
   ]
  },
  {
   "cell_type": "code",
   "execution_count": null,
   "metadata": {},
   "outputs": [],
   "source": [
    "class Emails_Sent(): \n",
    "    sender = None\n",
    "    sendee = None\n",
    "    number = None\n",
    "    def __init__(self, p1, p2, m):\n",
    "        self.sender = p1\n",
    "        self.sendee = p2\n",
    "        self.number = m\n",
    "    def __str__(self): \n",
    "        return \"{} sent {} emails to {}\".format(self.sender, self.number, self.sendee)\n",
    "    ..."
   ]
  },
  {
   "cell_type": "markdown",
   "metadata": {},
   "source": [
    "Write a method of `Emails_Sent` called `t` that returns a tuple corresponding to the Debt. It should work as documented below: "
   ]
  },
  {
   "cell_type": "code",
   "execution_count": null,
   "metadata": {},
   "outputs": [],
   "source": [
    "# use this to test your code\n",
    "es = Emails_Sent(\"Alva\", \"George\", 123)\n",
    "es.t()  # should output ('Alva', 'George', 123)"
   ]
  },
  {
   "cell_type": "markdown",
   "metadata": {},
   "source": [
    "10. Say `z = (3, 7, 4, 2)`. What will `print(z[0:2])` print? What will `print(z[-4:-1])` print?"
   ]
  },
  {
   "cell_type": "markdown",
   "metadata": {},
   "source": [
    "___Your answer:___"
   ]
  }
 ],
 "metadata": {
  "kernelspec": {
   "display_name": "Python 3",
   "language": "python",
   "name": "python3"
  },
  "language_info": {
   "codemirror_mode": {
    "name": "ipython",
    "version": 3
   },
   "file_extension": ".py",
   "mimetype": "text/x-python",
   "name": "python",
   "nbconvert_exporter": "python",
   "pygments_lexer": "ipython3",
   "version": "3.7.4"
  }
 },
 "nbformat": 4,
 "nbformat_minor": 2
}

{
 "cells": [
  {
   "cell_type": "markdown",
   "metadata": {},
   "source": [
    "# Working with `numpy` `array`s\n",
    "There are a number of powers of numpy that are not obvious to the casual observer. \n",
    "These include advanced capabilities for data filtering, organization, etc. Let's explore those in some detail. \n",
    "\n",
    "Run the following cell to expose an accompanying video. "
   ]
  },
  {
   "cell_type": "code",
   "execution_count": 1,
   "metadata": {},
   "outputs": [
    {
     "data": {
      "text/html": [
       "<h1>Kilroy was here!</h1>"
      ],
      "text/plain": [
       "<IPython.core.display.HTML object>"
      ]
     },
     "metadata": {},
     "output_type": "display_data"
    }
   ],
   "source": [
    "%%html\n",
    "<h1>Kilroy was here!</h1>"
   ]
  },
  {
   "cell_type": "markdown",
   "metadata": {},
   "source": [
    "# Working with `numpy` `array`s\n",
    "\n",
    "`numpy` has incredible powers in working with arrays. \"For loops\" are more or less obsolete and there are very creative ways to accomplish common tasks with data. Let's go through some of these in detail. \n",
    "\n",
    "# data filtering\n",
    "Some aspects of numpy are fairly bizarre. For example, consider the data filtering problem that we had before: remove values < 0. To accomplish that in `numpy`, do the following: "
   ]
  },
  {
   "cell_type": "code",
   "execution_count": 2,
   "metadata": {},
   "outputs": [
    {
     "data": {
      "text/plain": [
       "array([ True,  True,  True, False,  True, False,  True,  True])"
      ]
     },
     "execution_count": 2,
     "metadata": {},
     "output_type": "execute_result"
    }
   ],
   "source": [
    "import numpy as np\n",
    "data = [1,2,3,-2,3,-1,5,6]\n",
    "x = np.array(data)\n",
    "flags = x>= 0\n",
    "flags"
   ]
  },
  {
   "cell_type": "code",
   "execution_count": 3,
   "metadata": {},
   "outputs": [
    {
     "data": {
      "text/plain": [
       "array([1, 2, 3, 3, 5, 6])"
      ]
     },
     "execution_count": 3,
     "metadata": {},
     "output_type": "execute_result"
    }
   ],
   "source": [
    "# Now we use that to filter a list\n",
    "x[flags]"
   ]
  },
  {
   "cell_type": "markdown",
   "metadata": {},
   "source": [
    "# Extreme power! \n",
    "The array takes an \"index\" that is an array of True and False, and uses it as a filter! \n",
    "\n",
    "Thus, we don't need \"for loops\" for filtering any more! \n",
    "\n",
    "# Some broken metaphors\n",
    "\n",
    "You are no doubt used to creating x[i] for i an integer. \n",
    "But *Python is polymorphic* and it is reasonable to define x[i] for i not an integer. In fact, i can be a list of True/False values! \n",
    "\n",
    "So let's just smash and burn the idea that i is an integer. \n",
    "\n",
    "# An advanced aside: how that's done\n",
    "\n",
    "The following is *truly sick:* "
   ]
  },
  {
   "cell_type": "code",
   "execution_count": 4,
   "metadata": {},
   "outputs": [
    {
     "name": "stdout",
     "output_type": "stream",
     "text": [
      "hi ho\n"
     ]
    }
   ],
   "source": [
    "class foo():\n",
    "    def __getitem__(self, key): \n",
    "        if key == 1: \n",
    "            return \"hi\"\n",
    "        else: \n",
    "            return \"ho\"\n",
    "bar = foo()\n",
    "print(bar[1], bar[0])"
   ]
  },
  {
   "cell_type": "markdown",
   "metadata": {},
   "source": [
    "*I defined what [...] means for a class!* There are pages and pages of documentation of `__some_reserved_name__` methods you can define to make class instances jump through hoops!"
   ]
  },
  {
   "cell_type": "markdown",
   "metadata": {},
   "source": [
    "# The Array constructor\n",
    "\n",
    "First, the array() constructor has many more arguments than the initial list, and can construct arrays with many kinds of specific properties. You might find this tutorial helpful (it repeats some of the material we had on basic data types): http://cs231n.github.io/python-numpy-tutorial/\n"
   ]
  },
  {
   "cell_type": "code",
   "execution_count": null,
   "metadata": {},
   "outputs": [],
   "source": []
  }
 ],
 "metadata": {
  "kernelspec": {
   "display_name": "Python 3",
   "language": "python",
   "name": "python3"
  },
  "language_info": {
   "codemirror_mode": {
    "name": "ipython",
    "version": 3
   },
   "file_extension": ".py",
   "mimetype": "text/x-python",
   "name": "python",
   "nbconvert_exporter": "python",
   "pygments_lexer": "ipython3",
   "version": "3.7.0"
  }
 },
 "nbformat": 4,
 "nbformat_minor": 2
}

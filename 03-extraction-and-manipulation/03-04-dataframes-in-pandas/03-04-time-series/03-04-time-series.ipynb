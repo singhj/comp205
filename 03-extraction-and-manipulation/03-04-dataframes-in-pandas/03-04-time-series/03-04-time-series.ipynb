{
 "cells": [
  {
   "cell_type": "markdown",
   "metadata": {},
   "source": [
    "# Time series\n",
    "\n",
    "* One of the great powers of *Pandas* is handling time series. \n",
    "* A \"time series\" is a structure in which time is an index. \n",
    "* The *Pandas* abstraction `Series` was invented -- as a generalization of `numpy.ndarray` -- specifically to handle time-based indexing. \n",
    "* Time series are important in all kinds of forecasting, both as input and output to forecasting algorithms. \n",
    "\n",
    "# Special treatment of time series in *Pandas*\n",
    "* Enhanced parsing of dates and times from CSV files. \n",
    "* Ability to use time as an index. \n",
    "\n",
    "# Times, dates, and datetimes\n",
    "* One thing to get used to is how Python conceives of time. \n",
    "* The basic structure of time measurement is a \"datetime\". \n",
    "* This is a concatenation of a date and a time. \n",
    "* Dates are also meaningful, separately from Datetime. \n",
    "* Times -- independent from dates -- are not of interest in data analysis. \n",
    "\n",
    "# Getting used to datetimes\n",
    "* Let's get used to datetimes by measuring the current time of day: "
   ]
  },
  {
   "cell_type": "code",
   "execution_count": 1,
   "metadata": {},
   "outputs": [
    {
     "name": "stdout",
     "output_type": "stream",
     "text": [
      "2019-06-13 11:24:23.640783\n"
     ]
    }
   ],
   "source": [
    "from datetime import datetime\n",
    "print(datetime.now())"
   ]
  },
  {
   "cell_type": "markdown",
   "metadata": {},
   "source": [
    "# Notes on now()\n",
    "* Reported in timezone of server. \n",
    "* At system clock resolution. \n",
    "* Roughly the same as reported on other servers. \n",
    "* Times are synchronized nationwide via the \"Network Time Protocol\" (NTP).\n",
    "\n",
    "# Problems with time\n",
    "* Many different formats with some ambiguities. \n",
    "  \n",
    " * `year-month-date` versus \n",
    " * `month/date/year` versus \n",
    " * `date/month/year`. \n",
    "\n",
    "* Data leaves out any component that isn't important to the study: \n",
    "  \n",
    " * `year-month-date hour:minute:second` or \n",
    " * `year-month-date` or\n",
    " * `year-month` or just \n",
    " * `year`\n",
    " \n",
    " \n",
    " # How *Pandas* deals with datetimes\n",
    " 1. Parse the whole file before interpreting dates. \n",
    " 2. Look for evidence of each pattern in all dates contained in the file. \n",
    " 3. Rule out options until one is left. \n",
    " \n",
    " # Determining which date option to use\n",
    " * If I see `6-30-2019`, I know it's `month-day-year`, because `day-month-year` and `year-month-day` are impossible dates! \n",
    " * Likewise, if I see `2019-6-30`, I know it's `year-month-day`. \n",
    " * There are difficult cases: `6-6-2019` could be `month-day-year` or `day-month-year`.\n",
    " * Thus, *Pandas uses evidence from the whole file* to determine which parsing mechanism to use. \n",
    " \n",
    " # Here's an example: "
   ]
  },
  {
   "cell_type": "code",
   "execution_count": 2,
   "metadata": {},
   "outputs": [],
   "source": [
    "%more date1.csv"
   ]
  },
  {
   "cell_type": "code",
   "execution_count": 3,
   "metadata": {},
   "outputs": [
    {
     "data": {
      "text/html": [
       "<div>\n",
       "<style scoped>\n",
       "    .dataframe tbody tr th:only-of-type {\n",
       "        vertical-align: middle;\n",
       "    }\n",
       "\n",
       "    .dataframe tbody tr th {\n",
       "        vertical-align: top;\n",
       "    }\n",
       "\n",
       "    .dataframe thead th {\n",
       "        text-align: right;\n",
       "    }\n",
       "</style>\n",
       "<table border=\"1\" class=\"dataframe\">\n",
       "  <thead>\n",
       "    <tr style=\"text-align: right;\">\n",
       "      <th></th>\n",
       "      <th>event</th>\n",
       "      <th>person</th>\n",
       "    </tr>\n",
       "    <tr>\n",
       "      <th>date</th>\n",
       "      <th></th>\n",
       "      <th></th>\n",
       "    </tr>\n",
       "  </thead>\n",
       "  <tbody>\n",
       "    <tr>\n",
       "      <th>2018-06-20 20:30:40</th>\n",
       "      <td>first version</td>\n",
       "      <td>alva</td>\n",
       "    </tr>\n",
       "    <tr>\n",
       "      <th>2019-06-21 10:40:00</th>\n",
       "      <td>second version</td>\n",
       "      <td>george</td>\n",
       "    </tr>\n",
       "    <tr>\n",
       "      <th>2019-06-22 08:40:00</th>\n",
       "      <td>first release</td>\n",
       "      <td>alva</td>\n",
       "    </tr>\n",
       "  </tbody>\n",
       "</table>\n",
       "</div>"
      ],
      "text/plain": [
       "                              event  person\n",
       "date                                       \n",
       "2018-06-20 20:30:40   first version    alva\n",
       "2019-06-21 10:40:00  second version  george\n",
       "2019-06-22 08:40:00   first release    alva"
      ]
     },
     "execution_count": 3,
     "metadata": {},
     "output_type": "execute_result"
    }
   ],
   "source": [
    "import pandas as pd\n",
    "date1 = pd.read_csv('date1.csv', header=0, parse_dates=[0], index_col=0)\n",
    "date1"
   ]
  },
  {
   "cell_type": "markdown",
   "metadata": {},
   "source": [
    "## Let's take this apart: \n",
    "* `header=0`: read headings from first row. \n",
    "* `parse_dates=[0]`: first column is a datetime. \n",
    "* `index_col=0`: use first column as index.\n",
    "* (It is typical that the index of a time series would be a datetime.)\n",
    "\n",
    "## Things to note\n",
    "* The format changed to the canonical internal format. \n",
    "\n",
    "# Querying using datetimes\n",
    "* Obviously, you can query using a datetime.\n",
    "* Consider:"
   ]
  },
  {
   "cell_type": "code",
   "execution_count": 4,
   "metadata": {
    "scrolled": false
   },
   "outputs": [
    {
     "data": {
      "text/html": [
       "<div>\n",
       "<style scoped>\n",
       "    .dataframe tbody tr th:only-of-type {\n",
       "        vertical-align: middle;\n",
       "    }\n",
       "\n",
       "    .dataframe tbody tr th {\n",
       "        vertical-align: top;\n",
       "    }\n",
       "\n",
       "    .dataframe thead th {\n",
       "        text-align: right;\n",
       "    }\n",
       "</style>\n",
       "<table border=\"1\" class=\"dataframe\">\n",
       "  <thead>\n",
       "    <tr style=\"text-align: right;\">\n",
       "      <th></th>\n",
       "      <th>event</th>\n",
       "      <th>person</th>\n",
       "    </tr>\n",
       "    <tr>\n",
       "      <th>date</th>\n",
       "      <th></th>\n",
       "      <th></th>\n",
       "    </tr>\n",
       "  </thead>\n",
       "  <tbody>\n",
       "    <tr>\n",
       "      <th>2019-06-22 08:40:00</th>\n",
       "      <td>first release</td>\n",
       "      <td>alva</td>\n",
       "    </tr>\n",
       "  </tbody>\n",
       "</table>\n",
       "</div>"
      ],
      "text/plain": [
       "                             event person\n",
       "date                                     \n",
       "2019-06-22 08:40:00  first release   alva"
      ]
     },
     "execution_count": 4,
     "metadata": {},
     "output_type": "execute_result"
    }
   ],
   "source": [
    "date1[date1.index > pd.to_datetime('2019-06-22')]"
   ]
  },
  {
   "cell_type": "markdown",
   "metadata": {},
   "source": [
    "## Let's take this apart\n",
    "* `pd.to_datetime(string)`: converts a string to a datetime. \n",
    "* `date1.index > pd.to_datetime(string)`: the index is a datetime. It's not a regular column. So we need to refer \n",
    "   to it by the name `date1.index` rather than `date1.date`. \n",
    "   \n",
    "## Things to note\n",
    "* `2019-06-22` is interpreted as `2019-06-22 00:00:00.0`. \n",
    "\n",
    "# Another example from data.gov\n",
    "* Dog licenses granted in Allegheny County, PA, City of Pittsburgh"
   ]
  },
  {
   "cell_type": "code",
   "execution_count": 1,
   "metadata": {},
   "outputs": [],
   "source": [
    "%more 2099.csv"
   ]
  },
  {
   "cell_type": "code",
   "execution_count": 6,
   "metadata": {
    "scrolled": true
   },
   "outputs": [
    {
     "data": {
      "text/html": [
       "<div>\n",
       "<style scoped>\n",
       "    .dataframe tbody tr th:only-of-type {\n",
       "        vertical-align: middle;\n",
       "    }\n",
       "\n",
       "    .dataframe tbody tr th {\n",
       "        vertical-align: top;\n",
       "    }\n",
       "\n",
       "    .dataframe thead th {\n",
       "        text-align: right;\n",
       "    }\n",
       "</style>\n",
       "<table border=\"1\" class=\"dataframe\">\n",
       "  <thead>\n",
       "    <tr style=\"text-align: right;\">\n",
       "      <th></th>\n",
       "      <th>LicenseType</th>\n",
       "      <th>Breed</th>\n",
       "      <th>Color</th>\n",
       "      <th>DogName</th>\n",
       "      <th>OwnerZip</th>\n",
       "      <th>ExpYear</th>\n",
       "    </tr>\n",
       "    <tr>\n",
       "      <th>ValidDate</th>\n",
       "      <th></th>\n",
       "      <th></th>\n",
       "      <th></th>\n",
       "      <th></th>\n",
       "      <th></th>\n",
       "      <th></th>\n",
       "    </tr>\n",
       "  </thead>\n",
       "  <tbody>\n",
       "    <tr>\n",
       "      <th>2009-05-27 14:44:00</th>\n",
       "      <td>Dog Lifetime Neutered Male</td>\n",
       "      <td>MIXED</td>\n",
       "      <td>WHITE/BLACK</td>\n",
       "      <td>BUDDY</td>\n",
       "      <td>15140</td>\n",
       "      <td>2099</td>\n",
       "    </tr>\n",
       "    <tr>\n",
       "      <th>2009-06-23 15:31:00</th>\n",
       "      <td>Dog Lifetime Spayed Female</td>\n",
       "      <td>GER SHORTHAIR POINT</td>\n",
       "      <td>SPOTTED</td>\n",
       "      <td>CABELA</td>\n",
       "      <td>15236</td>\n",
       "      <td>2099</td>\n",
       "    </tr>\n",
       "    <tr>\n",
       "      <th>2011-06-15 13:37:00</th>\n",
       "      <td>Dog Lifetime Male</td>\n",
       "      <td>BEAGLE MIX</td>\n",
       "      <td>BLACK/BROWN</td>\n",
       "      <td>WATSON</td>\n",
       "      <td>15106</td>\n",
       "      <td>2099</td>\n",
       "    </tr>\n",
       "    <tr>\n",
       "      <th>2018-06-05 12:39:00</th>\n",
       "      <td>Dog Senior Lifetime Spayed Female</td>\n",
       "      <td>BORD COLLIE MIX</td>\n",
       "      <td>WHITE/BLACK</td>\n",
       "      <td>SADIE</td>\n",
       "      <td>15227</td>\n",
       "      <td>2099</td>\n",
       "    </tr>\n",
       "    <tr>\n",
       "      <th>2008-08-22 12:43:00</th>\n",
       "      <td>Dog Lifetime Spayed Female</td>\n",
       "      <td>MIXED</td>\n",
       "      <td>BROWN</td>\n",
       "      <td>CHLOE</td>\n",
       "      <td>15132</td>\n",
       "      <td>2099</td>\n",
       "    </tr>\n",
       "  </tbody>\n",
       "</table>\n",
       "</div>"
      ],
      "text/plain": [
       "                                           LicenseType                Breed  \\\n",
       "ValidDate                                                                     \n",
       "2009-05-27 14:44:00         Dog Lifetime Neutered Male                MIXED   \n",
       "2009-06-23 15:31:00         Dog Lifetime Spayed Female  GER SHORTHAIR POINT   \n",
       "2011-06-15 13:37:00                  Dog Lifetime Male           BEAGLE MIX   \n",
       "2018-06-05 12:39:00  Dog Senior Lifetime Spayed Female      BORD COLLIE MIX   \n",
       "2008-08-22 12:43:00         Dog Lifetime Spayed Female                MIXED   \n",
       "\n",
       "                           Color DogName OwnerZip  ExpYear  \n",
       "ValidDate                                                   \n",
       "2009-05-27 14:44:00  WHITE/BLACK   BUDDY    15140     2099  \n",
       "2009-06-23 15:31:00      SPOTTED  CABELA    15236     2099  \n",
       "2011-06-15 13:37:00  BLACK/BROWN  WATSON    15106     2099  \n",
       "2018-06-05 12:39:00  WHITE/BLACK   SADIE    15227     2099  \n",
       "2008-08-22 12:43:00        BROWN   CHLOE    15132     2099  "
      ]
     },
     "execution_count": 6,
     "metadata": {},
     "output_type": "execute_result"
    }
   ],
   "source": [
    "# Dog licenses granted in Allegheny County, PA. \n",
    "dogs = pd.read_csv('2099.csv', index_col=6, parse_dates=[6])\n",
    "dogs.head()"
   ]
  },
  {
   "cell_type": "markdown",
   "metadata": {},
   "source": []
  },
  {
   "cell_type": "markdown",
   "metadata": {},
   "source": [
    "\n",
    "\n",
    "# The problem of alignment\n",
    "* So far, indexes are just integers. \n",
    "* Real-world data is often indexed in time. \n",
    "* *Measurements at different times are of different states.* \n",
    "* It is necessary to align data with the times at which they occur. \n",
    "* This is the purpose of a `Series`. \n",
    "\n",
    "# Goals of alignment\n",
    "* assure that one index of data refers to one state of the world, e.g., in time. \n",
    "* Merge data sources that describe different times without ambiguity. \n",
    "\n",
    "# Aside: citizen science\n",
    "* It's often true in geo-informatics that data arise from unlikely sources. \n",
    "* They might describe the same or different timestamps. \n",
    "* Series provide a way to merge data from various sources. \n",
    "\n",
    "# Differences between `Series` and `ndarray`s. \n",
    "\n",
    "| ndarray | Series | \n",
    "|---------|--------|\n",
    "| axes are always numeric | axes can be other things, including time or date |\n",
    "| Combining things requires objects of the same length | different length objects can be combined |\n",
    "\n",
    "# `ndarray` is a special case \n",
    "* The default axis of a Series is an integer range. \n",
    "* Thus, *in the default case, Series and ndarray represent the same things.* \n",
    "class pandas.Series(data=None, index=None, dtype=None, name=None, copy=False, fastpath=False)[source]\n"
   ]
  },
  {
   "cell_type": "code",
   "execution_count": 7,
   "metadata": {},
   "outputs": [
    {
     "data": {
      "text/plain": [
       "July 4, 1776        1\n",
       "November 9, 2018    2\n",
       "Name: measurements, dtype: int64"
      ]
     },
     "execution_count": 7,
     "metadata": {},
     "output_type": "execute_result"
    }
   ],
   "source": [
    "import pandas as pd\n",
    "s = pd.Series(data=[1,2], index=['July 4, 1776', 'November 9, 2018'], name='measurements')\n",
    "s"
   ]
  },
  {
   "cell_type": "code",
   "execution_count": 8,
   "metadata": {},
   "outputs": [
    {
     "data": {
      "text/plain": [
       "DatetimeIndex(['1776-07-04', '2018-11-01', '2019-09-09'], dtype='datetime64[ns]', freq=None)"
      ]
     },
     "execution_count": 8,
     "metadata": {},
     "output_type": "execute_result"
    }
   ],
   "source": [
    "dates = pd.to_datetime(['July 4, 1776', 'Nov 1, 2018', 'Sept 9, 2019'])\n",
    "dates"
   ]
  },
  {
   "cell_type": "code",
   "execution_count": 9,
   "metadata": {},
   "outputs": [
    {
     "data": {
      "text/plain": [
       "1776-07-04    1\n",
       "2018-11-01    2\n",
       "2019-09-09    3\n",
       "dtype: int64"
      ]
     },
     "execution_count": 9,
     "metadata": {},
     "output_type": "execute_result"
    }
   ],
   "source": [
    "t = pd.Series(data=[1,2,3], index=dates)\n",
    "t"
   ]
  },
  {
   "cell_type": "code",
   "execution_count": 10,
   "metadata": {},
   "outputs": [
    {
     "data": {
      "text/plain": [
       "1776-07-04    1\n",
       "2018-11-01    2\n",
       "2019-09-09    3\n",
       "dtype: object"
      ]
     },
     "execution_count": 10,
     "metadata": {},
     "output_type": "execute_result"
    }
   ],
   "source": [
    "t.astype(object)"
   ]
  },
  {
   "cell_type": "code",
   "execution_count": 11,
   "metadata": {},
   "outputs": [
    {
     "data": {
      "text/plain": [
       "Timedelta('3 days 00:00:00')"
      ]
     },
     "execution_count": 11,
     "metadata": {},
     "output_type": "execute_result"
    }
   ],
   "source": [
    "pd.to_timedelta(\"3 days\")"
   ]
  },
  {
   "cell_type": "code",
   "execution_count": 12,
   "metadata": {},
   "outputs": [
    {
     "data": {
      "text/plain": [
       "Timedelta('0 days 02:03:02')"
      ]
     },
     "execution_count": 12,
     "metadata": {},
     "output_type": "execute_result"
    }
   ],
   "source": [
    "pd.to_timedelta(\"2h 3m 2s\")"
   ]
  },
  {
   "cell_type": "markdown",
   "metadata": {},
   "source": [
    "\n",
    "|Concept\t| Scalar Class\t| Array Class\t| pandas Data Type| \tPrimary Creation Method|\n",
    "|----------|----------------|---------------|-----------------|------------------------|\n",
    "|Date times |\tTimestamp\t| DatetimeIndex\t| datetime64[ns] or datetime64[ns, tz]\t|to_datetime or date_range\n",
    "|Time deltas|\tTimedelta\t|TimedeltaIndex\t|timedelta64[ns]\t| to_timedelta or timedelta_range|\n",
    "|Time spans\t|Period|\tPeriodIndex\t|period[freq]\t| Period or period_range\n",
    "|Date offsets\t|DateOffset|\tNone\t|None\t|DateOffset|\n",
    "\n",
    "Source: https://pandas.pydata.org/pandas-docs/stable/user_guide/timeseries.html"
   ]
  },
  {
   "cell_type": "code",
   "execution_count": null,
   "metadata": {},
   "outputs": [],
   "source": []
  }
 ],
 "metadata": {
  "kernelspec": {
   "display_name": "Python 3",
   "language": "python",
   "name": "python3"
  },
  "language_info": {
   "codemirror_mode": {
    "name": "ipython",
    "version": 3
   },
   "file_extension": ".py",
   "mimetype": "text/x-python",
   "name": "python",
   "nbconvert_exporter": "python",
   "pygments_lexer": "ipython3",
   "version": "3.7.4"
  }
 },
 "nbformat": 4,
 "nbformat_minor": 2
}

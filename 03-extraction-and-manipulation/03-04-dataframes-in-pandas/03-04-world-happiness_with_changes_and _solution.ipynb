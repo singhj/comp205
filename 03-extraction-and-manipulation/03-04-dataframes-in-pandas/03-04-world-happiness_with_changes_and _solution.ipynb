{
 "cells": [
  {
   "cell_type": "markdown",
   "metadata": {},
   "source": [
    "# World Happiness Report\n",
    "\n",
    "This case study is based on the [7th World Happiness Report](https://worldhappiness.report/ed/2019/). The first was released in April 2012 in support of a UN High level meeting on “Wellbeing and Happiness: Defining a New Economic Paradigm”. That 2012 report presented the available global data on national happiness and reviewed related evidence from the emerging science of happiness, showing that the quality of people’s lives can be coherently, reliably, and validly assessed by a variety of subjective well-being measures, collectively referred to then and in subsequent reports as “happiness.” \n",
    "\n",
    "This year’s World Happiness Report focuses on happiness and the community: how happiness has evolved over the past dozen years, with a focus on the technologies, social norms, conflicts and government policies that have driven those changes.\n",
    "\n",
    "I have downloaded the data from [Chapter 2: Online Data](https://s3.amazonaws.com/happiness-report/2019/Chapter2OnlineData.xls) and filtered out data prior to 2018. The result is available in CSV format, as the file `happiness-report.csv`. _Data Prep Notes:_ The Happiness Score column is from Figure 2.6 in the downloaded report; the other data columns are from Table 2.1 in the same report. If a country wasn't in either list, it wasn't included in the CSV file."
   ]
  },
  {
   "cell_type": "markdown",
   "metadata": {},
   "source": [
    "### 1. Validate the data\n",
    "\n",
    "Even though you are given the downloaded data in `happiness-report.csv`, use the description in the last paragraph to repeat the procedure. Do you get the same results? "
   ]
  },
  {
   "cell_type": "code",
   "execution_count": 1,
   "metadata": {},
   "outputs": [
    {
     "name": "stdout",
     "output_type": "stream",
     "text": [
      "comm: happiness-report-your-copy.csv: No such file or directory\r\n"
     ]
    }
   ],
   "source": [
    "# Execute this cell to compare\n",
    "!comm -3 happiness-report.csv happiness-report-your-copy.csv"
   ]
  },
  {
   "cell_type": "markdown",
   "metadata": {},
   "source": [
    "Did you get the same result?\n",
    "\n",
    "**Explain:**\n",
    "\n",
    "**Irrespective of your answer, use `happiness-report.csv` for the remainder of this notebook.**"
   ]
  },
  {
   "cell_type": "code",
   "execution_count": 2,
   "metadata": {
    "scrolled": true
   },
   "outputs": [
    {
     "data": {
      "text/html": [
       "<div>\n",
       "<style scoped>\n",
       "    .dataframe tbody tr th:only-of-type {\n",
       "        vertical-align: middle;\n",
       "    }\n",
       "\n",
       "    .dataframe tbody tr th {\n",
       "        vertical-align: top;\n",
       "    }\n",
       "\n",
       "    .dataframe thead th {\n",
       "        text-align: right;\n",
       "    }\n",
       "</style>\n",
       "<table border=\"1\" class=\"dataframe\">\n",
       "  <thead>\n",
       "    <tr style=\"text-align: right;\">\n",
       "      <th></th>\n",
       "      <th>Country</th>\n",
       "      <th>Year</th>\n",
       "      <th>HappinessScore</th>\n",
       "      <th>LifeLadder</th>\n",
       "      <th>LogGDP</th>\n",
       "      <th>SocialSupport</th>\n",
       "      <th>HealthyLifeExpectancyAtBirth</th>\n",
       "      <th>FreedomToMakeLifeChoices</th>\n",
       "      <th>Generosity</th>\n",
       "      <th>PerceptionsOfCorruption</th>\n",
       "      <th>PositiveAffect</th>\n",
       "      <th>NegativeAffect</th>\n",
       "      <th>ConfidenceInNationalGovernment</th>\n",
       "    </tr>\n",
       "  </thead>\n",
       "  <tbody>\n",
       "    <tr>\n",
       "      <td>0</td>\n",
       "      <td>Afghanistan</td>\n",
       "      <td>2018</td>\n",
       "      <td>3.203</td>\n",
       "      <td>2.694303</td>\n",
       "      <td>7.494588</td>\n",
       "      <td>0.507516</td>\n",
       "      <td>52.599998</td>\n",
       "      <td>0.373536</td>\n",
       "      <td>-0.084888</td>\n",
       "      <td>0.927606</td>\n",
       "      <td>0.424125</td>\n",
       "      <td>0.404904</td>\n",
       "      <td>0.364666</td>\n",
       "    </tr>\n",
       "    <tr>\n",
       "      <td>1</td>\n",
       "      <td>Albania</td>\n",
       "      <td>2018</td>\n",
       "      <td>4.719</td>\n",
       "      <td>5.004403</td>\n",
       "      <td>9.412399</td>\n",
       "      <td>0.683592</td>\n",
       "      <td>68.699997</td>\n",
       "      <td>0.824212</td>\n",
       "      <td>0.005385</td>\n",
       "      <td>0.899129</td>\n",
       "      <td>0.713300</td>\n",
       "      <td>0.318997</td>\n",
       "      <td>0.435338</td>\n",
       "    </tr>\n",
       "    <tr>\n",
       "      <td>2</td>\n",
       "      <td>Algeria</td>\n",
       "      <td>2018</td>\n",
       "      <td>5.211</td>\n",
       "      <td>5.043086</td>\n",
       "      <td>9.557952</td>\n",
       "      <td>0.798651</td>\n",
       "      <td>65.900002</td>\n",
       "      <td>0.583381</td>\n",
       "      <td>-0.172413</td>\n",
       "      <td>0.758704</td>\n",
       "      <td>0.591043</td>\n",
       "      <td>0.292946</td>\n",
       "      <td>NaN</td>\n",
       "    </tr>\n",
       "    <tr>\n",
       "      <td>3</td>\n",
       "      <td>Argentina</td>\n",
       "      <td>2018</td>\n",
       "      <td>6.086</td>\n",
       "      <td>5.792797</td>\n",
       "      <td>9.809972</td>\n",
       "      <td>0.899912</td>\n",
       "      <td>68.800003</td>\n",
       "      <td>0.845895</td>\n",
       "      <td>-0.206937</td>\n",
       "      <td>0.855255</td>\n",
       "      <td>0.820310</td>\n",
       "      <td>0.320502</td>\n",
       "      <td>0.261352</td>\n",
       "    </tr>\n",
       "    <tr>\n",
       "      <td>4</td>\n",
       "      <td>Armenia</td>\n",
       "      <td>2018</td>\n",
       "      <td>4.559</td>\n",
       "      <td>5.062449</td>\n",
       "      <td>9.119424</td>\n",
       "      <td>0.814449</td>\n",
       "      <td>66.900002</td>\n",
       "      <td>0.807644</td>\n",
       "      <td>-0.149109</td>\n",
       "      <td>0.676826</td>\n",
       "      <td>0.581488</td>\n",
       "      <td>0.454840</td>\n",
       "      <td>0.670828</td>\n",
       "    </tr>\n",
       "    <tr>\n",
       "      <td>...</td>\n",
       "      <td>...</td>\n",
       "      <td>...</td>\n",
       "      <td>...</td>\n",
       "      <td>...</td>\n",
       "      <td>...</td>\n",
       "      <td>...</td>\n",
       "      <td>...</td>\n",
       "      <td>...</td>\n",
       "      <td>...</td>\n",
       "      <td>...</td>\n",
       "      <td>...</td>\n",
       "      <td>...</td>\n",
       "      <td>...</td>\n",
       "    </tr>\n",
       "    <tr>\n",
       "      <td>131</td>\n",
       "      <td>Venezuela</td>\n",
       "      <td>2018</td>\n",
       "      <td>4.707</td>\n",
       "      <td>5.005663</td>\n",
       "      <td>9.270281</td>\n",
       "      <td>0.886882</td>\n",
       "      <td>66.500000</td>\n",
       "      <td>0.610855</td>\n",
       "      <td>-0.176156</td>\n",
       "      <td>0.827560</td>\n",
       "      <td>0.759221</td>\n",
       "      <td>0.373658</td>\n",
       "      <td>0.260700</td>\n",
       "    </tr>\n",
       "    <tr>\n",
       "      <td>132</td>\n",
       "      <td>Vietnam</td>\n",
       "      <td>2018</td>\n",
       "      <td>5.175</td>\n",
       "      <td>5.295547</td>\n",
       "      <td>8.783416</td>\n",
       "      <td>0.831945</td>\n",
       "      <td>67.900002</td>\n",
       "      <td>0.909260</td>\n",
       "      <td>-0.039124</td>\n",
       "      <td>0.808423</td>\n",
       "      <td>0.692222</td>\n",
       "      <td>0.191061</td>\n",
       "      <td>NaN</td>\n",
       "    </tr>\n",
       "    <tr>\n",
       "      <td>133</td>\n",
       "      <td>Yemen</td>\n",
       "      <td>2018</td>\n",
       "      <td>3.380</td>\n",
       "      <td>3.057514</td>\n",
       "      <td>NaN</td>\n",
       "      <td>0.789422</td>\n",
       "      <td>56.700001</td>\n",
       "      <td>0.552726</td>\n",
       "      <td>NaN</td>\n",
       "      <td>0.792587</td>\n",
       "      <td>0.461114</td>\n",
       "      <td>0.314870</td>\n",
       "      <td>0.308151</td>\n",
       "    </tr>\n",
       "    <tr>\n",
       "      <td>134</td>\n",
       "      <td>Zambia</td>\n",
       "      <td>2018</td>\n",
       "      <td>4.107</td>\n",
       "      <td>4.041488</td>\n",
       "      <td>8.223958</td>\n",
       "      <td>0.717720</td>\n",
       "      <td>55.299999</td>\n",
       "      <td>0.790626</td>\n",
       "      <td>0.036644</td>\n",
       "      <td>0.810731</td>\n",
       "      <td>0.702698</td>\n",
       "      <td>0.350963</td>\n",
       "      <td>0.606715</td>\n",
       "    </tr>\n",
       "    <tr>\n",
       "      <td>135</td>\n",
       "      <td>Zimbabwe</td>\n",
       "      <td>2018</td>\n",
       "      <td>3.663</td>\n",
       "      <td>3.616480</td>\n",
       "      <td>7.553395</td>\n",
       "      <td>0.775388</td>\n",
       "      <td>55.599998</td>\n",
       "      <td>0.762675</td>\n",
       "      <td>-0.038384</td>\n",
       "      <td>0.844209</td>\n",
       "      <td>0.710119</td>\n",
       "      <td>0.211726</td>\n",
       "      <td>0.550508</td>\n",
       "    </tr>\n",
       "  </tbody>\n",
       "</table>\n",
       "<p>136 rows × 13 columns</p>\n",
       "</div>"
      ],
      "text/plain": [
       "         Country  Year  HappinessScore  LifeLadder    LogGDP  SocialSupport  \\\n",
       "0    Afghanistan  2018           3.203    2.694303  7.494588       0.507516   \n",
       "1        Albania  2018           4.719    5.004403  9.412399       0.683592   \n",
       "2        Algeria  2018           5.211    5.043086  9.557952       0.798651   \n",
       "3      Argentina  2018           6.086    5.792797  9.809972       0.899912   \n",
       "4        Armenia  2018           4.559    5.062449  9.119424       0.814449   \n",
       "..           ...   ...             ...         ...       ...            ...   \n",
       "131    Venezuela  2018           4.707    5.005663  9.270281       0.886882   \n",
       "132      Vietnam  2018           5.175    5.295547  8.783416       0.831945   \n",
       "133        Yemen  2018           3.380    3.057514       NaN       0.789422   \n",
       "134       Zambia  2018           4.107    4.041488  8.223958       0.717720   \n",
       "135     Zimbabwe  2018           3.663    3.616480  7.553395       0.775388   \n",
       "\n",
       "     HealthyLifeExpectancyAtBirth  FreedomToMakeLifeChoices  Generosity  \\\n",
       "0                       52.599998                  0.373536   -0.084888   \n",
       "1                       68.699997                  0.824212    0.005385   \n",
       "2                       65.900002                  0.583381   -0.172413   \n",
       "3                       68.800003                  0.845895   -0.206937   \n",
       "4                       66.900002                  0.807644   -0.149109   \n",
       "..                            ...                       ...         ...   \n",
       "131                     66.500000                  0.610855   -0.176156   \n",
       "132                     67.900002                  0.909260   -0.039124   \n",
       "133                     56.700001                  0.552726         NaN   \n",
       "134                     55.299999                  0.790626    0.036644   \n",
       "135                     55.599998                  0.762675   -0.038384   \n",
       "\n",
       "     PerceptionsOfCorruption  PositiveAffect  NegativeAffect  \\\n",
       "0                   0.927606        0.424125        0.404904   \n",
       "1                   0.899129        0.713300        0.318997   \n",
       "2                   0.758704        0.591043        0.292946   \n",
       "3                   0.855255        0.820310        0.320502   \n",
       "4                   0.676826        0.581488        0.454840   \n",
       "..                       ...             ...             ...   \n",
       "131                 0.827560        0.759221        0.373658   \n",
       "132                 0.808423        0.692222        0.191061   \n",
       "133                 0.792587        0.461114        0.314870   \n",
       "134                 0.810731        0.702698        0.350963   \n",
       "135                 0.844209        0.710119        0.211726   \n",
       "\n",
       "     ConfidenceInNationalGovernment  \n",
       "0                          0.364666  \n",
       "1                          0.435338  \n",
       "2                               NaN  \n",
       "3                          0.261352  \n",
       "4                          0.670828  \n",
       "..                              ...  \n",
       "131                        0.260700  \n",
       "132                             NaN  \n",
       "133                        0.308151  \n",
       "134                        0.606715  \n",
       "135                        0.550508  \n",
       "\n",
       "[136 rows x 13 columns]"
      ]
     },
     "execution_count": 2,
     "metadata": {},
     "output_type": "execute_result"
    }
   ],
   "source": [
    "import pandas as pd\n",
    "data1 = pd.read_csv('happiness-report.csv')\n",
    "data1"
   ]
  },
  {
   "cell_type": "markdown",
   "metadata": {},
   "source": [
    "### 2. Copy the header from the dataframe &hellip;\n",
    "\n",
    "&hellip; and obtain column names for the first 7 columns."
   ]
  },
  {
   "cell_type": "code",
   "execution_count": null,
   "metadata": {},
   "outputs": [],
   "source": [
    "colnames = # ...fill in...\n",
    "colnames"
   ]
  },
  {
   "cell_type": "markdown",
   "metadata": {},
   "source": [
    "### 3. Create a new dataframe `data2` with just the first 7 columns."
   ]
  },
  {
   "cell_type": "code",
   "execution_count": null,
   "metadata": {},
   "outputs": [],
   "source": [
    "data2 = # ...fill in...\n",
    "data2"
   ]
  },
  {
   "cell_type": "markdown",
   "metadata": {},
   "source": [
    "### 4. Drop invalid rows\n",
    "\n",
    "Look up the pandas method `dropna` and use it to create a new dataframe `data3` with cleaned up data."
   ]
  },
  {
   "cell_type": "code",
   "execution_count": null,
   "metadata": {},
   "outputs": [],
   "source": [
    "data3 # ...fill in...\n",
    "data3"
   ]
  },
  {
   "cell_type": "markdown",
   "metadata": {},
   "source": [
    "### 5. Drop a Column\n",
    "\n",
    "Create a new dataframe `data4` that is the same as `data3` but with the **LifeLadder** column dropped."
   ]
  },
  {
   "cell_type": "code",
   "execution_count": null,
   "metadata": {},
   "outputs": [],
   "source": [
    "data4 = data3 # ...fill in...\n",
    "data4"
   ]
  },
  {
   "cell_type": "markdown",
   "metadata": {},
   "source": [
    "### 6. From `data4`, show the row for United States\n",
    "\n",
    "The Dataframe outputs in the cells above didn't show US and you don't know if the country is called 'USA' or 'United States' or 'United States of America' or something else. _You could look at the underlying file but that isn't the point of this question. The point is to be able to search for things in the dataframe._"
   ]
  },
  {
   "cell_type": "code",
   "execution_count": null,
   "metadata": {},
   "outputs": [],
   "source": [
    "# Fill in"
   ]
  },
  {
   "cell_type": "markdown",
   "metadata": {},
   "source": [
    "### 7. Change a Row\n",
    "\n",
    "Hypothetical scenario: _Belarus_ decides to officially change its name to _Belarussian Republic_ and its happiness score increases by 5%. Copy data4 into data5 and make these changes to data5. Show all rows in data5 that match the substring `russia` (ignoring case, so both Russia and Belarussian Republic would be shown)."
   ]
  },
  {
   "cell_type": "code",
   "execution_count": null,
   "metadata": {},
   "outputs": [],
   "source": [
    "data5 = data4\n",
    "# Fill in"
   ]
  },
  {
   "cell_type": "markdown",
   "metadata": {},
   "source": [
    "### 8. Using our data set\n",
    "\n",
    "We are curious what happens when we split our data between countries where \\\\((HappinessScore \\leq  5 \\\\)). We want to see if there is any significance between these 2 groups. Loop through all columns that you think are important and decide the best split by the column with the largest squared difference between the mean of the 2 categories in that column.\n",
    "\n",
    "We have provided a ploting function that you can use to visualize your results\n"
   ]
  },
  {
   "cell_type": "code",
   "execution_count": 161,
   "metadata": {},
   "outputs": [],
   "source": [
    "import matplotlib.pyplot as plt\n",
    "\n",
    "def plot(data_less_than_5, data_greater_than_5):\n",
    "    plt.hist((data_less_than_5, data_greater_than_5), 100)\n",
    "    plt.show()"
   ]
  },
  {
   "cell_type": "code",
   "execution_count": 162,
   "metadata": {},
   "outputs": [
    {
     "name": "stdout",
     "output_type": "stream",
     "text": [
      "100.54400402917958\n",
      "HealthyLifeExpectancyAtBirth\n"
     ]
    },
    {
     "data": {
      "image/png": "[encoded data removed]",
      "text/plain": [
       "<Figure size 432x288 with 1 Axes>"
      ]
     },
     "metadata": {
      "needs_background": "light"
     },
     "output_type": "display_data"
    }
   ],
   "source": [
    "import matplotlib.pyplot as plt\n",
    "import numpy as np\n",
    "\n",
    "data1 = data1.dropna()\n",
    "\n",
    "possib = [\"LifeLadder\",\n",
    "          \"LogGDP\",\n",
    "          \"SocialSupport\",\n",
    "          \"HealthyLifeExpectancyAtBirth\",\n",
    "          \"FreedomToMakeLifeChoices\",\n",
    "          \"Generosity\",\n",
    "          \"PerceptionsOfCorruption\",\n",
    "          \"PositiveAffect\",\n",
    "          \"NegativeAffect\",\n",
    "          \"ConfidenceInNationalGovernment\"]\n",
    "\n",
    "letters = [5]\n",
    "\n",
    "total = 11\n",
    "\n",
    "\n",
    "\n",
    "\n",
    "\n",
    "all_scores = []\n",
    "all_test = []\n",
    "\n",
    "\n",
    "for i1 in range(10):\n",
    "    for letter in letters:\n",
    "        idx1 = data1[\"HappinessScore\"] <= letter\n",
    "        idx2 = data1[\"HappinessScore\"] > letter\n",
    "        \n",
    "        score = (data1[possib[i1]][idx1].mean() - data1[possib[i1]][idx2].mean())**2\n",
    "        \n",
    "        all_scores.append(score)\n",
    "        all_test.append((i1,letter))\n",
    "\n",
    "        \n",
    "print(np.max(all_scores))\n",
    "\n",
    "i1 = all_test[np.argmax(all_scores)][0]\n",
    "letter =  all_test[np.argmax(all_scores)][1]\n",
    "idx1 = data1[\"HappinessScore\"] <= letter\n",
    "idx2 = data1[\"HappinessScore\"] > letter\n",
    "\n",
    "print(possib[i1])\n",
    "\n",
    "\n",
    "\n",
    "plot(data1[possib[i1]][idx1], data1[possib[i1]][idx2])"
   ]
  },
  {
   "cell_type": "markdown",
   "metadata": {},
   "source": [
    "### 9. P Hacking\n",
    "\n",
    "Computers can speedup having to look at graphs manually for the best analytics. However it can also pose a danger. In the following hypothetical scenario we look at some special powder that can be mixed into water to improve your life span. We say that pure water has a random effect around 0. Now for creating this powder we mix random stuff all of which have no real effect on your life span (and hence around 0 effect, but has a random measure effect due to experimental error) as well. How many different random powders (each which has no real effect) do we need to make before we create a powder of significant difference from water ."
   ]
  },
  {
   "cell_type": "code",
   "execution_count": 163,
   "metadata": {},
   "outputs": [
    {
     "name": "stdout",
     "output_type": "stream",
     "text": [
      "trying iteration 0\n"
     ]
    },
    {
     "data": {
      "text/plain": [
       "(array([[1., 3., 2., 1., 2., 1., 7., 5., 1., 2.],\n",
       "        [0., 1., 0., 2., 2., 3., 3., 5., 7., 2.]]),\n",
       " array([-2.92018753, -2.47646533, -2.03274313, -1.58902093, -1.14529873,\n",
       "        -0.70157654, -0.25785434,  0.18586786,  0.62959006,  1.07331226,\n",
       "         1.51703446]),\n",
       " <a list of 2 Lists of Patches objects>)"
      ]
     },
     "execution_count": 163,
     "metadata": {},
     "output_type": "execute_result"
    },
    {
     "data": {
      "image/png": "[encoded data removed]",
      "text/plain": [
       "<Figure size 432x288 with 1 Axes>"
      ]
     },
     "metadata": {
      "needs_background": "light"
     },
     "output_type": "display_data"
    }
   ],
   "source": [
    "import numpy as np\n",
    "import matplotlib.pyplot as plt\n",
    "\n",
    "diff = 0.16 # 0.4 about 95% significance, so 0.16 is the squared difference of significance\n",
    "\n",
    "src = np.random.normal(0, 1, 25)\n",
    "\n",
    "dst = np.random.normal(0, 1, 25)\n",
    "\n",
    "i = 0\n",
    "while 1:\n",
    "    print(\"trying iteration %d\"%i)\n",
    "    if (src.mean()-dst.mean())**2 < diff:\n",
    "        dst = np.random.normal(0, 1, 25)\n",
    "    else:\n",
    "        break\n",
    "    i += 1\n",
    "        \n",
    "plt.hist([src, dst], color=['b', 'r'])\n",
    "        \n"
   ]
  },
  {
   "cell_type": "markdown",
   "metadata": {},
   "source": [
    "We can see we do not need to do many random tests for us to get lucky and find a result that appears to give good seperation but is due to completely random luck. "
   ]
  },
  {
   "cell_type": "markdown",
   "metadata": {},
   "source": [
    "# When you're done, submit the notebook\n",
    "\n",
    "1. **Run all the cells in order.**\n",
    "\n",
    "2. Submit the notebook by saving it as PDF. \n",
    "    * In the cluster environment, it's File | Print (Save as PDF) and submit to [Gradescope](https://www.gradescope.com/courses/182658)<sup>&dagger;</sup>, \n",
    "    * On other versions, it may be File | Download As (PDF) and then submit to [Gradescope](https://www.gradescope.com/courses/182658)<sup>&dagger;</sup>.\n",
    "\n",
    "<sup>&dagger;</sup>To submit to Gradescope, log into the website, add course 9W7PW3 (if not already added) and submit. The assignment name should match the name of this notebook."
   ]
  },
  {
   "cell_type": "markdown",
   "metadata": {},
   "source": [
    "![The end](https://live.staticflickr.com/32/89187454_3ae6aded89_b.jpg)"
   ]
  }
 ],
 "metadata": {
  "kernelspec": {
   "display_name": "Python 3",
   "language": "python",
   "name": "python3"
  },
  "language_info": {
   "codemirror_mode": {
    "name": "ipython",
    "version": 3
   },
   "file_extension": ".py",
   "mimetype": "text/x-python",
   "name": "python",
   "nbconvert_exporter": "python",
   "pygments_lexer": "ipython3",
   "version": "3.7.4"
  }
 },
 "nbformat": 4,
 "nbformat_minor": 2
}

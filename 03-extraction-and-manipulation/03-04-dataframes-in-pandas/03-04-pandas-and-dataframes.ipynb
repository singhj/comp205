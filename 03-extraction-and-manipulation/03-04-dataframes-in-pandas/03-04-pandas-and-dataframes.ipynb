{
 "cells": [
  {
   "cell_type": "markdown",
   "metadata": {},
   "source": [
    "# Pandas and dataframes"
   ]
  },
  {
   "cell_type": "markdown",
   "metadata": {},
   "source": [
    "# Pandas and dataframes\n",
    "\n",
    "* Numpy is limited by the basic limit of having to have the same type for every element of an ndarray. \n",
    "* a typical spreadsheet has one type per column. \n",
    "* Thus, Numpy does not correctly express those. \n",
    "* The `DataFrame` concept completely embodies the concept of a spreadsheet with multiple column types. \n",
    "\n",
    "These workbooks are based upon [pandas in 10 minutes](https://pandas.pydata.org/pandas-docs/stable/getting_started/10min.html) and subsequent detailed tutorials.\n",
    "\n",
    "# Pandas and numpy\n",
    "* Pandas is -- in fact -- based upon `numpy` and `numpy.ndarray` concepts. \n",
    "* The convenience of Pandas comes from being higher-level. \n",
    "* In a detailed analysis, `numpy.ndarray` is often still required, e.g., for TensorFlow and related tools. \n",
    "* Thus, one has to understand \"both levels of abstraction.\"\n",
    "\n",
    "# Pandas vs. Numpy\n",
    "\n",
    "| numpy | pandas |\n",
    "|-------|--------|\n",
    "| Strength is multidimensional arrays and tensors | Strength is spreadsheets and time series |\n",
    "| Assumes integer axes | Allows axes based upon timestamp and other indexes |\n",
    "| Assumes homogeneous types | Allows heterogeneous column types |\n",
    "| Row queries are complex | Rpw queries are simple |\n",
    "| Rudimentary csv handling | Advanced csv handling includes all special cases | \n",
    " \n",
    "# Why most people use Pandas\n",
    "* Most data is in spreadsheets. \n",
    "* Unlike numpy, pandas makes reading spreadsheets trivial. \n",
    "\n",
    "# My advice \n",
    "* if your data is csv, then *read it into pandas and then reformat it into the appropriate numpy objects as needed.* \n",
    "Consider: "
   ]
  },
  {
   "cell_type": "code",
   "execution_count": null,
   "metadata": {},
   "outputs": [],
   "source": [
    "%pycat data1.csv"
   ]
  },
  {
   "cell_type": "code",
   "execution_count": null,
   "metadata": {},
   "outputs": [],
   "source": [
    "import pandas as pd\n",
    "data1 = pd.read_csv('data1.csv')\n",
    "data1"
   ]
  },
  {
   "cell_type": "markdown",
   "metadata": {},
   "source": [
    "# Observations\n",
    "* Pandas is tuned to read MS Excel spreadsheets. \n",
    "* You can thus stop worrying about commas in strings. \n",
    "* Printouts are made pretty via correct pretty-printing calls. \n",
    "* Row number/index is listed to left. \n",
    "\n",
    "# What happened to `numpy`? \n",
    "* `data1` is a `DataFrame`. \n",
    "* Each of the columns are represented in `numpy`\n",
    "\n",
    "Consider"
   ]
  },
  {
   "cell_type": "code",
   "execution_count": null,
   "metadata": {},
   "outputs": [],
   "source": [
    "data1['heading1']"
   ]
  },
  {
   "cell_type": "code",
   "execution_count": null,
   "metadata": {},
   "outputs": [],
   "source": [
    "data1.heading1"
   ]
  },
  {
   "cell_type": "code",
   "execution_count": null,
   "metadata": {},
   "outputs": [],
   "source": [
    "type(data1)"
   ]
  },
  {
   "cell_type": "code",
   "execution_count": null,
   "metadata": {},
   "outputs": [],
   "source": [
    "data1['heading1'].values"
   ]
  },
  {
   "cell_type": "markdown",
   "metadata": {},
   "source": [
    "*Numpy is still underneath!*\n",
    "\n",
    "# The reality of higher-level abstractions\n",
    "* Do one thing well. \n",
    "* Are relatively poor at doing other things. \n",
    "\n",
    "# Pandas is\n",
    "* excellent at parsing spreadsheets. \n",
    "* relatively poor at numerical operations, at which `numpy` excels. \n",
    "* Absolutely horrible at tensors. My advice is simply *don't!* Use `numpy` instead. \n",
    "\n",
    "# Pandas joys\n",
    "Compared to `numpy`\n",
    "* Columns are accessed by name. \n",
    "* Everything prints prettily. \n",
    "* Row selection is intuitive.\n",
    "\n",
    "Consider: \n"
   ]
  },
  {
   "cell_type": "code",
   "execution_count": null,
   "metadata": {},
   "outputs": [],
   "source": [
    "data1[data1.heading1 > 1 ]"
   ]
  },
  {
   "cell_type": "code",
   "execution_count": null,
   "metadata": {},
   "outputs": [],
   "source": [
    "data1['sum'] = data1.heading1 + data1.heading2\n",
    "data1"
   ]
  },
  {
   "cell_type": "code",
   "execution_count": null,
   "metadata": {},
   "outputs": [],
   "source": [
    "data1['approved'] = True\n",
    "data1"
   ]
  },
  {
   "cell_type": "markdown",
   "metadata": {},
   "source": [
    "# Observations\n",
    "* Can access columns as if they are dictionaries. \n",
    "* Can access columns as if they are class members. \n",
    "* Can do column arithmetic. Result is a new column. \n",
    "* Can set a new column to the same value for all rows. \n",
    "* Can add columns to the `DataFrame` dynamically by using a new keyword for each new column. "
   ]
  },
  {
   "cell_type": "code",
   "execution_count": null,
   "metadata": {},
   "outputs": [],
   "source": [
    "data1.loc[data1.heading1 > 2, 'heading2']"
   ]
  },
  {
   "cell_type": "code",
   "execution_count": null,
   "metadata": {},
   "outputs": [],
   "source": [
    "data1.loc[data1.heading1 > 2, 'heading2'] = 200\n",
    "data1[data1.heading1 > 2]"
   ]
  },
  {
   "cell_type": "markdown",
   "metadata": {},
   "source": [
    "# Whoa there! \n",
    "\n",
    "* What just happened? \n",
    "* You might recall that one of the major pains in `numpy` is that row data is immutable. \n",
    "* Here we managed to set a row and column based upon conditions upon all rows and columns. \n",
    "* `data1.loc[<row selector>, <column selector>] = <value>`\n",
    "* This is difficult to understand, but really powerful. \n",
    "* It's also not all-powerful, and what it can't do is important. \n",
    "\n",
    "# A tale of Lvalues and Rvalues \n",
    "* At its core, Pandas very heavily uses the hacks available in Python classes. \n",
    "* These allow it to control which expressions are Lvalues and which are Rvalues. \n",
    "* An *Lvalue* is anything that can be on the left of the = sign in an assignment. \n",
    "* An *Rvalue* can be on the right hand side of the = sign in an assignment. \n",
    "* For the most part, *Lvalues are Rvalues*, but not vice-versa. \n",
    "* But, in Pandas, there is an active tension between \n",
    "    \n",
    "    * Selecting data and \n",
    "    * Setting data. \n",
    "\n",
    "* That plays out by defining *different dyntaxes for setting and selection.*\n",
    "\n",
    "# What this means in practice is that:\n",
    "* One should be wary of placing expressions like df[..] on the left-hand side of the =, \n",
    "* because *there is a distinct syntax df.loc[...] that is designed for that!*\n",
    "\n",
    "# An aside: how we control Lvalues and Rvalues in Python\n",
    "* Python classes allow one to define methods that are different for whether the object is on the left-hand or right-hand side of the = sign. \n",
    "* Here is a simple demo"
   ]
  },
  {
   "cell_type": "code",
   "execution_count": null,
   "metadata": {},
   "outputs": [],
   "source": [
    "class Foo(): \n",
    "    items = []\n",
    "    def __getitem__(self, index): \n",
    "        print(\"I'm getting the the value at index {}\".format(index))\n",
    "        return self.items[index]\n",
    "    def __setitem__(self, index, value): \n",
    "        print(\"I'm setting item at index {} to {}\".format(index, value))\n",
    "        while (len(self.items) < index+1): \n",
    "            self.items.append(None)\n",
    "        self.items[index] = value\n",
    "\n",
    "f = Foo()\n",
    "f[4] = 'yo'  # f,__setitem__(4, 'yo')\n",
    "print(f.items)\n",
    "f[4]  # f.__getitem__(4)"
   ]
  },
  {
   "cell_type": "markdown",
   "metadata": {},
   "source": [
    "# This insane little class\n",
    "* implements a *self-extending list*. \n",
    "* values that are not defined are set to `None`.\n",
    "* Without this intervention, if `f` were a regular list, this code would result in a runtime error. \n",
    "\n",
    "# The Lvalue/Rvalue minefield\n",
    "* When learning Pandas and specifically `DataFrame`s, it's really difficult to keep straight what can be on the left-hand-side of the = sign in an assignment. \n",
    "* This can be a coding minefield, where assignment statements can \"blow up\" when you least expect them to do so. \n",
    "* Some things that look like Lvalues actually are.\n",
    "    * Assigning a list of values to a whole column. \n",
    "* Some things that look like Lvalues are not, e.g., \n",
    "    * Assigning a value to part of a column. \n",
    "\n",
    "# Let's put this into practice.  \n",
    "\n",
    "First, let's load some interesting data into a DataFrame: "
   ]
  },
  {
   "cell_type": "code",
   "execution_count": null,
   "metadata": {},
   "outputs": [],
   "source": [
    "towns = pd.read_csv('2010_Population_By_Town.csv')\n",
    "print(\"First 10 rows are:\")\n",
    "towns.loc[0:9]  # First 10 rows. Remove qualifier to see all "
   ]
  },
  {
   "cell_type": "markdown",
   "metadata": {},
   "source": [
    "(source: US census, state of Conn, data.gov) \n",
    "\n",
    "1. Write an expression for rows for towns with population above 100000"
   ]
  },
  {
   "cell_type": "code",
   "execution_count": null,
   "metadata": {},
   "outputs": [],
   "source": [
    "# your answer\n",
    "towns[towns['2010 Population']>100000]"
   ]
  },
  {
   "cell_type": "markdown",
   "metadata": {},
   "source": [
    "2. Write an expression for all towns whose name starts with 'C'. Hint: use >= 'C', < 'D' to select. "
   ]
  },
  {
   "cell_type": "code",
   "execution_count": null,
   "metadata": {},
   "outputs": [],
   "source": [
    "# your answer: \n",
    "towns[(towns['TOWN'] >= 'C') & (towns['TOWN'] < 'D')]\n"
   ]
  },
  {
   "cell_type": "markdown",
   "metadata": {},
   "source": [
    "3. Write code to create a new column `Cool` and mark `Clinton` and `Wolcott` as `Cool` by setting their `Cool` columns to `True` and everyone else's to `False`.\n"
   ]
  },
  {
   "cell_type": "code",
   "execution_count": null,
   "metadata": {},
   "outputs": [],
   "source": [
    "# Your answer: \n",
    "towns['Cool'] = False\n",
    "towns.loc[towns.TOWN == 'Clinton', 'Cool'] = True\n",
    "towns.loc[towns.TOWN == 'Wolcott', 'Cool'] = True"
   ]
  },
  {
   "cell_type": "code",
   "execution_count": null,
   "metadata": {},
   "outputs": [],
   "source": [
    "# use this to test your answer\n",
    "towns[towns.Cool == True]"
   ]
  },
  {
   "cell_type": "markdown",
   "metadata": {},
   "source": [
    "4. List all towns with at least 14 characters in their names. Hint: you can apply `.str.len()` to a column to get its length as a string."
   ]
  },
  {
   "cell_type": "code",
   "execution_count": null,
   "metadata": {},
   "outputs": [],
   "source": [
    "towns[towns['TOWN'].str.len() >= 14]"
   ]
  },
  {
   "cell_type": "markdown",
   "metadata": {},
   "source": [
    "Consider the following additional table: "
   ]
  },
  {
   "cell_type": "code",
   "execution_count": null,
   "metadata": {},
   "outputs": [],
   "source": [
    "tax = pd.read_csv('2012_Retail_Sales_By_Town_ALL_NAICS.csv', engine='python', skipfooter=8)\n",
    "print(\"First 10 rows of tax are:\")\n",
    "tax.loc[0:9, :]  # first 10 rows; you can remove the qualifier to see more of the table. "
   ]
  },
  {
   "cell_type": "markdown",
   "metadata": {},
   "source": [
    "5. Compute \"Tax per capita\" as a new column by dividing \"Total Tax Due\" by \"Number of Taxpayers\". There is whitespace at the end of the label for \"Total Tax Due\"! "
   ]
  },
  {
   "cell_type": "code",
   "execution_count": null,
   "metadata": {},
   "outputs": [],
   "source": [
    "# Note the following before beginning: \n",
    "list(tax)"
   ]
  },
  {
   "cell_type": "code",
   "execution_count": null,
   "metadata": {},
   "outputs": [],
   "source": [
    "# Your solution: \n",
    "tax['Tax per capita'] = tax[\"Total Tax Due **(Excluding Tax at 9.35% Rate) \"]/tax[\"Number of Taxpayers\"]\n",
    "tax.loc[0:9]  # first 10 columns of solution"
   ]
  },
  {
   "cell_type": "code",
   "execution_count": null,
   "metadata": {},
   "outputs": [],
   "source": [
    "list(tax)"
   ]
  },
  {
   "cell_type": "markdown",
   "metadata": {},
   "source": [
    "6. List the towns in which the tax per capita is larger than $80,000 per entity (Gasp! This is sales tax! Entities can be businesses, though)."
   ]
  },
  {
   "cell_type": "code",
   "execution_count": null,
   "metadata": {},
   "outputs": [],
   "source": [
    "# Your solution. \n",
    "tax[tax[\"Tax per capita\"] > 60000]"
   ]
  },
  {
   "cell_type": "markdown",
   "metadata": {},
   "source": [
    "# When you're done, submit the notebook\n",
    "\n",
    "1. **Run all the cells in order.**\n",
    "\n",
    "2. Submit the notebook by saving it as PDF. \n",
    "    * In the cluster environment, it's File | Print (Save as PDF) and submit to [Gradescope](https://www.gradescope.com/courses/182658)<sup>&dagger;</sup>, \n",
    "    * On other versions, it may be File | Download As (PDF) and then submit to [Gradescope](https://www.gradescope.com/courses/182658)<sup>&dagger;</sup>.\n",
    "\n",
    "<sup>&dagger;</sup>To submit to Gradescope, log into the website, add course 9W7PW3 (if not already added) and submit. The assignment name should match the name of this notebook."
   ]
  }
 ],
 "metadata": {
  "kernelspec": {
   "display_name": "Python 3",
   "language": "python",
   "name": "python3"
  },
  "language_info": {
   "codemirror_mode": {
    "name": "ipython",
    "version": 3
   },
   "file_extension": ".py",
   "mimetype": "text/x-python",
   "name": "python",
   "nbconvert_exporter": "python",
   "pygments_lexer": "ipython3",
   "version": "3.7.4"
  }
 },
 "nbformat": 4,
 "nbformat_minor": 2
}

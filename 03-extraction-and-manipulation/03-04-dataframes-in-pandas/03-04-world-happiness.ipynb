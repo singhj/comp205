{
 "cells": [
  {
   "cell_type": "markdown",
   "metadata": {},
   "source": [
    "# World Happiness Report\n",
    "\n",
    "This case study is based on the [7th World Happiness Report](https://worldhappiness.report/ed/2019/). The first was released in April 2012 in support of a UN High level meeting on “Wellbeing and Happiness: Defining a New Economic Paradigm”. That 2012 report presented the available global data on national happiness and reviewed related evidence from the emerging science of happiness, showing that the quality of people’s lives can be coherently, reliably, and validly assessed by a variety of subjective well-being measures, collectively referred to then and in subsequent reports as “happiness.” \n",
    "\n",
    "This year’s World Happiness Report focuses on happiness and the community: how happiness has evolved over the past dozen years, with a focus on the technologies, social norms, conflicts and government policies that have driven those changes.\n",
    "\n",
    "I have downloaded the data from [Chapter 2: Online Data](https://s3.amazonaws.com/happiness-report/2019/Chapter2OnlineData.xls) and filtered out data prior to 2018. The result is available in CSV format, as the file `happiness-report.csv`. _Data Prep Notes:_ The Happiness Score column is from Figure 2.6 in the downloaded report; the other data columns are from Table 2.1 in the same report. If a country wasn't in either list, it wasn't included in the CSV file."
   ]
  },
  {
   "cell_type": "markdown",
   "metadata": {},
   "source": [
    "### 1. Validate the data\n",
    "\n",
    "Even though you are given the downloaded data in `happiness-report.csv`, use the description in the last paragraph to repeat the procedure. Do you get the same results? "
   ]
  },
  {
   "cell_type": "code",
   "execution_count": null,
   "metadata": {},
   "outputs": [],
   "source": [
    "# Execute this cell to compare\n",
    "!comm -3 happiness-report.csv happiness-report-your-copy.csv"
   ]
  },
  {
   "cell_type": "markdown",
   "metadata": {},
   "source": [
    "Did you get the same result?\n",
    "\n",
    "**Explain:**\n",
    "\n",
    "**Irrespective of your answer, use `happiness-report.csv` for the remainder of this notebook.**"
   ]
  },
  {
   "cell_type": "code",
   "execution_count": null,
   "metadata": {
    "scrolled": true
   },
   "outputs": [],
   "source": [
    "import pandas as pd\n",
    "data1 = pd.read_csv('happiness-report.csv')\n",
    "data1"
   ]
  },
  {
   "cell_type": "markdown",
   "metadata": {},
   "source": [
    "### 2. Copy the header from the dataframe &hellip;\n",
    "\n",
    "&hellip; and obtain column names for the first 7 columns."
   ]
  },
  {
   "cell_type": "code",
   "execution_count": null,
   "metadata": {},
   "outputs": [],
   "source": [
    "colnames = # ...fill in...\n",
    "colnames"
   ]
  },
  {
   "cell_type": "markdown",
   "metadata": {},
   "source": [
    "### 3. Create a new dataframe `data2` with just the first 7 columns."
   ]
  },
  {
   "cell_type": "code",
   "execution_count": null,
   "metadata": {},
   "outputs": [],
   "source": [
    "data2 = # ...fill in...\n",
    "data2"
   ]
  },
  {
   "cell_type": "markdown",
   "metadata": {},
   "source": [
    "### 4. Drop invalid rows\n",
    "\n",
    "Look up the pandas method `dropna` and use it to create a new dataframe `data3` with cleaned up data."
   ]
  },
  {
   "cell_type": "code",
   "execution_count": null,
   "metadata": {},
   "outputs": [],
   "source": [
    "data3 # ...fill in...\n",
    "data3"
   ]
  },
  {
   "cell_type": "markdown",
   "metadata": {},
   "source": [
    "### 5. Drop a Column\n",
    "\n",
    "Create a new dataframe `data4` that is the same as `data3` but with the **LifeLadder** column dropped."
   ]
  },
  {
   "cell_type": "code",
   "execution_count": null,
   "metadata": {},
   "outputs": [],
   "source": [
    "data4 = data3 # ...fill in...\n",
    "data4"
   ]
  },
  {
   "cell_type": "markdown",
   "metadata": {},
   "source": [
    "### 6. From `data4`, show the row for United States\n",
    "\n",
    "The Dataframe outputs in the cells above didn't show US and you don't know if the country is called 'USA' or 'United States' or 'United States of America' or something else. _You could look at the underlying file but that isn't the point of this question. The point is to be able to search for things in the dataframe._"
   ]
  },
  {
   "cell_type": "code",
   "execution_count": null,
   "metadata": {},
   "outputs": [],
   "source": [
    "# Fill in"
   ]
  },
  {
   "cell_type": "markdown",
   "metadata": {},
   "source": [
    "### 7. Change a Row\n",
    "\n",
    "Hypothetical scenario: _Belarus_ decides to officially change its name to _Belarussian Republic_ and its happiness score increases by 5%. Copy data4 into data5 and make these changes to data5. Show all rows in data5 that match the substring `russia` (ignoring case, so both Russia and Belarussian Republic would be shown)."
   ]
  },
  {
   "cell_type": "code",
   "execution_count": null,
   "metadata": {},
   "outputs": [],
   "source": [
    "data5 = data4\n",
    "# Fill in"
   ]
  },
  {
   "cell_type": "markdown",
   "metadata": {},
   "source": [
    "### 8. Using our data set\n",
    "\n",
    "We are curious what happens when we split our data between countries where \\\\((HappinessScore \\leq  5 \\\\)). We want to see if there is any significance between these 2 groups. Look through all columns that you think are important and decide the best split by the column with the largest squared difference between the mean of the 2 categories in that column. We want to take every column considered and compare the mean value of a given column of both groups. Then we want to then find the squared difference between them. This lets us score each column to help us measure which has the largest separation of data between the 2 groups. Lastly we want to retrieve the column data of the 2 groups with the largest score (squared difference of means). \n",
    "\n",
    "\\\\(((\\frac{1}{\\text{size of group 1}} \\sum_{x_i \\text{ in group 1}}^{} x_i - \\frac{1}{\\text{size of group 2}} \\sum_{x_j \\text{ in group 2}}^{} x_j )^2\\\\))\n",
    "\n",
    "A plotting function that you can use to visualize your results is provided.\n"
   ]
  },
  {
   "cell_type": "code",
   "execution_count": null,
   "metadata": {},
   "outputs": [],
   "source": [
    "# No need to change this cell. Just run it! It demonstrates plotting.\n",
    "\n",
    "import matplotlib.pyplot as plt\n",
    "\n",
    "def plot(data_less_than_5, data_greater_than_5):\n",
    "    plt.hist((data_less_than_5, data_greater_than_5), 25)\n",
    "    plt.show()\n",
    "\n",
    "x = [1,2,3]\n",
    "y = [5,6,7]\n",
    "\n",
    "plot(x,y)"
   ]
  },
  {
   "cell_type": "code",
   "execution_count": null,
   "metadata": {},
   "outputs": [],
   "source": [
    "# Use this cell for #8. Using our data set"
   ]
  },
  {
   "cell_type": "markdown",
   "metadata": {},
   "source": [
    "# When you're done, submit the notebook\n",
    "\n",
    "1. **Run all the cells in order.**\n",
    "\n",
    "2. Submit the notebook by saving it as PDF. \n",
    "    * In the cluster environment, it's File | Print (Save as PDF) and submit to [Gradescope](https://www.gradescope.com/courses/182658)<sup>&dagger;</sup>, \n",
    "    * On other versions, it may be File | Download As (PDF) and then submit to [Gradescope](https://www.gradescope.com/courses/182658)<sup>&dagger;</sup>.\n",
    "\n",
    "<sup>&dagger;</sup>To submit to Gradescope, log into the website, add course 9W7PW3 (if not already added) and submit. The assignment name should match the name of this notebook."
   ]
  },
  {
   "cell_type": "markdown",
   "metadata": {},
   "source": [
    "![The end](https://live.staticflickr.com/32/89187454_3ae6aded89_b.jpg)"
   ]
  }
 ],
 "metadata": {
  "kernelspec": {
   "display_name": "Python 3",
   "language": "python",
   "name": "python3"
  },
  "language_info": {
   "codemirror_mode": {
    "name": "ipython",
    "version": 3
   },
   "file_extension": ".py",
   "mimetype": "text/x-python",
   "name": "python",
   "nbconvert_exporter": "python",
   "pygments_lexer": "ipython3",
   "version": "3.7.4"
  }
 },
 "nbformat": 4,
 "nbformat_minor": 2
}

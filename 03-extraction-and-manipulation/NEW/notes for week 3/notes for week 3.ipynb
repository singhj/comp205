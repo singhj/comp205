{
 "cells": [
  {
   "cell_type": "code",
   "execution_count": null,
   "metadata": {},
   "outputs": [],
   "source": [
    "from struct import Struct\n",
    "fieldwidths = (2, -10, 24)  # negative widths represent ignored padding fields\n",
    "fmtstring = ' '.join('{}{}'.format(abs(fw), 'x' if fw < 0 else 's')\n",
    "                     for fw in fieldwidths)\n",
    "print(fmtstring)\n",
    "fieldstruct = Struct(fmtstring)\n",
    "unpack = fieldstruct.unpack_from\n",
    "\n",
    "def parse(line): return tuple(s.decode() for s in unpack(line.encode()))\n",
    "\n",
    "file = open(\"fixedwidth.txt\", \"r\")\n",
    "for line in file: \n",
    "    print(parse(line))\n",
    "    "
   ]
  },
  {
   "cell_type": "code",
   "execution_count": 3,
   "metadata": {},
   "outputs": [
    {
     "data": {
      "text/plain": [
       "array([[1234.,  567.,   89.],\n",
       "       [   4.,    7.,    9.],\n",
       "       [   4.,  567.,    9.]])"
      ]
     },
     "execution_count": 3,
     "metadata": {},
     "output_type": "execute_result"
    }
   ],
   "source": [
    "import numpy as np\n",
    "from io import StringIO\n",
    "data = u\"123456789\\n   4  7 9\\n   4567 9\"\n",
    "np.genfromtxt(StringIO(data), delimiter=(4, 3, 2))\n"
   ]
  },
  {
   "cell_type": "code",
   "execution_count": 9,
   "metadata": {},
   "outputs": [
    {
     "data": {
      "text/plain": [
       "array([[0.00000e+00,         nan, 0.00000e+00, 0.00000e+00],\n",
       "       [1.23000e+02,         nan, 1.20000e+01, 3.45678e+05]])"
      ]
     },
     "execution_count": 9,
     "metadata": {},
     "output_type": "execute_result"
    }
   ],
   "source": [
    "file = open(\"fixedwidth.txt\", \"r\")\n",
    "converted = np.genfromtxt(file, delimiter=(4,-3,2, 6))\n",
    "file.close()\n",
    "converted"
   ]
  },
  {
   "cell_type": "code",
   "execution_count": 12,
   "metadata": {},
   "outputs": [
    {
     "name": "stderr",
     "output_type": "stream",
     "text": [
      "C:\\Users\\acouch\\anaconda3\\lib\\site-packages\\ipykernel_launcher.py:2: ConversionWarning: Some errors were detected !\n",
      "    Line #2 (got 5 columns instead of 4)\n",
      "  \n"
     ]
    },
    {
     "data": {
      "text/plain": [
       "array([[ 1.,  2., nan,  3.],\n",
       "       [ 7.,  8., nan,  9.]])"
      ]
     },
     "execution_count": 12,
     "metadata": {},
     "output_type": "execute_result"
    }
   ],
   "source": [
    "file = open(\"commas.csv\", \"r\")\n",
    "converted = np.genfromtxt(file, delimiter=',', invalid_raise=False)\n",
    "file.close()\n",
    "converted"
   ]
  },
  {
   "cell_type": "markdown",
   "metadata": {},
   "source": [
    "This is a test. \n",
    "<font color='red'> \n",
    "This is another. \n",
    "</font> "
   ]
  },
  {
   "cell_type": "code",
   "execution_count": 2,
   "metadata": {},
   "outputs": [
    {
     "name": "stdout",
     "output_type": "stream",
     "text": [
      "ho ho ho \u001b[31m foo \u001b[30m\n",
      "you\n"
     ]
    }
   ],
   "source": [
    "from colorama import Fore\n",
    "print(\"ho ho ho {} {} {}\".format(Fore.RED, \"foo\", Fore.BLACK))\n",
    "print(\"you\")"
   ]
  },
  {
   "cell_type": "code",
   "execution_count": 3,
   "metadata": {},
   "outputs": [
    {
     "name": "stdout",
     "output_type": "stream",
     "text": [
      "\u001b[32m\n",
      "This is a test\n"
     ]
    }
   ],
   "source": [
    "print(Fore.GREEN)\n",
    "print(\"This is a test\")"
   ]
  },
  {
   "cell_type": "code",
   "execution_count": 4,
   "metadata": {},
   "outputs": [
    {
     "name": "stdout",
     "output_type": "stream",
     "text": [
      "ho\n"
     ]
    }
   ],
   "source": [
    "print (\"ho\")"
   ]
  }
 ],
 "metadata": {
  "kernelspec": {
   "display_name": "Python 3",
   "language": "python",
   "name": "python3"
  },
  "language_info": {
   "codemirror_mode": {
    "name": "ipython",
    "version": 3
   },
   "file_extension": ".py",
   "mimetype": "text/x-python",
   "name": "python",
   "nbconvert_exporter": "python",
   "pygments_lexer": "ipython3",
   "version": "3.7.0"
  }
 },
 "nbformat": 4,
 "nbformat_minor": 2
}

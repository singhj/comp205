{
 "cells": [
  {
   "cell_type": "markdown",
   "metadata": {},
   "source": [
    "# A recap of where we are\n",
    "\n",
    "So far, \n",
    "* we know our way around Jupyter Notebooks. \n",
    "     * creating and saving notebooks. \n",
    "     * editing text and programs. \n",
    "     * submitting assignments. \n",
    "* we know how to code basic things in Python/iPython within notebooks.\n",
    "     * assignment\n",
    "     * iteration\n",
    "     * conditionals\n",
    "     * functions\n",
    "* we know the various data structures available in python/iPython: \n",
    "     * lists &mdash; for sequences that can change size.\n",
    "     * tuples &mdash; for things with positional meaning. \n",
    "     * sets &mdash; for sets without duplicates. \n",
    "     * dicts &mdash; for things that are filed by keyword. \n",
    "     * classes &mdash; for data and functions that work together. \n",
    "* and we've been exposed to some deeper concepts in Python and programming in general. \n",
    "     * *encapsulation* &mdash; recording sequences for reuse. \n",
    "     * *preconditions and postconditions* &mdash; how to reuse cells for new tasks. \n",
    "     * *stringification* &mdash; how python allows classes to control how they're printed.\n",
    "\n",
    "So far, however, we've been working at a fairly deep level in the guts of python. The reality is very different: \n",
    "* Data scientists function in Python at a *higher level of abstraction*. \n",
    "* Thus, it is necessary to apply the principles above to *software and patterns written by others.* \n",
    "* Survival and effective function thus requires that we adopt a *consumer approach to python programming.*\n",
    "* *Classes rule.* People have written very powerful classes that utilize the mechanisms I've shown you to raise the level of abstraction in how you program. \n",
    "* You will very seldom interact with the primitive data structures we've seen so far. Instead, we'll interact with classes that accomplish tasks more easily. \n",
    "* *These classes require a new and different set of skills.*\n",
    "\n",
    "# Pivoting to Data Science\n",
    "\n",
    "Instead of going deeper into learning Python, we will now pivot to Data Science &mdash; how to \"do\" Data Science using Python. Foremost among the required skills is familiarity with how to use some of the Python libraries. That is &mdash; indeed &mdash; a somewhat distinct skill. The key to this is data abstraction.\n",
    "\n",
    "# Data abstraction\n",
    "\n",
    "*Data abstraction* refers to the practice of encapsulating ideas about data in classes, and using class methods instead of lower-level python code to accomplish tasks. In a data abstraction situation, \n",
    "* Classes are opaque. You should not need to read the code of a class to use it. \n",
    "* Class methods are documented via *preconditions* (also called *prerequisites*) and postconditions (also called *results*).  \n",
    "* Thus, each class enforces a *contract* with you, that if you give it what it needs, it will provide you with what you need. \n",
    "* Classes are not part of python; they are imported. You only need to import a class once per workbook, in a cell before you use it. \n",
    "\n",
    "\n",
    "# What you need to know in order to use a class\n",
    "* (*Installs:* what do you need to install via `pip install`)\n",
    "* *Imports:* what do you need to import? \n",
    "* *Usage:* what are class methods? What do they do? "
   ]
  },
  {
   "cell_type": "markdown",
   "metadata": {},
   "source": [
    "# The idea of data abstraction\n",
    "\n",
    "* Remember how to use a thing. \n",
    "* Forget about what it actually is. \n",
    "* Forget how it does it. \n",
    "    \n",
    "   *Don't pay attention to that entity behind the curtain.* \n",
    "   to paraphrase and update the  Wizard of Oz. \n",
    "\n",
    "# What is a data structure? \n",
    "* Data abstraction requires creating *data structures* that obey particular rules. \n",
    "* The python concepts of `list`, `set`, `dict`, `tuple` are all data structures. \n",
    "* So are all classes that you or other people might create from them. \n",
    "* A data structure includes: \n",
    "  * a way of inputting data. \n",
    "  * methods for manipulating data. \n",
    "* For example, `Frame.py` from your last module is a very primitive data structure.   \n",
    "\n",
    "# An example: Pandas data types\n",
    "(This and the following workbooks are based upon and motived by https://pandas.pydata.org/docs/user_guide/dsintro.html)\n",
    "\n",
    "One of the most powerful data science packages is *Pandas*. To learn more about it, read https://pandas.pydata.org/ . You can't avoid it. It's ubiquitous. \n",
    "\n",
    "Pandas is structured around several relatively opaque data structures that it uses for everything. To use it, you must \"wrangle\" whatever data you have into its format. This can be trivial or a challenge. What you get for this wrangling is a very well-behaved object with a strong set of properties, methods, etc. From then on, you can do everything you need to do with this object.  \n",
    "\n",
    "Everything we have done so far in the course, and everything I have shown you about Python, is motivated by building a foundation for understanding the Pandas `DataFrame`. But we have to proceed more slowly than that. There are three topics we need to discuss, in order: \n",
    "* `numpy` and the concept of an `ndarray`\n",
    "* Making a pandas `Series` from an `ndarray`. \n",
    "* Making a pandas `DataFrame` from several `Series`. \n",
    "\n",
    "# The data abstraction `ndarray`\n",
    "Our first step \"up the long ladder\" is to understand the `numpy` library and the concept of an `ndarray`. `numpy` is the python numerical computing library. This  workbook is based upon https://docs.scipy.org/doc/numpy/reference/arrays.ndarray.html \n",
    "\n",
    "As a first approximation, `numpy` is a python library for *linear algebra*. It is possible to compute many basic linear algebraic functions (e.g., matrix multiplication) using the package. Its data type underlies the `Series` and `DataFrame` concepts in Pandas, so we need to understand it first.  \n",
    "\n",
    "For example, consider"
   ]
  },
  {
   "cell_type": "code",
   "execution_count": null,
   "metadata": {},
   "outputs": [],
   "source": [
    "import numpy as np\n",
    "x = np.array([1,2,3])\n",
    "x"
   ]
  },
  {
   "cell_type": "code",
   "execution_count": null,
   "metadata": {},
   "outputs": [],
   "source": [
    "y = np.array([4,5,6])\n",
    "y"
   ]
  },
  {
   "cell_type": "code",
   "execution_count": null,
   "metadata": {},
   "outputs": [],
   "source": [
    "x + y"
   ]
  },
  {
   "cell_type": "markdown",
   "metadata": {},
   "source": [
    "# Whoa there! What just happened? \n",
    "\n",
    "The objects x and y are `array`s in `numpy`. Among other things, `numpy` defines how to add `arrays`. The sum of two `array`s is the array resulting from summing each corresponding pair. So, we can also write things like: "
   ]
  },
  {
   "cell_type": "code",
   "execution_count": null,
   "metadata": {},
   "outputs": [],
   "source": [
    "x - y"
   ]
  },
  {
   "cell_type": "code",
   "execution_count": null,
   "metadata": {},
   "outputs": [],
   "source": [
    "x * y"
   ]
  },
  {
   "cell_type": "markdown",
   "metadata": {},
   "source": [
    "# Beyond the mystery and magic\n",
    "This behavior is not magic. It is part of Python class capabilities. Among other things, one can teach a class how to add two class instances! \n",
    "\n",
    "Remember in the Python `class` exercise how I tried to avoid teaching you everything about `class`es? *This is why!* There are a lot of details about `class`es -- including how to do things like this -- that you don't really need to know to be incredibly literate data scientists. It is enough to understand how to use these capabilities. \n",
    "\n",
    "The bottom line is that an `numpy` `array` represents a vector or matrix, and can be used 'like a number' in a lot of contexts, e.g., a lot of common sense things make sense here: "
   ]
  },
  {
   "cell_type": "code",
   "execution_count": null,
   "metadata": {
    "scrolled": true
   },
   "outputs": [],
   "source": [
    "x + 3"
   ]
  },
  {
   "cell_type": "code",
   "execution_count": null,
   "metadata": {},
   "outputs": [],
   "source": [
    "x == y"
   ]
  },
  {
   "cell_type": "code",
   "execution_count": null,
   "metadata": {},
   "outputs": [],
   "source": [
    "y == x + 3"
   ]
  },
  {
   "cell_type": "code",
   "execution_count": null,
   "metadata": {},
   "outputs": [],
   "source": [
    "(y == x + 3).all()"
   ]
  },
  {
   "cell_type": "code",
   "execution_count": null,
   "metadata": {
    "scrolled": true
   },
   "outputs": [],
   "source": [
    "if (y == x + 3).all(): \n",
    "    print(\"they're equal\")\n",
    "else: \n",
    "    print(\"they're not equal\")"
   ]
  },
  {
   "cell_type": "code",
   "execution_count": null,
   "metadata": {},
   "outputs": [],
   "source": [
    "if (x == y).all(): \n",
    "    print(\"they're equal\")\n",
    "else: \n",
    "    print(\"they're not equal\")"
   ]
  },
  {
   "cell_type": "code",
   "execution_count": null,
   "metadata": {},
   "outputs": [],
   "source": [
    "z = np.array([1,3,4])\n",
    "x == z"
   ]
  },
  {
   "cell_type": "code",
   "execution_count": null,
   "metadata": {},
   "outputs": [],
   "source": [
    "if (x == z).any(): \n",
    "    print(\"at least one element is equal\")\n",
    "else: \n",
    "    print(\"no elements are equal\")"
   ]
  },
  {
   "cell_type": "code",
   "execution_count": null,
   "metadata": {},
   "outputs": [],
   "source": [
    "x[0]"
   ]
  },
  {
   "cell_type": "markdown",
   "metadata": {},
   "source": [
    "From these experiments, we can conclude that: \n",
    "* adding a number to an array results in an array. \n",
    "* array indexes start at 0. \n",
    "* you can use `x[i]` to get to the ith element (from 0). \n",
    "* adding an `array` to an `array` of the same size results in an `array` of that size. \n",
    "* using `.any()` and `.all()` on an array represents logical `or` and `and`, respectively. \n",
    "\n",
    "# An aside: there's no `array` in native Python. \n",
    "The implementors of Python didn't create a native `array` type. The main reason for this is that the thing `[1,2,3]` in Python isn't implemented as an array in the sense of Java and C, so we call it something akin to how it's implemented, a `list`. However, for the purpose of linear algebra, we need something that acts like an `array`. So `numpy` provides that. \n",
    "\n",
    "Let's check your understanding of these concepts. "
   ]
  },
  {
   "cell_type": "code",
   "execution_count": null,
   "metadata": {},
   "outputs": [],
   "source": [
    "# Don't change this cell; just run it. \n",
    "from client.api.notebook import Notebook\n",
    "ok = Notebook('03-01-data-abstraction.ok')\n",
    "ok.auth(inline=True)"
   ]
  },
  {
   "cell_type": "markdown",
   "metadata": {},
   "source": [
    "1. Make up an array of the numbers 1 to 5. Put into a variable x."
   ]
  },
  {
   "cell_type": "code",
   "execution_count": null,
   "metadata": {},
   "outputs": [],
   "source": [
    "# your answer: \n",
    "x = np.array([1,2,3,4,5])\n",
    "x"
   ]
  },
  {
   "cell_type": "code",
   "execution_count": null,
   "metadata": {},
   "outputs": [],
   "source": [
    "_ = ok.grade('q01')  # test that your answer is correct "
   ]
  },
  {
   "cell_type": "markdown",
   "metadata": {},
   "source": [
    "2. Write code that sets `y` to the vector created by adding 5 to each element of `x`. "
   ]
  },
  {
   "cell_type": "code",
   "execution_count": null,
   "metadata": {},
   "outputs": [],
   "source": [
    "# Your answer: \n",
    "y = x + 5\n",
    "y"
   ]
  },
  {
   "cell_type": "code",
   "execution_count": null,
   "metadata": {},
   "outputs": [],
   "source": [
    "_ = ok.grade('q02')  # test that your answer is correct "
   ]
  },
  {
   "cell_type": "markdown",
   "metadata": {},
   "source": [
    "# Is the 'for' loop obsolete? \n",
    "\n",
    "Sort of. Let's just say that there are very efficient ways to do things in `numpy` without `for` loops. I'm sure that you could tell me whether 7 is a member of y via a `for` loop. But you can also do that with `arrays` much more simply: \n",
    "\n",
    "3. (Advanced) Consider that `y` *is an iterable* and write an expression that is True if 7 is in `y`, and False if not. Put that value into `z`."
   ]
  },
  {
   "cell_type": "code",
   "execution_count": null,
   "metadata": {},
   "outputs": [],
   "source": [
    "# your answer: \n",
    "z = (7 in y) \n",
    "z"
   ]
  },
  {
   "cell_type": "markdown",
   "metadata": {},
   "source": [
    "# Whoa there! \n",
    "The advanced problem shows that there are things about an `array` that are inherited from its status as something else. E.g., the following also works:"
   ]
  },
  {
   "cell_type": "code",
   "execution_count": null,
   "metadata": {},
   "outputs": [],
   "source": [
    "for i in y: \n",
    "    print(i)"
   ]
  },
  {
   "cell_type": "markdown",
   "metadata": {},
   "source": [
    "# The treasure hunt\n",
    "Most every common thing that you might want to do to an `array` with a `for` loop is easier to do with some `numpy.ndarray` function and/or some combination of those functions and native Python. A very large user community has gone to great expense to make using an `array` as simple as possible! \n",
    "\n",
    "What this means -- in practical terms -- is that it is often simpler to look around for a solution in the *numpy user manual* than to code it yourself. Thus, programming with `numpy` requires both knowledge of native Python and \"treasure hunting\" in the `numpy` documentation! \n",
    "\n",
    "Let's have some fun with a few treasure hunts through https://docs.scipy.org/doc/numpy/reference/arrays.ndarray.html "
   ]
  },
  {
   "cell_type": "markdown",
   "metadata": {},
   "source": [
    "4. Complete the function below so that it always returns the sum of the one-dimensional array `x` passed to it. Beware: I will test it on multiple arrays `x`!"
   ]
  },
  {
   "cell_type": "code",
   "execution_count": null,
   "metadata": {},
   "outputs": [],
   "source": [
    "def mysum(x): \n",
    "    # your answer: \n",
    "    return x.sum()"
   ]
  },
  {
   "cell_type": "code",
   "execution_count": null,
   "metadata": {},
   "outputs": [],
   "source": [
    "# run this to check your code\n",
    "mysum(np.array([1,2,3,4,5]))"
   ]
  },
  {
   "cell_type": "code",
   "execution_count": null,
   "metadata": {
    "scrolled": true
   },
   "outputs": [],
   "source": [
    "_ = ok.grade('q04')  # test that your answer is correct"
   ]
  },
  {
   "cell_type": "markdown",
   "metadata": {},
   "source": [
    "## How to inspect a module\n",
    "\n",
    "Remember our friend `dir()`? It can be quite useful for interrogating a module you just imported.\n",
    "* `dir()` returns all objects currently available.\n",
    "* `dir(x)` returns all symbols under `x`. Note that it is recursive: in other words, `dir(x.y)` returns something sensible.\n",
    "\n",
    "Can you use this trick to find what's in np? And then what's in np.ndarray?"
   ]
  },
  {
   "cell_type": "code",
   "execution_count": null,
   "metadata": {},
   "outputs": [],
   "source": [
    "# What's in np?"
   ]
  },
  {
   "cell_type": "code",
   "execution_count": null,
   "metadata": {},
   "outputs": [],
   "source": [
    "# What's in np.ndarray?"
   ]
  },
  {
   "cell_type": "markdown",
   "metadata": {},
   "source": [
    "## Getting docstrings\n",
    "\n",
    "`dir()` is great but not quite what you want! Try `help(np.ndarray)`. From [PEP 257](https://www.python.org/dev/peps/pep-0257/): \n",
    "> A docstring is a string literal that occurs as the first statement in a module, function, class, or method definition. Such a docstring becomes the __doc__ special attribute of that object. ... <br><br>\n",
    "> String literals occurring elsewhere in Python code may also act as documentation."
   ]
  },
  {
   "cell_type": "code",
   "execution_count": null,
   "metadata": {},
   "outputs": [],
   "source": [
    "# Get the docstring for np.ndarray"
   ]
  },
  {
   "cell_type": "markdown",
   "metadata": {},
   "source": [
    "5. In the function below, return a normalized set of data whose mean is 0.0, by subtracting the current mean from x. "
   ]
  },
  {
   "cell_type": "code",
   "execution_count": null,
   "metadata": {},
   "outputs": [],
   "source": [
    "def renorm(x): \n",
    "    # your answer: \n",
    "    return ..."
   ]
  },
  {
   "cell_type": "code",
   "execution_count": null,
   "metadata": {},
   "outputs": [],
   "source": [
    "# run this to check your code\n",
    "x = np.array([5, 6, 7, 8, 9])\n",
    "renorm(x)"
   ]
  },
  {
   "cell_type": "code",
   "execution_count": null,
   "metadata": {
    "scrolled": false
   },
   "outputs": [],
   "source": [
    "_ = ok.grade('q05')  # test that your answer is correct"
   ]
  },
  {
   "cell_type": "markdown",
   "metadata": {},
   "source": [
    "6. (Advanced) What happens if you try to do the same things you did to arrays to lists? "
   ]
  },
  {
   "cell_type": "markdown",
   "metadata": {},
   "source": [
    "___Your answer:___"
   ]
  },
  {
   "cell_type": "markdown",
   "metadata": {},
   "source": [
    "# When you're done, submit the notebook\n",
    "\n",
    "You can submit a notebook by saving it as PDF. In the cluster environment, it's File | Print (Save as PDF) and submit to Gradescope. https://www.gradescope.com/courses/182658, On other versions, it may be File | Download As (PDF) and then submit to Gradescope.\n",
    "\n",
    "To submit to Gradescope, log into the website, add course 9W7PW3 (if not already added) and submit. The assignment name should match the name of this notebook."
   ]
  }
 ],
 "metadata": {
  "kernelspec": {
   "display_name": "Python 3",
   "language": "python",
   "name": "python3"
  },
  "language_info": {
   "codemirror_mode": {
    "name": "ipython",
    "version": 3
   },
   "file_extension": ".py",
   "mimetype": "text/x-python",
   "name": "python",
   "nbconvert_exporter": "python",
   "pygments_lexer": "ipython3",
   "version": "3.7.4"
  }
 },
 "nbformat": 4,
 "nbformat_minor": 2
}

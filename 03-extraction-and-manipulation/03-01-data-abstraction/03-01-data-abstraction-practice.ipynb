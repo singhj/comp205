{
 "cells": [
  {
   "cell_type": "markdown",
   "metadata": {},
   "source": [
    "# An example to work on:\n",
    "\n",
    "I found [this article](https://www.codementor.io/@hachimy15/quantitative-finance-and-data-visualization-in-python-for-beginners-16apvwc49b)  interesting. It mentions two packages `yfinance` and `yahoofinancials`. It's always a good idea to check out packages on [PyPi](https://pypi.org/) before using them.\n",
    "\n",
    "# Find a package to use\n",
    "\n",
    "We can look for a package by searching for it. Visit [PyPi project search](https://pypi.org/search/). In our case, we enter `yfinance` and `yahoofinancials` into the search box. We obtain instructions for installing, often using `pip`.\n",
    "\n",
    "To install a package `xxx` using `pip`, type\n",
    "\n",
    "> `!pip install xxx`\n",
    "\n"
   ]
  },
  {
   "cell_type": "code",
   "execution_count": null,
   "metadata": {},
   "outputs": [],
   "source": [
    "!pip install yfinance"
   ]
  },
  {
   "cell_type": "code",
   "execution_count": null,
   "metadata": {},
   "outputs": [],
   "source": [
    "!pip install yahoofinancials"
   ]
  },
  {
   "cell_type": "markdown",
   "metadata": {},
   "source": [
    "## Plot the stock price\n",
    "\n",
    "The article cited above tells how to visualize Open, Low, High and Close prices for a stock. Can you replicate the exercise in your notebook? \n",
    "\n",
    "You may find an omission in the article: `plt` is not defined. The author probably deleted an import she shouldn't have. Can you figure out the missing include?"
   ]
  }
 ],
 "metadata": {
  "kernelspec": {
   "display_name": "Python 3",
   "language": "python",
   "name": "python3"
  },
  "language_info": {
   "codemirror_mode": {
    "name": "ipython",
    "version": 3
   },
   "file_extension": ".py",
   "mimetype": "text/x-python",
   "name": "python",
   "nbconvert_exporter": "python",
   "pygments_lexer": "ipython3",
   "version": "3.7.4"
  }
 },
 "nbformat": 4,
 "nbformat_minor": 2
}

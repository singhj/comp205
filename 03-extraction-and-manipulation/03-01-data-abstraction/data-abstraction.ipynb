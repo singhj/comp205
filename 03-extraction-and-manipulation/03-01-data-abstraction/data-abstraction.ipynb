{
 "cells": [
  {
   "cell_type": "markdown",
   "metadata": {},
   "source": [
    "# An important note about course materials\n",
    "\n",
    "As of this week, \n",
    "* There are no separate lecture notes. \n",
    "* Lecture notes are incorporated directly into your workbooks. \n",
    "* This directory contains all student workbooks, listed in the order in which you should complete them.\n",
    "* Thus, you can work entirely in JupyterHub and never go back to Canvas. \n",
    "* This makes it easier to find everything, and will likely continue. \n",
    "* Please relay any concerns to me through Piazza. Thanks! \n",
    "\n",
    "Prof. Couch\n",
    "\n",
    "Please run the following cell to show an overview video"
   ]
  },
  {
   "cell_type": "code",
   "execution_count": 1,
   "metadata": {},
   "outputs": [
    {
     "data": {
      "text/html": [
       "<iframe id=\"kaltura_player\" src=\"https://cdnapisec.kaltura.com/p/1813261/sp/181326100/embedIframeJs/uiconf_id/38997502/partner_id/1813261?iframeembed=true&playerId=kaltura_player&entry_id=1_govlzyqa&flashvars[streamerType]=auto&amp;flashvars[localizationCode]=en&amp;flashvars[leadWithHTML5]=true&amp;flashvars[sideBarContainer.plugin]=true&amp;flashvars[sideBarContainer.position]=left&amp;flashvars[sideBarContainer.clickToClose]=true&amp;flashvars[chapters.plugin]=true&amp;flashvars[chapters.layout]=vertical&amp;flashvars[chapters.thumbnailRotator]=false&amp;flashvars[streamSelector.plugin]=true&amp;flashvars[EmbedPlayer.SpinnerTarget]=videoHolder&amp;flashvars[dualScreen.plugin]=true&amp;flashvars[Kaltura.addCrossoriginToIframe]=true&amp;&wid=1_3qf4xznt\" width=\"512\" height=\"288\" allowfullscreen webkitallowfullscreen mozAllowFullScreen allow=\"autoplay *; fullscreen *; encrypted-media *\" frameborder=\"0\" title=\"Kaltura Player\"></iframe>\n"
      ],
      "text/plain": [
       "<IPython.core.display.HTML object>"
      ]
     },
     "metadata": {},
     "output_type": "display_data"
    }
   ],
   "source": [
    "%%html\n",
    "<iframe id=\"kaltura_player\" src=\"https://cdnapisec.kaltura.com/p/1813261/sp/181326100/embedIframeJs/uiconf_id/38997502/partner_id/1813261?iframeembed=true&playerId=kaltura_player&entry_id=1_govlzyqa&flashvars[streamerType]=auto&amp;flashvars[localizationCode]=en&amp;flashvars[leadWithHTML5]=true&amp;flashvars[sideBarContainer.plugin]=true&amp;flashvars[sideBarContainer.position]=left&amp;flashvars[sideBarContainer.clickToClose]=true&amp;flashvars[chapters.plugin]=true&amp;flashvars[chapters.layout]=vertical&amp;flashvars[chapters.thumbnailRotator]=false&amp;flashvars[streamSelector.plugin]=true&amp;flashvars[EmbedPlayer.SpinnerTarget]=videoHolder&amp;flashvars[dualScreen.plugin]=true&amp;flashvars[Kaltura.addCrossoriginToIframe]=true&amp;&wid=1_3qf4xznt\" width=\"512\" height=\"288\" allowfullscreen webkitallowfullscreen mozAllowFullScreen allow=\"autoplay *; fullscreen *; encrypted-media *\" frameborder=\"0\" title=\"Kaltura Player\"></iframe>"
   ]
  },
  {
   "cell_type": "markdown",
   "metadata": {},
   "source": [
    "# A recap of where we are\n",
    "\n",
    "So far, \n",
    "* we know our way around Jupyter Notebooks. \n",
    "     * creating and saving notebooks. \n",
    "     * editing text and programs. \n",
    "     * submitting assignments. \n",
    "* we know how to code basic things in Python/iPython within notebooks.\n",
    "     * assignment\n",
    "     * iteration\n",
    "     * conditionals\n",
    "     * functions\n",
    "* we know the various data structures available in python/iPython: \n",
    "     * lists -- for sequences that can change size.\n",
    "     * tuples -- for things with positional meaning. \n",
    "     * sets -- for sets without duplicates. \n",
    "     * dicts -- for things that are filed by keyword. \n",
    "     * classes -- for data and functions that work together. \n",
    "* and we've been exposed to some deeper concepts in Python and programming in general. \n",
    "     * *encapsulation* -- recording sequences for reuse. \n",
    "     * *preconditions and postconditions* -- how to reuse cells for new tasks. \n",
    "     * *stringification* -- how python allows classes to control how they're printed.\n",
    "\n",
    "So far, however, we've been working at a fairly deep level in the guts of python. The reality is that: \n",
    "* Data scientists function in Python at a *higher level of abstraction*. \n",
    "* Thus, it is necessary to apply the principles above to *software and patterns written by others.* \n",
    "* Survival and effective function thus requires that we adopt a *consumer approach to python programming.*\n",
    "* *Classes rule.* People have written very powerful classes that utilize the mechanisms I've shown you to raise the level of abstraction in how you program. \n",
    "* You will very seldom interact with the primitive data structures we've seen so far. Instead, we'll interact with classes that accomplish tasks more easily. \n",
    "* *These classes require a new and different set of skills.*\n",
    "\n",
    "# A personal note\n",
    "At this point in the course, I am *straining to avoid* turning you into master Python programmers. Actually, that isn't needed. Instead, I need to turn you into master *consumers* of other peoples' Python programs. That is -- indeed -- a somewhat distinct skill. \n",
    "\n",
    "# Data abstraction\n",
    "\n",
    "*Data abstraction* refers to the practice of encapsulating ideas about data in classes, and using class methods instead of lower-level python code to accomplish tasks. In a data abstraction situation, \n",
    "* Classes are opaque. You should not need to read the code of a class to use it. \n",
    "* Class methods are documented via *preconditions* (also called *prerequisites*) and postconditions (also called *results*).  \n",
    "* Thus, each class enforces a *contract* with you, that if you give it what it needs, it will provide you with what you need. \n",
    "* Classes are not part of python; they are imported. You only need to import a class once per workbook, in a cell before you use it. \n",
    "\n",
    "\n",
    "# What you need to know in order to use a class\n",
    "* (*Installs:* what do you need to install via `pip install`)\n",
    "* *Imports:* what do you need to import? \n",
    "* *Usage:* what are class methods? What do they do? \n",
    "\n",
    "# An example: okpy\n",
    "* Imports: `from client.api.notebook import Notebook`\n",
    "* Installs: `pip install okpy`  (I did this for you in https://jupyterhub.cs.tufts.edu)\n",
    "* Usage: `ok = Notebook('Data Abstraction.ok')` and then: \n",
    "    * `ok.auth({options})`: authenticate a student. \n",
    "    * `ok.grade({assignment})` Grade an assignment\n",
    "    * `ok.submit()` submit the whole notebook for grading. \n",
    "\n",
    "You start using this via: "
   ]
  },
  {
   "cell_type": "code",
   "execution_count": null,
   "metadata": {},
   "outputs": [],
   "source": [
    "# Don't change this cell; just run it. \n",
    "from client.api.notebook import Notebook\n",
    "ok = Notebook('Data abstraction.ok')\n",
    "ok.auth(inline=True)"
   ]
  },
  {
   "cell_type": "markdown",
   "metadata": {},
   "source": [
    "# How okpy actually works\n",
    "A. I edit a configuration file `Data abstraction.ok` that tells it how to function. Run the cell below to display it. "
   ]
  },
  {
   "cell_type": "code",
   "execution_count": null,
   "metadata": {},
   "outputs": [],
   "source": [
    "# run this cell to display the contents of the file\n",
    "%pycat Data abstraction.ok"
   ]
  },
  {
   "cell_type": "markdown",
   "metadata": {},
   "source": [
    "B. I edit tests in the subdirectory `tests`. These have names `question.py` where `question` is the number of the question. \n",
    "For example, here is the test for question 1: "
   ]
  },
  {
   "cell_type": "code",
   "execution_count": null,
   "metadata": {},
   "outputs": [],
   "source": [
    "# run this cell to display the contents of the file\n",
    "%pycat tests/q01.py"
   ]
  },
  {
   "cell_type": "markdown",
   "metadata": {},
   "source": [
    "# The idea of data abstraction\n",
    "\n",
    "* Remember how to use a thing. \n",
    "* Forget about what it actually is. \n",
    "* Forget how it does it. \n",
    "    \n",
    "   *Don't pay attention to that entity behind the curtain.* \n",
    "   to paraphrase and update the  Wizard of Oz. \n",
    "\n",
    "# What is a data structure? \n",
    "* Data abstraction requires creating *data structures* that obey particular rules. \n",
    "* The python concepts of `list`, `set`, `dict`, `tuple` are all data structures. \n",
    "* So are all classes that you or other people might create from them. \n",
    "* A data structure includes: \n",
    "  * a way of inputting data. \n",
    "  * methods for manipulating data. \n",
    "* For example, `Frame.py` from your last module is a very primitive data structure.   \n",
    "\n",
    "# An example: Pandas data types\n",
    "(This and the following workbooks are based upon and motived by https://pandas.pydata.org/pandas-docs/version/0.21/dsintro.htm)\n",
    "\n",
    "One of the most powerful data science packages is *Pandas*. To learn more about it, read https://pandas.pydata.org/ . You can't avoid it. It's ubiquitous. \n",
    "\n",
    "Pandas is structured around several relatively opaque data structures that it uses for everything. To use it, you must \"wrangle\" whatever data you have into its format. This can be trivial or a challenge. What you get for this wrangling is a very well-behaved object with a strong set of properties, methods, etc. From then on, you can do everything you need to do with this object.  \n",
    "\n",
    "Everything we have done so far in the course, and everything I have shown you about Python, is motivated by building a foundation for understanding the Pandas `DataFrame`. But we have to proceed more slowly than that. There are three topics we need to discuss, in order: \n",
    "* `numpy` and the concept of an `ndarray`\n",
    "* Making a pandas `Series` from an `ndarray`. \n",
    "* Making a pandas `DataFrame` from several `Series`. \n",
    "\n",
    "# The data abstraction `ndarray`\n",
    "Our first step \"up the long ladder\" is to understand the `numpy` library and the concept of an `ndarray`. `numpy` is the python numerical computing library. This  workbook is based upon https://docs.scipy.org/doc/numpy/reference/arrays.ndarray.html \n",
    "\n",
    "As a first approximation, `numpy` is a python library for *linear algebra*. It is possible to compute many basic linear algebraic functions (e.g., matrix multiplication) using the package. Its data type underlies the `Series` and `DataFrame` concepts in Pandas, so we need to understand it first.  \n",
    "\n",
    "For example, consider"
   ]
  },
  {
   "cell_type": "code",
   "execution_count": null,
   "metadata": {},
   "outputs": [],
   "source": [
    "import numpy as np\n",
    "x = np.array([1,2,3])\n",
    "x"
   ]
  },
  {
   "cell_type": "code",
   "execution_count": null,
   "metadata": {},
   "outputs": [],
   "source": [
    "y = np.array([4,5,6])\n",
    "y"
   ]
  },
  {
   "cell_type": "code",
   "execution_count": null,
   "metadata": {},
   "outputs": [],
   "source": [
    "x + y"
   ]
  },
  {
   "cell_type": "markdown",
   "metadata": {},
   "source": [
    "# Whoa there! What just happened? \n",
    "\n",
    "The objects x and y are `array`s in `numpy`. Among other things, `numpy` defines how to add `arrays`. The sum of two `array`s is the array resulting from summing each corresponding pair. So, we can also write things like: "
   ]
  },
  {
   "cell_type": "code",
   "execution_count": null,
   "metadata": {},
   "outputs": [],
   "source": [
    "x - y"
   ]
  },
  {
   "cell_type": "code",
   "execution_count": null,
   "metadata": {},
   "outputs": [],
   "source": [
    "x * y"
   ]
  },
  {
   "cell_type": "markdown",
   "metadata": {},
   "source": [
    "# Beyond the mystery and magic\n",
    "This behavior is not magic. It is part of Python class capabilities. Among other things, one can teach a class how to add two class instances! \n",
    "\n",
    "Remember in the Python `class` exercise how I tried to avoid teaching you everything about `class`es? *This is why!* There are a lot of details about `class`es -- including how to do things like this -- that you don't really need to know to be incredibly literate data scientists. It is enough to understand how to use these capabilities. \n",
    "\n",
    "The bottom line is that an `numpy` `array` represents a vector or matrix, and can be used 'like a number' in a lot of contexts, e.g., a lot of common sense things make sense here: "
   ]
  },
  {
   "cell_type": "code",
   "execution_count": null,
   "metadata": {
    "scrolled": true
   },
   "outputs": [],
   "source": [
    "x + 3"
   ]
  },
  {
   "cell_type": "code",
   "execution_count": null,
   "metadata": {},
   "outputs": [],
   "source": [
    "x == y"
   ]
  },
  {
   "cell_type": "code",
   "execution_count": null,
   "metadata": {},
   "outputs": [],
   "source": [
    "y == x + 3"
   ]
  },
  {
   "cell_type": "code",
   "execution_count": null,
   "metadata": {},
   "outputs": [],
   "source": [
    "(y == x + 3).all()"
   ]
  },
  {
   "cell_type": "code",
   "execution_count": null,
   "metadata": {
    "scrolled": true
   },
   "outputs": [],
   "source": [
    "if (y == x + 3).all(): \n",
    "    print(\"they're equal\")\n",
    "else: \n",
    "    print(\"they're not equal\")"
   ]
  },
  {
   "cell_type": "code",
   "execution_count": null,
   "metadata": {},
   "outputs": [],
   "source": [
    "if (x == y).all(): \n",
    "    print(\"they're equal\")\n",
    "else: \n",
    "    print(\"they're not equal\")"
   ]
  },
  {
   "cell_type": "code",
   "execution_count": null,
   "metadata": {},
   "outputs": [],
   "source": [
    "z = np.array([1,3,4])\n",
    "x == z"
   ]
  },
  {
   "cell_type": "code",
   "execution_count": null,
   "metadata": {},
   "outputs": [],
   "source": [
    "if (x == z).any(): \n",
    "    print(\"at least one element is equal\")\n",
    "else: \n",
    "    print(\"no elements are equal\")"
   ]
  },
  {
   "cell_type": "code",
   "execution_count": null,
   "metadata": {},
   "outputs": [],
   "source": [
    "x[0]"
   ]
  },
  {
   "cell_type": "markdown",
   "metadata": {},
   "source": [
    "From these experiments, we can conclude that: \n",
    "* adding a number to an array results in an array. \n",
    "* array indexes start at 0. \n",
    "* you can use `x[i]` to get to the ith element (from 0). \n",
    "* adding an `array` to an `array` of the same size results in an `array` of that size. \n",
    "* using `.any()` and `.all()` on an array represents logical `or` and `and`, respectively. \n",
    "\n",
    "# An aside: there's no `array` in native Python. \n",
    "The implementors of Python didn't create a native `array` type. The main reason for this is that the thing `[1,2,3]` in Python isn't implemented as an array in the sense of Java and C, so we call it something akin to how it's implemented, a `list`. However, for the purpose of linear algebra, we need something that acts like an `array`. So `numpy` provides that. \n",
    "\n",
    "Let's check your understanding of these concepts. "
   ]
  },
  {
   "cell_type": "code",
   "execution_count": null,
   "metadata": {},
   "outputs": [],
   "source": [
    "# Don't change this cell; just run it. \n",
    "from client.api.notebook import Notebook\n",
    "ok = Notebook('Data abstraction.ok')\n",
    "ok.auth(inline=True)"
   ]
  },
  {
   "cell_type": "markdown",
   "metadata": {},
   "source": [
    "1. Make up an array of the numbers 1 to 5. Put into a variable x."
   ]
  },
  {
   "cell_type": "code",
   "execution_count": null,
   "metadata": {},
   "outputs": [],
   "source": [
    "# your answer: \n",
    "x = np.array([1,2,3,4,5])\n",
    "x"
   ]
  },
  {
   "cell_type": "code",
   "execution_count": null,
   "metadata": {},
   "outputs": [],
   "source": [
    "_ = ok.grade('q01')  # test that your answer is correct "
   ]
  },
  {
   "cell_type": "markdown",
   "metadata": {},
   "source": [
    "2. Write code that sets `y` to the vector created by adding 5 to each element of `x`. "
   ]
  },
  {
   "cell_type": "code",
   "execution_count": null,
   "metadata": {},
   "outputs": [],
   "source": [
    "# Your answer: \n",
    "y = x + 5\n",
    "y"
   ]
  },
  {
   "cell_type": "code",
   "execution_count": null,
   "metadata": {},
   "outputs": [],
   "source": [
    "_ = ok.grade('q02')  # test that your answer is correct "
   ]
  },
  {
   "cell_type": "markdown",
   "metadata": {},
   "source": [
    "# Is the 'for' loop obsolete? \n",
    "\n",
    "Sort of. Let's just say that there are very efficient ways to do things in `numpy` without `for` loops. I'm sure that you could tell me whether 7 is a member of y via a `for` loop. But you can also do that with `arrays` much more simply: \n",
    "\n",
    "3. (Advanced) Consider that `y` *is an iterable* and write an expression that is True if 7 is in `y`, and False if not. Put that value into `z`."
   ]
  },
  {
   "cell_type": "code",
   "execution_count": null,
   "metadata": {},
   "outputs": [],
   "source": [
    "# your answer: \n",
    "z = (7 in y) \n",
    "z"
   ]
  },
  {
   "cell_type": "markdown",
   "metadata": {},
   "source": [
    "# Whoa there! \n",
    "The advanced problem shows that there are things about an `array` that are inherited from its status as something else. E.g., the following also works:"
   ]
  },
  {
   "cell_type": "code",
   "execution_count": null,
   "metadata": {},
   "outputs": [],
   "source": [
    "for i in y: \n",
    "    print(i)"
   ]
  },
  {
   "cell_type": "markdown",
   "metadata": {},
   "source": [
    "# The treasure hunt\n",
    "Most every common thing that you might want to do to an `array` with a `for` loop is easier to do with some `numpy.ndarray` function and/or some combination of those functions and native Python. A very large user community has gone to great expense to make using an `array` as simple as possible! \n",
    "\n",
    "What this means -- in practical terms -- is that it is often simpler to look around for a solution in the *numpy user manual* than to code it yourself. Thus, programming with `numpy` requires both knowledge of native Python and \"treasure hunting\" in the `numpy` documentation! \n",
    "\n",
    "Let's have some fun with a few treasure hunts through https://docs.scipy.org/doc/numpy/reference/arrays.ndarray.html "
   ]
  },
  {
   "cell_type": "markdown",
   "metadata": {},
   "source": [
    "4. Complete the function below so that it always returns the sum of the one-dimensional array `x` passed to it. Beware: I will test it on multiple arrays `x`!"
   ]
  },
  {
   "cell_type": "code",
   "execution_count": null,
   "metadata": {},
   "outputs": [],
   "source": [
    "def mysum(x): \n",
    "    # your answer: \n",
    "    return x.sum()"
   ]
  },
  {
   "cell_type": "code",
   "execution_count": null,
   "metadata": {},
   "outputs": [],
   "source": [
    "# run this to check your code\n",
    "mysum(np.array([1,2,3,4,5]))"
   ]
  },
  {
   "cell_type": "code",
   "execution_count": null,
   "metadata": {
    "scrolled": true
   },
   "outputs": [],
   "source": [
    "_ = ok.grade('q04')  # test that your answer is correct"
   ]
  },
  {
   "cell_type": "markdown",
   "metadata": {},
   "source": [
    "5. In the function below, return a normalized set of data whose mean is 0.0, by subtracting the current mean from x. "
   ]
  },
  {
   "cell_type": "code",
   "execution_count": null,
   "metadata": {},
   "outputs": [],
   "source": [
    "def renorm(x): \n",
    "    # your answer: \n",
    "    return x - x.mean()"
   ]
  },
  {
   "cell_type": "code",
   "execution_count": null,
   "metadata": {},
   "outputs": [],
   "source": [
    "# run this to check your code\n",
    "x = np.array([5, 6, 7, 8, 9])\n",
    "renorm(x)"
   ]
  },
  {
   "cell_type": "code",
   "execution_count": null,
   "metadata": {
    "scrolled": false
   },
   "outputs": [],
   "source": [
    "_ = ok.grade('q05')  # test that your answer is correct"
   ]
  },
  {
   "cell_type": "markdown",
   "metadata": {},
   "source": [
    "6. (Advanced) What happens if you try to do the same things you did to arrays to lists? "
   ]
  },
  {
   "cell_type": "markdown",
   "metadata": {},
   "source": [
    "___Your answer:___"
   ]
  },
  {
   "cell_type": "markdown",
   "metadata": {},
   "source": [
    "# When you are done with this notebook, \n",
    "* Save and checkpoint. \n",
    "* Change `ready` to `True` in the cell below. \n",
    "* Run the cell below. "
   ]
  },
  {
   "cell_type": "code",
   "execution_count": null,
   "metadata": {},
   "outputs": [],
   "source": [
    "ready = False  # change to True when ready to submit\n",
    "if not ready: \n",
    "    raise Exception(\"change ready to True when ready to submit\")\n",
    "_ = ok.submit()"
   ]
  }
 ],
 "metadata": {
  "kernelspec": {
   "display_name": "Python 3",
   "language": "python",
   "name": "python3"
  },
  "language_info": {
   "codemirror_mode": {
    "name": "ipython",
    "version": 3
   },
   "file_extension": ".py",
   "mimetype": "text/x-python",
   "name": "python",
   "nbconvert_exporter": "python",
   "pygments_lexer": "ipython3",
   "version": "3.7.4"
  }
 },
 "nbformat": 4,
 "nbformat_minor": 2
}

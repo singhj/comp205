{
 "cells": [
  {
   "cell_type": "markdown",
   "metadata": {},
   "source": [
    "# Analyzing Retail Data using Pandas\n",
    "\n",
    "This exercise involves processing a sampled dataset from a UK-based online retailer.\n",
    "The original dataset has over a million records &mdash; Excel won't even let you load it!\n",
    "Pandas will let you load it and process it but, in the interest of not overloading our server, we'll only work with about 0.1% of the rows.\n",
    "1. Read in the data from the dataset `online_retail_II.csv`. \n",
    "A fair number of the records are bad &mdash; having null or empty fields where there should be data. Just throw those records away at the outset using `dropna()`.\n",
    "1. Sample invoice numbers by computing the remainder after dividing by 1009 (the smallest prime number greater than 1000). \n",
    "If the remainder is zero, choose the invoice, otherwise throw it away.\n",
    "1. But there are a couple of wrinkles to keep in mind:\n",
    "    * An invoice represents a shopping cart and it can contain multiple items. \n",
    "    If we want to keep an invoice in our sampling, we must keep all items in that shopping cart.\n",
    "    If we want to not keep it, we must not keep any of the items in it.\n",
    "    * Some invoice numbers start with a \"C.\" Invoice number C123456 is to be interpreted as a return of items in invoice 123456.\n",
    "    If we want to keep an invoice in our sampled dataset, we must also keep its corresponding return, if one exists."
   ]
  },
  {
   "cell_type": "code",
   "execution_count": null,
   "metadata": {},
   "outputs": [],
   "source": [
    "import pandas as pd"
   ]
  },
  {
   "cell_type": "markdown",
   "metadata": {},
   "source": [
    "## 1. Read in the data\n",
    "\n",
    "The code for initial reading of the data is provided in the next cell. You need only run it!"
   ]
  },
  {
   "cell_type": "code",
   "execution_count": null,
   "metadata": {},
   "outputs": [],
   "source": [
    "data = pd.read_csv('online_retail_II.csv', encoding='utf-8')\n",
    "data.dropna(inplace=True)\n",
    "data = data.reset_index().drop('index',axis=1)\n",
    "data['Total'] = data['Price'] * data['Quantity']\n",
    "data.rename(columns={\"Customer ID\": \"CustomerID\"}, errors=\"raise\", inplace=True)\n",
    "print (\"Incoming rows:\", len(data), \"Incoming customers:\", len(data['CustomerID'].unique()))\n",
    "data"
   ]
  },
  {
   "cell_type": "markdown",
   "metadata": {},
   "source": [
    "## 1a. What does the `data = data.reset_index()`&hellip; line above do?\n",
    "\n",
    "**Your Answer** \n",
    "\n",
    "---"
   ]
  },
  {
   "cell_type": "markdown",
   "metadata": {},
   "source": [
    "## 2. Add a new column `inum` to `data`&hellip;\n",
    "\n",
    "The new column `inum` should be the Invoice number if it is a regular invoice and have the \"C\" tripped out if it is a return. Hint: Use [`pandas.DataFrame.apply()`](https://pandas.pydata.org/pandas-docs/stable/reference/api/pandas.DataFrame.apply.html).\n",
    "\n",
    "Write the result into a new dataframe `data2`."
   ]
  },
  {
   "cell_type": "code",
   "execution_count": null,
   "metadata": {},
   "outputs": [],
   "source": [
    "# Fill in \n",
    "data2 = ...\n",
    "data2"
   ]
  },
  {
   "cell_type": "markdown",
   "metadata": {},
   "source": [
    "## 3. Choose rows in `data2` with `inum modulo 1009 == 0`\n",
    "\n",
    "Store the result in a new dataframe `data3`."
   ]
  },
  {
   "cell_type": "code",
   "execution_count": null,
   "metadata": {},
   "outputs": [],
   "source": [
    "# Fill in\n",
    "data3 = ...\n",
    "data3"
   ]
  },
  {
   "cell_type": "markdown",
   "metadata": {},
   "source": [
    "## 3a. Analysis Validation\n",
    "\n",
    "1. How many rows are in `data3`?\n",
    "2. All things being equal, because of the modulo 1009 calculation, what would you expect the row count for `data3` to be?\n",
    "3. Is the number of rows in `data3` consistent with what you might have expected?\n",
    "\n",
    "---"
   ]
  },
  {
   "cell_type": "markdown",
   "metadata": {},
   "source": [
    "## 4. What countries are represented in `data3`?"
   ]
  },
  {
   "cell_type": "code",
   "execution_count": null,
   "metadata": {},
   "outputs": [],
   "source": [
    "# Fill in\n",
    "..."
   ]
  },
  {
   "cell_type": "markdown",
   "metadata": {},
   "source": [
    "## 5. Aggregate values for `data3` by Country\n",
    "\n",
    "Show the minimum, maximum, mean, count and sums for the invoices by Country"
   ]
  },
  {
   "cell_type": "code",
   "execution_count": null,
   "metadata": {},
   "outputs": [],
   "source": [
    "# Fill in\n",
    "..."
   ]
  },
  {
   "cell_type": "markdown",
   "metadata": {},
   "source": [
    "![The end](https://live.staticflickr.com/32/89187454_3ae6aded89_b.jpg)"
   ]
  }
 ],
 "metadata": {
  "kernelspec": {
   "display_name": "Python 3",
   "language": "python",
   "name": "python3"
  },
  "language_info": {
   "codemirror_mode": {
    "name": "ipython",
    "version": 3
   },
   "file_extension": ".py",
   "mimetype": "text/x-python",
   "name": "python",
   "nbconvert_exporter": "python",
   "pygments_lexer": "ipython3",
   "version": "3.8.3"
  }
 },
 "nbformat": 4,
 "nbformat_minor": 4
}

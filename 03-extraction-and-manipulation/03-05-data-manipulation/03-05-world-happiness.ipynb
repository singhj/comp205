{
 "cells": [
  {
   "cell_type": "markdown",
   "metadata": {},
   "source": [
    "# <span style=\"color:blue\">03-05 Assignment: World Happiness Analysis </span>\n",
    "\n",
    "This assignment is based on our previous assignment regarding the [7th World Happiness Report](https://worldhappiness.report/ed/2019/) and builds on it by merging with population data from a [different source](https://www.kaggle.com/tanuprabhu/population-by-country-2020).\n",
    "\n",
    "We are interested in learning how well some of the happiness parameters correlate with some of the population parameters."
   ]
  },
  {
   "cell_type": "markdown",
   "metadata": {},
   "source": [
    "### 1. Process happiness data as before"
   ]
  },
  {
   "cell_type": "code",
   "execution_count": null,
   "metadata": {
    "scrolled": true
   },
   "outputs": [],
   "source": [
    "import pandas as pd\n",
    "happy1 = pd.read_csv('../03-04-dataframes-in-pandas/happiness-report.csv')\n",
    "hap_attrs = list(happy1.columns)"
   ]
  },
  {
   "cell_type": "markdown",
   "metadata": {},
   "source": [
    "### 2. Drop some columns that will not be part of our analysis &hellip;\n",
    "\n",
    "&hellip; as coded in the next cell.\n",
    "\n",
    "Also drop rows with null values and see the resulting dataframe."
   ]
  },
  {
   "cell_type": "code",
   "execution_count": null,
   "metadata": {},
   "outputs": [],
   "source": [
    "# Fill in\n",
    "happy2 = happy2.drop(columns = ['LifeLadder', 'ConfidenceInNationalGovernment', 'PerceptionsOfCorruption'])\n",
    "happy3 = happy2.drop(columns = ['FreedomToMakeLifeChoices','Generosity','PositiveAffect','NegativeAffect', 'Year'])"
   ]
  },
  {
   "cell_type": "code",
   "execution_count": null,
   "metadata": {},
   "outputs": [],
   "source": [
    "pop1 = pd.read_csv('population_by_country_2020.csv')\n",
    "pop_attrs = list(pop1.columns)\n",
    "pop1"
   ]
  },
  {
   "cell_type": "markdown",
   "metadata": {},
   "source": [
    "### 3. Read population data &hellip;\n",
    "\n",
    "&hellip; and also drop some columns we will not be using in our analysis, as coded in the next cell.\n",
    "\n",
    "1. Rename the first two columns to _Country_ and _Population_ respectively.\n",
    "2. Drop rows with null values.\n",
    "3. Drop rows where _Med. Age_ is N.A. and\n",
    "4. See the resulting dataframe."
   ]
  },
  {
   "cell_type": "code",
   "execution_count": null,
   "metadata": {},
   "outputs": [],
   "source": [
    "# Fill in..."
   ]
  },
  {
   "cell_type": "markdown",
   "metadata": {},
   "source": [
    "### 4. Merge the two datasets together, treating `Country` as the common attribute\n",
    "\n",
    "If a Country is listed in one dataset but not in the other, it won't be needed for our analysis. We are interested in truly merging the two datasets.\n",
    "\n",
    "Arrange the combined dataset in _descending_ order of population."
   ]
  },
  {
   "cell_type": "code",
   "execution_count": null,
   "metadata": {},
   "outputs": [],
   "source": [
    "# Fill in..."
   ]
  },
  {
   "cell_type": "markdown",
   "metadata": {},
   "source": [
    "### 5. Calculate the correlation matrix between the columns of the combined dataset\n",
    "\n",
    "It should look somewhat like this, with 1.0 along the diagonal and correlation values everywhere else. Since correlation is symmetric, i.e., correlation between A and B is the same as the correlation between B and A, we expect this matrix to be symmetrical.\n",
    "\n",
    "Hint: Use the `dataframe.corr()` function\n",
    "\n",
    "| Correlation\t| Population  \t| Density (P/Km²)  \t| HappinessScore  \t| LogGDP  \t| SocialSupport | HealthyLifeExpectancyAtBirth  \t|\n",
    "|---\t|---\t|---\t|---\t|---\t|---\t|---\t|\n",
    "| Population  \t|   1.0\t|   \t|   \t|   \t|   \t|\n",
    "| Density (P/Km²)  \t|   \t| 1.0  \t|   \t|   \t|   \t|\n",
    "| HappinessScore  \t|   \t|   \t| 1.0  \t|   \t|   \t|\n",
    "| LogGDP  \t    |   \t|   \t|   \t| 1.0 \t|  \t|  |\n",
    "| SocialSupport  \t|   \t|   \t|   \t|   \t| 1.0  \t|\n",
    "| HealthyLifeExpectancyAtBirth  \t|   \t|   \t|   \t|   \t|  \t| 1.0  \t|"
   ]
  },
  {
   "cell_type": "code",
   "execution_count": null,
   "metadata": {},
   "outputs": [],
   "source": [
    "corrMatrix = # Fill in...\n",
    "corrMatrix"
   ]
  },
  {
   "cell_type": "markdown",
   "metadata": {},
   "source": [
    "### 6. What attribute(s) correlate most strongly with Happiness?\n",
    "\n",
    "**Your Answer**"
   ]
  },
  {
   "cell_type": "markdown",
   "metadata": {},
   "source": [
    "# When you're done, submit the notebook\n",
    "\n",
    "1. **Run all the cells in order.**\n",
    "\n",
    "2. Submit the notebook by saving it as PDF. \n",
    "    * In the cluster environment, it's File | Print (Save as PDF) and submit to [Gradescope](https://www.gradescope.com/courses/182658)<sup>&dagger;</sup>, \n",
    "    * On other versions, it may be File | Download As (PDF) and then submit to [Gradescope](https://www.gradescope.com/courses/182658)<sup>&dagger;</sup>.\n",
    "\n",
    "<sup>&dagger;</sup>To submit to Gradescope, log into the website, add course 9W7PW3 (if not already added) and submit. The assignment name should match the name of this notebook."
   ]
  },
  {
   "cell_type": "markdown",
   "metadata": {},
   "source": [
    "![The end](https://live.staticflickr.com/32/89187454_3ae6aded89_b.jpg)"
   ]
  },
  {
   "cell_type": "code",
   "execution_count": null,
   "metadata": {},
   "outputs": [],
   "source": []
  }
 ],
 "metadata": {
  "kernelspec": {
   "display_name": "Python 3",
   "language": "python",
   "name": "python3"
  },
  "language_info": {
   "codemirror_mode": {
    "name": "ipython",
    "version": 3
   },
   "file_extension": ".py",
   "mimetype": "text/x-python",
   "name": "python",
   "nbconvert_exporter": "python",
   "pygments_lexer": "ipython3",
   "version": "3.7.4"
  }
 },
 "nbformat": 4,
 "nbformat_minor": 2
}

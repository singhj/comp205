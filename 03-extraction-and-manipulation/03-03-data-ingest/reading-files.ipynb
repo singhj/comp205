{
 "cells": [
  {
   "cell_type": "markdown",
   "metadata": {},
   "source": [
    "# Reading files\n",
    "\n",
    "Run the following cell and watch the video. "
   ]
  },
  {
   "cell_type": "code",
   "execution_count": 1,
   "metadata": {},
   "outputs": [
    {
     "data": {
      "text/html": [
       "<h1>ho ho ho</h1> \n"
      ],
      "text/plain": [
       "<IPython.core.display.HTML object>"
      ]
     },
     "metadata": {},
     "output_type": "display_data"
    }
   ],
   "source": [
    "%%html\n",
    "<h1>ho ho ho</h1> "
   ]
  },
  {
   "cell_type": "markdown",
   "metadata": {},
   "source": [
    "# The special problem of reading data\n",
    "\n",
    "There are several problems involved with getting data into a program. \n",
    "* Several high-level data formats. \n",
    "* Each one has several subformats.  \n",
    "* A multitude of tools for reading.\n",
    "* Each tool has limits. \n",
    "\n",
    "## The basic formats: \n",
    "* **text**: human-readable and editable data. \n",
    "* **binary**: machine-readable data. \n",
    "     \n",
    "## Text data\n",
    "* Numbers in one of many printable formats. \n",
    "* Less space-efficient than binary formats. \n",
    "* Tends to be portable between machines.\n",
    "\n",
    "## Binary data\n",
    "* Much more efficiently stored. \n",
    "* Tends not to be portable between machines and software. \n",
    "* Several variants are incompatible with one another. \n",
    "\n",
    "We've already seen a really simple example of reading a file, \n"
   ]
  },
  {
   "cell_type": "code",
   "execution_count": 2,
   "metadata": {
    "scrolled": false
   },
   "outputs": [
    {
     "name": "stdout",
     "output_type": "stream",
     "text": [
      "1,2,3\r\n",
      "4,5,6\r\n",
      "7,8,9"
     ]
    }
   ],
   "source": [
    "# run this to see the file. \n",
    "%pycat data.txt"
   ]
  },
  {
   "cell_type": "code",
   "execution_count": 3,
   "metadata": {
    "scrolled": false
   },
   "outputs": [
    {
     "data": {
      "text/plain": [
       "[['1', '2', '3'], ['4', '5', '6'], ['7', '8', '9']]"
      ]
     },
     "execution_count": 3,
     "metadata": {},
     "output_type": "execute_result"
    }
   ],
   "source": [
    "# read the file into a list\n",
    "file = open('data.txt', 'r')\n",
    "out = []\n",
    "for line in file:\n",
    "    numbers = line.strip().split(',')\n",
    "    out.append(numbers)\n",
    "file.close()\n",
    "out"
   ]
  },
  {
   "cell_type": "markdown",
   "metadata": {},
   "source": [
    "# Oops! This is not quite right. \n",
    "There is a profound difference between '1' and 1 (without the quotes). \n",
    "* `'1'` is a string. \n",
    "* `1` is an integer. \n",
    "* (`1.` is a floating point number.) \n",
    "\n",
    "# Internal and string representations of numbers\n",
    "* In python, there are several formats for numbers. \n",
    "* `int`: an integer\n",
    "* `float`: a floating point number. \n",
    "* `cfloat`: a complex number. \n",
    "\n",
    "# Internal representations of numbers share these attributes: \n",
    "* Binary representation. \n",
    "* Usually 4, 8, or 16 characters (bytes) long. \n",
    "* Expressed in base 2. \n",
    "\n",
    "# String representations of numbers are obviously different\n",
    "* Variable length. \n",
    "* Digits in base 10. \n",
    "\n",
    "# Converting between strings and numbers\n",
    "* `str(numb)`: gives the string version of a number. \n",
    "* `float(strng)` or `int(strng)`: gives the numeric version. \n",
    "\n",
    "# So, we can solve our little problem as follows: "
   ]
  },
  {
   "cell_type": "code",
   "execution_count": 4,
   "metadata": {},
   "outputs": [
    {
     "data": {
      "text/plain": [
       "[[1, 2, 3], [4, 5, 6], [7, 8, 9]]"
      ]
     },
     "execution_count": 4,
     "metadata": {},
     "output_type": "execute_result"
    }
   ],
   "source": [
    "# read the file into a list\n",
    "out2 = []\n",
    "for row in out: \n",
    "    new_row = []\n",
    "    for entry in row: \n",
    "        new_row.append(int(entry))\n",
    "    out2.append(new_row)\n",
    "out2"
   ]
  },
  {
   "cell_type": "markdown",
   "metadata": {},
   "source": [
    "# Alas, if it were only that easy...\n",
    "\n",
    "The reality: \n",
    "* 90% of the typical data scientist's time is spent finding ways to read data.\n",
    "* Data reading errors are very common. \n",
    "* Data formats are not so neat as the above. \n",
    "\n",
    "Thus, an enormous amount of time has been spent on libraries for reading data. \n",
    "\n",
    "One of the simplest is `numpy.loadtxt`. \n",
    "\n",
    "See https://docs.scipy.org/doc/numpy/reference/generated/numpy.loadtxt.html\n",
    "\n",
    "For example, we can write:"
   ]
  },
  {
   "cell_type": "code",
   "execution_count": 5,
   "metadata": {},
   "outputs": [
    {
     "data": {
      "text/plain": [
       "array([[1., 2., 3.],\n",
       "       [4., 5., 6.],\n",
       "       [7., 8., 9.]])"
      ]
     },
     "execution_count": 5,
     "metadata": {},
     "output_type": "execute_result"
    }
   ],
   "source": [
    "import numpy as np\n",
    "stuff = np.loadtxt('data.txt', delimiter=',')\n",
    "stuff"
   ]
  },
  {
   "cell_type": "markdown",
   "metadata": {},
   "source": [
    "# A few observations\n",
    "\n",
    "* default conversion type is float. \n",
    "* default delimiter is any \"whitespace\". \n",
    "\n",
    "So, for this file: "
   ]
  },
  {
   "cell_type": "code",
   "execution_count": 6,
   "metadata": {},
   "outputs": [
    {
     "name": "stdout",
     "output_type": "stream",
     "text": [
      "1       2  3\r\n",
      "     4  5  6\r\n",
      "  7  8    9"
     ]
    }
   ],
   "source": [
    "# run this to see the file\n",
    "%pycat data2.txt"
   ]
  },
  {
   "cell_type": "markdown",
   "metadata": {},
   "source": [
    "we might write, instead: "
   ]
  },
  {
   "cell_type": "code",
   "execution_count": 7,
   "metadata": {},
   "outputs": [
    {
     "data": {
      "text/plain": [
       "array([[1., 2., 3.],\n",
       "       [4., 5., 6.],\n",
       "       [7., 8., 9.]])"
      ]
     },
     "execution_count": 7,
     "metadata": {},
     "output_type": "execute_result"
    }
   ],
   "source": [
    "stuff = np.loadtxt('data2.txt')  # default delimiter is whitespace \n",
    "stuff"
   ]
  },
  {
   "cell_type": "markdown",
   "metadata": {},
   "source": [
    "# Non-numeric data\n",
    "Obviously, we need to do something about non-numeric data in the file. \n",
    "If we try naively to parse a file with non-numeric data,"
   ]
  },
  {
   "cell_type": "code",
   "execution_count": 8,
   "metadata": {},
   "outputs": [
    {
     "name": "stdout",
     "output_type": "stream",
     "text": [
      "1,2,James\r\n",
      "2,4,Alison\r\n",
      "3,6,Shay"
     ]
    }
   ],
   "source": [
    "%pycat data3.txt"
   ]
  },
  {
   "cell_type": "code",
   "execution_count": 9,
   "metadata": {},
   "outputs": [
    {
     "name": "stdout",
     "output_type": "stream",
     "text": [
      "could not convert string to float: 'James'\n"
     ]
    }
   ],
   "source": [
    "try:\n",
    "    stuff = np.loadtxt('data3.txt', delimiter=',')\n",
    "except Exception as e:\n",
    "    print(e)"
   ]
  },
  {
   "cell_type": "markdown",
   "metadata": {},
   "source": [
    "... and we must get more clever. Let's tell `loadtxt` what kinds of objects it is looking for. \n",
    "* i4: an integer\n",
    "* U20: a string of up to 20 characters (U means *unicode*)"
   ]
  },
  {
   "cell_type": "code",
   "execution_count": 10,
   "metadata": {},
   "outputs": [
    {
     "data": {
      "text/plain": [
       "array([(1, 2, 'James'), (2, 4, 'Alison'), (3, 6, 'Shay')],\n",
       "      dtype=[('apples', '<i4'), ('oranges', '<i4'), ('name', '<U20')])"
      ]
     },
     "execution_count": 10,
     "metadata": {},
     "output_type": "execute_result"
    }
   ],
   "source": [
    "stuff = np.loadtxt('data3.txt', delimiter=',', dtype={'names': ['apples', 'oranges', 'name'],\n",
    "                                                      'formats': ['i4', 'i4', 'U20']})\n",
    "stuff"
   ]
  },
  {
   "cell_type": "markdown",
   "metadata": {},
   "source": [
    "# Notice several things in this example\n",
    "* `loadtxt` automatically chose to represent this as an array of tuples rather than an array of lists. \n",
    "* Indexing is the same, but math is different. \n",
    "* This is its way of saying *this is not a vector, matrix, or tensor.* "
   ]
  },
  {
   "cell_type": "markdown",
   "metadata": {},
   "source": [
    "# The curse of comma-separated values\n",
    "\n",
    "Comma-separated values are a very common data representation, but have one **huge** problem. \n",
    "Microsoft excel often puts out files like this. "
   ]
  },
  {
   "cell_type": "code",
   "execution_count": 11,
   "metadata": {},
   "outputs": [
    {
     "name": "stdout",
     "output_type": "stream",
     "text": [
      "10,20,Frank Furter\r\n",
      "23,40,Curious George\r\n",
      "19,20,\"Trump, Donald\""
     ]
    }
   ],
   "source": [
    "%pycat data3.csv"
   ]
  },
  {
   "cell_type": "markdown",
   "metadata": {},
   "source": [
    "Excel thinks it's being clever, because there is a comma in the data. \n",
    "* It surrounds the field containing commands with double quotes. \n",
    "* Our parser knows nothing about that. \n",
    "So, when we try to parse it naively, we get: "
   ]
  },
  {
   "cell_type": "code",
   "execution_count": 12,
   "metadata": {},
   "outputs": [
    {
     "name": "stdout",
     "output_type": "stream",
     "text": [
      "Wrong number of columns at line 3\n"
     ]
    }
   ],
   "source": [
    "try:\n",
    "    stuff = np.loadtxt('data3.csv', delimiter=',', dtype={'names': ['apples', 'oranges', 'name'],\n",
    "                                                          'formats': ['i4', 'i4', 'U20']})\n",
    "except Exception as e:\n",
    "    print(e)"
   ]
  },
  {
   "cell_type": "markdown",
   "metadata": {},
   "source": [
    "This parser won't handle this case. \n",
    "\n",
    "We can, however, outsmart Excel by outputting as tab-separated values: "
   ]
  },
  {
   "cell_type": "code",
   "execution_count": 13,
   "metadata": {},
   "outputs": [
    {
     "name": "stdout",
     "output_type": "stream",
     "text": [
      "30\t40\tMr. Trump\r\n",
      "10\t20\tDon, the twitterer\r\n",
      "5\t15\tTrump, Donald\r\n"
     ]
    }
   ],
   "source": [
    "%pycat data4.txt"
   ]
  },
  {
   "cell_type": "code",
   "execution_count": 14,
   "metadata": {},
   "outputs": [
    {
     "data": {
      "text/plain": [
       "array([(30, 40, 'Mr. Trump'), (10, 20, 'Don, the twitterer'),\n",
       "       ( 5, 15, 'Trump, Donald')],\n",
       "      dtype=[('apples', '<i4'), ('oranges', '<i4'), ('name', '<U20')])"
      ]
     },
     "execution_count": 14,
     "metadata": {},
     "output_type": "execute_result"
    }
   ],
   "source": [
    "stuff = np.loadtxt('data4.txt', delimiter='\\t', dtype={'names': ['apples', 'oranges', 'name'],\n",
    "                                                       'formats': ['i4', 'i4', 'U20']})\n",
    "stuff"
   ]
  },
  {
   "cell_type": "markdown",
   "metadata": {},
   "source": [
    "*This always works because Excel won't allow a tab character to be typed into a cell!*\n",
    "\n",
    "# Fixed-width fields\n",
    "\n",
    "Some files we need to load have fields that occupy a fixed number of characters. These kinds of files are found as output of scientific modeling programs in Fortran. For example, consider: "
   ]
  },
  {
   "cell_type": "code",
   "execution_count": 15,
   "metadata": {},
   "outputs": [
    {
     "name": "stdout",
     "output_type": "stream",
     "text": [
      "#2345671234123456781234\r\n",
      "    2.4  10    25.2  10\r\n",
      "   12.8  20    20.2   5\r\n",
      "   20.2  30    15.4  15"
     ]
    }
   ],
   "source": [
    "%pycat data5.txt"
   ]
  },
  {
   "cell_type": "markdown",
   "metadata": {},
   "source": [
    "We parse this kind of file with a different method that supports a more general *delimiter* field consisting of the widths -- as integers -- of the fields we should find. See https://docs.scipy.org/doc/numpy/reference/generated/numpy.genfromtxt.html\n",
    "For example: "
   ]
  },
  {
   "cell_type": "code",
   "execution_count": 16,
   "metadata": {},
   "outputs": [
    {
     "data": {
      "text/plain": [
       "array([[ 2.4, 10. , 25.2, 10. ],\n",
       "       [12.8, 20. , 20.2,  5. ],\n",
       "       [20.2, 30. , 15.4, 15. ]])"
      ]
     },
     "execution_count": 16,
     "metadata": {},
     "output_type": "execute_result"
    }
   ],
   "source": [
    "stuff = np.genfromtxt('data5.txt', delimiter=(7,4,8,4))\n",
    "stuff"
   ]
  },
  {
   "cell_type": "markdown",
   "metadata": {},
   "source": [
    "The delimiter field says that there are numbers in the input that are 7, 4, 8, and 4 characters long. I included a comment line (starting with `#`) in the data to show you the column numbers. \n",
    "\n",
    "# Let's put these patterns into practice\n",
    "First run this cell to login to the grading system"
   ]
  },
  {
   "cell_type": "code",
   "execution_count": 17,
   "metadata": {},
   "outputs": [
    {
     "name": "stdout",
     "output_type": "stream",
     "text": [
      "=====================================================================\n",
      "Assignment: Reading files\n",
      "OK, version v1.14.15\n",
      "=====================================================================\n",
      "\n",
      "Successfully logged in as alva.couch@gmail.com\n"
     ]
    }
   ],
   "source": [
    "# Don't change this cell; just run it. \n",
    "from client.api.notebook import Notebook\n",
    "ok = Notebook('Reading files.ok')\n",
    "ok.auth(inline=True)"
   ]
  },
  {
   "cell_type": "markdown",
   "metadata": {},
   "source": [
    "1. **Write code to read data from the file `exer1.txt`.**\n",
    "Put the data into the numpy array `exer1`"
   ]
  },
  {
   "cell_type": "code",
   "execution_count": 18,
   "metadata": {},
   "outputs": [
    {
     "name": "stdout",
     "output_type": "stream",
     "text": [
      "25.0,25.5,10.4\r\n",
      "10.0,15,25.5\r\n",
      "9,2,7\r\n"
     ]
    }
   ],
   "source": [
    "%pycat exer1.txt"
   ]
  },
  {
   "cell_type": "code",
   "execution_count": 19,
   "metadata": {},
   "outputs": [
    {
     "name": "stdout",
     "output_type": "stream",
     "text": [
      "[[25.  25.5 10.4]\n",
      " [10.  15.  25.5]\n",
      " [ 9.   2.   7. ]]\n"
     ]
    }
   ],
   "source": [
    "# fill in details ... \n",
    "exer1 = np.loadtxt('exer1.txt', delimiter=',')\n",
    "print(exer1)"
   ]
  },
  {
   "cell_type": "code",
   "execution_count": 20,
   "metadata": {},
   "outputs": [
    {
     "name": "stdout",
     "output_type": "stream",
     "text": [
      "~~~~~~~~~~~~~~~~~~~~~~~~~~~~~~~~~~~~~~~~~~~~~~~~~~~~~~~~~~~~~~~~~~~~~\n",
      "Running tests\n",
      "\n",
      "---------------------------------------------------------------------\n",
      "Test summary\n",
      "    Passed: 1\n",
      "    Failed: 0\n",
      "[ooooooooook] 100.0% passed\n",
      "\n"
     ]
    }
   ],
   "source": [
    "_ = ok.grade('q01')  # run this to check your answer"
   ]
  },
  {
   "cell_type": "markdown",
   "metadata": {},
   "source": [
    "2. **Write code to read data from the file `exer2.txt`.** Put the result into `exer2`."
   ]
  },
  {
   "cell_type": "code",
   "execution_count": 21,
   "metadata": {},
   "outputs": [
    {
     "name": "stdout",
     "output_type": "stream",
     "text": [
      "25.0    25.5 10.4\r\n",
      "10.0  15        25.5\r\n",
      "    9 2 7\r\n"
     ]
    }
   ],
   "source": [
    "%pycat exer2.txt"
   ]
  },
  {
   "cell_type": "code",
   "execution_count": 22,
   "metadata": {},
   "outputs": [
    {
     "name": "stdout",
     "output_type": "stream",
     "text": [
      "[[25.  25.5 10.4]\n",
      " [10.  15.  25.5]\n",
      " [ 9.   2.   7. ]]\n"
     ]
    }
   ],
   "source": [
    "# fill in details ... \n",
    "exer2 = np.loadtxt('exer2.txt')\n",
    "print(exer2)"
   ]
  },
  {
   "cell_type": "code",
   "execution_count": 23,
   "metadata": {},
   "outputs": [
    {
     "name": "stdout",
     "output_type": "stream",
     "text": [
      "~~~~~~~~~~~~~~~~~~~~~~~~~~~~~~~~~~~~~~~~~~~~~~~~~~~~~~~~~~~~~~~~~~~~~\n",
      "Running tests\n",
      "\n",
      "---------------------------------------------------------------------\n",
      "Test summary\n",
      "    Passed: 1\n",
      "    Failed: 0\n",
      "[ooooooooook] 100.0% passed\n",
      "\n"
     ]
    }
   ],
   "source": [
    "_ = ok.grade('q02')  # run this to check your work"
   ]
  },
  {
   "cell_type": "markdown",
   "metadata": {},
   "source": [
    "2. **Write code to read data from the file `exer3.txt`.** Put the result into `exer3`."
   ]
  },
  {
   "cell_type": "code",
   "execution_count": 24,
   "metadata": {},
   "outputs": [
    {
     "name": "stdout",
     "output_type": "stream",
     "text": [
      "#23412341234\r\n",
      "25.025.510.4\r\n",
      "10.015  25.5\r\n",
      " 9   2   7\r\n"
     ]
    }
   ],
   "source": [
    "%pycat exer3.txt"
   ]
  },
  {
   "cell_type": "code",
   "execution_count": 25,
   "metadata": {},
   "outputs": [
    {
     "name": "stdout",
     "output_type": "stream",
     "text": [
      "[[25.  25.5 10.4]\n",
      " [10.  15.  25.5]\n",
      " [ 9.   2.   7. ]]\n"
     ]
    }
   ],
   "source": [
    "# fill in details ... \n",
    "exer3 = np.genfromtxt('exer3.txt', delimiter=[4,4,4])\n",
    "print(exer3)"
   ]
  },
  {
   "cell_type": "code",
   "execution_count": 26,
   "metadata": {},
   "outputs": [
    {
     "name": "stdout",
     "output_type": "stream",
     "text": [
      "~~~~~~~~~~~~~~~~~~~~~~~~~~~~~~~~~~~~~~~~~~~~~~~~~~~~~~~~~~~~~~~~~~~~~\n",
      "Running tests\n",
      "\n",
      "---------------------------------------------------------------------\n",
      "Test summary\n",
      "    Passed: 1\n",
      "    Failed: 0\n",
      "[ooooooooook] 100.0% passed\n",
      "\n"
     ]
    }
   ],
   "source": [
    "_ = ok.grade('q03')  # run this to check your answer"
   ]
  },
  {
   "cell_type": "markdown",
   "metadata": {},
   "source": [
    "(A personal note: You might think this file format is really clueless. It contains, however, the exact same data as the other two files. This kind of column run-together is common in outputs of scientific computing, and *fixed-width parsing is the only way to unravel it!* These exercises are chosen from *my personal experience in frustrating data wrangling* to get data into python and other languages! -- Prof. Couch)"
   ]
  },
  {
   "cell_type": "markdown",
   "metadata": {},
   "source": [
    "4. (Advanced) Write code to input the data in `exer4.txt`. Make the third column an integer rather than floating point. Hint: look at the `dtype` field in the documentation for `genfromtxt` and use it to define the field types. Consider allowing the system to figure it out via `dtype=None` "
   ]
  },
  {
   "cell_type": "code",
   "execution_count": 27,
   "metadata": {},
   "outputs": [
    {
     "name": "stdout",
     "output_type": "stream",
     "text": [
      "#23412341234\r\n",
      "20.030.0   4\r\n",
      "40.550.5  30\r\n",
      "60.270.3  50\r\n"
     ]
    }
   ],
   "source": [
    "%pycat exer4.txt"
   ]
  },
  {
   "cell_type": "code",
   "execution_count": 28,
   "metadata": {},
   "outputs": [
    {
     "name": "stdout",
     "output_type": "stream",
     "text": [
      "[(20. , 30. ,  4) (40.5, 50.5, 30) (60.2, 70.3, 50)]\n"
     ]
    }
   ],
   "source": [
    "# fill in details ...\n",
    "exer4 = np.genfromtxt('exer4.txt', delimiter=[4,4,4], dtype=None)\n",
    "print(exer4)"
   ]
  },
  {
   "cell_type": "code",
   "execution_count": 29,
   "metadata": {},
   "outputs": [
    {
     "data": {
      "text/plain": [
       "numpy.int64"
      ]
     },
     "execution_count": 29,
     "metadata": {},
     "output_type": "execute_result"
    }
   ],
   "source": [
    "type(exer4[0][2])"
   ]
  },
  {
   "cell_type": "code",
   "execution_count": 30,
   "metadata": {},
   "outputs": [
    {
     "name": "stdout",
     "output_type": "stream",
     "text": [
      "~~~~~~~~~~~~~~~~~~~~~~~~~~~~~~~~~~~~~~~~~~~~~~~~~~~~~~~~~~~~~~~~~~~~~\n",
      "Running tests\n",
      "\n",
      "---------------------------------------------------------------------\n",
      "Test summary\n",
      "    Passed: 1\n",
      "    Failed: 0\n",
      "[ooooooooook] 100.0% passed\n",
      "\n"
     ]
    }
   ],
   "source": [
    "_ = ok.grade('q04')  # run this to check your answer"
   ]
  },
  {
   "cell_type": "markdown",
   "metadata": {},
   "source": [
    "### Afterword: what is an nparray? \n",
    "In this example, the result will be an `nparray` of tuples rather than a regular `nparray` of numbers. Why? *A regular `nparray` requires elements of the same type!*. Compare the above with the output from exercise 3 above. All elements are float, so that's a regular `nparray`. When you violate that restriction, `numpy` automatically gives you a tuple rather than a list of values. \n",
    "\n",
    "5. (Advanced) As in problem 4, read data from `exer5.txt`, and additionally label the columns 'carbon', 'nitrogen', 'oxygen'. Put the result into exer5."
   ]
  },
  {
   "cell_type": "code",
   "execution_count": 31,
   "metadata": {},
   "outputs": [
    {
     "name": "stdout",
     "output_type": "stream",
     "text": [
      "#23412341234\r\n",
      "20.030.0   4\r\n",
      "40.550.5  30\r\n",
      "60.270.3  50\r\n"
     ]
    }
   ],
   "source": [
    "%pycat exer5.txt"
   ]
  },
  {
   "cell_type": "code",
   "execution_count": 32,
   "metadata": {},
   "outputs": [
    {
     "data": {
      "text/plain": [
       "array([(20. , 30. ,  4), (40.5, 50.5, 30), (60.2, 70.3, 50)],\n",
       "      dtype=[('carbon', '<f8'), ('nitrogen', '<f8'), ('oxygen', '<i8')])"
      ]
     },
     "execution_count": 32,
     "metadata": {},
     "output_type": "execute_result"
    }
   ],
   "source": [
    "# fill in details ...\n",
    "exer5 = np.genfromtxt('exer5.txt', delimiter=[4, 4, 4], dtype=None,\n",
    "                      names=['carbon', 'nitrogen', 'oxygen'])\n",
    "exer5"
   ]
  },
  {
   "cell_type": "code",
   "execution_count": 33,
   "metadata": {},
   "outputs": [
    {
     "name": "stdout",
     "output_type": "stream",
     "text": [
      "carbon is [20.  40.5 60.2]\n",
      "nitrogen is [30.  50.5 70.3]\n",
      "oxygen is [ 4 30 50]\n"
     ]
    }
   ],
   "source": [
    "# use this to test your work \n",
    "for key in exer5.dtype.names:\n",
    "    print('{} is {}'.format(key, exer5[key]))"
   ]
  },
  {
   "cell_type": "markdown",
   "metadata": {},
   "source": [
    "Note that these are real `ndarray` vectors, not `tuple`s, because they each contain a single type of elements. "
   ]
  },
  {
   "cell_type": "code",
   "execution_count": 34,
   "metadata": {},
   "outputs": [
    {
     "name": "stdout",
     "output_type": "stream",
     "text": [
      "~~~~~~~~~~~~~~~~~~~~~~~~~~~~~~~~~~~~~~~~~~~~~~~~~~~~~~~~~~~~~~~~~~~~~\n",
      "Running tests\n",
      "\n",
      "---------------------------------------------------------------------\n",
      "Test summary\n",
      "    Passed: 1\n",
      "    Failed: 0\n",
      "[ooooooooook] 100.0% passed\n",
      "\n"
     ]
    }
   ],
   "source": [
    "_ = ok.grade('q05')  # run this to check your answer"
   ]
  },
  {
   "cell_type": "markdown",
   "metadata": {},
   "source": [
    "# When you are done with this notebook, \n",
    "* Save and checkpoint. \n",
    "* Change `ready` to `True` in the cell below. \n",
    "* Run the cell below. "
   ]
  },
  {
   "cell_type": "code",
   "execution_count": 36,
   "metadata": {},
   "outputs": [
    {
     "data": {
      "application/javascript": [
       "IPython.notebook.save_checkpoint();"
      ],
      "text/plain": [
       "<IPython.core.display.Javascript object>"
      ]
     },
     "metadata": {},
     "output_type": "display_data"
    },
    {
     "data": {
      "application/javascript": [
       "IPython.notebook.save_notebook();"
      ],
      "text/plain": [
       "<IPython.core.display.Javascript object>"
      ]
     },
     "metadata": {},
     "output_type": "display_data"
    },
    {
     "name": "stdout",
     "output_type": "stream",
     "text": [
      "Saving notebook... Saved 'Reading files.ipynb'.\n",
      "Submit... 100% complete\n",
      "Submission successful for user: alva.couch@gmail.com\n",
      "URL: https://okpy.org/cal/COMP205/su19/readingfiles/submissions/YWNzVO\n",
      "\n"
     ]
    }
   ],
   "source": [
    "ready = False  # change to True when ready to submit\n",
    "if not ready:\n",
    "    raise Exception(\"change ready to True when ready to submit\")\n",
    "_ = ok.submit()"
   ]
  }
 ],
 "metadata": {
  "kernelspec": {
   "display_name": "Python 3",
   "language": "python",
   "name": "python3"
  },
  "language_info": {
   "codemirror_mode": {
    "name": "ipython",
    "version": 3
   },
   "file_extension": ".py",
   "mimetype": "text/x-python",
   "name": "python",
   "nbconvert_exporter": "python",
   "pygments_lexer": "ipython3",
   "version": "3.7.3"
  }
 },
 "nbformat": 4,
 "nbformat_minor": 2
}

{
 "cells": [
  {
   "cell_type": "markdown",
   "metadata": {},
   "source": [
    "# Text mining\n",
    "\n"
   ]
  },
  {
   "cell_type": "markdown",
   "metadata": {},
   "source": [
    "## Notebook Content\n",
    "The idea in the lecture is summarized in the following examples: \n",
    "\n",
    "a. Express data as plain text. "
   ]
  },
  {
   "cell_type": "code",
   "execution_count": null,
   "metadata": {},
   "outputs": [],
   "source": [
    "budget = \"My airfare was 300.00. My hotel cost 200.00 for one night. My food cost 100.00.\"\n",
    "budget"
   ]
  },
  {
   "cell_type": "markdown",
   "metadata": {},
   "source": [
    "b. Split into words. `strip` removes an unwanted \\n.  "
   ]
  },
  {
   "cell_type": "code",
   "execution_count": null,
   "metadata": {},
   "outputs": [],
   "source": [
    "words = budget.strip().split(' ')  # remove \\n from line\n",
    "words"
   ]
  },
  {
   "cell_type": "markdown",
   "metadata": {},
   "source": [
    "c. Mine numbers out of the text"
   ]
  },
  {
   "cell_type": "code",
   "execution_count": null,
   "metadata": {},
   "outputs": [],
   "source": [
    "costs = []\n",
    "for w in words: \n",
    "    try: \n",
    "        number = float(w)\n",
    "        costs.append(number)\n",
    "    except Exception as e: \n",
    "        print(e)\n",
    "costs"
   ]
  },
  {
   "cell_type": "markdown",
   "metadata": {},
   "source": [
    "1. **What's wrong with this? What does it miss?** \n",
    "\n",
    "___Your answer:___\n",
    "\n",
    "Let's try again:"
   ]
  },
  {
   "cell_type": "code",
   "execution_count": null,
   "metadata": {
    "scrolled": false
   },
   "outputs": [],
   "source": [
    "costs = []\n",
    "for w in words:\n",
    "    if w.endswith('.'): \n",
    "        w = w[:-1]\n",
    "    try: \n",
    "        number = float(w)\n",
    "        costs.append(number)\n",
    "    except Exception as e: \n",
    "        print(e)\n",
    "costs"
   ]
  },
  {
   "cell_type": "markdown",
   "metadata": {},
   "source": [
    "That's better. \n",
    "\n",
    "2. **What does w[:-1] actually do?** Look it up if necessary. \n",
    "\n",
    "___Your answer:___\n",
    "\n",
    "d. Sum up the numbers. "
   ]
  },
  {
   "cell_type": "code",
   "execution_count": null,
   "metadata": {},
   "outputs": [],
   "source": [
    "total = 0\n",
    "for c in costs: \n",
    "    total += c\n",
    "total   "
   ]
  },
  {
   "cell_type": "markdown",
   "metadata": {},
   "source": [
    "# A challenge problem\n",
    "How to associate numbers with their meaning. \n",
    "\n",
    "3. Stare at the text. **Where is the word describing each cost in relationship to the cost?** \n",
    "\n",
    "___Your answer:___\n",
    "\n",
    "4. Can you express that word in terms of the list `words`? **If the cost is words[n], where is the needed word in relation to the cost?**\n",
    "\n",
    "___Your answer:___\n",
    "\n",
    "5. Please use this to create a list of tuples describing each cost and its source. The output should be \n",
    "```\n",
    "[('airfare', 300), ('hotel', 200), ('food', 100)]\n",
    "```"
   ]
  },
  {
   "cell_type": "code",
   "execution_count": null,
   "metadata": {},
   "outputs": [],
   "source": [
    "{ write your answer here , put result into variable expenses }\n",
    "\n",
    "expenses  # print the result"
   ]
  },
  {
   "cell_type": "markdown",
   "metadata": {},
   "source": [
    "# Afterword: text mining and scraping\n",
    "The basic activity of extracting data from text is actually quite evolved. We can study various tools that do much more than this primitive setup. Among other things, they can parse the grammar of text and use that to infer context. "
   ]
  },
  {
   "cell_type": "markdown",
   "metadata": {},
   "source": [
    "# When you're done, submit the notebook\n",
    "You can submit a notebook by saving it as PDF. In the cluster environment, it's File | Print (Save as PDF) and submit to Gradescope. https://www.gradescope.com/courses/182658, On other versions, it may be File | Download As (PDF) and then submit to Gradescope.\n",
    "\n",
    "To submit to Gradescope, log into the website, add course 9W7PW3 (if not already added) and submit. The assignment name should match the name of this notebook."
   ]
  }
 ],
 "metadata": {
  "kernelspec": {
   "display_name": "Python 3",
   "language": "python",
   "name": "python3"
  },
  "language_info": {
   "codemirror_mode": {
    "name": "ipython",
    "version": 3
   },
   "file_extension": ".py",
   "mimetype": "text/x-python",
   "name": "python",
   "nbconvert_exporter": "python",
   "pygments_lexer": "ipython3",
   "version": "3.7.4"
  }
 },
 "nbformat": 4,
 "nbformat_minor": 2
}

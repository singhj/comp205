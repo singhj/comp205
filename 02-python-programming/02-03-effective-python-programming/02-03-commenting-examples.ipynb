{
 "cells": [
  {
   "cell_type": "markdown",
   "metadata": {},
   "source": [
    "# Commenting Examples\n",
    "The examples in the following cells were all drawn from [a list of the most popular python open source projects](https://hackernoon.com/50-popular-python-open-source-projects-on-github-in-2018-c750f9bf56a0) \n",
    "\n",
    "The link above should provide a good introduction to (some part of) the Python ecosystem.\n",
    "\n",
    "The remaining cells provide examples of python comment styling.\n"
   ]
  },
  {
   "cell_type": "markdown",
   "metadata": {},
   "source": [
    "## Flask\n",
    "\n",
    "Flask is one of the Web Server Gateway Interface (WSGI) projects for Python. They are used for creating data-driven websites. \n",
    "This [sessions.py](https://github.com/pallets/flask/blob/master/src/flask/sessions.py) file has some noteworthy features:\n",
    "\n",
    "* The first few lines indicate metadata about the file: name, author, copyright, license, etc.\n",
    "* Some words in the comments are colon-delimited. For example **:attr:** and **:meth:** near line 112. \n",
    "Most likely they are for the automatic generation of documentation from the code -- a common mechanism for keeping the documentation in sync with the code.\n",
    "\n"
   ]
  },
  {
   "cell_type": "markdown",
   "metadata": {},
   "source": [
    "## Face Recognition Library\n",
    "The [api.py](https://github.com/ageitgey/face_recognition/blob/master/face_recognition/api.py) file of the [Face recognition library](https://github.com/ageitgey/face_recognition) highlights additional style elements:\n",
    "\n",
    "* Each function has comments describing its inputs and return\n",
    "* In some cases the number of comments exceed the actual lines of executable code!\n"
   ]
  },
  {
   "cell_type": "markdown",
   "metadata": {},
   "source": [
    "## Python library for symbolic mathematics\n",
    "The [finite_diff.py](https://github.com/sympy/sympy/blob/master/sympy/calculus/finite_diff.py) file in [SymPy](https://www.sympy.org/en/index.html) illustrates another common practice in commenting: around line 58, it has *interactive sessions embedded* in the comments as a way of describing what the classes do."
   ]
  }
 ],
 "metadata": {
  "kernelspec": {
   "display_name": "Python 3",
   "language": "python",
   "name": "python3"
  },
  "language_info": {
   "codemirror_mode": {
    "name": "ipython",
    "version": 3
   },
   "file_extension": ".py",
   "mimetype": "text/x-python",
   "name": "python",
   "nbconvert_exporter": "python",
   "pygments_lexer": "ipython3",
   "version": "3.7.4"
  }
 },
 "nbformat": 4,
 "nbformat_minor": 2
}

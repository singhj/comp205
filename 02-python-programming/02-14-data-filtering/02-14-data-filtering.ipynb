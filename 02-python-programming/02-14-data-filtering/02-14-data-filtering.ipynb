{
 "cells": [
  {
   "cell_type": "markdown",
   "metadata": {},
   "source": [
    "# Data filtering\n"
   ]
  },
  {
   "cell_type": "markdown",
   "metadata": {},
   "source": [
    "As a continuation of 'Data wrangling', it is often necessary to filter and transform data before further processing. As a first example, it is often necessary to reject invalid or missing data. "
   ]
  },
  {
   "cell_type": "code",
   "execution_count": null,
   "metadata": {},
   "outputs": [],
   "source": [
    "low = 5\n",
    "high = 15\n",
    "weights = [2, 6, -19, 2, 34, 12, 6, 12]\n",
    "acceptable = []\n",
    "for w in weights:\n",
    "    if w >= low and w <= high:\n",
    "        acceptable.append(w)\n",
    "acceptable"
   ]
  },
  {
   "cell_type": "markdown",
   "metadata": {},
   "source": [
    "Missing data in common data corpora takes several forms. \n",
    "1. negative values denote missing values. \n",
    "2. non-numeric values, e.g., \"N/A\". \n",
    "3. empty strings\n",
    "4. \"null values\" represented in Python as the value `None`\n",
    "For example, consider:"
   ]
  },
  {
   "cell_type": "code",
   "execution_count": null,
   "metadata": {},
   "outputs": [],
   "source": [
    "weights = [12, 15, -1, \"N/A\", None, \"\", 20, 30,\n",
    "           40, 0, 10, \"missing\", -30, \"1.25\", '3e1']\n",
    "weights"
   ]
  },
  {
   "cell_type": "markdown",
   "metadata": {},
   "source": [
    "Admittedly, this is a fictitious worst case: \n",
    "1. Some values are valid. \n",
    "2. Some negative values need to be thrown away. \n",
    "3. Some string values need to be discarded. \n",
    "4. Some string values are numbers in disguise. \n",
    "Before you consider some of these innocent, consider: "
   ]
  },
  {
   "cell_type": "code",
   "execution_count": null,
   "metadata": {
    "scrolled": true
   },
   "outputs": [],
   "source": [
    "a = \"1.25\"\n",
    "b = 3\n",
    "a + b"
   ]
  },
  {
   "cell_type": "markdown",
   "metadata": {},
   "source": [
    "1. **What happened when you ran the box above? What should have happened?** \n",
    "\n",
    "___Your answer:___"
   ]
  },
  {
   "cell_type": "code",
   "execution_count": null,
   "metadata": {},
   "outputs": [],
   "source": [
    "a = \"1.25\"\n",
    "b = 3\n",
    "a + str(b)"
   ]
  },
  {
   "cell_type": "markdown",
   "metadata": {},
   "source": [
    "2. **What happened when you ran the box above? What was supposed to happen?** \n",
    "\n",
    "___Your answer:___\n",
    "\n",
    "Rather clearly, we don't want numbers to be strings. What we would like to do is -- in multiple stages -- to clean up the array so that it makes some sense.\n",
    "\n",
    "Let's start by cleaning up the strings. If a string is a number, we convert it to a number. If not, we leave it alone. "
   ]
  },
  {
   "cell_type": "code",
   "execution_count": null,
   "metadata": {},
   "outputs": [],
   "source": [
    "output = []\n",
    "for w in weights:\n",
    "    try:\n",
    "        foo = float(w)\n",
    "        output.append(foo)\n",
    "    except Exception as e:\n",
    "        print(e)\n",
    "        output.append(w)\n",
    "output"
   ]
  },
  {
   "cell_type": "markdown",
   "metadata": {},
   "source": [
    "The `try:...except:` block traps errors from trying to convert a non-number to a number. Some things are still rather errant, though. Strings aren't acceptable.  For reasons that will become clear later, I will replace these with `None`:"
   ]
  },
  {
   "cell_type": "code",
   "execution_count": null,
   "metadata": {
    "scrolled": true
   },
   "outputs": [],
   "source": [
    "output = []\n",
    "for w in weights:\n",
    "    try:\n",
    "        foo = float(w)\n",
    "        output.append(foo)\n",
    "    except Exception as e:\n",
    "        print(e)\n",
    "        output.append(None)\n",
    "output"
   ]
  },
  {
   "cell_type": "markdown",
   "metadata": {},
   "source": [
    "We still have some negative numbers, though. We can check for them and convert them to `None` as well: "
   ]
  },
  {
   "cell_type": "code",
   "execution_count": null,
   "metadata": {},
   "outputs": [],
   "source": [
    "output = []\n",
    "for w in weights:\n",
    "    try: \n",
    "        foo = float(w)\n",
    "        if foo > 0:\n",
    "            output.append(foo)\n",
    "        else: \n",
    "            output.append(None)\n",
    "    except Exception as e:\n",
    "        print(e)\n",
    "        output.append(None)\n",
    "output"
   ]
  },
  {
   "cell_type": "markdown",
   "metadata": {},
   "source": [
    "Finally, we can filter things so that the `None`s are not included. "
   ]
  },
  {
   "cell_type": "code",
   "execution_count": null,
   "metadata": {},
   "outputs": [],
   "source": [
    "[x for x in output if x is not None]"
   ]
  },
  {
   "cell_type": "markdown",
   "metadata": {},
   "source": [
    "This is called a \"list comprehension\" and it is precisely equivalent to: "
   ]
  },
  {
   "cell_type": "code",
   "execution_count": null,
   "metadata": {},
   "outputs": [],
   "source": [
    "filtered = []\n",
    "for x in output:\n",
    "    if x is not None:\n",
    "        filtered.append(x)\n",
    "filtered"
   ]
  },
  {
   "cell_type": "markdown",
   "metadata": {},
   "source": [
    "# But what about multi-dimensional data? \n",
    "\n",
    "For reasons that will become obvious later, I am representing these data as *lists of tuples.* This is how they naturally arise. The tuples are rows in a table, while the list is the sequence of all rows. Consider the following list: "
   ]
  },
  {
   "cell_type": "code",
   "execution_count": null,
   "metadata": {},
   "outputs": [],
   "source": [
    "data = [('marvin', 'dog', 25, \"1\"),\n",
    "        ('garfield', 'cat', \"N/A\", 8),\n",
    "        ('rosie', 'cat', 14, None),\n",
    "        ('fred', 'dog', 20, \"7\")]"
   ]
  },
  {
   "cell_type": "markdown",
   "metadata": {},
   "source": [
    "The columns are \"name\", \"species\", \"weight\", and \"age\". \n",
    "\n",
    "1. **Write code that cleans this data and appends to a variable output1, where it converts all strings in numeric columns 2-3 (\"weight\" and \"age\") to a number or `None`**. Use the patterns above. You'll have to copy tuples to change them. e.g., \n",
    "`newtuple = (oldtuple[0], oldtuple[1], oldtuple[2], oldtuple[3])`. Your code should work on any `data` in this form. "
   ]
  },
  {
   "cell_type": "code",
   "execution_count": null,
   "metadata": {},
   "outputs": [],
   "source": [
    "output1 = []\n",
    "# fill in details here\n",
    "output1"
   ]
  },
  {
   "cell_type": "markdown",
   "metadata": {},
   "source": [
    "2. **Starting with `output1` from above, write code to omit column 2 (\"weight\") of 0-3 and put into `output2`.** This is a matter of rewriting every tuple. In data science terms, this operation is often called a *projection*. "
   ]
  },
  {
   "cell_type": "code",
   "execution_count": null,
   "metadata": {},
   "outputs": [],
   "source": [
    "output2 = []\n",
    "# fill in details here\n",
    "output2"
   ]
  },
  {
   "cell_type": "markdown",
   "metadata": {},
   "source": [
    "3. **Starting with `output2`, write code to omit any pet under 2 years old.** Put the result into `output3`. If the age is `None`, include the pet. Hint: you have to check whether the age is `None` before you compare it. "
   ]
  },
  {
   "cell_type": "code",
   "execution_count": null,
   "metadata": {},
   "outputs": [],
   "source": [
    "output3 = []\n",
    "# fill in details here\n",
    "output3"
   ]
  },
  {
   "cell_type": "markdown",
   "metadata": {},
   "source": [
    "# When you're done, submit the notebook\n",
    "\n",
    "You can submit a notebook by saving it as PDF. In the cluster environment, it's File | Print (Save as PDF) and submit to Gradescope. https://www.gradescope.com/courses/182658, On other versions, it may be File | Download As (PDF) and then submit to Gradescope.\n",
    "\n",
    "To submit to Gradescope, log into the website, add course 9W7PW3 (if not already added) and submit. The assignment name should match the name of this notebook."
   ]
  }
 ],
 "metadata": {
  "kernelspec": {
   "display_name": "Python 3",
   "language": "python",
   "name": "python3"
  },
  "language_info": {
   "codemirror_mode": {
    "name": "ipython",
    "version": 3
   },
   "file_extension": ".py",
   "mimetype": "text/x-python",
   "name": "python",
   "nbconvert_exporter": "python",
   "pygments_lexer": "ipython3",
   "version": "3.7.4"
  }
 },
 "nbformat": 4,
 "nbformat_minor": 2
}

{
 "cells": [
  {
   "cell_type": "markdown",
   "metadata": {},
   "source": [
    "# Libraries and modules practice"
   ]
  },
  {
   "cell_type": "markdown",
   "metadata": {},
   "source": [
    "We begin with a simple definition of `mean`"
   ]
  },
  {
   "cell_type": "code",
   "execution_count": null,
   "metadata": {},
   "outputs": [],
   "source": [
    "# cell 1: a simple definition of mean\n",
    "def mean(*args):\n",
    "    return sum(args)/len(args)"
   ]
  },
  {
   "cell_type": "code",
   "execution_count": null,
   "metadata": {},
   "outputs": [],
   "source": [
    "# cell 2: a simple variable\n",
    "pi = 'a mathematical constant'"
   ]
  },
  {
   "cell_type": "code",
   "execution_count": null,
   "metadata": {},
   "outputs": [],
   "source": [
    "# cell 3: calculating mean of 1, 2, 3. We expect to get 2.\n",
    "mean(1, 2, 3)"
   ]
  },
  {
   "cell_type": "markdown",
   "metadata": {},
   "source": [
    "Hey, it works!\n",
    "\n",
    "Now let's import a big module, say `numpy`"
   ]
  },
  {
   "cell_type": "code",
   "execution_count": null,
   "metadata": {},
   "outputs": [],
   "source": [
    "# cell 4:\n",
    "from numpy import *"
   ]
  },
  {
   "cell_type": "markdown",
   "metadata": {},
   "source": [
    "Before we move on, let's again calculate mean of 1, 2, 3. We again expect to get 2."
   ]
  },
  {
   "cell_type": "code",
   "execution_count": null,
   "metadata": {},
   "outputs": [],
   "source": [
    "# cell 5\n",
    "mean(1,2,3)"
   ]
  },
  {
   "cell_type": "markdown",
   "metadata": {},
   "source": [
    "**What happened?** \n",
    "\n",
    "The `numpy` package must have had a function `mean()` in it already that got imported and overrode _our_ `mean` function!\n",
    "\n",
    "What else did it bring in? In other words, do we always have to watch out that the functions in the library don't override all the functions we had defined?\n",
    "\n",
    "Meet dir(). It prints **all** the names that now exist!"
   ]
  },
  {
   "cell_type": "code",
   "execution_count": null,
   "metadata": {},
   "outputs": [],
   "source": [
    "# cell 6\n",
    "print(dir())"
   ]
  },
  {
   "cell_type": "markdown",
   "metadata": {},
   "source": [
    "### What is all that stuff?\n",
    "\n",
    "Those are _all_ the names we created in cells 1-5. Notice that `mean` and `pi` are among them. `numpy` must have loaded in a new definition of `mean`, which was responsible for `mean` suddenly not working. Did the definition of `pi` get changed as well? To confirm your answer, Restart and clear output in the entire notebook, then run cells 1, 2, 3, skipping cells 4 and 5, and executing 6. There are some unfamiliar names in that list, but most of it is explainable."
   ]
  },
  {
   "cell_type": "markdown",
   "metadata": {},
   "source": [
    "### How to protect the symbols in our notebook from imports?\n",
    "\n",
    "### How to protect the symbols in the import from our notebook?\n",
    "\n",
    "We want to import the functionality but not pollute our variables? We import numpy with a different name as in the next cell and keep the symbols segregated!"
   ]
  },
  {
   "cell_type": "code",
   "execution_count": null,
   "metadata": {},
   "outputs": [],
   "source": [
    "import numpy as np  # brings in just one new symbol: np.\n",
    "                    # all the other symbols are left alone!\n",
    "                    \n",
    "print(dir())"
   ]
  },
  {
   "cell_type": "code",
   "execution_count": null,
   "metadata": {},
   "outputs": [],
   "source": [
    "print (dir(np))     # dir(np) shows us all the names numpy brought in."
   ]
  },
  {
   "cell_type": "markdown",
   "metadata": {},
   "source": [
    "Both versions of `pi` are now available"
   ]
  },
  {
   "cell_type": "code",
   "execution_count": null,
   "metadata": {},
   "outputs": [],
   "source": [
    "print (pi)       # originally defined in cell 2\n",
    "print (np.pi)    # part of np"
   ]
  },
  {
   "cell_type": "markdown",
   "metadata": {},
   "source": [
    "For importing libraries, _especially for large libraries,_ protecting against name space collisions is very important. Above, we show how to do it."
   ]
  },
  {
   "cell_type": "markdown",
   "metadata": {},
   "source": [
    "## About Circular Imports\n",
    "\n",
    "Modules can import other modules but circular imports such as (A imports B, B imports A) or longer cycles (A → B, B → C, C → A) are disallowed.\n",
    "\n",
    "Run the next cell. **It will fail.** Can you fix it?"
   ]
  },
  {
   "cell_type": "code",
   "execution_count": null,
   "metadata": {},
   "outputs": [],
   "source": [
    "from connection import ApiConnection"
   ]
  }
 ],
 "metadata": {
  "kernelspec": {
   "display_name": "Python 3",
   "language": "python",
   "name": "python3"
  },
  "language_info": {
   "codemirror_mode": {
    "name": "ipython",
    "version": 3
   },
   "file_extension": ".py",
   "mimetype": "text/x-python",
   "name": "python",
   "nbconvert_exporter": "python",
   "pygments_lexer": "ipython3",
   "version": "3.7.4"
  }
 },
 "nbformat": 4,
 "nbformat_minor": 2
}

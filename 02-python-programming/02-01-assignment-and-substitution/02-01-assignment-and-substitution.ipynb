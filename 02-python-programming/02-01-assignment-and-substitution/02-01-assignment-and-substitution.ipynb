{
 "cells": [
  {
   "cell_type": "markdown",
   "metadata": {},
   "source": [
    "# Assignment and substitution\n",
    "\n",
    "The most important principle of Python programming for data science is the *principle of substitution*: \n",
    "\n",
    "> If x = {some mess}, and one writes an expression of {some mess}, \n",
    "> then one can substitute x for {some mess} in the expression \n",
    "> with exactly the same results. \n",
    "\n",
    "Let's apply this in several circumstances. There are three independent circumstances that come up regularly: \n",
    "* substitution of data. \n",
    "* substitution of functions. \n",
    "* substitution of anonymous functions. \n",
    "\n",
    "In principle, we could do everything without substitution. The purpose of all of these substitution principles is *readability* and *reuseability*. \n",
    "\n",
    "# How to interact with this notebook\n",
    "This notebook is not designed to stand alone. I will be using many Python functions. You should read up on anything you don't know about, from one of the following sources: \n",
    "* Google \"python x\" \n",
    "* [the python manual](https://docs.python.org/)\n",
    "* [the official python tutorial](https://docs.python.org/3/tutorial/)\n",
    "You should at some point go through the whole tutorial. \n",
    "\n",
    "# Substitution of data\n",
    "In this exercise, we'll concentrate on data substitution. We've learned already that lists can be extremely complex in structure and that what we do with them can be complicated. Consider the code: "
   ]
  },
  {
   "cell_type": "code",
   "execution_count": 1,
   "metadata": {},
   "outputs": [
    {
     "name": "stdout",
     "output_type": "stream",
     "text": [
      "there are 2 apples\n"
     ]
    }
   ],
   "source": [
    "fruits = [('apples', 2), ('oranges', 3), ('peas', 100)]\n",
    "for f in fruits:\n",
    "    if f[0] == 'apples':\n",
    "        print(\"there are {} apples\".format(f[1]))"
   ]
  },
  {
   "cell_type": "markdown",
   "metadata": {},
   "source": [
    "Write this without use of the variable `fruits` below. It should do exactly the same thing. Use the principle of substitution. Execute it once done. "
   ]
  },
  {
   "cell_type": "code",
   "execution_count": null,
   "metadata": {},
   "outputs": [],
   "source": [
    "# write your answer here"
   ]
  },
  {
   "cell_type": "markdown",
   "metadata": {},
   "source": [
    "However, this is an **unbelievably inefficient** way to search a list. The better way is to convert the list to a dictionary, to wit: "
   ]
  },
  {
   "cell_type": "code",
   "execution_count": null,
   "metadata": {},
   "outputs": [],
   "source": [
    "fruits = [('apples', 2), ('oranges', 3), ('peas', 100)]\n",
    "dictionary = dict(fruits)\n",
    "print(\"there are {} apples\".format(dictionary['apples']))"
   ]
  },
  {
   "cell_type": "markdown",
   "metadata": {},
   "source": [
    "# Some basic facts about substitution\n",
    "1. It doesn't depend upon whether you understand the code or not. \n",
    "2. It can be used to understand code you don't understand, by giving things names and printing them! \n",
    "\n",
    "Consider the following fragment: "
   ]
  },
  {
   "cell_type": "code",
   "execution_count": null,
   "metadata": {},
   "outputs": [],
   "source": [
    "fruits = [('apples', 2), ('oranges', 3), ('peas', 100)]\n",
    "print(\"there are {} apples\".format(dict(fruits)['apples']))"
   ]
  },
  {
   "cell_type": "markdown",
   "metadata": {},
   "source": [
    "# Whoa there! What just happened? \n",
    "Substitution is a double-edged sword. It can be used to make code *less* readable. \n",
    "\n",
    "Let's make this readable by substitution. This is sometimes called \"refinement\". \n",
    "\n",
    "First, we take the expression out of the format statement and get: \n"
   ]
  },
  {
   "cell_type": "code",
   "execution_count": null,
   "metadata": {},
   "outputs": [],
   "source": [
    "fruits = [('apples', 2), ('oranges', 3), ('peas', 100)]\n",
    "napples = dict(fruits)['apples']\n",
    "print(\"there are {} apples\".format(napples))"
   ]
  },
  {
   "cell_type": "markdown",
   "metadata": {},
   "source": [
    "But then we might want to understand what these things actually are, so we could write: "
   ]
  },
  {
   "cell_type": "code",
   "execution_count": null,
   "metadata": {},
   "outputs": [],
   "source": [
    "fruits = [('apples', 2), ('oranges', 3), ('peas', 100)]\n",
    "data = dict(fruits)\n",
    "napples = data['apples']\n",
    "print(\"there are {} apples\".format(napples))"
   ]
  },
  {
   "cell_type": "markdown",
   "metadata": {},
   "source": [
    "And then we might ask how this actually works: "
   ]
  },
  {
   "cell_type": "code",
   "execution_count": null,
   "metadata": {},
   "outputs": [],
   "source": [
    "fruits = [('apples', 2), ('oranges', 3), ('peas', 100)]\n",
    "data = dict(fruits)\n",
    "print(data)\n",
    "napples = data['apples']\n",
    "print(napples)\n",
    "print(\"there are {} apples\".format(napples))"
   ]
  },
  {
   "cell_type": "markdown",
   "metadata": {},
   "source": [
    "Thus, we have unraveled a complex expression into its parts without really understanding it beforehand! \n",
    "\n",
    "Let's put that into practice as a learning tool for figuring out complex data flows. Here's a dataflow to explore. It's actually a common trick in Python: "
   ]
  },
  {
   "cell_type": "code",
   "execution_count": null,
   "metadata": {},
   "outputs": [],
   "source": [
    "print(sorted(list(set(['Brian', 'Brian', \"Sarah\", \"Joe\", \"Sarah\", \"Mark\"])))[0])"
   ]
  },
  {
   "cell_type": "markdown",
   "metadata": {},
   "source": [
    "We can understand this by \"unwrapping the onion\". Please follow my instructions.\n",
    "1. Put the list on the inside in a variable `people`. "
   ]
  },
  {
   "cell_type": "code",
   "execution_count": null,
   "metadata": {},
   "outputs": [],
   "source": [
    "# {write your answer here} \n",
    "people = ...\n",
    "people"
   ]
  },
  {
   "cell_type": "markdown",
   "metadata": {},
   "source": [
    "2. explore what `set(people)` does by putting it into a variable `myset` and printing it. "
   ]
  },
  {
   "cell_type": "code",
   "execution_count": null,
   "metadata": {},
   "outputs": [],
   "source": [
    "# {write your answer here} \n",
    "myset = ...\n",
    "myset"
   ]
  },
  {
   "cell_type": "markdown",
   "metadata": {},
   "source": [
    "3. Now put `sorted(myset)` into a variable `ordered` and print that. "
   ]
  },
  {
   "cell_type": "code",
   "execution_count": null,
   "metadata": {},
   "outputs": [],
   "source": [
    "# {write your answer here} \n",
    "ordered = ...\n",
    "ordered"
   ]
  },
  {
   "cell_type": "markdown",
   "metadata": {},
   "source": [
    "Finally put `ordered[0]` into a variable `chosen` and print that. "
   ]
  },
  {
   "cell_type": "code",
   "execution_count": null,
   "metadata": {},
   "outputs": [],
   "source": [
    "# {write your answer here} \n",
    "chosen = ...\n",
    "chosen"
   ]
  },
  {
   "cell_type": "markdown",
   "metadata": {},
   "source": [
    "... and you have just *explained* what the complex expression means. \n",
    "\n",
    "Now answer some questions: \n",
    "\n",
    "4. What does set(x) do? \n",
    "\n",
    "___Your answer:___\n",
    "\n",
    "5. What does sorted(x) do? \n",
    "\n",
    "__Your answer:__\n",
    "\n"
   ]
  },
  {
   "cell_type": "markdown",
   "metadata": {},
   "source": [
    "# In this example, \n",
    "1. I quite *intentionally* (and with \"malice aforethought\") exposed you to Python you might not know. \n",
    "2. Instead of explaining each part, I left it to you to explore the Python and figure out how it works. \n",
    "3. While you can look up the meaning of each function in isolation, understanding the expression requires taking it apart and looking at each operation separately. \n",
    "4. This act is *complementary* to reading the documentation of each function. \n",
    "5. When I face undocumented Python, I do *both.* \n",
    "\n",
    "# What these functions actually do:\n",
    "1. `set(x)` turns x, a list, into a set. [tutorial on set()](https://docs.python.org/3/tutorial/datastructures.html#sets)\n",
    "2. `dict(x)` turns a list of tuples into a dictionary.[tutorial on dict()](https://docs.python.org/3/tutorial/datastructures.html#dictionaries) \n",
    "3. `sorted(x)` returns a sorted version of a list, assuming that elements are text. [HOWTO on sorting](https://docs.python.org/3/howto/sorting.html)\n",
    "\n",
    "`set()`, `dict()`, `list()` are also called *constructors*. They create an instance of a data type from data you provide. \n",
    "\n",
    "# the moral of this story\n",
    "1. Anyone can read the manual and know what these functions do, but \n",
    "2. The skill I just demonstrated -- of taking apart complex constructions into their component parts -- is the best way to *learn* how to use them and apply them.\n",
    "3. You will often be given Python scripts you don't understand. *The technique above is the best way to learn what they do!*\n"
   ]
  },
  {
   "cell_type": "markdown",
   "metadata": {},
   "source": [
    "# When you're done, submit the notebook\n",
    "\n",
    "You can submit a notebook by saving it as PDF. In the cluster environment, it's File | Print (Save as PDF) and submit to Gradescope. https://www.gradescope.com/courses/182658, On other versions, it may be File | Download As (PDF) and then submit to Gradescope.\n",
    "\n",
    "To submit to Gradescope, log into the [website](https://www.gradescope.com/courses/182658), add course **9W7PW3** (if not already added) and submit. The assignment name should match the name of this notebook."
   ]
  }
 ],
 "metadata": {
  "kernelspec": {
   "display_name": "Python 3",
   "language": "python",
   "name": "python3"
  },
  "language_info": {
   "codemirror_mode": {
    "name": "ipython",
    "version": 3
   },
   "file_extension": ".py",
   "mimetype": "text/x-python",
   "name": "python",
   "nbconvert_exporter": "python",
   "pygments_lexer": "ipython3",
   "version": "3.7.4"
  }
 },
 "nbformat": 4,
 "nbformat_minor": 2
}

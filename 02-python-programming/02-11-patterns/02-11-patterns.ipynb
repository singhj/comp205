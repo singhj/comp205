{
 "cells": [
  {
   "cell_type": "markdown",
   "metadata": {},
   "source": [
    "# Patterns"
   ]
  },
  {
   "cell_type": "markdown",
   "metadata": {},
   "source": [
    "## Notebook Content\n",
    "Enter data here for the histogram below."
   ]
  },
  {
   "cell_type": "code",
   "execution_count": null,
   "metadata": {},
   "outputs": [],
   "source": [
    "data = [1,4,5,2,3,4,4,7,8,2,2,2,3,1,1,1,2,20,2,2,9,10,1,2,3]\n",
    "num_bins = 3"
   ]
  },
  {
   "cell_type": "markdown",
   "metadata": {},
   "source": [
    "# Cell that plots a histogram\n",
    "\n",
    "- Preconditions\n",
    "    - `data` is a list of numbers. \n",
    "    - `num_bins` = the number of bins to use. \n",
    "- Postconditions\n",
    "    - The output is a histogram of `data`, binned into `num_bins` equal-sized bins."
   ]
  },
  {
   "cell_type": "code",
   "execution_count": null,
   "metadata": {},
   "outputs": [],
   "source": [
    "%matplotlib notebook\n",
    "import matplotlib\n",
    "import numpy as np\n",
    "import matplotlib.pyplot as plt\n",
    "\n",
    "fig, ax = plt.subplots()\n",
    "n, bins, patches = ax.hist(data, num_bins)\n",
    "ax.set_title(r'Histogram')\n",
    "plt.show()"
   ]
  },
  {
   "cell_type": "markdown",
   "metadata": {},
   "source": [
    "# A few exercises to get you started. \n",
    "\n",
    "1. Change the statement above to `num_bins = 10` above and run both cells. What happens?\n",
    "\n",
    "___Your answer:___\n",
    "\n",
    "2. Change the statement above to `num_bins = None` above and run both cells. What happens? \n",
    "\n",
    "___Your answer:___ \n",
    "\n",
    "3. Change the data statement to `data = [1,1,1,2,2,2,3,3,3,4,4,4,5,5,5]` and run both cells. What happens? \n",
    "\n",
    "___Your answer:___ \n",
    "\n",
    "4. Based upon what we've observed from these experiments, are preconditions complete? What would we write instead?\n",
    "\n",
    "___Your answer:___ \n",
    "\n",
    "5. Based upon what we've observed from these experience, are postconditions complete? What should we write instead?\n",
    "\n",
    "___Your answer:___ "
   ]
  },
  {
   "cell_type": "markdown",
   "metadata": {},
   "source": [
    "# Going further\n",
    "\n",
    "Programming for Data Science is often a matter of meeting preconditions and then letting someone else's code do the actual work. \n",
    "\n",
    "For example, suppose that instead of a list of data, we have a string: \n",
    "\n",
    "    dstring = '1 1 2 1 3 3 1 4 5 2 3 4'\n",
    "    \n",
    "How would we go about converting this to a list of numbers in `data`? \n",
    "\n",
    "Hints: \n",
    "\n",
    "1. string to list of strings: string.split(' ') \n",
    "2. string to integer: int(s)\n",
    "\n",
    "Write your answer in the following cell: "
   ]
  },
  {
   "cell_type": "code",
   "execution_count": null,
   "metadata": {},
   "outputs": [],
   "source": [
    "dstring = '1 1 2 1 3 3 1 4 5 2 3 4'\n",
    "# type your solution here \n",
    "data = ..."
   ]
  },
  {
   "cell_type": "markdown",
   "metadata": {},
   "source": [
    "#  What are the preconditions for your code in the previous cell? \n",
    "\n",
    "Hint: Does \n",
    "\n",
    "    dstring = '1,1,2,1,3,3,1,4,5,2,3,4' \n",
    "\n",
    "work properly? \n",
    "\n",
    "___Your answer:___\n",
    "\n",
    "# What are the postconditions for your code in the previous cell?\n",
    "\n",
    "___Your answer:___ "
   ]
  },
  {
   "cell_type": "markdown",
   "metadata": {},
   "source": [
    "# The principle of weakest preconditions. \n",
    "\n",
    "> A sequence of program fragments is *correct* if, for each fragment, \n",
    "> the postconditions for the previous fragment are the same or \n",
    "> more restrictive than the current fragment's preconditions.\n",
    "\n",
    "1. Correctness depends upon order of execution. \n",
    "2. Thus, which cells one executes first are crucial. \n",
    "3. The principle only guarantees what will happen if all preconditions and postconditions align. \n",
    "4. If preconditions are not met by prior postconditions, anything can happen. \n"
   ]
  },
  {
   "cell_type": "markdown",
   "metadata": {},
   "source": [
    "# Programming with \"black boxes\" \n",
    "\n",
    "Several times during this course, I will be giving you recipes or patterns that utilize \"black boxes\" for which only the preconditions and postconditions are known. I won't be telling you much about what's inside the box. You will have to piece together these boxes into a reasonable data flow. \n",
    "\n",
    "For example, consider the following situation: \n",
    "\n",
    "1. A function `splitter` translates a string into an array of integers represented by the string. If x is a string, then splitter(x) is a list of the string elements.\n",
    "2. A function `plotter` plots a histogram. It has parameters `data` and `nboxes`, where `data` is a list of integers and `num_bins` is the number of bins to use, as before. \n",
    "3. A function `numeric` translates a list of strings into a list of integers. If x is a list of strings, numeric(x) is the corresponding list of integers. \n",
    "\n",
    "In what order should these be executed to provide the plot above? \n",
    "\n",
    "___Your answer:___ "
   ]
  },
  {
   "cell_type": "code",
   "execution_count": null,
   "metadata": {},
   "outputs": [],
   "source": [
    "# here's the code for our functions \n",
    "def splitter(s): \n",
    "    return s.split(' ')\n",
    "\n",
    "def plotter(data, num_bins):\n",
    "    fig, ax = plt.subplots()\n",
    "    n, bins, patches = ax.hist(data, num_bins)\n",
    "    ax.set_title(r'Histogram')\n",
    "    plt.show()\n",
    "\n",
    "def numeric(s): \n",
    "    return [ int(x) for x in s ]"
   ]
  },
  {
   "cell_type": "markdown",
   "metadata": {},
   "source": [
    "Write the actual code to do this in the cell below. Use these functions. Don't worry about what they do, yet. "
   ]
  },
  {
   "cell_type": "code",
   "execution_count": null,
   "metadata": {
    "scrolled": true
   },
   "outputs": [],
   "source": [
    "dstring = '1 1 2 1 3 3 1 4 5 2 3 4'\n",
    "num_bins = 5\n",
    "# { replace this with code to plot dstring as a histogram }"
   ]
  },
  {
   "cell_type": "markdown",
   "metadata": {},
   "source": [
    "# Challenge problem: do it in one line of code\n",
    "Using the substitution principle, make that plot in one line of code in the following cell:"
   ]
  },
  {
   "cell_type": "code",
   "execution_count": null,
   "metadata": {},
   "outputs": [],
   "source": [
    "# { replace this with code to plot dstring as a histogram }"
   ]
  },
  {
   "cell_type": "markdown",
   "metadata": {},
   "source": [
    "# An afterword on rituals and patterns\n",
    "The difference between a professional data scientist and a dilettante is a complete understanding of this lesson. Many people who think of themselves as programmers do not know how to properly apply a pattern, nor do they understand even the questions to ask in order to apply a pattern correctly. This leads to inaccuracy of results and -- in extreme cases -- financial losses. "
   ]
  },
  {
   "cell_type": "markdown",
   "metadata": {},
   "source": [
    "# When you're done, submit the notebook\n",
    "\n",
    "You can submit a notebook by saving it as PDF. In the cluster environment, it's File | Print (Save as PDF) and submit to Gradescope. https://www.gradescope.com/courses/182658, On other versions, it may be File | Download As (PDF) and then submit to Gradescope.\n",
    "\n",
    "To submit to Gradescope, log into the [website](https://www.gradescope.com/courses/182658), add course **9W7PW3** (if not already added) and submit. The assignment name should match the name of this notebook."
   ]
  }
 ],
 "metadata": {
  "kernelspec": {
   "display_name": "Python 3",
   "language": "python",
   "name": "python3"
  },
  "language_info": {
   "codemirror_mode": {
    "name": "ipython",
    "version": 3
   },
   "file_extension": ".py",
   "mimetype": "text/x-python",
   "name": "python",
   "nbconvert_exporter": "python",
   "pygments_lexer": "ipython3",
   "version": "3.7.4"
  }
 },
 "nbformat": 4,
 "nbformat_minor": 2
}

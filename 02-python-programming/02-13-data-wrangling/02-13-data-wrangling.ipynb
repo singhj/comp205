{
 "cells": [
  {
   "cell_type": "markdown",
   "metadata": {},
   "source": [
    "# Data wrangling\n"
   ]
  },
  {
   "cell_type": "markdown",
   "metadata": {},
   "source": [
    "## Notebook Content\n",
    "It is very often necessary to make data conform to specific requirements. Here's a detailed example. We start with a string of costs, and want the sum of the costs. Here's the input: "
   ]
  },
  {
   "cell_type": "code",
   "execution_count": null,
   "metadata": {},
   "outputs": [],
   "source": [
    "budget = \"\"\"Airfare 300.00\n",
    "Hotel 200.00\n",
    "Food 100.00\"\"\"\n",
    "budget"
   ]
  },
  {
   "cell_type": "markdown",
   "metadata": {},
   "source": [
    "Our next step is to split the data up into chunks we can handle. We start by splitting it into lines. The line break character is '\\n'. "
   ]
  },
  {
   "cell_type": "code",
   "execution_count": null,
   "metadata": {},
   "outputs": [],
   "source": [
    "# splitting at \\n converts this to a list of lines. \n",
    "lines = budget.split('\\n')\n",
    "lines"
   ]
  },
  {
   "cell_type": "markdown",
   "metadata": {},
   "source": [
    "Our next step is to split up each line. The lines contain spaces between words. So we split at spaces. "
   ]
  },
  {
   "cell_type": "code",
   "execution_count": null,
   "metadata": {},
   "outputs": [],
   "source": [
    "costs = []\n",
    "for l in lines: \n",
    "    # splitting at ' ' separates the item from its cost .\n",
    "    thing, cost = l.split(\" \")\n",
    "    # but cost is still a string, and we want a number. \n",
    "    number = float(cost)\n",
    "    costs.append(number)\n",
    "costs"
   ]
  },
  {
   "cell_type": "markdown",
   "metadata": {},
   "source": [
    "Finally, we sum up the costs. This is a matter of making a sum of a list of things. Here's the pattern: "
   ]
  },
  {
   "cell_type": "code",
   "execution_count": null,
   "metadata": {},
   "outputs": [],
   "source": [
    "total = 0\n",
    "for c in costs: \n",
    "    total += c\n",
    "total   "
   ]
  },
  {
   "cell_type": "markdown",
   "metadata": {},
   "source": [
    "or, we could instead remember to write: "
   ]
  },
  {
   "cell_type": "code",
   "execution_count": null,
   "metadata": {},
   "outputs": [],
   "source": [
    "total = sum(costs)\n",
    "total"
   ]
  },
  {
   "cell_type": "markdown",
   "metadata": {},
   "source": [
    "# Some basic observations\n",
    "1. Each transformation requires the previous one. \n",
    "2. I printed the result of each transformation to ensure that I was doing things correctly.\n",
    "3. The cells are written in the order in which they should be executed.\n",
    "4. One can thus visually determine whether everything is working correctly. \n",
    "5. (The postconditions for the previous step are at least enough to be preconditions for the next step.)"
   ]
  },
  {
   "cell_type": "markdown",
   "metadata": {},
   "source": [
    "# Some exercises\n",
    "\n",
    "1. Write the above calculation -- involving multiple cells -- in one cell. "
   ]
  },
  {
   "cell_type": "code",
   "execution_count": null,
   "metadata": {},
   "outputs": [],
   "source": [
    "# replace this comment with your answer"
   ]
  },
  {
   "cell_type": "markdown",
   "metadata": {},
   "source": [
    "2. **Try this same code on the string below.** Does it work reasonably? "
   ]
  },
  {
   "cell_type": "code",
   "execution_count": null,
   "metadata": {},
   "outputs": [],
   "source": [
    "budget = \"\"\"Airfare 300.00 TWA\n",
    "Hotel 200.00 Marriott\n",
    "Food 100.00 Legal-Seafoods\"\"\"\n",
    "budget"
   ]
  },
  {
   "cell_type": "code",
   "execution_count": null,
   "metadata": {},
   "outputs": [],
   "source": [
    "# copy the previous code here, and run it"
   ]
  },
  {
   "cell_type": "markdown",
   "metadata": {},
   "source": [
    "___Your answer:___"
   ]
  },
  {
   "cell_type": "markdown",
   "metadata": {},
   "source": [
    "3. **What happens with the budget code if you put one of the columns in one line of data in the wrong order?** Hint: reverse the second and third columns. Try it here: "
   ]
  },
  {
   "cell_type": "code",
   "execution_count": null,
   "metadata": {},
   "outputs": [],
   "source": [
    "# { copy code here to try the experiment, and run it. }"
   ]
  },
  {
   "cell_type": "markdown",
   "metadata": {},
   "source": [
    "___Your answer:___"
   ]
  },
  {
   "cell_type": "markdown",
   "metadata": {},
   "source": [
    "4. **Based upon this, what are the complete preconditions for this code to work correctly?** \n",
    "\n",
    "___Your answer:___"
   ]
  },
  {
   "cell_type": "markdown",
   "metadata": {},
   "source": [
    "5. Very often, we need to deal with exceptions. For example, the code \n",
    "    \n",
    "```\n",
    "    try:\n",
    "        foo = float(x)\n",
    "    except: \n",
    "        foo = 0.0\n",
    "```\n",
    "   tries to convert `x` to `float`, but if it can't be converted for some reason, sets the conversion to 0.0.\n",
    "   \n",
    "   Write a version of \n",
    "\n",
    "```\n",
    "costs = []\n",
    "for l in lines: \n",
    "    thing, cost = l.split(\" \")\n",
    "    number = float(cost)\n",
    "    costs.append(number)\n",
    "```\n",
    "\n",
    "   that deals elegantly with columns that are not numbers and adds zero for each such column. Run it on the example below."
   ]
  },
  {
   "cell_type": "code",
   "execution_count": null,
   "metadata": {},
   "outputs": [],
   "source": [
    "budget = \"\"\"Airfare 300.00 TWA\n",
    "Hotel 200.00 Marriott\n",
    "Snack N/A Street-Vendor\n",
    "Food 100.00 Legal-Seafoods\"\"\"\n",
    "\n",
    "# fill in details here"
   ]
  },
  {
   "cell_type": "markdown",
   "metadata": {},
   "source": [
    "# When you're done, submit the notebook\n",
    "You can submit a notebook by saving it as PDF. In the cluster environment, it's File | Print (Save as PDF) and submit to Gradescope. https://www.gradescope.com/courses/182658, On other versions, it may be File | Download As (PDF) and then submit to Gradescope.\n",
    "\n",
    "To submit to Gradescope, log into the website, add course 9W7PW3 (if not already added) and submit. The assignment name should match the name of this notebook."
   ]
  }
 ],
 "metadata": {
  "kernelspec": {
   "display_name": "Python 3",
   "language": "python",
   "name": "python3"
  },
  "language_info": {
   "codemirror_mode": {
    "name": "ipython",
    "version": 3
   },
   "file_extension": ".py",
   "mimetype": "text/x-python",
   "name": "python",
   "nbconvert_exporter": "python",
   "pygments_lexer": "ipython3",
   "version": "3.7.4"
  }
 },
 "nbformat": 4,
 "nbformat_minor": 2
}

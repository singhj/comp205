{
 "cells": [
  {
   "cell_type": "markdown",
   "metadata": {},
   "source": [
    "# Reusable Classes\n",
    "\n",
    "So far, we've studied structures that include lists, sets, dicts, tuples, and other kinds of data. \n",
    "A class is a different kind of object. It can contain these other kinds of objects as data. \n",
    "However, the way one interacts with classes is distinct from how one interacts with many other kinds of data. \n",
    "\n",
    "## Example Reusable Class: _Circle_\n",
    "\n",
    "In its simplest form, a class is a way to bind together functions and data into one package.\n",
    "Let us first see how to utilize a class that someone already wrote.\n",
    "Don't change the next cell, just run it!"
   ]
  },
  {
   "cell_type": "code",
   "execution_count": null,
   "metadata": {},
   "outputs": [],
   "source": [
    "from math import pi\n",
    "\n",
    "\n",
    "class Circle:\n",
    "    \"\"\"\n",
    "    A Circle instance models a circle with a radius\n",
    "    Can be initialized with an optional radius parameter\n",
    "    If no radius is given, a radius of 1.0 is used\n",
    "    \"\"\"\n",
    "\n",
    "    def __init__(self, radius=1.0):\n",
    "        \"\"\"Initializer with default radius of 1.0\"\"\"\n",
    "        self.radius = radius  # Instance variable radius\n",
    "\n",
    "    def __str__(self):\n",
    "        \"\"\"Return a descriptive string for this instance, invoked by print() and str()\"\"\"\n",
    "        return 'This is a circle with radius of {:.2f}'.format(self.radius)\n",
    "\n",
    "    def get_area(self):\n",
    "        \"\"\"Return the area of this Circle instance\"\"\"\n",
    "        return self.radius * self.radius * pi"
   ]
  },
  {
   "cell_type": "markdown",
   "metadata": {},
   "source": [
    "## Classes and Instances\n",
    "\n",
    "First, let's create a circle c1."
   ]
  },
  {
   "cell_type": "code",
   "execution_count": null,
   "metadata": {},
   "outputs": [],
   "source": [
    "c1 = Circle(2.1)      # Construct an instance"
   ]
  },
  {
   "cell_type": "markdown",
   "metadata": {},
   "source": [
    "### Attributes and methods of c1\n",
    "\n",
    "Let's examine the definition of the `Circle` class.\n",
    "\n",
    "* `radius` is an attribute of our `Circle` class. That means we expect _every_ circle to have a radius. `Circle` has only one attribute but for other classes, there could be a different number of attributes (including zero).\n",
    "* `get_area()` is a method of our `Circle` class. That means we should be able to call `get_area()` for any circle. When `get_area()` is called for a circle, it returns &pi; r<sup> 2</sup>.\n",
    "* Methods like `__str__()` belong to a special class of methods in Python. Sometimes also referred to as **magic methods** or **dunder** (short for double underscore) methods, they are reserved names. Their meaning is fixed, a heap of trouble awaits if you assume their meaning to be different from what was intended."
   ]
  },
  {
   "cell_type": "code",
   "execution_count": null,
   "metadata": {},
   "outputs": [],
   "source": [
    "print(c1)\n",
    "print(c1.get_area())\n",
    "print(c1.radius)"
   ]
  },
  {
   "cell_type": "markdown",
   "metadata": {},
   "source": [
    "1. The first line, trying to `print(c1)`, invokes `__str__()` for c1.\n",
    "1. The second line calls `get_area()` for the circle and prints its area.\n",
    "1. The third line prints the `radius` attribute of c1.\n"
   ]
  },
  {
   "cell_type": "code",
   "execution_count": null,
   "metadata": {},
   "outputs": [],
   "source": [
    "c2 = Circle(2.1)      # Construct another instance"
   ]
  },
  {
   "cell_type": "markdown",
   "metadata": {},
   "source": [
    "### Are c1 and c2 the same circle?"
   ]
  },
  {
   "cell_type": "code",
   "execution_count": null,
   "metadata": {},
   "outputs": [],
   "source": [
    "c1 = Circle(2.1)\n",
    "c2 = Circle(2.1)\n",
    "print (c1)\n",
    "print (c2)"
   ]
  },
  {
   "cell_type": "code",
   "execution_count": null,
   "metadata": {},
   "outputs": [],
   "source": [
    "print (c1 == c2)"
   ]
  },
  {
   "cell_type": "markdown",
   "metadata": {},
   "source": [
    "The print representations of c1 and c2 are the same but they are still not the same circle!\n",
    "\n",
    "Investigating a bit further &hellip;"
   ]
  },
  {
   "cell_type": "code",
   "execution_count": null,
   "metadata": {},
   "outputs": [],
   "source": [
    "c1 # Asking Jupyter to tell us c1"
   ]
  },
  {
   "cell_type": "code",
   "execution_count": null,
   "metadata": {},
   "outputs": [],
   "source": [
    "c2 # Asking Jupyter to tell us c2"
   ]
  },
  {
   "cell_type": "markdown",
   "metadata": {},
   "source": [
    "The part that looks like `0xblablabla` tells where that object lives in memory. Notice that they are both `Circle`s but they live in memory at different locations! "
   ]
  },
  {
   "cell_type": "markdown",
   "metadata": {},
   "source": [
    "### Python internal values\n",
    "\n",
    "Where did Jupyter get that information about memory location? Actually, Python has two magic methods for printing an instance:\n",
    "\n",
    "* `__str__()` as discussed above and\n",
    "* `__repr__()`, which returns the string representation of the instance. Typically what `__repr__()` returns is more detailed, not as succinct as what `__str__()` returns.\n",
    "\n",
    "Run the following cell:"
   ]
  },
  {
   "cell_type": "code",
   "execution_count": null,
   "metadata": {},
   "outputs": [],
   "source": [
    "print (repr(c1))\n",
    "c1"
   ]
  },
  {
   "cell_type": "markdown",
   "metadata": {},
   "source": [
    "#### What does running the above cell tell you?\n",
    "\n",
    "Where did Jupyter get that information about memory location?\n",
    "\n",
    "___Your answer:___ (double-click to edit)"
   ]
  },
  {
   "cell_type": "markdown",
   "metadata": {},
   "source": [
    "## Constructors\n",
    "\n",
    "The `__init__` method is sometimes also called **Constructor**. Notice that we defined the constructor with an optional argument: `radius`.\n",
    "\n",
    "### Optional Constructor Attributes\n",
    "\n",
    "Let us create another circle and don't bother to specify the radius. Our constructor was defined with a default value, so it works!"
   ]
  },
  {
   "cell_type": "code",
   "execution_count": null,
   "metadata": {},
   "outputs": [],
   "source": [
    "c2 = Circle()\n",
    "print(c2)\n",
    "print(c2.get_area())  # Invoke member method"
   ]
  },
  {
   "cell_type": "markdown",
   "metadata": {},
   "source": [
    "## Ad-hoc attributes\n",
    "\n",
    "We can add an attribute 'color' to the circle c2"
   ]
  },
  {
   "cell_type": "code",
   "execution_count": null,
   "metadata": {},
   "outputs": [],
   "source": [
    "c2.color = 'red'  # Create a new attribute for this instance via assignment\n",
    "print(c2.color)"
   ]
  },
  {
   "cell_type": "markdown",
   "metadata": {},
   "source": [
    "Does c1 also have a color now?"
   ]
  },
  {
   "cell_type": "code",
   "execution_count": null,
   "metadata": {},
   "outputs": [],
   "source": [
    "print(c1.color)"
   ]
  },
  {
   "cell_type": "markdown",
   "metadata": {},
   "source": [
    "_color_ was an attribute of the instance c2. It didn't carry over to all the other instances of the class! A few rules to remember:\n",
    "\n",
    "1. If we want _all_ instances of a class to have an attribute, it should be defined with the class.\n",
    "1. If we only want _some_ instances of a class to have that attribute, or different attributes for different instances, we can define them in an ad-hoc fashion as shown above.\n",
    "\n",
    "There are more rules and we will develop them as we go."
   ]
  },
  {
   "cell_type": "markdown",
   "metadata": {},
   "source": [
    "## Another Reusable Class, _Coordinates_\n",
    "\n",
    "Most Data Science work involves using classes that someone else wrote. \n",
    "Before you decide to write your own, search the web or [PyPi](https://pypi.org/), the Python Package index.\n",
    "\n",
    "The rest of this notebook explains what some of the concepts around classes mean. It considers a class called `Coordinates` which packages up attributes and 'methods': the functions a user of that class can invoke."
   ]
  },
  {
   "cell_type": "code",
   "execution_count": null,
   "metadata": {},
   "outputs": [],
   "source": [
    "class Coordinates():\n",
    "    latitude = None\n",
    "    longitude = None\n",
    "\n",
    "    def __init__(self, lat, long):\n",
    "        self.latitude = lat\n",
    "        self.longitude = long\n",
    "\n",
    "    def __str__(self):\n",
    "        return \"lat {}, long {}\".format(self.latitude, self.longitude)\n",
    "\n",
    "    def location(self):\n",
    "        return (self.latitude, self.longitude)\n",
    "\n",
    "boston = Coordinates(42.3601, -71.0589)\n",
    "boston.location()"
   ]
  },
  {
   "cell_type": "markdown",
   "metadata": {},
   "source": [
    "(Source of data: google maps)\n",
    "\n",
    "At the most naive level, a class is a collection of functions and data, e.g., \n",
    "* `Coordinates.latitude`: a number. \n",
    "* `Coordinates.longitude`: a number. \n",
    "* `Coordinates.location`: a function.\n",
    "We often refer to these as **attributes** of the class. \n",
    "\n",
    "To interact with a class, we make an **instance** of the class by a syntax like: \n",
    "```\n",
    "boston = Coordinates()\n",
    "```\n",
    "and then can interact with the instance, which contains: \n",
    "* `boston.latitude`\n",
    "* `boston.longitude`\n",
    "* `boston.location()`\n",
    "\n",
    "# Methods\n",
    "* A function contained inside a class is commonly called a **method**. \n",
    "* `boston.location()` calls a method.\n",
    "\n",
    "\n",
    "# What is `self`?\n",
    "You might notice that there is a first parameter `self` in the `location` function. \n",
    "If you write: `boston.location()`then `location` is actually called with first parameter `boston` so that `self` inside that function is `boston`. \n",
    "\n",
    "A rather bizarre notation proves this. It turns out that `boston.location()` is exactly and precisely equivalent to: "
   ]
  },
  {
   "cell_type": "code",
   "execution_count": null,
   "metadata": {},
   "outputs": [],
   "source": [
    "Coordinates.location(boston)"
   ]
  },
  {
   "cell_type": "markdown",
   "metadata": {},
   "source": [
    "`Coordinates.location` is the *external* name of the function, outside the class. In other words, \n",
    "\n",
    "*In a regular class method call, the first parameter is always the instance of the class.*\n",
    "\n",
    "# Why did I set `latitude` and `longitude` to `None`?\n",
    "It is considered good style to mention attributes of a class in their declaration even if they have no values at that time. In fact, this is not a limitation. One can create an instance and then set the attributes later. E.g., this works, too: "
   ]
  },
  {
   "cell_type": "code",
   "execution_count": null,
   "metadata": {},
   "outputs": [],
   "source": [
    "class Coordinates():\n",
    "    def location(self):\n",
    "        return (self.latitude, self.longitude)\n",
    "\n",
    "\n",
    "boston = Coordinates()\n",
    "boston.latitude = 42.3601\n",
    "boston.longitude = -71.0589\n",
    "boston.location()"
   ]
  },
  {
   "cell_type": "code",
   "execution_count": null,
   "metadata": {},
   "outputs": [],
   "source": [
    "# Don't change this cell; just run it. \n",
    "from client.api.notebook import Notebook\n",
    "ok = Notebook('02-04-reusable-classes.ok')\n",
    "ok.auth(inline=True)"
   ]
  },
  {
   "cell_type": "markdown",
   "metadata": {},
   "source": [
    "## Classes versus other types\n",
    "\n",
    "The most similar type to that of a `class` is a `dict`. \n",
    "But they're different in many ways. \n",
    "\n",
    "| class | dict |\n",
    "|-------|------|\n",
    "| references are `instance.attribute` | references are `dictthing[index]` |\n",
    "| attributes must be valid variable names | indices can be any string | \n",
    "| `for i in instance:` doesn't generally work | `for i in dictthing:` iterates over keys |\n",
    "\n",
    "In fact, one can make a `class` into an `iterable` by defining what to do, but I will defer that to later.  \n",
    "\n",
    "Let's start applying this knowledge. First, register yourself so grading will work: \n",
    "\n",
    "## Defining another reusable class, _Purchase_\n",
    "\n",
    "Let's try this out: \n",
    "1. Using `Circle` or `Coordinates` above as models, make up a class `Purchase` that contains two data fields `item` and `cost`. \n",
    "1. Create a `Purchase` `socks` with item `\"socks\"` and price `10.00`."
   ]
  },
  {
   "cell_type": "code",
   "execution_count": null,
   "metadata": {},
   "outputs": [],
   "source": [
    "# Your answer:\n",
    "class Purchase():\n",
    "    def __init__(self, item, cost):\n",
    "        . . .\n",
    "        . . .\n",
    "    def __str__(self):\n",
    "        return '%s: %5.2f'%(self.item, self.cost)\n",
    "    \n",
    "socks = Purchase('socks', 10.00)\n",
    "# Then this should print \"socks: 10.00\":\n",
    "print(socks)"
   ]
  },
  {
   "cell_type": "code",
   "execution_count": null,
   "metadata": {},
   "outputs": [],
   "source": [
    "_ = ok.grade('q1')  # run this to check your answer"
   ]
  },
  {
   "cell_type": "markdown",
   "metadata": {},
   "source": [
    "# Constructors\n",
    "**Constructors** allow one to create a class more easily. For this class, we might write: "
   ]
  },
  {
   "cell_type": "markdown",
   "metadata": {},
   "source": [
    "Let's try this out: \n",
    "\n",
    "2. Copy your Purchase class from above, and change the class so that I can create a Purchase using the syntax below: "
   ]
  },
  {
   "cell_type": "code",
   "execution_count": null,
   "metadata": {},
   "outputs": [],
   "source": [
    "# Your answer: \n",
    "class Purchase():\n",
    "    def __init__(self, item, cost):\n",
    "        . . .\n",
    "        . . .\n",
    "\n",
    "# Then this should work: \n",
    "socks = Purchase('socks', 10.00)\n",
    "socks    # the returned cell value should be \"socks: 10.00\""
   ]
  },
  {
   "cell_type": "code",
   "execution_count": null,
   "metadata": {},
   "outputs": [],
   "source": [
    "_ = ok.grade('q2')  # run this to check your answer"
   ]
  },
  {
   "cell_type": "markdown",
   "metadata": {},
   "source": [
    "3. Copy your `Purchase` class again, and add a `__str__` method that prints \n",
    "`\"The cost of socks is 10.0\"` to make my code work.  "
   ]
  },
  {
   "cell_type": "code",
   "execution_count": null,
   "metadata": {},
   "outputs": [],
   "source": [
    "# your answer: \n",
    "          \n",
    "# Then this should work: \n",
    "socks = Purchase('socks', 10.00)\n",
    "print(socks)"
   ]
  },
  {
   "cell_type": "code",
   "execution_count": null,
   "metadata": {},
   "outputs": [],
   "source": [
    "_ = ok.grade('q3')  # run this to check your answer"
   ]
  },
  {
   "cell_type": "markdown",
   "metadata": {},
   "source": [
    "# Classes containing classes\n",
    "\n",
    "Here's an obvious generalization of what we have so far. It's often useful to define a rectangle as a result of coordinates. Here's a common class for doing that: "
   ]
  },
  {
   "cell_type": "code",
   "execution_count": null,
   "metadata": {},
   "outputs": [],
   "source": [
    "class Rectangle():\n",
    "    southeast = None\n",
    "    northwest = None\n",
    "\n",
    "    def __init__(self, southeast, northwest):\n",
    "        self.southeast = southeast\n",
    "        self.northwest = northwest\n",
    "\n",
    "    def __str__(self):\n",
    "        return \"rectangle from {} to {}\".format(str(self.southeast), str(self.northwest))\n",
    "\n",
    "\n",
    "nw = Coordinates(42.428517, -70.967605)\n",
    "se = Coordinates(42.305968, -71.201033)\n",
    "boston_area = Rectangle(se, nw)\n",
    "str(boston_area)"
   ]
  },
  {
   "cell_type": "markdown",
   "metadata": {},
   "source": [
    "## Defining another reusable class, _Purchases_\n",
    "\n",
    "`Purchases` will be a class that contains multiple `Purchase` instances.\n",
    "\n",
    "Let's try this out: \n",
    "\n",
    "4. Make up a class `Purchases` that contains a list of `Purchase`s called `purchases`. Make a constructor that takes a list of `Purchase` objects. Make it print the purchases one per line when printed. Hint: make up a string `out` and then add each line to it, separated by `'\\n'`. Make my code at the end work properly.  "
   ]
  },
  {
   "cell_type": "code",
   "execution_count": null,
   "metadata": {
    "scrolled": false
   },
   "outputs": [],
   "source": [
    "# your answer:\n",
    "\n",
    "# then this should work\n",
    "stuff = [Purchase(\"socks\", 10.00),\n",
    "         Purchase(\"tie\", 20.00),\n",
    "         Purchase(\"shoes\", 50.00)]\n",
    "purchases = Purchases(stuff)\n",
    "print(purchases)"
   ]
  },
  {
   "cell_type": "code",
   "execution_count": null,
   "metadata": {},
   "outputs": [],
   "source": [
    "_ = ok.grade('q4')  # run this to check your answer"
   ]
  },
  {
   "cell_type": "markdown",
   "metadata": {},
   "source": [
    "# Methods relevant to data\n",
    "One of the great powers of classes is the ability to file methods inside classes that are relevant to the data in the classes. For example, in our `Rectangle` class, we might want to know if a point expressed as `Coordinates` is inside the rectangle. We can write: \n"
   ]
  },
  {
   "cell_type": "code",
   "execution_count": null,
   "metadata": {},
   "outputs": [],
   "source": [
    "class Rectangle():\n",
    "    southeast = None\n",
    "    northwest = None\n",
    "\n",
    "    def __init__(self, southeast, northwest):\n",
    "        self.southeast = southeast\n",
    "        self.northwest = northwest\n",
    "\n",
    "    def __str__(self):\n",
    "        return \"rectangle from {} to {}\".format(str(self.southeast), str(self.northwest))\n",
    "\n",
    "    def contains(self, coords):\n",
    "        return self.southeast.latitude <= coords.latitude and \\\n",
    "            self.southeast.longitude <= coords.longitude and \\\n",
    "            self.northwest.latitude >= coords.latitude and \\\n",
    "            self.northwest.longitude >= coords.longitude\n",
    "\n",
    "\n",
    "nw = Coordinates(42.428517, -70.967605)\n",
    "se = Coordinates(42.305968, -71.201033)\n",
    "boston_area = Rectangle(se, nw)\n",
    "print(boston_area.contains(boston))\n",
    "manhattan = Coordinates(40.78, -73.97)\n",
    "print(boston_area.contains(manhattan))"
   ]
  },
  {
   "cell_type": "markdown",
   "metadata": {},
   "source": [
    "So, *the class `Rectangle` now \"knows\" what it means to be inside that rectangle.*\n",
    "\n",
    "Let's try this out: \n",
    "\n",
    "5. Copy over your `Purchases` class. Add a class method `total` that returns the total cost of all purchases. Make my usage of the code work below. "
   ]
  },
  {
   "cell_type": "code",
   "execution_count": null,
   "metadata": {},
   "outputs": [],
   "source": [
    "# your answer: \n",
    " \n",
    "# then this should work:\n",
    "stuff = [Purchase(\"socks\", 10), \n",
    "         Purchase(\"tie\", 20), \n",
    "         Purchase(\"shoes\", 50)]\n",
    "purchases = Purchases(stuff)\n",
    "str(purchases.total())"
   ]
  },
  {
   "cell_type": "code",
   "execution_count": null,
   "metadata": {},
   "outputs": [],
   "source": [
    "_ = ok.grade('q5')  # run this to check your answer"
   ]
  },
  {
   "cell_type": "markdown",
   "metadata": {},
   "source": [
    "# When you're done, submit the notebook\n",
    "\n",
    "You can submit a notebook by saving it as PDF. In the cluster environment, it's File | Print (Save as PDF) and submit to Gradescope. https://www.gradescope.com/courses/182658, On other versions, it may be File | Download As (PDF) and then submit to Gradescope.\n",
    "\n",
    "To submit to Gradescope, log into the [website](https://www.gradescope.com/courses/182658), add course **9W7PW3** (if not already added) and submit. The assignment name should match the name of this notebook."
   ]
  }
 ],
 "metadata": {
  "kernelspec": {
   "display_name": "Python 3",
   "language": "python",
   "name": "python3"
  },
  "language_info": {
   "codemirror_mode": {
    "name": "ipython",
    "version": 3
   },
   "file_extension": ".py",
   "mimetype": "text/x-python",
   "name": "python",
   "nbconvert_exporter": "python",
   "pygments_lexer": "ipython3",
   "version": "3.7.4"
  }
 },
 "nbformat": 4,
 "nbformat_minor": 2
}

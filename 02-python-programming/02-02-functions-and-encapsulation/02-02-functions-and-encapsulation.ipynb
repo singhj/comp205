{
 "cells": [
  {
   "cell_type": "markdown",
   "metadata": {},
   "source": [
    "# Functions and encapsulation \n",
    "\n",
    "The second way in which we use the substitution principle is in writing functions to encapsulate common operations. Recall that: \n",
    "\n",
    "> If x = {some mess}, and one writes an expression of {some mess}, \n",
    "> then one can substitute x for {some mess} in the expression \n",
    "> with exactly the same results. \n",
    "\n",
    "Remember, the purpose of all of these substitution principles is *readability* and *reuseability*. \n",
    "# How to interact with this notebook\n",
    "This notebook is not designed to stand alone. I will be using many Python functions. You should read up on anything you don't know about, from one of the following sources: \n",
    "* Google \"python x\" \n",
    "* [the python manual](https://docs.python.org/)\n",
    "* [the official python tutorial](https://docs.python.org/3/tutorial/)\n",
    "You should at some point go through the whole tutorial. \n",
    "\n",
    "# Substitution of functions for code\n",
    "In this exercise, we'll concentrate on writing functions to replace code. This is also called \"encapsulation\"."
   ]
  },
  {
   "cell_type": "markdown",
   "metadata": {},
   "source": [
    "# Recall some basic facts about substitution\n",
    "1. It doesn't depend upon whether you understand the code or not. \n",
    "2. It can be used to understand code you don't understand, by giving things names and printing them! \n",
    "\n",
    "Consider the following fragment: "
   ]
  },
  {
   "cell_type": "code",
   "execution_count": null,
   "metadata": {},
   "outputs": [],
   "source": [
    "print(\n",
    "    sorted(list(set(['Brian', 'Brian', \"Sarah\", \"Joe\", \"Sarah\", \"Mark\"])))[0])"
   ]
  },
  {
   "cell_type": "markdown",
   "metadata": {},
   "source": [
    "We can encapsulate this rather powerful idea via a function. This is a way of remembering the steps we took to do this. Consider:"
   ]
  },
  {
   "cell_type": "code",
   "execution_count": null,
   "metadata": {},
   "outputs": [],
   "source": [
    "def firstone(people):\n",
    "    return sorted(list(set(people)))[0]\n",
    "\n",
    "\n",
    "firstone(['Brian', 'Brian', \"Sarah\", \"Joe\", \"Sarah\", \"Mark\"])"
   ]
  },
  {
   "cell_type": "markdown",
   "metadata": {},
   "source": [
    "The variable people represents the input, and the return value represents the output. When executing the function, `people` becomes the value`['Brian', 'Brian', \"Sarah\", \"Joe\", \"Sarah\", \"Mark\"]` so that the function exactly represents the formula above. But we can also call this on different values: "
   ]
  },
  {
   "cell_type": "code",
   "execution_count": null,
   "metadata": {},
   "outputs": [],
   "source": [
    "firstone([\"Alex\", \"Albert\", \"Rosie\", \"Fred\", \"Fred\", \"Frank\"])"
   ]
  },
  {
   "cell_type": "markdown",
   "metadata": {},
   "source": [
    "Now let's do something more sophisticated based upon the same idea. Let's suppose we have a list of tuples `(person1, person2, money)` where `person1` owes `person2` `money` dollars. Consider, e.g., "
   ]
  },
  {
   "cell_type": "code",
   "execution_count": null,
   "metadata": {},
   "outputs": [],
   "source": [
    "debts = [(\"Alva\", \"Frank\", 10),\n",
    "         (\"Fred\", \"George\", 3),\n",
    "         (\"Amy\", \"George\", 2),\n",
    "         (\"Frank\", \"Fred\", 4),\n",
    "         (\"Frank\", \"Amy\", 5)]\n",
    "debts"
   ]
  },
  {
   "cell_type": "markdown",
   "metadata": {},
   "source": [
    "We might ask several things about this data.\n",
    "\n",
    "1. What are the names of all of the people? "
   ]
  },
  {
   "cell_type": "code",
   "execution_count": null,
   "metadata": {},
   "outputs": [],
   "source": [
    "people = set()\n",
    "for d in debts:\n",
    "    people.add(d[0])\n",
    "    people.add(d[1])\n",
    "sorted(list(people))"
   ]
  },
  {
   "cell_type": "markdown",
   "metadata": {},
   "source": [
    "A subtle fact about sets: \n",
    "\n",
    "* Sets don't contain duplicates. \n",
    "* If you add someone twice, it has no effect. \n",
    "* So we just get one instance of each name. \n",
    "\n",
    "We might make that a function as follows: "
   ]
  },
  {
   "cell_type": "code",
   "execution_count": null,
   "metadata": {},
   "outputs": [],
   "source": [
    "def people(debts):\n",
    "    out = set()\n",
    "    for d in debts:\n",
    "        out.add(d[0])\n",
    "        out.add(d[1])\n",
    "    return sorted(list(out))\n",
    "\n",
    "\n",
    "people(debts)"
   ]
  },
  {
   "cell_type": "markdown",
   "metadata": {},
   "source": [
    "2. What is Frank's balance (money owed to Frank - money Frank owes)? "
   ]
  },
  {
   "cell_type": "code",
   "execution_count": null,
   "metadata": {},
   "outputs": [],
   "source": [
    "p = 'Frank'\n",
    "balance = 0\n",
    "for d in debts:\n",
    "    if p == d[0]:  # p owes d[2]\n",
    "        balance -= d[2]\n",
    "    if p == d[1]:  # p is owed d[2]\n",
    "        balance += d[2]\n",
    "balance"
   ]
  },
  {
   "cell_type": "markdown",
   "metadata": {},
   "source": [
    "Now we'd like to compute this for every person, so we write this as a function"
   ]
  },
  {
   "cell_type": "code",
   "execution_count": null,
   "metadata": {
    "scrolled": true
   },
   "outputs": [],
   "source": [
    "def balance(debts, person):\n",
    "    bal = 0\n",
    "    for d in debts:\n",
    "        if person == d[0]:  # person owes d[2]\n",
    "            bal -= d[2]\n",
    "        if person == d[1]:  # person is owed d[2]\n",
    "            bal += d[2]\n",
    "    return bal\n",
    "\n",
    "\n",
    "print(\"Frank's balance is {}\".format(balance(debts, \"Frank\")))\n",
    "print(\"Amy's balance is {}\".format(balance(debts, \"Amy\")))"
   ]
  },
  {
   "cell_type": "markdown",
   "metadata": {},
   "source": [
    "3. But then, we might ask, what is everyone's balance? "
   ]
  },
  {
   "cell_type": "code",
   "execution_count": null,
   "metadata": {},
   "outputs": [],
   "source": [
    "for p in people(debts):\n",
    "    print(\"{}'s balance is {}\".format(p, balance(debts, p)))"
   ]
  },
  {
   "cell_type": "markdown",
   "metadata": {},
   "source": [
    "Note the use of the function we wrote, called as `people(debts)`, in the `for` loop.  \n",
    "\n",
    "We might write this with a function, like this:"
   ]
  },
  {
   "cell_type": "code",
   "execution_count": null,
   "metadata": {},
   "outputs": [],
   "source": [
    "def balances(debts):\n",
    "    bals = []\n",
    "    for p in people(debts):\n",
    "        bals.append((p, balance(debts,p)))\n",
    "    return bals\n",
    "\n",
    "\n",
    "bals = balances(debts)\n",
    "print(bals)\n",
    "for b in bals:\n",
    "    print(\"{}'s balance is {}\".format(b[0], b[1]))"
   ]
  },
  {
   "cell_type": "markdown",
   "metadata": {},
   "source": [
    "Oh well, I am quite clearly in the hole in this database! \n",
    "\n",
    "These functions are the beginning of an Application Programming Interface (API) for our data structure debts. As we develop functions, we might want to do more things. Let's develop a few of these: \n",
    "\n",
    "1. Write a function that adds a debt to the debts list. Use `append`. "
   ]
  },
  {
   "cell_type": "code",
   "execution_count": null,
   "metadata": {},
   "outputs": [],
   "source": [
    "def add_debt(debts, owes, owed, money):\n",
    "    ... write your answer here... \n",
    "    \n",
    "# Now let's check this\n",
    "add_debt(debts, 'Amy', 'Alva', 10)\n",
    "debts"
   ]
  },
  {
   "cell_type": "markdown",
   "metadata": {},
   "source": [
    "Why did this work properly? Lists are *mutable* inside functions. If you pass a list to a function, the function can change it. \n",
    "\n",
    "Some things are mutable inside functions and others are not. For example, consider"
   ]
  },
  {
   "cell_type": "code",
   "execution_count": null,
   "metadata": {},
   "outputs": [],
   "source": [
    "def foo(bar):\n",
    "    bar = 1\n",
    "\n",
    "\n",
    "cat = 3\n",
    "foo(cat)\n",
    "cat"
   ]
  },
  {
   "cell_type": "markdown",
   "metadata": {},
   "source": [
    "Obviously, *integers are not mutable inside functions*. \n",
    "\n",
    "The way I learned about mutability is to write some baby programs that demonstrate whether something is mutable or not. Here are some examples: "
   ]
  },
  {
   "cell_type": "code",
   "execution_count": null,
   "metadata": {},
   "outputs": [],
   "source": [
    "def foo(bar):\n",
    "    bar = 1\n",
    "\n",
    "\n",
    "cat = 3\n",
    "foo(cat)\n",
    "if cat == 1:\n",
    "    print(\"integers are mutable\")\n",
    "else:\n",
    "    print(\"integers are not mutable\")\n",
    "\n",
    "\n",
    "def muck(thing):\n",
    "    thing[0] = \"kilroy was here\"\n",
    "\n",
    "\n",
    "cat = [1, 2, 3]\n",
    "muck(cat)\n",
    "if cat[0] == \"kilroy was here\":\n",
    "    print(\"lists are mutable\")\n",
    "else:\n",
    "    print(\"list are not mutable\")"
   ]
  },
  {
   "cell_type": "markdown",
   "metadata": {},
   "source": [
    "A dirty trick: `try: ... except:` blocks. \n",
    "\n",
    "Some things you might try are patently illegal. You can trap these by enclosing them in exception handlers. E.g., compare:"
   ]
  },
  {
   "cell_type": "code",
   "execution_count": null,
   "metadata": {},
   "outputs": [],
   "source": [
    "foo = 'fun'\n",
    "foo[1] = 'a'"
   ]
  },
  {
   "cell_type": "code",
   "execution_count": null,
   "metadata": {},
   "outputs": [],
   "source": [
    "try: \n",
    "    foo = 'fun'\n",
    "    foo[1] = 'a'\n",
    "    print(\"Hurrah! I got away with changing one character!\")\n",
    "except: \n",
    "    print(\"Sigh. I didn't get away with changing one character!\")"
   ]
  },
  {
   "cell_type": "markdown",
   "metadata": {},
   "source": [
    "Some experiments **for you** to do with functions. \n",
    "\n",
    "2. Are sets mutable inside functions? Design an experiment to demonstrate. Write a cell that prints \"yes\" if sets are mutable inside functions and \"no\" if not: "
   ]
  },
  {
   "cell_type": "code",
   "execution_count": null,
   "metadata": {},
   "outputs": [],
   "source": [
    "# {write your answer here}"
   ]
  },
  {
   "cell_type": "markdown",
   "metadata": {},
   "source": [
    "Are strings mutable inside functions? Design an experiment to demonstrate. Write a cell that prints \"yes\" if strings are mutable and \"no\" if not."
   ]
  },
  {
   "cell_type": "code",
   "execution_count": null,
   "metadata": {},
   "outputs": [],
   "source": [
    "# { write your answer here }"
   ]
  },
  {
   "cell_type": "markdown",
   "metadata": {},
   "source": [
    "3. (Advanced) Are tuples mutable inside functions? Design an experiment to demonstrate. Write a cell that prints \"`yes`\" if tuples are mutable and \"`no`\" if not. Hint: you might have to use `try:` ... `except:` blocks to deal with potential errors. "
   ]
  },
  {
   "cell_type": "code",
   "execution_count": null,
   "metadata": {},
   "outputs": [],
   "source": [
    "# {write your answer here}"
   ]
  },
  {
   "cell_type": "markdown",
   "metadata": {},
   "source": [
    "# Afterword: The point of these experiments\n",
    "*This is how to really learn Python.* \n",
    "\n",
    "1. Read the docs. \n",
    "2. Do experiments to increase understanding. \n",
    "3. Record experiments for future reference. "
   ]
  },
  {
   "cell_type": "markdown",
   "metadata": {},
   "source": [
    "\n",
    "# When you are done with answering the questions, \n",
    "1. `Save and Checkpoint` this page. \n",
    "2. Run the cells below to submit it. "
   ]
  },
  {
   "cell_type": "code",
   "execution_count": null,
   "metadata": {},
   "outputs": [],
   "source": [
    "# Don't change this cell; just run it. \n",
    "from client.api.notebook import Notebook\n",
    "ok = Notebook('02-03-functions-and-encapsulation.ok')\n",
    "ok.auth(inline=True)"
   ]
  },
  {
   "cell_type": "code",
   "execution_count": null,
   "metadata": {},
   "outputs": [],
   "source": [
    "ready = False  # change to True when ready to submit\n",
    "print(\"student '{}' submitting file '{}' for assignment '{}'\"\n",
    "      .format(ok.assignment.get_student_email(),\n",
    "              ok.assignment.src, \n",
    "              ok.assignment.name))\n",
    "if not ready: \n",
    "    raise Exception(\"change ready to True when ready to submit\")\n",
    "_ = ok.submit()"
   ]
  }
 ],
 "metadata": {
  "kernelspec": {
   "display_name": "Python 3",
   "language": "python",
   "name": "python3"
  },
  "language_info": {
   "codemirror_mode": {
    "name": "ipython",
    "version": 3
   },
   "file_extension": ".py",
   "mimetype": "text/x-python",
   "name": "python",
   "nbconvert_exporter": "python",
   "pygments_lexer": "ipython3",
   "version": "3.7.4"
  }
 },
 "nbformat": 4,
 "nbformat_minor": 2
}

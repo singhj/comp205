{
 "cells": [
  {
   "cell_type": "markdown",
   "metadata": {},
   "source": [
    "# Iterables and types\n",
    "Python has a rather unique way of dealing with arrays. \n",
    "The traditional \"for i from 1 to n\" is gone. \n",
    "Instead, we express things in terms of *iterables*. \n",
    "\n",
    "An *iterable* is any object that can be accessed via: \n",
    "\n",
    "```\n",
    "for item in iter: \n",
    "    ... do something with item ... \n",
    "```\n",
    "\n",
    "# First, a few examples of iteration to try"
   ]
  },
  {
   "cell_type": "code",
   "execution_count": null,
   "metadata": {
    "scrolled": true
   },
   "outputs": [],
   "source": [
    "foo = ['cats', 'are', 'fun']\n",
    "print(\"in original order:\")\n",
    "for f in foo:\n",
    "    print(f)\n",
    "foo.sort()\n",
    "print(\"in sorted order:\")\n",
    "for f in foo:\n",
    "    print(f)"
   ]
  },
  {
   "cell_type": "markdown",
   "metadata": {},
   "source": [
    "## List observations\n",
    "* order is order in list.\n",
    "* can be sorted via `foo.sort()` or `sorted(foo)`"
   ]
  },
  {
   "cell_type": "code",
   "execution_count": null,
   "metadata": {},
   "outputs": [],
   "source": [
    "tup = ('cat', 10, 'Frank', 'Furter')\n",
    "for t in tup: \n",
    "    print(t)"
   ]
  },
  {
   "cell_type": "markdown",
   "metadata": {},
   "source": [
    "## Tuple observations\n",
    "* order is order in tuple. \n",
    "* meaning of elements is positional. \n",
    "* no reasonable definition of sorting a tuple. "
   ]
  },
  {
   "cell_type": "code",
   "execution_count": null,
   "metadata": {},
   "outputs": [],
   "source": [
    "names = set([\"Frank\", \"George\", \"Selma\", \"Selma\", \"Rick\"])\n",
    "for n in names: \n",
    "    print(n)"
   ]
  },
  {
   "cell_type": "markdown",
   "metadata": {},
   "source": [
    "## Set observations\n",
    "* Can't predict order. \n",
    "* Each element listed once. "
   ]
  },
  {
   "cell_type": "code",
   "execution_count": null,
   "metadata": {
    "scrolled": true
   },
   "outputs": [],
   "source": [
    "pets = {'cats': 10, 'snakes': 5, 'dogs': 20}\n",
    "for k in pets:\n",
    "    print(k)\n",
    "    print(pets[k])"
   ]
  },
  {
   "cell_type": "markdown",
   "metadata": {},
   "source": [
    "## Observations about dictionaries\n",
    "* Order is implementation-dependent and unpredictable. \n",
    "* Iteration is over *keys*. \n",
    "* Values are computed from keys"
   ]
  },
  {
   "cell_type": "markdown",
   "metadata": {},
   "source": [
    "# Some generalizations\n",
    "For every one of these patterns: \n",
    "* the thing being iterated over has to be of class \"iterable\". \n",
    "* things are processed in an order dependent upon the type. \n",
    "* sorting may or may not make sense.\n",
    "\n",
    "# ranges \n",
    "\n",
    "Let's play with a rather unusual iterable called `range`. Here are some demonstrations: "
   ]
  },
  {
   "cell_type": "code",
   "execution_count": null,
   "metadata": {
    "scrolled": true
   },
   "outputs": [],
   "source": [
    "for i in range(5):\n",
    "    print(i)"
   ]
  },
  {
   "cell_type": "code",
   "execution_count": null,
   "metadata": {},
   "outputs": [],
   "source": [
    "for i in range(1,5): \n",
    "    print(i)"
   ]
  },
  {
   "cell_type": "code",
   "execution_count": null,
   "metadata": {
    "scrolled": true
   },
   "outputs": [],
   "source": [
    "for i in range(1,5,2): \n",
    "    print(i)"
   ]
  },
  {
   "cell_type": "markdown",
   "metadata": {},
   "source": [
    "## Some observations about ranges: \n",
    "* with one argument, iterates over values from 0 to value-1\n",
    "* with two arguments, starts at the first, iterates to second-1\n",
    "* with three arguments, starts at first, iterates to second-1, skips third-1 elements each step. "
   ]
  },
  {
   "cell_type": "markdown",
   "metadata": {},
   "source": [
    "# Things that work with all iterables. \n",
    "* casting to a list returns the list of all values. For example: "
   ]
  },
  {
   "cell_type": "code",
   "execution_count": null,
   "metadata": {},
   "outputs": [],
   "source": [
    "print(list(pets))\n",
    "print(list(names))"
   ]
  },
  {
   "cell_type": "markdown",
   "metadata": {},
   "source": [
    "Note particularly that `list(some_dict)` returns a list of the *keys* to the dict. These can be sorted to determine an order. The dict itself cannot be sorted. One can write: "
   ]
  },
  {
   "cell_type": "code",
   "execution_count": null,
   "metadata": {
    "scrolled": false
   },
   "outputs": [],
   "source": [
    "keys = sorted(list(pets))\n",
    "for k in keys: \n",
    "    print(\"I have {} {}\".format(pets[k], k))"
   ]
  },
  {
   "cell_type": "markdown",
   "metadata": {},
   "source": [
    "# Why are ranges so weird? \n",
    "It's a holdover from the old way of processing lists. \n",
    "\n",
    "Note that the clause: "
   ]
  },
  {
   "cell_type": "code",
   "execution_count": null,
   "metadata": {},
   "outputs": [],
   "source": [
    "for f in foo: \n",
    "    print(f)"
   ]
  },
  {
   "cell_type": "markdown",
   "metadata": {},
   "source": [
    "does exactly the same thing as: "
   ]
  },
  {
   "cell_type": "code",
   "execution_count": null,
   "metadata": {
    "scrolled": true
   },
   "outputs": [],
   "source": [
    "for i in range(len(foo)): \n",
    "    print(foo[i])"
   ]
  },
  {
   "cell_type": "markdown",
   "metadata": {},
   "source": [
    "Making this work is the reason that: \n",
    "* `range(n)` ranges from `0` to `n-1`. These are the valid array indices for a list with `n` elements. So that\n",
    "* `range(len(x))` (for x a list) ranges over all valid indexes i for which x[i] makes sense. \n"
   ]
  },
  {
   "cell_type": "markdown",
   "metadata": {},
   "source": [
    "# Parallel iteration\n",
    "One very common form of iteration that is non-intuitive is that of parallel iteration. \n",
    "\n",
    "Suppose we have tuples of data: "
   ]
  },
  {
   "cell_type": "code",
   "execution_count": null,
   "metadata": {},
   "outputs": [],
   "source": [
    "data = [('dogs', 10), ('cats', 20), ('gerbils', 5), ('geese', 4)]\n",
    "data"
   ]
  },
  {
   "cell_type": "markdown",
   "metadata": {},
   "source": [
    "Often we translate these into what is usually called a *frame*. This is a list of named columns that stores data meaning. E.g., we can write: "
   ]
  },
  {
   "cell_type": "code",
   "execution_count": null,
   "metadata": {},
   "outputs": [],
   "source": [
    "d1 = []\n",
    "d2 = []\n",
    "for d in data:\n",
    "    d1.append(d[0])\n",
    "    d2.append(d[1])\n",
    "frame = { 'kind of pet':d1, 'number of pets': d2 }\n",
    "frame"
   ]
  },
  {
   "cell_type": "markdown",
   "metadata": {},
   "source": [
    "# Facts about frames\n",
    "1. The number of entries is the number of columns. \n",
    "2. Each entry is a named column. \n",
    "3. The name is the name of the column. \n",
    "4. The name documents the meaning of the column. \n",
    "5. Thus, *a frame is a dict of lists.*\n",
    "6. This is the most natural representation for an Excel spreadsheet. \n",
    "7. Frames exhibit *parallel structure*: each column has the same number of rows.\n",
    "8. The element at position i in two columns represents attributes of one object.\n",
    "\n",
    "Let's play with frames. \n",
    "\n",
    "1. Using the variable 'frame' as input, print lines for each row based upon data in the columns. Hints: \n",
    "   \n",
    "  a. Use `len` to figure out how many rows.\n",
    "  \n",
    "  b. You may assume both columns have the same number of rows. \n",
    "  "
   ]
  },
  {
   "cell_type": "code",
   "execution_count": null,
   "metadata": {},
   "outputs": [],
   "source": [
    "# fill in details here"
   ]
  },
  {
   "cell_type": "markdown",
   "metadata": {},
   "source": [
    "2. Write a function `fetch` that takes as argument a frame and fetches the row corresponding to a specific pet's name, as a tuple. "
   ]
  },
  {
   "cell_type": "code",
   "execution_count": null,
   "metadata": {},
   "outputs": [],
   "source": [
    "def fetch(frame, pet_kind):\n",
    "    # fill in the details here\n",
    "    \n",
    "print(fetch(frame, 'dogs'))\n",
    "print(fetch(frame, 'cats'))"
   ]
  },
  {
   "cell_type": "markdown",
   "metadata": {},
   "source": [
    "You should get back the tuples we created before. \n",
    "\n",
    "3. Part of the reason that we organize things this way is that columns can be manipulated easily. Write code that computes the total number of pets documented in `frame`. Hint: `sum(x)`, for `x` a list, prints the sum of all elements of `x`. "
   ]
  },
  {
   "cell_type": "code",
   "execution_count": null,
   "metadata": {},
   "outputs": [],
   "source": [
    "# { fill in the details here, replace ... } \n",
    "num_pets = ...\n",
    "num_pets"
   ]
  },
  {
   "cell_type": "markdown",
   "metadata": {},
   "source": [
    "4. It is very often necessary to convert a frame into something from which data can be looked up quickly. Write code that turns `frame` into a dictionary `indexed`, indexed by pet kind. You should get something similar to this (order may differ): \n",
    "```\n",
    "{ 'cats':20, 'dogs':10, 'gerbils':5, 'geese':4 }\n",
    "```"
   ]
  },
  {
   "cell_type": "code",
   "execution_count": null,
   "metadata": {},
   "outputs": [],
   "source": [
    "# { fill in details here }\n",
    "indexed = ...\n",
    "print(indexed['cats'])\n",
    "print(indexed['gerbils'])\n",
    "indexed"
   ]
  },
  {
   "cell_type": "markdown",
   "metadata": {},
   "source": [
    "# An afterword on the importance of frames\n",
    "\n",
    "Frames are the fundamental structures upon which Data Science algorithms operate, for better or worse. The reason for this is that they closely mimic and map to and from Excel spreadsheets, which contain a majority of the data that we analyze. This reality is a bit lamentable, but the crowd dominates the individual, and most data remains in this relatively primitive format. However, there is often a need to move from frames to other data representations in order to speed up access or perform specialized functions. \n",
    "\n",
    "We will see that the object `DataFrame` is in fact much more sophisticated than the simple frame we implemented here. But the principles are the same.     "
   ]
  },
  {
   "cell_type": "markdown",
   "metadata": {},
   "source": [
    "# When you're done, submit the notebook\n",
    "\n",
    "You can submit a notebook by saving it as PDF. In the cluster environment, it's File | Print (Save as PDF) and submit to Gradescope. https://www.gradescope.com/courses/182658, On other versions, it may be File | Download As (PDF) and then submit to Gradescope.\n",
    "\n",
    "To submit to Gradescope, log into the [website](https://www.gradescope.com/courses/182658), add course **9W7PW3** (if not already added) and submit. The assignment name should match the name of this notebook."
   ]
  }
 ],
 "metadata": {
  "kernelspec": {
   "display_name": "Python 3",
   "language": "python",
   "name": "python3"
  },
  "language_info": {
   "codemirror_mode": {
    "name": "ipython",
    "version": 3
   },
   "file_extension": ".py",
   "mimetype": "text/x-python",
   "name": "python",
   "nbconvert_exporter": "python",
   "pygments_lexer": "ipython3",
   "version": "3.7.4"
  }
 },
 "nbformat": 4,
 "nbformat_minor": 2
}

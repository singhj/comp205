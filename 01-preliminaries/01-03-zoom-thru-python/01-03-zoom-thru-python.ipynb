{
 "cells": [
  {
   "cell_type": "markdown",
   "metadata": {},
   "source": [
    "# Learning python\n",
    "\n",
    "The Jupyter framework is a rather safe place to learn by trying things. \n",
    "\n",
    "The way to try things is to engage in the *scientific method:* \n",
    "* Predict what will happen. \n",
    "* Try an experiment. \n",
    "* Correct your prediction and iterate. \n",
    "\n",
    "Consider the following: "
   ]
  },
  {
   "cell_type": "code",
   "execution_count": null,
   "metadata": {},
   "outputs": [],
   "source": [
    "x = 1\n",
    "print(x)\n",
    "x = \"hello\"\n",
    "print(x)\n",
    "x = 4.7\n",
    "print(x)\n",
    "x"
   ]
  },
  {
   "cell_type": "markdown",
   "metadata": {},
   "source": [
    "Before you run this, \n",
    "1. Consider what you think it should do. \n",
    "2. Write that down here: "
   ]
  },
  {
   "cell_type": "markdown",
   "metadata": {},
   "source": [
    "___your answer:___"
   ]
  },
  {
   "cell_type": "markdown",
   "metadata": {},
   "source": [
    "Now run it and see if you are correct. \n",
    "\n",
    "# Formatting\n",
    "\n",
    "There are literally hundreds of ways to print things. \n",
    "One of the most useful is formatting. Consider the following code. "
   ]
  },
  {
   "cell_type": "code",
   "execution_count": null,
   "metadata": {},
   "outputs": [],
   "source": [
    "print(\"the square of {} is {}\".format(5, 5*5))"
   ]
  },
  {
   "cell_type": "markdown",
   "metadata": {},
   "source": [
    "Before you run this,\n",
    "\n",
    "Consider what you think it should do.\n",
    "Write that down here:"
   ]
  },
  {
   "cell_type": "markdown",
   "metadata": {},
   "source": [
    "___your answer:___"
   ]
  },
  {
   "cell_type": "markdown",
   "metadata": {},
   "source": [
    "Now run it and correct your answer.\n",
    "\n",
    "# How formatting works\n",
    "1. Arguments are *positional:* the order of arguments in the format statement determines when they're printed. \n",
    "2. *Placeholders* `{}` in the format string determine where they're printed. \n",
    "3. If the thing to be printed isn't a string, it's *converted* to a string before printing it. \n",
    "\n",
    "# Types in python\n",
    "\n",
    "There are several basic types in Python: \n",
    "1. Integers, e.g., `42`\n",
    "2. Floating point numbers, e.g., `42.57`\n",
    "3. Strings, e.g., `'hello'` or `\"hello\"`. \n",
    "4. Lists, e.g., `[1, 2, 3]`\n",
    "5. Tuples, e.g., `(1, 2, 3)`\n",
    "etc. \n",
    "\n",
    "# Variables \n",
    "* In python, the statement `x = {something}` sets the variable `x` to some value. \n",
    "* The `{something}` can be anything above: an integer, a string, a list, etc. \n",
    "* The type of a variable is the type of the value to which it is set. \n",
    "* The type of a variable can change over time, as it is set to different things. \n",
    "\n",
    "# pprint\n",
    "Your secret weapon for understanding variables: *pretty-printing.* Consider this code: "
   ]
  },
  {
   "cell_type": "code",
   "execution_count": null,
   "metadata": {},
   "outputs": [],
   "source": [
    "from pprint import pprint\n",
    "pprint(2.5)\n",
    "pprint([1, 2, 3])\n",
    "x = [1, 2, 3, [4, [5]]]\n",
    "pprint(x)"
   ]
  },
  {
   "cell_type": "markdown",
   "metadata": {},
   "source": [
    "* `from pprint import pprint` -- load the pprint function from a *library.* This is additional code that is not part of the python core language. \n",
    "* `pprint(x)` -- print a pretty representation of `x`, where `x` is any value whatever. \n",
    "\n",
    "# Application: understand a mysterious piece of code\n",
    "* I will very commonly feed you a piece of code that you don't immediately understand. \n",
    "* But with code in hand, and the ability to run it, you can figure out what it does! \n",
    "* Two basic steps: *printing* and *refinement*. \n",
    "* *pprint* things that you can easily print. \n",
    "* *refine* the code so you can print other things. \n",
    "\n",
    "Consider the following code, which you might recognize from the 'Workflows' exercise: "
   ]
  },
  {
   "cell_type": "code",
   "execution_count": null,
   "metadata": {},
   "outputs": [],
   "source": [
    "# take a look at the file\n",
    "f = open('data.txt', 'r')\n",
    "lines = []\n",
    "for line in f: \n",
    "    lines.append(line.strip()) \n",
    "f.close()\n",
    "lines"
   ]
  },
  {
   "cell_type": "markdown",
   "metadata": {},
   "source": [
    "To investigate what this does, let's add pprint statements to look at its variables. Let's copy the code from the cell into the next cell, and add `pprint` statements to understand how line and lines are changing. "
   ]
  },
  {
   "cell_type": "code",
   "execution_count": null,
   "metadata": {},
   "outputs": [],
   "source": [
    "# add pprint statements to this\n",
    "from pprint import pprint\n",
    "f = open('data.txt', 'r')\n",
    "lines = []\n",
    "for line in f: \n",
    "    lines.append(line.strip()) \n",
    "f.close()\n",
    "lines"
   ]
  },
  {
   "cell_type": "markdown",
   "metadata": {},
   "source": [
    "Based upon this output, what does `append` do? "
   ]
  },
  {
   "cell_type": "markdown",
   "metadata": {},
   "source": [
    "___your answer:___"
   ]
  },
  {
   "cell_type": "markdown",
   "metadata": {},
   "source": [
    "A second trick is *refinement*. Let's try to understand what `strip()` does. To do this, we can proceed two ways. \n",
    "a. remove it and see what happens\n",
    "b. change the code so we can see what it does. \n",
    "\n",
    "Let's do (b) now: \n",
    "\n",
    "There's a simple refinement that we can do. \n",
    "\n",
    "Instead of writing \n",
    "```\n",
    "lines.append(line.strip())\n",
    "```\n",
    "write\n",
    "```\n",
    "foo = line.strip()\n",
    "lines.append(foo)\n",
    "```\n",
    "These two snippets of code do the exact same thing. The difference is that one can then print `foo` to see what happens before and after `strip()`. \n",
    "\n",
    "This is one application of the *substitution principle*: If you set `x` to something, you can use `x` wherever you'd use the something. \n",
    "\n",
    "Rewrite the code below in that manner, and then pprint both `line` and `x`. "
   ]
  },
  {
   "cell_type": "code",
   "execution_count": null,
   "metadata": {},
   "outputs": [],
   "source": [
    "# take a look at the file\n",
    "f = open('data.txt', 'r')\n",
    "lines = []\n",
    "for line in f: \n",
    "    lines.append(line.strip()) \n",
    "f.close()\n",
    "lines"
   ]
  },
  {
   "cell_type": "markdown",
   "metadata": {},
   "source": [
    "Based upon this, what does `strip()` do? "
   ]
  },
  {
   "cell_type": "markdown",
   "metadata": {},
   "source": [
    "___your answer:___ "
   ]
  },
  {
   "cell_type": "markdown",
   "metadata": {},
   "source": [
    "# Now let's investigate a more complex piece of code\n",
    "\n",
    "Consider the following: "
   ]
  },
  {
   "cell_type": "code",
   "execution_count": null,
   "metadata": {},
   "outputs": [],
   "source": [
    "count = {}\n",
    "for l in lines: \n",
    "    words = l.split(' ')\n",
    "    for w in words: \n",
    "        w = w.lower()\n",
    "        if w.endswith('.') or w.endswith(','): \n",
    "            w = w[0:-1]\n",
    "        if w in count: \n",
    "            count[w] += 1\n",
    "        else: \n",
    "            count[w] = 1\n",
    "count"
   ]
  },
  {
   "cell_type": "markdown",
   "metadata": {},
   "source": [
    "Use printing and refinement to infer the answers to the following questions: \n",
    "\n",
    "1. What does `lower()` do? Provide evidence. "
   ]
  },
  {
   "cell_type": "markdown",
   "metadata": {},
   "source": [
    "___your answer:___"
   ]
  },
  {
   "cell_type": "markdown",
   "metadata": {},
   "source": [
    "2. What does `w = w[0:-1]` do? Provide evidence.  "
   ]
  },
  {
   "cell_type": "markdown",
   "metadata": {},
   "source": [
    "___your answer:___"
   ]
  },
  {
   "cell_type": "markdown",
   "metadata": {},
   "source": [
    "# When you're done, submit the notebook\n",
    "\n",
    "You can submit a notebook by saving it as PDF. In the cluster environment, it's File | Print (Save as PDF) and submit to Gradescope. https://www.gradescope.com/courses/182658,On other versions, it may be File | Download As (PDF) and then submit to Gradescope.\n",
    "\n",
    "To submit to Gradescope, log into the [website](https://www.gradescope.com/courses/182658), add course **9W7PW3** (if not already added) and submit. The assignment name should match the name of this notebook."
   ]
  }
 ],
 "metadata": {
  "kernelspec": {
   "display_name": "Python 3",
   "language": "python",
   "name": "python3"
  },
  "language_info": {
   "codemirror_mode": {
    "name": "ipython",
    "version": 3
   },
   "file_extension": ".py",
   "mimetype": "text/x-python",
   "name": "python",
   "nbconvert_exporter": "python",
   "pygments_lexer": "ipython3",
   "version": "3.7.4"
  }
 },
 "nbformat": 4,
 "nbformat_minor": 2
}

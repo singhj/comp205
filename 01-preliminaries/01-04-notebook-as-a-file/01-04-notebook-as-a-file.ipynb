{
 "cells": [
  {
   "cell_type": "markdown",
   "metadata": {},
   "source": [
    "# A notebook as a file\n",
    "\n",
    "One of the primary functions of Jupyter is information exchange. Each notebook is stored in a file that can be emailed to others, and then edited and emailed back. Let's explore the properties of this file.\n",
    "The cell below contains a python fragment and its execution results. \n",
    "1. Run the cell below. \n",
    "2. Change the text in `In [1]` to \"This was a test\"; *do not run the cell.* \n",
    "3. Save this file using `File > Download as > Notebook (.ipynb)`\n",
    "4. Change the name of that file. \n",
    "5. Use `File > Open...` to get to the upload menu and upload the file with the new name. Upload it to a directory above the original location, e.g., your home directory. "
   ]
  },
  {
   "cell_type": "code",
   "execution_count": null,
   "metadata": {
    "scrolled": true
   },
   "outputs": [],
   "source": [
    "\"This 1s a test\""
   ]
  },
  {
   "cell_type": "markdown",
   "metadata": {},
   "source": [
    "1. Is the output the same as before?"
   ]
  },
  {
   "cell_type": "markdown",
   "metadata": {},
   "source": [
    "___Your answer:___"
   ]
  },
  {
   "cell_type": "markdown",
   "metadata": {},
   "source": [
    "2. Is there anything different that you can observe between the original and the newly uploaded file? "
   ]
  },
  {
   "cell_type": "markdown",
   "metadata": {},
   "source": [
    "___Your answer:___"
   ]
  },
  {
   "cell_type": "markdown",
   "metadata": {},
   "source": [
    "# a slightly unfair experiment\n",
    "\n",
    "I'm going to do something to mess up your download/upload. \n",
    "\n",
    "It just so happens that in the original directory, there is a file `foo.py` containing a function `hellodere`.  \n",
    "\n",
    "First go back to the original copy of this file and run the following cell:  "
   ]
  },
  {
   "cell_type": "code",
   "execution_count": null,
   "metadata": {},
   "outputs": [],
   "source": [
    "from foo import hellodere\n",
    "hellodere()"
   ]
  },
  {
   "cell_type": "markdown",
   "metadata": {},
   "source": [
    "# Now try the same thing in the copy. \n",
    "Unless you copied it to the same directory/folder as the original, this won't work! \n",
    "What does this print? "
   ]
  },
  {
   "cell_type": "markdown",
   "metadata": {},
   "source": [
    "___Your answer___: "
   ]
  },
  {
   "cell_type": "markdown",
   "metadata": {},
   "source": [
    "Why? The code `foo.py` is only in one directory, and not in the others. \n",
    "If you copy `foo.py` along with your notebook, everything will be fine. Try it!"
   ]
  },
  {
   "cell_type": "markdown",
   "metadata": {},
   "source": [
    "# Now, a really important experiment\n",
    "Return to the original file. Run the cell above first, and then download and upload just the file. What happens? "
   ]
  },
  {
   "cell_type": "markdown",
   "metadata": {},
   "source": [
    "___Your answer___: "
   ]
  },
  {
   "cell_type": "markdown",
   "metadata": {},
   "source": [
    "# The moral of this story\n",
    "1. There are files other than the notebook that may control whether the notebook works properly or not.\n",
    "2. But, to share a notebook with others, *it doesn't have to run!*\n"
   ]
  },
  {
   "cell_type": "markdown",
   "metadata": {},
   "source": [
    "# When you're done, submit the notebook\n",
    "\n",
    "You can submit a notebook by saving it as PDF. In the cluster environment, it's File | Print (Save as PDF) and submit to Gradescope. https://www.gradescope.com/courses/182658,On other versions, it may be File | Download As (PDF) and then submit to Gradescope.\n",
    "\n",
    "To submit to Gradescope, log into the [website](https://www.gradescope.com/courses/182658), add course **9W7PW3** (if not already added) and submit. The assignment name should match the name of this notebook."
   ]
  }
 ],
 "metadata": {
  "kernelspec": {
   "display_name": "Python 3",
   "language": "python",
   "name": "python3"
  },
  "language_info": {
   "codemirror_mode": {
    "name": "ipython",
    "version": 3
   },
   "file_extension": ".py",
   "mimetype": "text/x-python",
   "name": "python",
   "nbconvert_exporter": "python",
   "pygments_lexer": "ipython3",
   "version": "3.7.4"
  }
 },
 "nbformat": 4,
 "nbformat_minor": 2
}

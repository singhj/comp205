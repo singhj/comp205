{
 "cells": [
  {
   "cell_type": "markdown",
   "metadata": {},
   "source": [
    "# Workflows\n",
    "\n",
    "The point of Jupyter is to *document workflows*. \n",
    "A *workflow* is a series of steps toward an end-result. \n",
    "The cells contain individual steps, either as programs or as text. \n",
    "\n",
    "Let's work out a basic workflow. We start with a text file consisting of pairs of elements. The first element is a label, the second is a count of the number of things with that label. Our goal is to sum up the counts for similar items and generate a report. \n",
    "\n",
    "Very often, you'll be faced with a notebook written by someone else and have to figure out how it works. This is the first of several exercises in reading and understanding other peoples' notebooks. \n",
    "\n",
    "First, let's look at the file. Run this to see what's in the file. "
   ]
  },
  {
   "cell_type": "code",
   "execution_count": null,
   "metadata": {},
   "outputs": [],
   "source": [
    "# take a look at the file\n",
    "f = open('data.txt', 'r')\n",
    "for line in f: \n",
    "    print(line.strip())\n",
    "f.close()"
   ]
  },
  {
   "cell_type": "markdown",
   "metadata": {},
   "source": [
    "The next step is to put the file into a variable that I can use. I'll read it into a list. Run this to see what happens. "
   ]
  },
  {
   "cell_type": "code",
   "execution_count": null,
   "metadata": {},
   "outputs": [],
   "source": [
    "# step 1: read a file into a list\n",
    "f = open('data.txt', 'r')\n",
    "lines = []\n",
    "for line in f:\n",
    "    lines.append(line.strip())\n",
    "f.close()\n",
    "lines"
   ]
  },
  {
   "cell_type": "markdown",
   "metadata": {},
   "source": [
    "Now I need to split the file up into columns. I have a recipe for that. It's this code. Run it to see what happens. "
   ]
  },
  {
   "cell_type": "code",
   "execution_count": null,
   "metadata": {},
   "outputs": [],
   "source": [
    "# step 2: split up lines into data columns, sum up categories\n",
    "categories = {}\n",
    "for l in lines: \n",
    "    label, value = l.split(',')\n",
    "    if label in categories: \n",
    "        categories[label] += int(value)\n",
    "    else: \n",
    "        categories[label] = int(value)\n",
    "categories"
   ]
  },
  {
   "cell_type": "markdown",
   "metadata": {},
   "source": [
    "Now I have to put that into a form that can be sorted. I'll put it into a list. "
   ]
  },
  {
   "cell_type": "code",
   "execution_count": null,
   "metadata": {},
   "outputs": [],
   "source": [
    "# Step 3: transform into a list\n",
    "pairs = []\n",
    "for k in categories: \n",
    "    pairs.append((k, categories[k],))\n",
    "pairs"
   ]
  },
  {
   "cell_type": "markdown",
   "metadata": {},
   "source": [
    "Finally, I have a snippet that sorts it into reverse order: "
   ]
  },
  {
   "cell_type": "code",
   "execution_count": null,
   "metadata": {},
   "outputs": [],
   "source": [
    "# Step 4: sort by most frequent\n",
    "ordered = sorted(pairs, key=lambda x: x[1], reverse=True)\n",
    "ordered"
   ]
  },
  {
   "cell_type": "markdown",
   "metadata": {},
   "source": [
    "# A few notes on workflows\n",
    "\n",
    "1. I intentionally put cells into this workbook that potentially no one in the class understands yet. \n",
    "2. The key to understanding a workflow is to look at it one cell at a time. \n",
    "3. The key to using a workflow is to understand the conditions under which it works, and those conditions in which it doesn't work.\n",
    "4. The cells here are 'rituals' that accomplish an end. \n",
    "5. We'll study how to turn them into 'patterns' that are reusable. "
   ]
  },
  {
   "cell_type": "markdown",
   "metadata": {},
   "source": [
    "# Let's learn something about these cells\n",
    "Each cell has inputs and outputs. The first two cells have an input that is an external file. \n",
    "\n",
    "Looking through the code, the last line of each cell is an output. When that variable is used again, it is an input. Based upon this, what are the inputs and outputs to each cell below? "
   ]
  },
  {
   "cell_type": "code",
   "execution_count": null,
   "metadata": {},
   "outputs": [],
   "source": [
    "# step 1: read a file into a list\n",
    "f = open('data.txt', 'r')\n",
    "lines = []\n",
    "for line in f:\n",
    "    lines.append(line.strip())\n",
    "f.close()\n",
    "lines"
   ]
  },
  {
   "cell_type": "markdown",
   "metadata": {},
   "source": [
    "Your answer: \n",
    "1. Inputs are: \n",
    "2. Outputs are:"
   ]
  },
  {
   "cell_type": "code",
   "execution_count": null,
   "metadata": {},
   "outputs": [],
   "source": [
    "# step 2: split up lines into data columns, sum up categories\n",
    "categories = {}\n",
    "for l in lines: \n",
    "    label, value = l.split(',')\n",
    "    if label in categories: \n",
    "        categories[label] += int(value)\n",
    "    else: \n",
    "        categories[label] = int(value)\n",
    "categories"
   ]
  },
  {
   "cell_type": "markdown",
   "metadata": {},
   "source": [
    "Your answer: \n",
    "1. Inputs are: \n",
    "2. Outputs are:"
   ]
  },
  {
   "cell_type": "code",
   "execution_count": null,
   "metadata": {
    "scrolled": true
   },
   "outputs": [],
   "source": [
    "# Step 3: transform into a list\n",
    "pairs = []\n",
    "for k in categories: \n",
    "    pairs.append((k, categories[k],))\n",
    "pairs"
   ]
  },
  {
   "cell_type": "markdown",
   "metadata": {},
   "source": [
    "Your answer: \n",
    "1. Inputs are: \n",
    "2. Outputs are:"
   ]
  },
  {
   "cell_type": "code",
   "execution_count": null,
   "metadata": {
    "scrolled": true
   },
   "outputs": [],
   "source": [
    "# Step 4: sort by most frequent\n",
    "ordered = sorted(pairs, key=lambda x: x[1], reverse=True)\n",
    "ordered"
   ]
  },
  {
   "cell_type": "markdown",
   "metadata": {},
   "source": [
    "Your answer: \n",
    "1. Inputs are: \n",
    "2. Outputs are:"
   ]
  },
  {
   "cell_type": "markdown",
   "metadata": {},
   "source": [
    "# Order is important\n",
    "\n",
    "Let's explore that concept. \n",
    "\n",
    "First, let's clear all calculations in the notebook by selecting `Kernel > Restart and clear output`. This erases all variable values. \n",
    "Then, run `step 4` without `steps 1-3`. What happens? "
   ]
  },
  {
   "cell_type": "markdown",
   "metadata": {},
   "source": [
    "___your answer:___"
   ]
  },
  {
   "cell_type": "markdown",
   "metadata": {},
   "source": [
    "# Kinds of workflow steps\n",
    "There are several kinds of steps in a typical workflow\n",
    "a. Input/output: import data from outside, or export data to outside. \n",
    "b. Calculation: perform a calculation on the data. \n",
    "c. Transformation: change the data format. \n",
    "d. Filtering: exclude certain data. \n",
    "\n",
    "What kinds of steps do we have above? "
   ]
  },
  {
   "cell_type": "markdown",
   "metadata": {},
   "source": [
    "___Your answer:___\n",
    "* Step 1: \n",
    "* Step 2: \n",
    "* Step 3: \n",
    "* Step 4: "
   ]
  },
  {
   "cell_type": "markdown",
   "metadata": {},
   "source": [
    "# Filtering\n",
    "Filtering is the process of eliminating data we don't want in our view. \n",
    "\n",
    "Suppose we want to eliminate all lines of the input with counts < 10. Here's a snippet to do that."
   ]
  },
  {
   "cell_type": "code",
   "execution_count": null,
   "metadata": {},
   "outputs": [],
   "source": [
    "# step ???: remove all lines with counts < 10\n",
    "temp = []\n",
    "for l in lines: \n",
    "    if int(l.split(',')[1]) >= 10: \n",
    "        temp.append(l)\n",
    "lines = temp\n",
    "lines"
   ]
  },
  {
   "cell_type": "markdown",
   "metadata": {},
   "source": [
    "# Put this step where it goes\n",
    "Click on the cell above and use the up and down arrows *in the control ribbon* to position where it goes in the workflow below. This is a copy of the workflow above. "
   ]
  },
  {
   "cell_type": "code",
   "execution_count": null,
   "metadata": {},
   "outputs": [],
   "source": [
    "# step 1: read a file into a list\n",
    "f = open('data.txt', 'r')\n",
    "lines = []\n",
    "for line in f:\n",
    "    lines.append(line.strip())\n",
    "f.close()\n",
    "lines"
   ]
  },
  {
   "cell_type": "code",
   "execution_count": null,
   "metadata": {},
   "outputs": [],
   "source": [
    "# step 2: split up lines into data columns, sum up categories\n",
    "categories = {}\n",
    "for l in lines: \n",
    "    label, value = l.split(',')\n",
    "    if label in categories: \n",
    "        categories[label] += int(value)\n",
    "    else: \n",
    "        categories[label] = int(value)\n",
    "categories"
   ]
  },
  {
   "cell_type": "code",
   "execution_count": null,
   "metadata": {
    "scrolled": true
   },
   "outputs": [],
   "source": [
    "# Step 3: transform into a list\n",
    "pairs = []\n",
    "for k in categories: \n",
    "    pairs.append((k, categories[k],))\n",
    "pairs"
   ]
  },
  {
   "cell_type": "code",
   "execution_count": null,
   "metadata": {
    "scrolled": true
   },
   "outputs": [],
   "source": [
    "# Step 4: sort by most frequent\n",
    "ordered = sorted(pairs, key=lambda x: x[1], reverse=True)\n",
    "ordered"
   ]
  },
  {
   "cell_type": "markdown",
   "metadata": {},
   "source": [
    "Please run these steps after you put the new step in its place in the workflow to see how it works. "
   ]
  },
  {
   "cell_type": "markdown",
   "metadata": {},
   "source": [
    "# an afterword\n",
    "I realize that I just exposed you to a lot of Python code that you might not yet understand. Don't worry, we'll cover that in detail. \n",
    "\n",
    "Note how I approached this problem: \n",
    "1. break the problem down into steps, \n",
    "2. use code to accomplish each step, and \n",
    "3. keep clear what you get from each step and the order of steps. \n",
    "\n",
    "This is -- in general -- the pattern for using Jupyter notebooks. \n",
    "\n",
    "# when you have completed this exercise\n",
    "\n",
    "Rerun all cells from top to bottom and check that they work. \n",
    "\n",
    "You can submit a notebook by saving it as PDF. In the cluster environment, it's File | Print (Save as PDF) and submit to Gradescope. https://www.gradescope.com/courses/182658,On other versions, it may be File | Download As (PDF) and then submit to Gradescope.\n",
    "\n",
    "To submit to Gradescope, log into the [website](https://www.gradescope.com/courses/182658), add course **9W7PW3** (if not already added) and submit. The assignment name should match the name of this notebook."
   ]
  }
 ],
 "metadata": {
  "kernelspec": {
   "display_name": "Python 3",
   "language": "python",
   "name": "python3"
  },
  "language_info": {
   "codemirror_mode": {
    "name": "ipython",
    "version": 3
   },
   "file_extension": ".py",
   "mimetype": "text/x-python",
   "name": "python",
   "nbconvert_exporter": "python",
   "pygments_lexer": "ipython3",
   "version": "3.7.4"
  }
 },
 "nbformat": 4,
 "nbformat_minor": 2
}

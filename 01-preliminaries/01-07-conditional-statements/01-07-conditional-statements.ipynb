{
 "cells": [
  {
   "cell_type": "markdown",
   "metadata": {},
   "source": [
    "# Conditional statements \n",
    "\n",
    "Very often, we need to process lists in a way that varies with list contents. \n",
    "This leads to a need for *conditional statements* such as `if`\n",
    "\n",
    "# Example: filter a list for missing values\n",
    "In python, there is a universal representation for missing values: `None`.\n",
    "This is a value that represents the fact that a value is missing. We will often get data that has completely missing values, and those will be represented by this (pseudo-) value. \n",
    "\n",
    "Consider the following:"
   ]
  },
  {
   "cell_type": "code",
   "execution_count": null,
   "metadata": {},
   "outputs": [],
   "source": [
    "# here's a data file with some missing values: \n",
    "f = open('data.txt', 'r')\n",
    "for line in f: \n",
    "    print(line.strip())\n",
    "f.close()"
   ]
  },
  {
   "cell_type": "code",
   "execution_count": null,
   "metadata": {},
   "outputs": [],
   "source": [
    "# let's split that and represent as a list\n",
    "f = open('data.txt', 'r')\n",
    "records = []\n",
    "for line in f: \n",
    "    item, price, tax, state = line.strip().split(',')\n",
    "    if item == '': \n",
    "        item = None\n",
    "    if price == '': \n",
    "        price = None\n",
    "    if tax == '': \n",
    "        tax = None\n",
    "    if state == '': \n",
    "        state = None\n",
    "    record = (item, price, tax, state)\n",
    "    records.append(record)\n",
    "f.close()\n",
    "records"
   ]
  },
  {
   "cell_type": "markdown",
   "metadata": {},
   "source": [
    "There are some perhaps strange things going on here: \n",
    "\n",
    "* The code \n",
    "```\n",
    "item, price, tax, state = line.strip().split(',')\n",
    "``` \n",
    "takes a `line`, strips off the `\\n`s, and splits at commas. The code puts the results into the variables `item`, `price`, `tax`, `state` via what Python calls *parallel assignment*. The result of the `split` is a list, and the assignment places the first few elements of the list into those variables. \n",
    "\n",
    "* The code: \n",
    "```\n",
    "if price == '': \n",
    "    price = None\n",
    "```\n",
    "sets fields to `None` if they're empty. \n",
    "* The code: \n",
    "```\n",
    "record = (item, price, tax, state) \n",
    "```\n",
    "creates a tuple of the four elements. \n",
    "\n",
    "* The variable `records` is a *list of tuples.* This is common practice in Python for representing data. \n",
    "\n",
    "# List or tuple?\n",
    "\n",
    "Why did I choose tuples for the elements, and lists for the overall container? This is a really good question. In general: \n",
    "1. Lists are used when all entries of the list have the same meaning regardless of position in the list. \n",
    "2. Tuples are used when the position of an item determines its meaning. \n",
    "\n",
    "For example, in the above situation, \n",
    "* All list items represent the same kind of thing, but \n",
    "* The first, second, third, and fourth tuple elements mean different things that is dependent upon their position in the tuple. \n",
    "\n",
    "if `t` is one of those tuples\n",
    "* `t[0]` is the item name\n",
    "* `t[1]` is the price\n",
    "* `t[2]` is the tax paid\n",
    "* `t[3]` is the state abbreviation. \n",
    "# we now face several quandaries\n",
    "1. The data is string. We want numbers. \n",
    "2. There are None's in the data. We don't want to do anything with them. \n",
    "So, we need to resort to unusual measures. Consider"
   ]
  },
  {
   "cell_type": "code",
   "execution_count": null,
   "metadata": {},
   "outputs": [],
   "source": [
    "# you need records for this to work\n",
    "rec2 = []\n",
    "for r in records: \n",
    "    item, price, tax, state = r\n",
    "    try: \n",
    "        p2 = float(price)\n",
    "    except: \n",
    "        p2 = None\n",
    "    try: \n",
    "        t2 = float(tax)\n",
    "    except: \n",
    "        t2 = None\n",
    "    rec2.append((item, p2, t2, state))\n",
    "rec2"
   ]
  },
  {
   "cell_type": "markdown",
   "metadata": {},
   "source": [
    "Some new ideas: \n",
    "* The code\n",
    "```\n",
    "try:  \n",
    "    p2 = float(price)\n",
    "except: \n",
    "    p2 = None\n",
    "```\n",
    "is an *exception handler*.  It means: \n",
    "1. Try to do the thing in the `try` block. \n",
    "2. If that fails, do the thing in the `except` block. \n",
    "If we try to convert a non-number to a number, the value is None. This is simply *another form of `if` statement!*\n",
    "\n",
    "As a result, our tuples are now \"clean\", in the sense that non-existent values are always `None`, and numeric values are always numbers. "
   ]
  },
  {
   "cell_type": "markdown",
   "metadata": {},
   "source": [
    "\n",
    "Let's sum up the tax, without having our code crash. \n",
    "\n",
    "Consider: "
   ]
  },
  {
   "cell_type": "code",
   "execution_count": null,
   "metadata": {},
   "outputs": [],
   "source": [
    "tax = 0.0\n",
    "for r in rec2: \n",
    "    tax += r[2]\n",
    "tax"
   ]
  },
  {
   "cell_type": "markdown",
   "metadata": {},
   "source": [
    "This makes sense, but doesn't work at all. Run it to see what it does. \n",
    "\n",
    "# Manipulating values that can be None\n",
    "So far, we know that trying to add `None` to `float` doesn't work. \n",
    "Alas, you might think you can write: \n",
    "```\n",
    "if v == None: \n",
    "    sum += v \n",
    "```\n",
    "but this gives a runtime error. If v is None, then one cannot use its value for anything. Thus, there is a special form of `if` statement that handles this: \n",
    "```\n",
    "if v is not None: \n",
    "    sum += v \n",
    "```\n",
    "or \n",
    "```\n",
    "if v is None: \n",
    "    {something else} \n",
    "```\n",
    "So, we need to check whether we're operating on None, as follows: "
   ]
  },
  {
   "cell_type": "code",
   "execution_count": null,
   "metadata": {},
   "outputs": [],
   "source": [
    "tax = 0.0\n",
    "for r in rec2: \n",
    "    if r[2] is not None: \n",
    "        tax += r[2]\n",
    "tax"
   ]
  },
  {
   "cell_type": "markdown",
   "metadata": {},
   "source": [
    "# Here are some exercises\n",
    "First, please run this cell to register yourself with the grader. \n"
   ]
  },
  {
   "cell_type": "code",
   "execution_count": null,
   "metadata": {},
   "outputs": [],
   "source": [
    "# Don't change this cell; just run it. \n",
    "from client.api.notebook import Notebook\n",
    "ok = Notebook('01-07-conditional-statements.ok')\n",
    "ok.auth(inline=True)"
   ]
  },
  {
   "cell_type": "markdown",
   "metadata": {},
   "source": [
    "1. Write code that sums up the prices. Deal with prices that are `None`. "
   ]
  },
  {
   "cell_type": "code",
   "execution_count": null,
   "metadata": {},
   "outputs": [],
   "source": [
    "# write your answer here. Compute the sum of all price fields in rec2. \n",
    "# Put the price into the variable \"price\"\n",
    "price"
   ]
  },
  {
   "cell_type": "code",
   "execution_count": null,
   "metadata": {
    "scrolled": true
   },
   "outputs": [],
   "source": [
    "# run this to check your work\n",
    "_ = ok.grade('q1')"
   ]
  },
  {
   "cell_type": "markdown",
   "metadata": {},
   "source": [
    "2. Write code that generates a list of states from the tuples, omitting states that are `None`. "
   ]
  },
  {
   "cell_type": "code",
   "execution_count": null,
   "metadata": {},
   "outputs": [],
   "source": [
    "# write code that generates a variable 'states', from `rec2`.\n",
    "states"
   ]
  },
  {
   "cell_type": "code",
   "execution_count": null,
   "metadata": {},
   "outputs": [],
   "source": [
    "# run this to check your work\n",
    "_ = ok.grade('q2')"
   ]
  },
  {
   "cell_type": "markdown",
   "metadata": {},
   "source": [
    "3. Create a list with only the tuples that have no missing data. "
   ]
  },
  {
   "cell_type": "code",
   "execution_count": null,
   "metadata": {},
   "outputs": [],
   "source": [
    "# use rec2. put your answer into \"cleaned\"\n",
    "cleaned"
   ]
  },
  {
   "cell_type": "code",
   "execution_count": null,
   "metadata": {},
   "outputs": [],
   "source": [
    "# run this to check your work\n",
    "_ = ok.grade('q3')"
   ]
  },
  {
   "cell_type": "markdown",
   "metadata": {},
   "source": [
    "# When you're done, submit the notebook\n",
    "\n",
    "You can submit a notebook by saving it as PDF. In the cluster environment, it's File | Print (Save as PDF) and submit to Gradescope. https://www.gradescope.com/courses/182658,On other versions, it may be File | Download As (PDF) and then submit to Gradescope.\n",
    "\n",
    "To submit to Gradescope, log into the [website](https://www.gradescope.com/courses/182658), add course **9W7PW3** (if not already added) and submit. The assignment name should match the name of this notebook.\n"
   ]
  }
 ],
 "metadata": {
  "kernelspec": {
   "display_name": "Python 3",
   "language": "python",
   "name": "python3"
  },
  "language_info": {
   "codemirror_mode": {
    "name": "ipython",
    "version": 3
   },
   "file_extension": ".py",
   "mimetype": "text/x-python",
   "name": "python",
   "nbconvert_exporter": "python",
   "pygments_lexer": "ipython3",
   "version": "3.7.4"
  }
 },
 "nbformat": 4,
 "nbformat_minor": 2
}

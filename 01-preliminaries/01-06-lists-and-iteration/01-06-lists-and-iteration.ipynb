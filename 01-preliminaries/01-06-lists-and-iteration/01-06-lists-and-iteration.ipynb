{
 "cells": [
  {
   "cell_type": "markdown",
   "metadata": {},
   "source": [
    "# Lists and iteration \n",
    "\n",
    "Obviously, programs are about processing data -- usually lots of data. There are several data structures we use to process multiple data. Of these, the most common is the *list*. \n",
    "\n",
    "A list starts with `[` and ends with `]` and contains multiple items, some of which can be lists as well (!). \n",
    "\n",
    "It might be good to read the [official Python tutorial on lists](https://docs.python.org/3.7/tutorial/introduction.html#lists)\n",
    "\n",
    "Consider: "
   ]
  },
  {
   "cell_type": "code",
   "execution_count": null,
   "metadata": {},
   "outputs": [],
   "source": [
    "foo = [1, 2, 3, 4, 5]\n",
    "for f in foo: \n",
    "    print(f)"
   ]
  },
  {
   "cell_type": "markdown",
   "metadata": {},
   "source": [
    "First we set `foo` to a list, and then iterate over that list, doing something to *every member* of the list. A list is just one kind of *iterable*. An iterable is one of several kinds of data that can be substituted for `Y` in `for X in Y:`.\n",
    "\n",
    "There are several basic functions that operate on lists. \n",
    "\n",
    "For example, `split` and `join` create lists from strings, and strings from lists. \n",
    "\n",
    "Consider: "
   ]
  },
  {
   "cell_type": "code",
   "execution_count": null,
   "metadata": {
    "scrolled": true
   },
   "outputs": [],
   "source": [
    "commad = \"1,foo,3,4.7,9\"\n",
    "print(commad)\n",
    "stuff = commad.split(',')\n",
    "print(stuff)\n",
    "spaced = ' '.join(stuff)\n",
    "print(spaced)"
   ]
  },
  {
   "cell_type": "markdown",
   "metadata": {},
   "source": [
    "# building a list\n",
    "One can build a list using `append`.\n",
    "\n",
    "Consider: "
   ]
  },
  {
   "cell_type": "code",
   "execution_count": null,
   "metadata": {},
   "outputs": [],
   "source": [
    "squares = []\n",
    "for i in range(10):\n",
    "    squares.append(i*i)\n",
    "squares"
   ]
  },
  {
   "cell_type": "markdown",
   "metadata": {},
   "source": [
    "The `range` function generates a range of integers as an iterable, which acts like a list. Consider the following examples. "
   ]
  },
  {
   "cell_type": "code",
   "execution_count": null,
   "metadata": {
    "scrolled": true
   },
   "outputs": [],
   "source": [
    "for i in range(0,10,3):\n",
    "    print(i)\n"
   ]
  },
  {
   "cell_type": "markdown",
   "metadata": {},
   "source": [
    "However, `range` doesn't really generate a list. Try this: "
   ]
  },
  {
   "cell_type": "code",
   "execution_count": null,
   "metadata": {
    "scrolled": true
   },
   "outputs": [],
   "source": [
    "print(range(0,10,3))\n",
    "range(3)"
   ]
  },
  {
   "cell_type": "markdown",
   "metadata": {},
   "source": [
    "This is just one example of what in Python is called *lazy evaluation*. A `range` acts like a list, but is never really stored as a list. `range(1000000000)` would be quite large as a list, but it's never rendered as one. "
   ]
  },
  {
   "cell_type": "markdown",
   "metadata": {},
   "source": [
    "# Filtering lists\n",
    "It is often necessary to exclude elements from a list that are not meaningful. \n",
    "For example, suppose you want to exclude negative weights from a set of weights. \n",
    "Consider: "
   ]
  },
  {
   "cell_type": "code",
   "execution_count": null,
   "metadata": {
    "scrolled": true
   },
   "outputs": [],
   "source": [
    "weights = [20, 42, -1, 60, 20, 31, -4]\n",
    "filtered = []\n",
    "for w in weights: \n",
    "    if w > 0: \n",
    "        filtered.append(w)\n",
    "filtered"
   ]
  },
  {
   "cell_type": "markdown",
   "metadata": {},
   "source": [
    "Filtering is really common, so there are multiple ways to do it, including some really unusual ones. Consider: "
   ]
  },
  {
   "cell_type": "code",
   "execution_count": null,
   "metadata": {},
   "outputs": [],
   "source": [
    "filtered = [x for x in weights if x > 0] \n",
    "filtered"
   ]
  },
  {
   "cell_type": "markdown",
   "metadata": {},
   "source": [
    "This formula is called a *list comprehension* and has very heavy use in python code. Any expression can be in a comprehension, e.g.,"
   ]
  },
  {
   "cell_type": "code",
   "execution_count": null,
   "metadata": {
    "scrolled": true
   },
   "outputs": [],
   "source": [
    "incremented = [w + 1 for w in weights if w > 0]\n",
    "incremented"
   ]
  },
  {
   "cell_type": "markdown",
   "metadata": {},
   "source": [
    "# Counting a list\n",
    "The `len()` function counts the elements of a list. \n",
    "Consider: "
   ]
  },
  {
   "cell_type": "code",
   "execution_count": null,
   "metadata": {},
   "outputs": [],
   "source": [
    "len([1,2,3,4,5])"
   ]
  },
  {
   "cell_type": "markdown",
   "metadata": {},
   "source": [
    "# Accessing an element of a list\n",
    "If `x` is a list, `x[i]` is the `i`th element. Consider:  "
   ]
  },
  {
   "cell_type": "code",
   "execution_count": null,
   "metadata": {},
   "outputs": [],
   "source": [
    "words = ['hello', 'there', 'bugs']\n",
    "words[1]"
   ]
  },
  {
   "cell_type": "markdown",
   "metadata": {},
   "source": [
    "# Here are some exercises: \n",
    "First register the grading program so that you can test your code. "
   ]
  },
  {
   "cell_type": "code",
   "execution_count": null,
   "metadata": {},
   "outputs": [],
   "source": [
    "# Don't change this cell; just run it. \n",
    "from client.api.notebook import Notebook\n",
    "ok = Notebook('01-06-lists-and-iteration.ok')\n",
    "ok.auth(inline=True)"
   ]
  },
  {
   "cell_type": "markdown",
   "metadata": {},
   "source": [
    "1. Write code that computes the average of the list `weights` below. "
   ]
  },
  {
   "cell_type": "code",
   "execution_count": null,
   "metadata": {},
   "outputs": [],
   "source": [
    "weights = [40, 50, 30, 40, 41, 53, 63, 20]\n",
    "# Compute the average here; put into variable 'average'\n",
    "average = \n",
    "average"
   ]
  },
  {
   "cell_type": "code",
   "execution_count": null,
   "metadata": {},
   "outputs": [],
   "source": [
    "# run this to check your work\n",
    "_ = ok.grade('q1')"
   ]
  },
  {
   "cell_type": "markdown",
   "metadata": {},
   "source": [
    "2. Make a new list `thinner` that consists of all weights under 50."
   ]
  },
  {
   "cell_type": "code",
   "execution_count": null,
   "metadata": {},
   "outputs": [],
   "source": [
    "weights = [40, 50, 30, 40, 41, 53, 63, 20]\n",
    "# filter the list here: place results in \"thinner\"\n",
    "thinner = \n",
    "thinner"
   ]
  },
  {
   "cell_type": "code",
   "execution_count": null,
   "metadata": {},
   "outputs": [],
   "source": [
    "# run this to check your work\n",
    "_ = ok.grade('q2')"
   ]
  },
  {
   "cell_type": "markdown",
   "metadata": {},
   "source": [
    "3. Compute the highest and lowest values of the list below. Look up \"sorted\" in the python manual and sort the list. Then choose the highest and lowest elements. "
   ]
  },
  {
   "cell_type": "code",
   "execution_count": null,
   "metadata": {},
   "outputs": [],
   "source": [
    "weights = [24, 55, 30, 30, 22, 30, 50]\n",
    "\n",
    "# compute the lowest and highest numbers. Store them in \"lowest\" and \"highest\"\n",
    "lowest, highest"
   ]
  },
  {
   "cell_type": "code",
   "execution_count": null,
   "metadata": {},
   "outputs": [],
   "source": [
    "# run this to check your work\n",
    "_ = ok.grade('q3')"
   ]
  },
  {
   "cell_type": "markdown",
   "metadata": {},
   "source": [
    "4. Compute the *median* of the list below. Hint: sort the list and then choose the middle element. That's the median. Note that list indexes must be integers, so you can't just divide the length by 2 (resulting a float). Call int(x) to turn that into an integer. "
   ]
  },
  {
   "cell_type": "code",
   "execution_count": null,
   "metadata": {},
   "outputs": [],
   "source": [
    "weights = [53, 32, 33, 42, 45, 33, 34, 25, 69]\n",
    "# compute median here, put into 'median'\n",
    "median = \n",
    "median"
   ]
  },
  {
   "cell_type": "code",
   "execution_count": null,
   "metadata": {},
   "outputs": [],
   "source": [
    "# run this to check your work\n",
    "_ = ok.grade('q4')"
   ]
  },
  {
   "cell_type": "markdown",
   "metadata": {},
   "source": [
    "# When you're done, submit the notebook\n",
    "\n",
    "You can submit a notebook by saving it as PDF. In the cluster environment, it's File | Print (Save as PDF) and submit to Gradescope. https://www.gradescope.com/courses/182658,On other versions, it may be File | Download As (PDF) and then submit to Gradescope.\n",
    "\n",
    "To submit to Gradescope, log into the [website](https://www.gradescope.com/courses/182658), add course **9W7PW3** (if not already added) and submit. The assignment name should match the name of this notebook."
   ]
  }
 ],
 "metadata": {
  "kernelspec": {
   "display_name": "Python 3",
   "language": "python",
   "name": "python3"
  },
  "language_info": {
   "codemirror_mode": {
    "name": "ipython",
    "version": 3
   },
   "file_extension": ".py",
   "mimetype": "text/x-python",
   "name": "python",
   "nbconvert_exporter": "python",
   "pygments_lexer": "ipython3",
   "version": "3.7.4"
  }
 },
 "nbformat": 4,
 "nbformat_minor": 2
}

{
 "cells": [
  {
   "cell_type": "markdown",
   "metadata": {},
   "source": [
    "# A jupyter notebook mixes explanation and computation. \n",
    "* Computation in a kernel language. \n",
    "* Text in markdown format. "
   ]
  },
  {
   "cell_type": "code",
   "execution_count": null,
   "metadata": {},
   "outputs": [],
   "source": [
    "data = [1,4,5,2,3,4,4,7,8,2,2,2,3,1,1,1,2,20,2,2,9,10,1,2,3]\n",
    "sum = 0\n",
    "for i in data:\n",
    "    sum = sum + i\n",
    "print (sum/len(data))"
   ]
  },
  {
   "cell_type": "code",
   "execution_count": null,
   "metadata": {},
   "outputs": [],
   "source": [
    "from pprint import pprint\n",
    "pprint([\"hi\", \"ho\"])"
   ]
  },
  {
   "cell_type": "markdown",
   "metadata": {},
   "source": [
    "Feel free to \"run\" the above examples and see what they do.\n",
    "# let's try out Markdown in this notebook\n",
    "\n",
    "First, read the [introductory information on Markdown](https://jupyter-notebook.readthedocs.io/en/stable/examples/Notebook/Working%20With%20Markdown%20Cells.html). \n",
    "\n",
    "Then try the following. \n",
    "1. Click on this cell. \n",
    "2. Click on '+' above. \n",
    "3. Change the type of the new cell from `Code` to `Markdown` in the menu above. \n",
    "4. Type your name and a brief bio in Markdown format.\n",
    "5. Click run to see the result. \n"
   ]
  },
  {
   "cell_type": "markdown",
   "metadata": {},
   "source": [
    "# Jitendra Singh\n",
    "Professor"
   ]
  },
  {
   "cell_type": "markdown",
   "metadata": {},
   "source": [
    "# Let's try out iPython in this notebook. \n",
    "When you are finished with the above: \n",
    "\n",
    "Read [this simple introduction to python](https://wiki.python.org/moin/BeginnersGuide). Choose the link that is suitable for you. \n",
    "\n",
    "Then, \n",
    "1. Click on this cell. \n",
    "2. Click on `+` above. \n",
    "3. Add code for your name as a python string. Put this into the variable `name`.\n",
    "   (I would write `name = 'Jitendra Singh'`)\n",
    "4. Run the cell with `Run` above. \n",
    "Then skip to the next heading. "
   ]
  },
  {
   "cell_type": "code",
   "execution_count": null,
   "metadata": {},
   "outputs": [],
   "source": [
    "name"
   ]
  },
  {
   "cell_type": "markdown",
   "metadata": {},
   "source": [
    "# now let's use that value\n",
    "\n",
    "You created a variable `name` I will use that in a simple program. \n",
    "Run the cell below. "
   ]
  },
  {
   "cell_type": "code",
   "execution_count": null,
   "metadata": {},
   "outputs": [],
   "source": [
    "parts = name.split(' ')\n",
    "for p in parts: \n",
    "    print(p)"
   ]
  },
  {
   "cell_type": "markdown",
   "metadata": {},
   "source": [
    "# what happened? \n",
    "1. `split` splits a string into its parts. \n",
    "2. `split(' ')` splits at spaces. \n",
    "3. The code `parts = name.split(' ')` splits what you typed into words. \n",
    "4. `parts` is a *list*. \n",
    "4. In Python, we use the cliche `for p in parts:` to do something to every element of a list. \n",
    "6. This splits your name into multiple parts and prints them one per line. "
   ]
  },
  {
   "cell_type": "markdown",
   "metadata": {},
   "source": [
    "# some lessons from this experiment\n",
    "1. You can set a variable in one cell and then use it in another. \n",
    "2. Cells can change the format of a value, e.g., from string to list. \n",
    "3. To process every element of a list, use the `for p in parts:` pattern. "
   ]
  },
  {
   "cell_type": "markdown",
   "metadata": {},
   "source": [
    "# Now consider the following four cells"
   ]
  },
  {
   "cell_type": "code",
   "execution_count": null,
   "metadata": {},
   "outputs": [],
   "source": [
    "name = \"Groucho Marx\"  # first"
   ]
  },
  {
   "cell_type": "code",
   "execution_count": null,
   "metadata": {},
   "outputs": [],
   "source": [
    "name = \"Carol Channing\"  # second"
   ]
  },
  {
   "cell_type": "code",
   "execution_count": null,
   "metadata": {},
   "outputs": [],
   "source": [
    "name = \"Madonna\"  # third"
   ]
  },
  {
   "cell_type": "code",
   "execution_count": null,
   "metadata": {},
   "outputs": [],
   "source": [
    "name  # fourth"
   ]
  },
  {
   "cell_type": "markdown",
   "metadata": {},
   "source": [
    "Try running these in different sequences and observe the result. What happens when you run a sequence, e.g., first, third, second, fourth? Is there a way to discover which run buttons you pressed when? "
   ]
  },
  {
   "cell_type": "markdown",
   "metadata": {},
   "source": [
    "___Your answer:___ \n",
    "\n",
    "(double-click and type your answer here.)"
   ]
  },
  {
   "cell_type": "markdown",
   "metadata": {},
   "source": [
    "# Sequence and value\n",
    "Cells behave in the following simple way: \n",
    "1. When you run a cell, any assignment statement (e.g., `x = y`) runs. \n",
    "2. When you are not running a cell, it has no effect on anything. \n",
    "3. So, when you change a value in a cell, it only changes when you run the cell. "
   ]
  },
  {
   "cell_type": "code",
   "execution_count": null,
   "metadata": {},
   "outputs": [],
   "source": [
    "# Consider the following python code\n",
    "name = \"Felix\"\n",
    "print(name)\n",
    "name = 1\n",
    "print(name)\n",
    "name = [\"hello\", 'there']\n",
    "print(name)"
   ]
  },
  {
   "cell_type": "markdown",
   "metadata": {},
   "source": [
    "Run the code above and observe what happens. \n",
    "\n",
    "What can you infer about assignment statements from this experiment? "
   ]
  },
  {
   "cell_type": "markdown",
   "metadata": {},
   "source": [
    "__Your answer:__ \n",
    "\n",
    "(double-click and type your answer here.)"
   ]
  },
  {
   "cell_type": "markdown",
   "metadata": {},
   "source": [
    "# an experiential approach to programming\n",
    "\n",
    "I will often give you a code sample and ask you to observe what happens and infer what is going on. This is an *experiential* approach to programming that works incredibly well for languages like Python. "
   ]
  },
  {
   "cell_type": "markdown",
   "metadata": {},
   "source": [
    "# When you're done, submit the notebook\n",
    "\n",
    "You can submit a notebook by saving it as PDF. In the cluster environment, it's File | Print (Save as PDF) and submit to Gradescope. https://www.gradescope.com/courses/182658,On other versions, it may be File | Download As (PDF) and then submit to Gradescope.\n",
    "\n",
    "To submit to Gradescope, log into the [website](https://www.gradescope.com/courses/182658), add course **9W7PW3** (if not already added) and submit. The assignment name should match the name of this notebook."
   ]
  }
 ],
 "metadata": {
  "kernelspec": {
   "display_name": "Python 3",
   "language": "python",
   "name": "python3"
  },
  "language_info": {
   "codemirror_mode": {
    "name": "ipython",
    "version": 3
   },
   "file_extension": ".py",
   "mimetype": "text/x-python",
   "name": "python",
   "nbconvert_exporter": "python",
   "pygments_lexer": "ipython3",
   "version": "3.7.4"
  }
 },
 "nbformat": 4,
 "nbformat_minor": 2
}
